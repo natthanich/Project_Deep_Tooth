{
  "nbformat": 4,
  "nbformat_minor": 0,
  "metadata": {
    "colab": {
      "provenance": [],
      "machine_shape": "hm",
      "gpuType": "T4",
      "gpuClass": "premium",
      "include_colab_link": true
    },
    "kernelspec": {
      "name": "python3",
      "display_name": "Python 3"
    },
    "language_info": {
      "name": "python"
    },
    "accelerator": "GPU",
    "gpuClass": "premium"
  },
  "cells": [
    {
      "cell_type": "markdown",
      "metadata": {
        "id": "view-in-github",
        "colab_type": "text"
      },
      "source": [
        "<a href=\"https://colab.research.google.com/github/natthanich/Project_Deep_Tooth/blob/main/Regress6_Train_Unfreeze.ipynb\" target=\"_parent\"><img src=\"https://colab.research.google.com/assets/colab-badge.svg\" alt=\"Open In Colab\"/></a>"
      ]
    },
    {
      "cell_type": "markdown",
      "source": [
        "#เรียกใช้ CSV"
      ],
      "metadata": {
        "id": "ow7eWoNw6U-c"
      }
    },
    {
      "cell_type": "code",
      "execution_count": null,
      "metadata": {
        "id": "z8o_VVNXzcL8"
      },
      "outputs": [],
      "source": [
        "import pandas as pd\n",
        "import shutil"
      ]
    },
    {
      "cell_type": "code",
      "source": [
        "from google.colab import drive\n",
        "drive.mount('/content/drive')"
      ],
      "metadata": {
        "colab": {
          "base_uri": "https://localhost:8080/"
        },
        "id": "1_2Fe8u81d5r",
        "outputId": "8d3bf606-5c3d-423a-d2b5-3b8b12104c34"
      },
      "execution_count": null,
      "outputs": [
        {
          "output_type": "stream",
          "name": "stdout",
          "text": [
            "Mounted at /content/drive\n"
          ]
        }
      ]
    },
    {
      "cell_type": "markdown",
      "source": [
        "#Imports"
      ],
      "metadata": {
        "id": "5qxePnnn7TGW"
      }
    },
    {
      "cell_type": "code",
      "source": [
        "from tensorflow.keras import models\n",
        "from tensorflow.keras import layers\n",
        "from tensorflow.keras import optimizers\n",
        "import os\n",
        "import glob\n",
        "import shutil\n",
        "import sys\n",
        "import numpy as np\n",
        "from skimage.io import imread\n",
        "import matplotlib.pyplot as plt\n",
        "from IPython.display import Image\n",
        "%matplotlib inline"
      ],
      "metadata": {
        "id": "D-hCRloc3t39"
      },
      "execution_count": null,
      "outputs": []
    },
    {
      "cell_type": "code",
      "source": [
        "import tensorflow as tf\n",
        "from tensorflow.keras import Sequential\n",
        "from tensorflow.keras.layers import Dense\n",
        "from tensorflow.keras.optimizers import Adam\n",
        "from tensorflow.keras import backend as K"
      ],
      "metadata": {
        "id": "YZWXwjXeGxZP"
      },
      "execution_count": null,
      "outputs": []
    },
    {
      "cell_type": "markdown",
      "source": [
        "#กำหนดค่าพารามิเตอร์\n"
      ],
      "metadata": {
        "id": "RooqSdBc7QHC"
      }
    },
    {
      "cell_type": "code",
      "source": [
        "batch_size = 16\n",
        "width = 150\n",
        "height = 150\n",
        "epochs = 250\n",
        "NUM_TRAIN = 2850\n",
        "NUM_TEST = 950\n",
        "dropout_rate = 0.2\n",
        "input_shape = (height, width, 3)"
      ],
      "metadata": {
        "id": "thDb7U9B3xOo"
      },
      "execution_count": null,
      "outputs": []
    },
    {
      "cell_type": "markdown",
      "source": [
        "#Clone efficientnet repo\n"
      ],
      "metadata": {
        "id": "pumGmy6f3eSW"
      }
    },
    {
      "cell_type": "code",
      "source": [
        "#ดึงข้อมูลใน Github มาใช้\n",
        "import os\n",
        "%cd /content\n",
        "if not os.path.isdir(\"efficientnet_keras_transfer_learning\"):\n",
        " !git clone https://github.com/Wanita-8943/efficientnet_keras_transfer_learning\n",
        "%cd efficientnet_keras_transfer_learning/\n"
      ],
      "metadata": {
        "colab": {
          "base_uri": "https://localhost:8080/"
        },
        "id": "P7iy2f8n16p0",
        "outputId": "3b892d94-48f2-4dea-a91e-f6d1532169fc"
      },
      "execution_count": null,
      "outputs": [
        {
          "output_type": "stream",
          "name": "stdout",
          "text": [
            "/content\n",
            "Cloning into 'efficientnet_keras_transfer_learning'...\n",
            "remote: Enumerating objects: 1100, done.\u001b[K\n",
            "remote: Counting objects: 100% (263/263), done.\u001b[K\n",
            "remote: Compressing objects: 100% (142/142), done.\u001b[K\n",
            "remote: Total 1100 (delta 133), reused 241 (delta 121), pack-reused 837\u001b[K\n",
            "Receiving objects: 100% (1100/1100), 14.10 MiB | 6.68 MiB/s, done.\n",
            "Resolving deltas: 100% (630/630), done.\n",
            "/content/efficientnet_keras_transfer_learning\n"
          ]
        }
      ]
    },
    {
      "cell_type": "code",
      "source": [
        "# Options: EfficientNetB0, EfficientNetB1, EfficientNetB2, EfficientNetB3\n",
        "# Higher the number, the more complex the model is.\n",
        "from efficientnet import EfficientNetB0 as Net\n",
        "from efficientnet import center_crop_and_resize, preprocess_input"
      ],
      "metadata": {
        "id": "tjZBRnfo3bN0"
      },
      "execution_count": null,
      "outputs": []
    },
    {
      "cell_type": "code",
      "source": [
        "# loading pretrained conv base model\n",
        "# โหลดโมเดล มาโดยตัด output ของโมเดลออก เเต่ยังใช้ input อันเดิม\n",
        "# เเละโหลด weight ของโมเดล มาด้วยที่ชื่อว่า imagenet\n",
        "conv_base = Net(weights='imagenet', include_top=False, input_shape=input_shape)"
      ],
      "metadata": {
        "colab": {
          "base_uri": "https://localhost:8080/"
        },
        "id": "r8BN74_JJdfj",
        "outputId": "f56dc1a6-ed72-48b5-edc3-32461982852f"
      },
      "execution_count": null,
      "outputs": [
        {
          "output_type": "stream",
          "name": "stdout",
          "text": [
            "Downloading data from https://github.com/qubvel/efficientnet/releases/download/v0.0.1/efficientnet-b0_imagenet_1000_notop.h5\n",
            "16717576/16717576 [==============================] - 1s 0us/step\n"
          ]
        }
      ]
    },
    {
      "cell_type": "markdown",
      "source": [
        "#load model\n"
      ],
      "metadata": {
        "id": "PdNWyD-QYkzK"
      }
    },
    {
      "cell_type": "code",
      "source": [
        "import sys\n",
        "sys.path.append('/content/drive/MyDrive/All_Data_Project/cut_panoramic/Model/Regression/5Re_All_1G_1e-4_16_0.2_250_New_Unfreez.h5')\n",
        "\n",
        "from efficientnet.layers import Swish, DropConnect\n",
        "from efficientnet.model import ConvKernalInitializer\n",
        "from tensorflow.keras.utils import get_custom_objects\n",
        "\n",
        "get_custom_objects().update({\n",
        "    'ConvKernalInitializer': ConvKernalInitializer,\n",
        "    'Swish': Swish,\n",
        "    'DropConnect':DropConnect\n",
        "})"
      ],
      "metadata": {
        "id": "_gPnx2UvYf5A"
      },
      "execution_count": null,
      "outputs": []
    },
    {
      "cell_type": "code",
      "source": [
        "#load model \n",
        "from tensorflow.keras.models import load_model\n",
        "model = load_model('/content/drive/MyDrive/All_Data_Project/cut_panoramic/Model/Regression/5Re_All_1G_1e-4_16_0.2_250_New_Unfreez.h5')\n",
        "height = width = model.input_shape[1]"
      ],
      "metadata": {
        "id": "Nu93WzFUYm9e"
      },
      "execution_count": null,
      "outputs": []
    },
    {
      "cell_type": "code",
      "source": [
        "model.summary()"
      ],
      "metadata": {
        "id": "gp5EbyyXYvc6",
        "colab": {
          "base_uri": "https://localhost:8080/"
        },
        "outputId": "530c04fa-28d9-4e60-cc96-c92f4e2e8aaf"
      },
      "execution_count": null,
      "outputs": [
        {
          "output_type": "stream",
          "name": "stdout",
          "text": [
            "Model: \"sequential\"\n",
            "_________________________________________________________________\n",
            " Layer (type)                Output Shape              Param #   \n",
            "=================================================================\n",
            " efficientnet-b0 (Functional  (None, 5, 5, 1280)       4049564   \n",
            " )                                                               \n",
            "                                                                 \n",
            " gap (GlobalMaxPooling2D)    (None, 1280)              0         \n",
            "                                                                 \n",
            " dropout_out (Dropout)       (None, 1280)              0         \n",
            "                                                                 \n",
            " fc_out (Dense)              (None, 19)                24339     \n",
            "                                                                 \n",
            " dense (Dense)               (None, 1)                 20        \n",
            "                                                                 \n",
            "=================================================================\n",
            "Total params: 4,073,923\n",
            "Trainable params: 4,031,907\n",
            "Non-trainable params: 42,016\n",
            "_________________________________________________________________\n"
          ]
        }
      ]
    },
    {
      "cell_type": "code",
      "source": [
        "df = pd.read_csv (r'/content/drive/MyDrive/All_Data_Project/cut_panoramic/Data/All_Re.csv')\n",
        "df"
      ],
      "metadata": {
        "id": "q1Dc131_Y3uA",
        "colab": {
          "base_uri": "https://localhost:8080/",
          "height": 423
        },
        "outputId": "c0a766cb-d821-46b4-e85b-bae1423529d2"
      },
      "execution_count": null,
      "outputs": [
        {
          "output_type": "execute_result",
          "data": {
            "text/plain": [
              "      Fig_Age  Age(year) Class  Class_Re       Filename  \\\n",
              "0           1          7  Y07F         1         V1.jpg   \n",
              "1           2          7  Y07F         1    Flip_V1.jpg   \n",
              "2           3          7  Y07F         1         V2.jpg   \n",
              "3           4          7  Y07F         1    Flip_V2.jpg   \n",
              "4           5          7  Y07F         1         V3.jpg   \n",
              "...       ...        ...   ...       ...            ...   \n",
              "4745      121         25  Y25M        19  Flip_J463.jpg   \n",
              "4746      122         25  Y25M        19       J464.jpg   \n",
              "4747      123         25  Y25M        19  Flip_J464.jpg   \n",
              "4748      124         25  Y25M        19       J465.jpg   \n",
              "4749      125         25  Y25M        19  Flip_J465.jpg   \n",
              "\n",
              "                                          Path_filename     Sex Floder  \n",
              "0     /content/drive/My Drive/All_Data_Project/TVT_G...  Female   Both  \n",
              "1     /content/drive/My Drive/All_Data_Project/TVT_G...  Female   Both  \n",
              "2     /content/drive/My Drive/All_Data_Project/TVT_G...  Female   Both  \n",
              "3     /content/drive/My Drive/All_Data_Project/TVT_G...  Female   Both  \n",
              "4     /content/drive/My Drive/All_Data_Project/TVT_G...  Female   Both  \n",
              "...                                                 ...     ...    ...  \n",
              "4745  /content/drive/My Drive/All_Data_Project/TVT_G...    Male   Both  \n",
              "4746  /content/drive/My Drive/All_Data_Project/TVT_G...    Male   Both  \n",
              "4747  /content/drive/My Drive/All_Data_Project/TVT_G...    Male   Both  \n",
              "4748  /content/drive/My Drive/All_Data_Project/TVT_G...    Male   Both  \n",
              "4749  /content/drive/My Drive/All_Data_Project/TVT_G...    Male   Both  \n",
              "\n",
              "[4750 rows x 8 columns]"
            ],
            "text/html": [
              "\n",
              "  <div id=\"df-02e10f40-b9e6-43b2-a848-98c8f3d2893a\">\n",
              "    <div class=\"colab-df-container\">\n",
              "      <div>\n",
              "<style scoped>\n",
              "    .dataframe tbody tr th:only-of-type {\n",
              "        vertical-align: middle;\n",
              "    }\n",
              "\n",
              "    .dataframe tbody tr th {\n",
              "        vertical-align: top;\n",
              "    }\n",
              "\n",
              "    .dataframe thead th {\n",
              "        text-align: right;\n",
              "    }\n",
              "</style>\n",
              "<table border=\"1\" class=\"dataframe\">\n",
              "  <thead>\n",
              "    <tr style=\"text-align: right;\">\n",
              "      <th></th>\n",
              "      <th>Fig_Age</th>\n",
              "      <th>Age(year)</th>\n",
              "      <th>Class</th>\n",
              "      <th>Class_Re</th>\n",
              "      <th>Filename</th>\n",
              "      <th>Path_filename</th>\n",
              "      <th>Sex</th>\n",
              "      <th>Floder</th>\n",
              "    </tr>\n",
              "  </thead>\n",
              "  <tbody>\n",
              "    <tr>\n",
              "      <th>0</th>\n",
              "      <td>1</td>\n",
              "      <td>7</td>\n",
              "      <td>Y07F</td>\n",
              "      <td>1</td>\n",
              "      <td>V1.jpg</td>\n",
              "      <td>/content/drive/My Drive/All_Data_Project/TVT_G...</td>\n",
              "      <td>Female</td>\n",
              "      <td>Both</td>\n",
              "    </tr>\n",
              "    <tr>\n",
              "      <th>1</th>\n",
              "      <td>2</td>\n",
              "      <td>7</td>\n",
              "      <td>Y07F</td>\n",
              "      <td>1</td>\n",
              "      <td>Flip_V1.jpg</td>\n",
              "      <td>/content/drive/My Drive/All_Data_Project/TVT_G...</td>\n",
              "      <td>Female</td>\n",
              "      <td>Both</td>\n",
              "    </tr>\n",
              "    <tr>\n",
              "      <th>2</th>\n",
              "      <td>3</td>\n",
              "      <td>7</td>\n",
              "      <td>Y07F</td>\n",
              "      <td>1</td>\n",
              "      <td>V2.jpg</td>\n",
              "      <td>/content/drive/My Drive/All_Data_Project/TVT_G...</td>\n",
              "      <td>Female</td>\n",
              "      <td>Both</td>\n",
              "    </tr>\n",
              "    <tr>\n",
              "      <th>3</th>\n",
              "      <td>4</td>\n",
              "      <td>7</td>\n",
              "      <td>Y07F</td>\n",
              "      <td>1</td>\n",
              "      <td>Flip_V2.jpg</td>\n",
              "      <td>/content/drive/My Drive/All_Data_Project/TVT_G...</td>\n",
              "      <td>Female</td>\n",
              "      <td>Both</td>\n",
              "    </tr>\n",
              "    <tr>\n",
              "      <th>4</th>\n",
              "      <td>5</td>\n",
              "      <td>7</td>\n",
              "      <td>Y07F</td>\n",
              "      <td>1</td>\n",
              "      <td>V3.jpg</td>\n",
              "      <td>/content/drive/My Drive/All_Data_Project/TVT_G...</td>\n",
              "      <td>Female</td>\n",
              "      <td>Both</td>\n",
              "    </tr>\n",
              "    <tr>\n",
              "      <th>...</th>\n",
              "      <td>...</td>\n",
              "      <td>...</td>\n",
              "      <td>...</td>\n",
              "      <td>...</td>\n",
              "      <td>...</td>\n",
              "      <td>...</td>\n",
              "      <td>...</td>\n",
              "      <td>...</td>\n",
              "    </tr>\n",
              "    <tr>\n",
              "      <th>4745</th>\n",
              "      <td>121</td>\n",
              "      <td>25</td>\n",
              "      <td>Y25M</td>\n",
              "      <td>19</td>\n",
              "      <td>Flip_J463.jpg</td>\n",
              "      <td>/content/drive/My Drive/All_Data_Project/TVT_G...</td>\n",
              "      <td>Male</td>\n",
              "      <td>Both</td>\n",
              "    </tr>\n",
              "    <tr>\n",
              "      <th>4746</th>\n",
              "      <td>122</td>\n",
              "      <td>25</td>\n",
              "      <td>Y25M</td>\n",
              "      <td>19</td>\n",
              "      <td>J464.jpg</td>\n",
              "      <td>/content/drive/My Drive/All_Data_Project/TVT_G...</td>\n",
              "      <td>Male</td>\n",
              "      <td>Both</td>\n",
              "    </tr>\n",
              "    <tr>\n",
              "      <th>4747</th>\n",
              "      <td>123</td>\n",
              "      <td>25</td>\n",
              "      <td>Y25M</td>\n",
              "      <td>19</td>\n",
              "      <td>Flip_J464.jpg</td>\n",
              "      <td>/content/drive/My Drive/All_Data_Project/TVT_G...</td>\n",
              "      <td>Male</td>\n",
              "      <td>Both</td>\n",
              "    </tr>\n",
              "    <tr>\n",
              "      <th>4748</th>\n",
              "      <td>124</td>\n",
              "      <td>25</td>\n",
              "      <td>Y25M</td>\n",
              "      <td>19</td>\n",
              "      <td>J465.jpg</td>\n",
              "      <td>/content/drive/My Drive/All_Data_Project/TVT_G...</td>\n",
              "      <td>Male</td>\n",
              "      <td>Both</td>\n",
              "    </tr>\n",
              "    <tr>\n",
              "      <th>4749</th>\n",
              "      <td>125</td>\n",
              "      <td>25</td>\n",
              "      <td>Y25M</td>\n",
              "      <td>19</td>\n",
              "      <td>Flip_J465.jpg</td>\n",
              "      <td>/content/drive/My Drive/All_Data_Project/TVT_G...</td>\n",
              "      <td>Male</td>\n",
              "      <td>Both</td>\n",
              "    </tr>\n",
              "  </tbody>\n",
              "</table>\n",
              "<p>4750 rows × 8 columns</p>\n",
              "</div>\n",
              "      <button class=\"colab-df-convert\" onclick=\"convertToInteractive('df-02e10f40-b9e6-43b2-a848-98c8f3d2893a')\"\n",
              "              title=\"Convert this dataframe to an interactive table.\"\n",
              "              style=\"display:none;\">\n",
              "        \n",
              "  <svg xmlns=\"http://www.w3.org/2000/svg\" height=\"24px\"viewBox=\"0 0 24 24\"\n",
              "       width=\"24px\">\n",
              "    <path d=\"M0 0h24v24H0V0z\" fill=\"none\"/>\n",
              "    <path d=\"M18.56 5.44l.94 2.06.94-2.06 2.06-.94-2.06-.94-.94-2.06-.94 2.06-2.06.94zm-11 1L8.5 8.5l.94-2.06 2.06-.94-2.06-.94L8.5 2.5l-.94 2.06-2.06.94zm10 10l.94 2.06.94-2.06 2.06-.94-2.06-.94-.94-2.06-.94 2.06-2.06.94z\"/><path d=\"M17.41 7.96l-1.37-1.37c-.4-.4-.92-.59-1.43-.59-.52 0-1.04.2-1.43.59L10.3 9.45l-7.72 7.72c-.78.78-.78 2.05 0 2.83L4 21.41c.39.39.9.59 1.41.59.51 0 1.02-.2 1.41-.59l7.78-7.78 2.81-2.81c.8-.78.8-2.07 0-2.86zM5.41 20L4 18.59l7.72-7.72 1.47 1.35L5.41 20z\"/>\n",
              "  </svg>\n",
              "      </button>\n",
              "      \n",
              "  <style>\n",
              "    .colab-df-container {\n",
              "      display:flex;\n",
              "      flex-wrap:wrap;\n",
              "      gap: 12px;\n",
              "    }\n",
              "\n",
              "    .colab-df-convert {\n",
              "      background-color: #E8F0FE;\n",
              "      border: none;\n",
              "      border-radius: 50%;\n",
              "      cursor: pointer;\n",
              "      display: none;\n",
              "      fill: #1967D2;\n",
              "      height: 32px;\n",
              "      padding: 0 0 0 0;\n",
              "      width: 32px;\n",
              "    }\n",
              "\n",
              "    .colab-df-convert:hover {\n",
              "      background-color: #E2EBFA;\n",
              "      box-shadow: 0px 1px 2px rgba(60, 64, 67, 0.3), 0px 1px 3px 1px rgba(60, 64, 67, 0.15);\n",
              "      fill: #174EA6;\n",
              "    }\n",
              "\n",
              "    [theme=dark] .colab-df-convert {\n",
              "      background-color: #3B4455;\n",
              "      fill: #D2E3FC;\n",
              "    }\n",
              "\n",
              "    [theme=dark] .colab-df-convert:hover {\n",
              "      background-color: #434B5C;\n",
              "      box-shadow: 0px 1px 3px 1px rgba(0, 0, 0, 0.15);\n",
              "      filter: drop-shadow(0px 1px 2px rgba(0, 0, 0, 0.3));\n",
              "      fill: #FFFFFF;\n",
              "    }\n",
              "  </style>\n",
              "\n",
              "      <script>\n",
              "        const buttonEl =\n",
              "          document.querySelector('#df-02e10f40-b9e6-43b2-a848-98c8f3d2893a button.colab-df-convert');\n",
              "        buttonEl.style.display =\n",
              "          google.colab.kernel.accessAllowed ? 'block' : 'none';\n",
              "\n",
              "        async function convertToInteractive(key) {\n",
              "          const element = document.querySelector('#df-02e10f40-b9e6-43b2-a848-98c8f3d2893a');\n",
              "          const dataTable =\n",
              "            await google.colab.kernel.invokeFunction('convertToInteractive',\n",
              "                                                     [key], {});\n",
              "          if (!dataTable) return;\n",
              "\n",
              "          const docLinkHtml = 'Like what you see? Visit the ' +\n",
              "            '<a target=\"_blank\" href=https://colab.research.google.com/notebooks/data_table.ipynb>data table notebook</a>'\n",
              "            + ' to learn more about interactive tables.';\n",
              "          element.innerHTML = '';\n",
              "          dataTable['output_type'] = 'display_data';\n",
              "          await google.colab.output.renderOutput(dataTable, element);\n",
              "          const docLink = document.createElement('div');\n",
              "          docLink.innerHTML = docLinkHtml;\n",
              "          element.appendChild(docLink);\n",
              "        }\n",
              "      </script>\n",
              "    </div>\n",
              "  </div>\n",
              "  "
            ]
          },
          "metadata": {},
          "execution_count": 12
        }
      ]
    },
    {
      "cell_type": "code",
      "source": [
        "train = df[df['Fig_Age'].between(1,75)]\n",
        "val = df[df['Fig_Age'].between(76,100)]"
      ],
      "metadata": {
        "id": "Z1zBw01Gl8Ac"
      },
      "execution_count": null,
      "outputs": []
    },
    {
      "cell_type": "code",
      "source": [
        "DATA_PATH = \"/content/drive/MyDrive/All_Data_Project/TVT_Gender\"\n",
        "os.chdir(DATA_PATH)\n",
        "train_dir = os.path.join(DATA_PATH, 'train')\n",
        "print(train_dir)\n",
        "validation_dir = os.path.join(DATA_PATH, 'validation')\n",
        "print(validation_dir)"
      ],
      "metadata": {
        "colab": {
          "base_uri": "https://localhost:8080/"
        },
        "id": "QL0g-8iOnMC4",
        "outputId": "b41c2e00-be8b-4e16-a9c7-b06248b5997a"
      },
      "execution_count": null,
      "outputs": [
        {
          "output_type": "stream",
          "name": "stdout",
          "text": [
            "/content/drive/MyDrive/All_Data_Project/TVT_Gender/train\n",
            "/content/drive/MyDrive/All_Data_Project/TVT_Gender/validation\n"
          ]
        }
      ]
    },
    {
      "cell_type": "markdown",
      "source": [
        "\n",
        "#Train"
      ],
      "metadata": {
        "id": "bWEnlTSwazL5"
      }
    },
    {
      "cell_type": "code",
      "source": [
        "# Train ด้วย ImageDataGenerator ของ Keras ซึ่งจะเพิ่มข้อมูลเสริมระหว่างการฝึกเพื่อลดโอกาสเกิด overfitting\n",
        "#overfitting เกิดจากข้อมูลที่ซับซ้อนกันเกินไป\n",
        "from tensorflow.keras.preprocessing.image import ImageDataGenerator\n",
        "\n",
        "train_datagen = ImageDataGenerator(\n",
        "      rescale=1./255, #โมเดลส่วนใหญ่ต้องใช้ RGB ในช่วง 0–1\n",
        "      rotation_range=40,\n",
        "      width_shift_range=0.2,\n",
        "      height_shift_range=0.2,\n",
        "      shear_range=0.2,\n",
        "      zoom_range=0.2,\n",
        "      horizontal_flip=True,\n",
        "      fill_mode='nearest')\n",
        "\n",
        "# Note that the validation data should not be augmented!\n",
        "test_datagen = ImageDataGenerator(rescale=1./255)"
      ],
      "metadata": {
        "id": "xGPrsn9no_pa"
      },
      "execution_count": null,
      "outputs": []
    },
    {
      "cell_type": "code",
      "source": [
        "train_generator = train_datagen.flow_from_dataframe(\n",
        "        dataframe = train,\n",
        "        directory = train_dir,\n",
        "        x_col = 'Path_filename',\n",
        "        y_col = 'Age(year)',\n",
        "        class_mode = 'other',\n",
        "        target_size=(height, width),\n",
        "        batch_size=batch_size)\n",
        "\n",
        "validation_generator = test_datagen.flow_from_dataframe(\n",
        "        dataframe = val,\n",
        "        directory = validation_dir,\n",
        "        x_col = 'Path_filename',\n",
        "        y_col = 'Age(year)',\n",
        "        class_mode = 'other',\n",
        "        target_size=(height, width),\n",
        "        batch_size=batch_size)"
      ],
      "metadata": {
        "colab": {
          "base_uri": "https://localhost:8080/"
        },
        "id": "8nVlmAszntK_",
        "outputId": "183fb331-d623-4037-f229-79ba512ed61e"
      },
      "execution_count": null,
      "outputs": [
        {
          "output_type": "stream",
          "name": "stdout",
          "text": [
            "Found 2850 validated image filenames.\n",
            "Found 950 validated image filenames.\n"
          ]
        }
      ]
    },
    {
      "cell_type": "code",
      "source": [
        "model.summary()"
      ],
      "metadata": {
        "colab": {
          "base_uri": "https://localhost:8080/"
        },
        "id": "zzCdn3X4Jm_E",
        "outputId": "993d72d0-dd53-4208-9c89-9d23795a0de8"
      },
      "execution_count": null,
      "outputs": [
        {
          "output_type": "stream",
          "name": "stdout",
          "text": [
            "Model: \"sequential\"\n",
            "_________________________________________________________________\n",
            " Layer (type)                Output Shape              Param #   \n",
            "=================================================================\n",
            " efficientnet-b0 (Functional  (None, 5, 5, 1280)       4049564   \n",
            " )                                                               \n",
            "                                                                 \n",
            " gap (GlobalMaxPooling2D)    (None, 1280)              0         \n",
            "                                                                 \n",
            " dropout_out (Dropout)       (None, 1280)              0         \n",
            "                                                                 \n",
            " fc_out (Dense)              (None, 19)                24339     \n",
            "                                                                 \n",
            " dense (Dense)               (None, 1)                 20        \n",
            "                                                                 \n",
            "=================================================================\n",
            "Total params: 4,073,923\n",
            "Trainable params: 4,031,907\n",
            "Non-trainable params: 42,016\n",
            "_________________________________________________________________\n"
          ]
        }
      ]
    },
    {
      "cell_type": "code",
      "source": [
        "model.compile(loss='mse',\n",
        "          optimizer=Adam(learning_rate=1e-4),\n",
        "          metrics=['mae'])\n",
        "history = model.fit_generator(\n",
        "      train_generator,\n",
        "      steps_per_epoch= NUM_TRAIN //batch_size,\n",
        "      epochs=epochs,\n",
        "      validation_data=validation_generator,\n",
        "      validation_steps= NUM_TEST //batch_size,\n",
        "      verbose=1,\n",
        "      use_multiprocessing=True,\n",
        "      workers=4)"
      ],
      "metadata": {
        "id": "N6qUmmF856ZE",
        "outputId": "88efdbb5-2fee-4df1-bd99-6aea5a3cc29e",
        "colab": {
          "base_uri": "https://localhost:8080/"
        }
      },
      "execution_count": null,
      "outputs": [
        {
          "output_type": "stream",
          "name": "stderr",
          "text": [
            "<ipython-input-18-f59104fd3985>:4: UserWarning: `Model.fit_generator` is deprecated and will be removed in a future version. Please use `Model.fit`, which supports generators.\n",
            "  history = model.fit_generator(\n"
          ]
        },
        {
          "output_type": "stream",
          "name": "stdout",
          "text": [
            "Epoch 1/250\n",
            "178/178 [==============================] - 581s 3s/step - loss: 0.9593 - mae: 0.7227 - val_loss: 5.6900 - val_mae: 1.7413\n",
            "Epoch 2/250\n",
            "178/178 [==============================] - 22s 120ms/step - loss: 0.9038 - mae: 0.7030 - val_loss: 6.0710 - val_mae: 1.8243\n",
            "Epoch 3/250\n",
            "178/178 [==============================] - 21s 118ms/step - loss: 0.9223 - mae: 0.7034 - val_loss: 5.9510 - val_mae: 1.7916\n",
            "Epoch 4/250\n",
            "178/178 [==============================] - 22s 119ms/step - loss: 0.8528 - mae: 0.6910 - val_loss: 6.2787 - val_mae: 1.8136\n",
            "Epoch 5/250\n",
            "178/178 [==============================] - 22s 119ms/step - loss: 0.8303 - mae: 0.6783 - val_loss: 6.8665 - val_mae: 1.9442\n",
            "Epoch 6/250\n",
            "178/178 [==============================] - 21s 119ms/step - loss: 0.8749 - mae: 0.6820 - val_loss: 5.1708 - val_mae: 1.6754\n",
            "Epoch 7/250\n",
            "178/178 [==============================] - 22s 119ms/step - loss: 0.9421 - mae: 0.6857 - val_loss: 5.8438 - val_mae: 1.7775\n",
            "Epoch 8/250\n",
            "178/178 [==============================] - 22s 119ms/step - loss: 0.8401 - mae: 0.6768 - val_loss: 6.5583 - val_mae: 1.8745\n",
            "Epoch 9/250\n",
            "178/178 [==============================] - 22s 119ms/step - loss: 0.8825 - mae: 0.7023 - val_loss: 6.8531 - val_mae: 1.9434\n",
            "Epoch 10/250\n",
            "178/178 [==============================] - 22s 119ms/step - loss: 0.8767 - mae: 0.6802 - val_loss: 6.1210 - val_mae: 1.8150\n",
            "Epoch 11/250\n",
            "178/178 [==============================] - 22s 119ms/step - loss: 1.4900 - mae: 0.7788 - val_loss: 7.5477 - val_mae: 1.9769\n",
            "Epoch 12/250\n",
            "178/178 [==============================] - 21s 118ms/step - loss: 1.0266 - mae: 0.7294 - val_loss: 7.1532 - val_mae: 1.9421\n",
            "Epoch 13/250\n",
            "178/178 [==============================] - 22s 119ms/step - loss: 0.9304 - mae: 0.7096 - val_loss: 7.4585 - val_mae: 1.9705\n",
            "Epoch 14/250\n",
            "178/178 [==============================] - 22s 119ms/step - loss: 0.8883 - mae: 0.6992 - val_loss: 6.1587 - val_mae: 1.7916\n",
            "Epoch 15/250\n",
            "178/178 [==============================] - 21s 118ms/step - loss: 0.8393 - mae: 0.6704 - val_loss: 6.2780 - val_mae: 1.8283\n",
            "Epoch 16/250\n",
            "178/178 [==============================] - 22s 119ms/step - loss: 0.8489 - mae: 0.6684 - val_loss: 6.2765 - val_mae: 1.8575\n",
            "Epoch 17/250\n",
            "178/178 [==============================] - 22s 119ms/step - loss: 0.7700 - mae: 0.6551 - val_loss: 6.0817 - val_mae: 1.8154\n",
            "Epoch 18/250\n",
            "178/178 [==============================] - 22s 119ms/step - loss: 0.7365 - mae: 0.6439 - val_loss: 6.4859 - val_mae: 1.8732\n",
            "Epoch 19/250\n",
            "178/178 [==============================] - 22s 118ms/step - loss: 0.7574 - mae: 0.6483 - val_loss: 5.8438 - val_mae: 1.7752\n",
            "Epoch 20/250\n",
            "178/178 [==============================] - 22s 119ms/step - loss: 0.8668 - mae: 0.6777 - val_loss: 5.3466 - val_mae: 1.7054\n",
            "Epoch 21/250\n",
            "178/178 [==============================] - 21s 118ms/step - loss: 0.7173 - mae: 0.6313 - val_loss: 5.7271 - val_mae: 1.7647\n",
            "Epoch 22/250\n",
            "178/178 [==============================] - 21s 118ms/step - loss: 0.9376 - mae: 0.7036 - val_loss: 6.0633 - val_mae: 1.7639\n",
            "Epoch 23/250\n",
            "178/178 [==============================] - 22s 119ms/step - loss: 0.8690 - mae: 0.6876 - val_loss: 5.9755 - val_mae: 1.7816\n",
            "Epoch 24/250\n",
            "178/178 [==============================] - 22s 120ms/step - loss: 0.7968 - mae: 0.6532 - val_loss: 6.2149 - val_mae: 1.8056\n",
            "Epoch 25/250\n",
            "178/178 [==============================] - 22s 118ms/step - loss: 0.8331 - mae: 0.6659 - val_loss: 5.5828 - val_mae: 1.6966\n",
            "Epoch 26/250\n",
            "178/178 [==============================] - 22s 119ms/step - loss: 0.7980 - mae: 0.6592 - val_loss: 6.1644 - val_mae: 1.8063\n",
            "Epoch 27/250\n",
            "178/178 [==============================] - 21s 118ms/step - loss: 0.7915 - mae: 0.6480 - val_loss: 6.0933 - val_mae: 1.7948\n",
            "Epoch 28/250\n",
            "178/178 [==============================] - 22s 118ms/step - loss: 0.8462 - mae: 0.6779 - val_loss: 6.4364 - val_mae: 1.8178\n",
            "Epoch 29/250\n",
            "178/178 [==============================] - 22s 119ms/step - loss: 0.7748 - mae: 0.6523 - val_loss: 6.4116 - val_mae: 1.8313\n",
            "Epoch 30/250\n",
            "178/178 [==============================] - 21s 118ms/step - loss: 0.7368 - mae: 0.6424 - val_loss: 5.8936 - val_mae: 1.7744\n",
            "Epoch 31/250\n",
            "178/178 [==============================] - 21s 118ms/step - loss: 0.8315 - mae: 0.6569 - val_loss: 5.8124 - val_mae: 1.7656\n",
            "Epoch 32/250\n",
            "178/178 [==============================] - 22s 119ms/step - loss: 0.8968 - mae: 0.6831 - val_loss: 6.9714 - val_mae: 1.9377\n",
            "Epoch 33/250\n",
            "178/178 [==============================] - 22s 118ms/step - loss: 0.9194 - mae: 0.6866 - val_loss: 4.5008 - val_mae: 1.5474\n",
            "Epoch 34/250\n",
            "178/178 [==============================] - 22s 119ms/step - loss: 1.0673 - mae: 0.7394 - val_loss: 6.0589 - val_mae: 1.7892\n",
            "Epoch 35/250\n",
            "178/178 [==============================] - 17s 94ms/step - loss: 1.0548 - mae: 0.7354 - val_loss: 4.7372 - val_mae: 1.6005\n",
            "Epoch 36/250\n",
            "178/178 [==============================] - 22s 121ms/step - loss: 1.0593 - mae: 0.7360 - val_loss: 6.9331 - val_mae: 1.9270\n",
            "Epoch 37/250\n",
            "178/178 [==============================] - 22s 124ms/step - loss: 1.0340 - mae: 0.7373 - val_loss: 5.6871 - val_mae: 1.7417\n",
            "Epoch 38/250\n",
            "178/178 [==============================] - 22s 120ms/step - loss: 0.9249 - mae: 0.7074 - val_loss: 5.5570 - val_mae: 1.7276\n",
            "Epoch 39/250\n",
            "178/178 [==============================] - 22s 119ms/step - loss: 1.2799 - mae: 0.7542 - val_loss: 26.3033 - val_mae: 3.1579\n",
            "Epoch 40/250\n",
            "178/178 [==============================] - 22s 119ms/step - loss: 1.2136 - mae: 0.7786 - val_loss: 6.3094 - val_mae: 1.8193\n",
            "Epoch 41/250\n",
            "178/178 [==============================] - 22s 119ms/step - loss: 1.1057 - mae: 0.7523 - val_loss: 6.8101 - val_mae: 1.8731\n",
            "Epoch 42/250\n",
            "178/178 [==============================] - 22s 119ms/step - loss: 1.0776 - mae: 0.7518 - val_loss: 6.1403 - val_mae: 1.8142\n",
            "Epoch 43/250\n",
            "178/178 [==============================] - 22s 119ms/step - loss: 1.0459 - mae: 0.7267 - val_loss: 5.5579 - val_mae: 1.6936\n",
            "Epoch 44/250\n",
            "178/178 [==============================] - 22s 120ms/step - loss: 1.0360 - mae: 0.7354 - val_loss: 6.8952 - val_mae: 1.8840\n",
            "Epoch 45/250\n",
            "178/178 [==============================] - 22s 119ms/step - loss: 1.0187 - mae: 0.7262 - val_loss: 8.3539 - val_mae: 2.0758\n",
            "Epoch 46/250\n",
            "178/178 [==============================] - 22s 119ms/step - loss: 1.0575 - mae: 0.7529 - val_loss: 7.4675 - val_mae: 1.9453\n",
            "Epoch 47/250\n",
            "178/178 [==============================] - 22s 120ms/step - loss: 0.8959 - mae: 0.7052 - val_loss: 6.3564 - val_mae: 1.8015\n",
            "Epoch 48/250\n",
            "178/178 [==============================] - 22s 119ms/step - loss: 0.9681 - mae: 0.7170 - val_loss: 7.6488 - val_mae: 1.9900\n",
            "Epoch 49/250\n",
            "178/178 [==============================] - 22s 119ms/step - loss: 0.9072 - mae: 0.6903 - val_loss: 7.4018 - val_mae: 1.9548\n",
            "Epoch 50/250\n",
            "178/178 [==============================] - 22s 120ms/step - loss: 0.9000 - mae: 0.6952 - val_loss: 7.8108 - val_mae: 2.0407\n",
            "Epoch 51/250\n",
            "178/178 [==============================] - 22s 119ms/step - loss: 0.8323 - mae: 0.6725 - val_loss: 7.6832 - val_mae: 2.0000\n",
            "Epoch 52/250\n",
            "178/178 [==============================] - 22s 119ms/step - loss: 0.9240 - mae: 0.6828 - val_loss: 7.6684 - val_mae: 1.9831\n",
            "Epoch 53/250\n",
            "178/178 [==============================] - 22s 120ms/step - loss: 0.8579 - mae: 0.6706 - val_loss: 6.2694 - val_mae: 1.8042\n",
            "Epoch 54/250\n",
            "178/178 [==============================] - 22s 119ms/step - loss: 0.9398 - mae: 0.7050 - val_loss: 5.6321 - val_mae: 1.7147\n",
            "Epoch 55/250\n",
            "178/178 [==============================] - 21s 118ms/step - loss: 0.8702 - mae: 0.6807 - val_loss: 6.3709 - val_mae: 1.8289\n",
            "Epoch 56/250\n",
            "178/178 [==============================] - 22s 119ms/step - loss: 1.0055 - mae: 0.6980 - val_loss: 7.3499 - val_mae: 1.9383\n",
            "Epoch 57/250\n",
            "178/178 [==============================] - 22s 119ms/step - loss: 0.8538 - mae: 0.6782 - val_loss: 5.4008 - val_mae: 1.6852\n",
            "Epoch 58/250\n",
            "178/178 [==============================] - 22s 119ms/step - loss: 0.7972 - mae: 0.6552 - val_loss: 6.4381 - val_mae: 1.8225\n",
            "Epoch 59/250\n",
            "178/178 [==============================] - 22s 122ms/step - loss: 0.8026 - mae: 0.6609 - val_loss: 7.2794 - val_mae: 1.9484\n",
            "Epoch 60/250\n",
            "178/178 [==============================] - 22s 120ms/step - loss: 0.8730 - mae: 0.6807 - val_loss: 7.3445 - val_mae: 1.9737\n",
            "Epoch 61/250\n",
            "178/178 [==============================] - 22s 118ms/step - loss: 0.8049 - mae: 0.6558 - val_loss: 6.7484 - val_mae: 1.8950\n",
            "Epoch 62/250\n",
            "178/178 [==============================] - 22s 120ms/step - loss: 0.8297 - mae: 0.6603 - val_loss: 6.7342 - val_mae: 1.9014\n",
            "Epoch 63/250\n",
            "178/178 [==============================] - 22s 120ms/step - loss: 0.8494 - mae: 0.6700 - val_loss: 5.2805 - val_mae: 1.6857\n",
            "Epoch 64/250\n",
            "178/178 [==============================] - 22s 120ms/step - loss: 0.8180 - mae: 0.6548 - val_loss: 7.3502 - val_mae: 1.9456\n",
            "Epoch 65/250\n",
            "178/178 [==============================] - 22s 121ms/step - loss: 0.8312 - mae: 0.6615 - val_loss: 4.6249 - val_mae: 1.5666\n",
            "Epoch 66/250\n",
            "178/178 [==============================] - 22s 121ms/step - loss: 0.8524 - mae: 0.6644 - val_loss: 5.7560 - val_mae: 1.7435\n",
            "Epoch 67/250\n",
            "178/178 [==============================] - 22s 122ms/step - loss: 0.8708 - mae: 0.6724 - val_loss: 5.8673 - val_mae: 1.7692\n",
            "Epoch 68/250\n",
            "178/178 [==============================] - 23s 123ms/step - loss: 0.8077 - mae: 0.6520 - val_loss: 7.1030 - val_mae: 1.9239\n",
            "Epoch 69/250\n",
            "178/178 [==============================] - 22s 121ms/step - loss: 0.8903 - mae: 0.6723 - val_loss: 7.1864 - val_mae: 1.9459\n",
            "Epoch 70/250\n",
            "178/178 [==============================] - 22s 121ms/step - loss: 0.8118 - mae: 0.6547 - val_loss: 5.6067 - val_mae: 1.7003\n",
            "Epoch 71/250\n",
            "178/178 [==============================] - 22s 121ms/step - loss: 0.7679 - mae: 0.6477 - val_loss: 6.3384 - val_mae: 1.7969\n",
            "Epoch 72/250\n",
            "178/178 [==============================] - 22s 121ms/step - loss: 0.8742 - mae: 0.6824 - val_loss: 8.0821 - val_mae: 2.0562\n",
            "Epoch 73/250\n",
            "178/178 [==============================] - 22s 119ms/step - loss: 0.9585 - mae: 0.7098 - val_loss: 5.6310 - val_mae: 1.7178\n",
            "Epoch 74/250\n",
            "178/178 [==============================] - 22s 120ms/step - loss: 0.8346 - mae: 0.6866 - val_loss: 6.8172 - val_mae: 1.8772\n",
            "Epoch 75/250\n",
            "178/178 [==============================] - 22s 121ms/step - loss: 0.9157 - mae: 0.6779 - val_loss: 6.3650 - val_mae: 1.8089\n",
            "Epoch 76/250\n",
            "178/178 [==============================] - 22s 120ms/step - loss: 0.8319 - mae: 0.6592 - val_loss: 6.1073 - val_mae: 1.7818\n",
            "Epoch 77/250\n",
            "178/178 [==============================] - 22s 120ms/step - loss: 0.8674 - mae: 0.6700 - val_loss: 5.3103 - val_mae: 1.6878\n",
            "Epoch 78/250\n",
            "178/178 [==============================] - 22s 121ms/step - loss: 0.8446 - mae: 0.6645 - val_loss: 6.7023 - val_mae: 1.8754\n",
            "Epoch 79/250\n",
            "178/178 [==============================] - 22s 119ms/step - loss: 0.8517 - mae: 0.6663 - val_loss: 5.6120 - val_mae: 1.7027\n",
            "Epoch 80/250\n",
            "178/178 [==============================] - 22s 120ms/step - loss: 1.1231 - mae: 0.7458 - val_loss: 5.0505 - val_mae: 1.6482\n",
            "Epoch 81/250\n",
            "178/178 [==============================] - 22s 122ms/step - loss: 0.8457 - mae: 0.6722 - val_loss: 5.0370 - val_mae: 1.6261\n",
            "Epoch 82/250\n",
            "178/178 [==============================] - 22s 120ms/step - loss: 0.9319 - mae: 0.6977 - val_loss: 5.5844 - val_mae: 1.7080\n",
            "Epoch 83/250\n",
            "178/178 [==============================] - 22s 120ms/step - loss: 2.6706 - mae: 0.9242 - val_loss: 4.9068 - val_mae: 1.6024\n",
            "Epoch 84/250\n",
            "178/178 [==============================] - 22s 121ms/step - loss: 1.2254 - mae: 0.7704 - val_loss: 5.4955 - val_mae: 1.6862\n",
            "Epoch 85/250\n",
            "178/178 [==============================] - 22s 120ms/step - loss: 1.2534 - mae: 0.7760 - val_loss: 4.9060 - val_mae: 1.5977\n",
            "Epoch 86/250\n",
            "178/178 [==============================] - 22s 119ms/step - loss: 1.1229 - mae: 0.7263 - val_loss: 7.3046 - val_mae: 1.9339\n",
            "Epoch 87/250\n",
            "178/178 [==============================] - 22s 120ms/step - loss: 1.1362 - mae: 0.7489 - val_loss: 5.2356 - val_mae: 1.6406\n",
            "Epoch 88/250\n",
            "178/178 [==============================] - 22s 119ms/step - loss: 1.1089 - mae: 0.7499 - val_loss: 5.5643 - val_mae: 1.6868\n",
            "Epoch 89/250\n",
            "178/178 [==============================] - 22s 119ms/step - loss: 1.1738 - mae: 0.7369 - val_loss: 6.0906 - val_mae: 1.7827\n",
            "Epoch 90/250\n",
            "178/178 [==============================] - 22s 119ms/step - loss: 1.1283 - mae: 0.7398 - val_loss: 5.4349 - val_mae: 1.6734\n",
            "Epoch 91/250\n",
            "178/178 [==============================] - 22s 119ms/step - loss: 1.1309 - mae: 0.7256 - val_loss: 5.4595 - val_mae: 1.6888\n",
            "Epoch 92/250\n",
            "178/178 [==============================] - 22s 118ms/step - loss: 1.1162 - mae: 0.7289 - val_loss: 5.9876 - val_mae: 1.7528\n",
            "Epoch 93/250\n",
            "178/178 [==============================] - 22s 119ms/step - loss: 1.1635 - mae: 0.7202 - val_loss: 5.9337 - val_mae: 1.7589\n",
            "Epoch 94/250\n",
            "178/178 [==============================] - 22s 119ms/step - loss: 1.0621 - mae: 0.7244 - val_loss: 5.6418 - val_mae: 1.7073\n",
            "Epoch 95/250\n",
            "178/178 [==============================] - 22s 119ms/step - loss: 1.0542 - mae: 0.7047 - val_loss: 6.4695 - val_mae: 1.8376\n",
            "Epoch 96/250\n",
            "178/178 [==============================] - 22s 118ms/step - loss: 0.9952 - mae: 0.7090 - val_loss: 6.3550 - val_mae: 1.8106\n",
            "Epoch 97/250\n",
            "178/178 [==============================] - 22s 120ms/step - loss: 1.0952 - mae: 0.7387 - val_loss: 5.8236 - val_mae: 1.7316\n",
            "Epoch 98/250\n",
            "178/178 [==============================] - 22s 118ms/step - loss: 0.9529 - mae: 0.7078 - val_loss: 5.4037 - val_mae: 1.6768\n",
            "Epoch 99/250\n",
            "178/178 [==============================] - 22s 118ms/step - loss: 0.9781 - mae: 0.6972 - val_loss: 5.1577 - val_mae: 1.6390\n",
            "Epoch 100/250\n",
            "178/178 [==============================] - 17s 95ms/step - loss: 0.9641 - mae: 0.6811 - val_loss: 5.6045 - val_mae: 1.7005\n",
            "Epoch 101/250\n",
            "178/178 [==============================] - 22s 119ms/step - loss: 0.9744 - mae: 0.6902 - val_loss: 5.8903 - val_mae: 1.7668\n",
            "Epoch 102/250\n",
            "178/178 [==============================] - 22s 120ms/step - loss: 0.9462 - mae: 0.6795 - val_loss: 6.0387 - val_mae: 1.7975\n",
            "Epoch 103/250\n",
            "178/178 [==============================] - 22s 119ms/step - loss: 0.9241 - mae: 0.6825 - val_loss: 5.4143 - val_mae: 1.7026\n",
            "Epoch 104/250\n",
            "178/178 [==============================] - 22s 119ms/step - loss: 0.8760 - mae: 0.6687 - val_loss: 5.3097 - val_mae: 1.6780\n",
            "Epoch 105/250\n",
            "178/178 [==============================] - 22s 120ms/step - loss: 0.8305 - mae: 0.6492 - val_loss: 5.5802 - val_mae: 1.7109\n",
            "Epoch 106/250\n",
            "178/178 [==============================] - 22s 119ms/step - loss: 0.8819 - mae: 0.6653 - val_loss: 4.8074 - val_mae: 1.5807\n",
            "Epoch 107/250\n",
            "178/178 [==============================] - 22s 118ms/step - loss: 0.8571 - mae: 0.6500 - val_loss: 4.7914 - val_mae: 1.5907\n",
            "Epoch 108/250\n",
            "178/178 [==============================] - 22s 122ms/step - loss: 0.8498 - mae: 0.6579 - val_loss: 5.2614 - val_mae: 1.6622\n",
            "Epoch 109/250\n",
            "178/178 [==============================] - 22s 119ms/step - loss: 0.8594 - mae: 0.6598 - val_loss: 6.1949 - val_mae: 1.8087\n",
            "Epoch 110/250\n",
            "178/178 [==============================] - 22s 119ms/step - loss: 0.8607 - mae: 0.6618 - val_loss: 5.2798 - val_mae: 1.6756\n",
            "Epoch 111/250\n",
            "178/178 [==============================] - 22s 120ms/step - loss: 0.7813 - mae: 0.6398 - val_loss: 5.6425 - val_mae: 1.7142\n",
            "Epoch 112/250\n",
            "178/178 [==============================] - 21s 118ms/step - loss: 0.9193 - mae: 0.6680 - val_loss: 5.5281 - val_mae: 1.7027\n",
            "Epoch 113/250\n",
            "178/178 [==============================] - 22s 118ms/step - loss: 0.8811 - mae: 0.6697 - val_loss: 5.7172 - val_mae: 1.7134\n",
            "Epoch 114/250\n",
            "178/178 [==============================] - 22s 120ms/step - loss: 0.8949 - mae: 0.6707 - val_loss: 6.3839 - val_mae: 1.8205\n",
            "Epoch 115/250\n",
            "178/178 [==============================] - 22s 118ms/step - loss: 0.8419 - mae: 0.6635 - val_loss: 5.1508 - val_mae: 1.6525\n",
            "Epoch 116/250\n",
            "178/178 [==============================] - 22s 118ms/step - loss: 0.8227 - mae: 0.6400 - val_loss: 5.7730 - val_mae: 1.7213\n",
            "Epoch 117/250\n",
            "178/178 [==============================] - 22s 119ms/step - loss: 0.9531 - mae: 0.6783 - val_loss: 5.9935 - val_mae: 1.7378\n",
            "Epoch 118/250\n",
            "178/178 [==============================] - 21s 118ms/step - loss: 0.7993 - mae: 0.6500 - val_loss: 6.3723 - val_mae: 1.7971\n",
            "Epoch 119/250\n",
            "178/178 [==============================] - 22s 119ms/step - loss: 0.9443 - mae: 0.6916 - val_loss: 5.5566 - val_mae: 1.6819\n",
            "Epoch 120/250\n",
            "178/178 [==============================] - 22s 120ms/step - loss: 0.8474 - mae: 0.6622 - val_loss: 5.6898 - val_mae: 1.7472\n",
            "Epoch 121/250\n",
            "178/178 [==============================] - 22s 118ms/step - loss: 0.8664 - mae: 0.6560 - val_loss: 5.2151 - val_mae: 1.6433\n",
            "Epoch 122/250\n",
            "178/178 [==============================] - 22s 118ms/step - loss: 0.8960 - mae: 0.6624 - val_loss: 5.8855 - val_mae: 1.7637\n",
            "Epoch 123/250\n",
            "178/178 [==============================] - 22s 118ms/step - loss: 0.8118 - mae: 0.6489 - val_loss: 6.6026 - val_mae: 1.8614\n",
            "Epoch 124/250\n",
            "178/178 [==============================] - 22s 120ms/step - loss: 0.8482 - mae: 0.6595 - val_loss: 5.8306 - val_mae: 1.7396\n",
            "Epoch 125/250\n",
            "178/178 [==============================] - 22s 118ms/step - loss: 1.1576 - mae: 0.7054 - val_loss: 16.8113 - val_mae: 2.4300\n",
            "Epoch 126/250\n",
            "178/178 [==============================] - 22s 119ms/step - loss: 1.0090 - mae: 0.6924 - val_loss: 5.0934 - val_mae: 1.6266\n",
            "Epoch 127/250\n",
            "178/178 [==============================] - 22s 121ms/step - loss: 0.8817 - mae: 0.6726 - val_loss: 5.4906 - val_mae: 1.6884\n",
            "Epoch 128/250\n",
            "178/178 [==============================] - 22s 120ms/step - loss: 0.8866 - mae: 0.6646 - val_loss: 7.5289 - val_mae: 1.9664\n",
            "Epoch 129/250\n",
            "178/178 [==============================] - 22s 120ms/step - loss: 1.0059 - mae: 0.7109 - val_loss: 5.9809 - val_mae: 1.7548\n",
            "Epoch 130/250\n",
            "178/178 [==============================] - 22s 121ms/step - loss: 0.8469 - mae: 0.6601 - val_loss: 5.8163 - val_mae: 1.7392\n",
            "Epoch 131/250\n",
            "178/178 [==============================] - 22s 120ms/step - loss: 0.9078 - mae: 0.6754 - val_loss: 5.4384 - val_mae: 1.6773\n",
            "Epoch 132/250\n",
            "178/178 [==============================] - 22s 120ms/step - loss: 0.8869 - mae: 0.6559 - val_loss: 5.2965 - val_mae: 1.6498\n",
            "Epoch 133/250\n",
            "178/178 [==============================] - 22s 121ms/step - loss: 0.8278 - mae: 0.6468 - val_loss: 6.1884 - val_mae: 1.8133\n",
            "Epoch 134/250\n",
            "178/178 [==============================] - 22s 119ms/step - loss: 1.0063 - mae: 0.6960 - val_loss: 5.3669 - val_mae: 1.6659\n",
            "Epoch 135/250\n",
            "178/178 [==============================] - 22s 119ms/step - loss: 1.0411 - mae: 0.7079 - val_loss: 7.2995 - val_mae: 1.9450\n",
            "Epoch 136/250\n",
            "178/178 [==============================] - 22s 120ms/step - loss: 1.2986 - mae: 0.7998 - val_loss: 8.2092 - val_mae: 2.0785\n",
            "Epoch 137/250\n",
            "178/178 [==============================] - 22s 119ms/step - loss: 1.1482 - mae: 0.7513 - val_loss: 7.8607 - val_mae: 2.0730\n",
            "Epoch 138/250\n",
            "178/178 [==============================] - 22s 120ms/step - loss: 1.0827 - mae: 0.7373 - val_loss: 7.3955 - val_mae: 1.9563\n",
            "Epoch 139/250\n",
            "178/178 [==============================] - 22s 120ms/step - loss: 0.9832 - mae: 0.7068 - val_loss: 5.9040 - val_mae: 1.7472\n",
            "Epoch 140/250\n",
            "178/178 [==============================] - 17s 94ms/step - loss: 0.9492 - mae: 0.7092 - val_loss: 7.3106 - val_mae: 1.9607\n",
            "Epoch 141/250\n",
            "178/178 [==============================] - 22s 120ms/step - loss: 0.9513 - mae: 0.6961 - val_loss: 6.1756 - val_mae: 1.8112\n",
            "Epoch 142/250\n",
            "178/178 [==============================] - 22s 121ms/step - loss: 0.9638 - mae: 0.7031 - val_loss: 6.1988 - val_mae: 1.8128\n",
            "Epoch 143/250\n",
            "178/178 [==============================] - 22s 119ms/step - loss: 0.9158 - mae: 0.6786 - val_loss: 6.6774 - val_mae: 1.8968\n",
            "Epoch 144/250\n",
            "178/178 [==============================] - 22s 120ms/step - loss: 0.9637 - mae: 0.6892 - val_loss: 5.6268 - val_mae: 1.7354\n",
            "Epoch 145/250\n",
            "178/178 [==============================] - 22s 121ms/step - loss: 0.9542 - mae: 0.6802 - val_loss: 6.7711 - val_mae: 1.9053\n",
            "Epoch 146/250\n",
            "178/178 [==============================] - 22s 121ms/step - loss: 0.8786 - mae: 0.6665 - val_loss: 5.8223 - val_mae: 1.7676\n",
            "Epoch 147/250\n",
            "178/178 [==============================] - 22s 120ms/step - loss: 0.9825 - mae: 0.7014 - val_loss: 4.8587 - val_mae: 1.5934\n",
            "Epoch 148/250\n",
            "178/178 [==============================] - 22s 122ms/step - loss: 1.1080 - mae: 0.7374 - val_loss: 5.5643 - val_mae: 1.6872\n",
            "Epoch 149/250\n",
            "178/178 [==============================] - 22s 120ms/step - loss: 1.0868 - mae: 0.7123 - val_loss: 6.9569 - val_mae: 1.9058\n",
            "Epoch 150/250\n",
            "178/178 [==============================] - 22s 119ms/step - loss: 0.9761 - mae: 0.6957 - val_loss: 6.1424 - val_mae: 1.8066\n",
            "Epoch 151/250\n",
            "178/178 [==============================] - 22s 120ms/step - loss: 0.9030 - mae: 0.6661 - val_loss: 5.9626 - val_mae: 1.7838\n",
            "Epoch 152/250\n",
            "178/178 [==============================] - 22s 120ms/step - loss: 0.8792 - mae: 0.6698 - val_loss: 5.6830 - val_mae: 1.7510\n",
            "Epoch 153/250\n",
            "178/178 [==============================] - 22s 120ms/step - loss: 1.0213 - mae: 0.6770 - val_loss: 5.6333 - val_mae: 1.7440\n",
            "Epoch 154/250\n",
            "178/178 [==============================] - 22s 120ms/step - loss: 0.9013 - mae: 0.6743 - val_loss: 5.8820 - val_mae: 1.7625\n",
            "Epoch 155/250\n",
            "178/178 [==============================] - 22s 119ms/step - loss: 0.8515 - mae: 0.6576 - val_loss: 5.9206 - val_mae: 1.7831\n",
            "Epoch 156/250\n",
            "178/178 [==============================] - 22s 119ms/step - loss: 0.9335 - mae: 0.6750 - val_loss: 6.0138 - val_mae: 1.7817\n",
            "Epoch 157/250\n",
            "178/178 [==============================] - 22s 119ms/step - loss: 0.8554 - mae: 0.6458 - val_loss: 6.1877 - val_mae: 1.8202\n",
            "Epoch 158/250\n",
            "178/178 [==============================] - 22s 120ms/step - loss: 0.7550 - mae: 0.6205 - val_loss: 6.9663 - val_mae: 1.9250\n",
            "Epoch 159/250\n",
            "178/178 [==============================] - 22s 118ms/step - loss: 0.8298 - mae: 0.6524 - val_loss: 5.5770 - val_mae: 1.6997\n",
            "Epoch 160/250\n",
            "178/178 [==============================] - 22s 119ms/step - loss: 0.9410 - mae: 0.6624 - val_loss: 5.8442 - val_mae: 1.7409\n",
            "Epoch 161/250\n",
            "178/178 [==============================] - 22s 121ms/step - loss: 0.8946 - mae: 0.6467 - val_loss: 6.1227 - val_mae: 1.7755\n",
            "Epoch 162/250\n",
            "178/178 [==============================] - 22s 120ms/step - loss: 0.9364 - mae: 0.6870 - val_loss: 5.5029 - val_mae: 1.6954\n",
            "Epoch 163/250\n",
            "178/178 [==============================] - 22s 121ms/step - loss: 0.8596 - mae: 0.6573 - val_loss: 4.9398 - val_mae: 1.6080\n",
            "Epoch 164/250\n",
            "178/178 [==============================] - 22s 123ms/step - loss: 0.8686 - mae: 0.6639 - val_loss: 4.8834 - val_mae: 1.5994\n",
            "Epoch 165/250\n",
            "178/178 [==============================] - 22s 120ms/step - loss: 0.8880 - mae: 0.6635 - val_loss: 4.9338 - val_mae: 1.6136\n",
            "Epoch 166/250\n",
            "178/178 [==============================] - 22s 120ms/step - loss: 0.8298 - mae: 0.6469 - val_loss: 4.7881 - val_mae: 1.5912\n",
            "Epoch 167/250\n",
            "178/178 [==============================] - 22s 121ms/step - loss: 0.8611 - mae: 0.6568 - val_loss: 5.0395 - val_mae: 1.6248\n",
            "Epoch 168/250\n",
            "178/178 [==============================] - 17s 95ms/step - loss: 0.8013 - mae: 0.6310 - val_loss: 4.8870 - val_mae: 1.6269\n",
            "Epoch 169/250\n",
            "178/178 [==============================] - 22s 121ms/step - loss: 0.9436 - mae: 0.6819 - val_loss: 5.0657 - val_mae: 1.6376\n",
            "Epoch 170/250\n",
            "178/178 [==============================] - 22s 120ms/step - loss: 0.8479 - mae: 0.6592 - val_loss: 5.6252 - val_mae: 1.7252\n",
            "Epoch 171/250\n",
            "178/178 [==============================] - 22s 120ms/step - loss: 0.7917 - mae: 0.6316 - val_loss: 5.0895 - val_mae: 1.6483\n",
            "Epoch 172/250\n",
            "178/178 [==============================] - 22s 119ms/step - loss: 0.8016 - mae: 0.6353 - val_loss: 4.8286 - val_mae: 1.5880\n",
            "Epoch 173/250\n",
            "178/178 [==============================] - ETA: 0s - loss: 0.8645 - mae: 0.6525Epoch 174/250\n",
            "178/178 [==============================] - 22s 120ms/step - loss: 0.7933 - mae: 0.6287 - val_loss: 4.5885 - val_mae: 1.5596\n",
            "Epoch 175/250\n",
            "178/178 [==============================] - 22s 119ms/step - loss: 0.8073 - mae: 0.6284 - val_loss: 5.8547 - val_mae: 1.7649\n",
            "Epoch 176/250\n",
            "178/178 [==============================] - 22s 121ms/step - loss: 0.7745 - mae: 0.6246 - val_loss: 5.2134 - val_mae: 1.6803\n",
            "Epoch 177/250\n",
            "178/178 [==============================] - 22s 120ms/step - loss: 0.8012 - mae: 0.6350 - val_loss: 4.5865 - val_mae: 1.5872\n",
            "Epoch 178/250\n",
            "178/178 [==============================] - 22s 119ms/step - loss: 0.9243 - mae: 0.6548 - val_loss: 4.8185 - val_mae: 1.6153\n",
            "Epoch 179/250\n",
            "178/178 [==============================] - 18s 96ms/step - loss: 0.7396 - mae: 0.6173 - val_loss: 4.9015 - val_mae: 1.6348\n",
            "Epoch 180/250\n",
            "178/178 [==============================] - 22s 119ms/step - loss: 0.7829 - mae: 0.6237 - val_loss: 5.7007 - val_mae: 1.7546\n",
            "Epoch 181/250\n",
            "178/178 [==============================] - 22s 121ms/step - loss: 0.9498 - mae: 0.6696 - val_loss: 5.6032 - val_mae: 1.7215\n",
            "Epoch 182/250\n",
            "178/178 [==============================] - 22s 119ms/step - loss: 0.8316 - mae: 0.6359 - val_loss: 5.5876 - val_mae: 1.7195\n",
            "Epoch 183/250\n",
            "178/178 [==============================] - 22s 119ms/step - loss: 0.7968 - mae: 0.6294 - val_loss: 5.8976 - val_mae: 1.7751\n",
            "Epoch 184/250\n",
            "178/178 [==============================] - 18s 95ms/step - loss: 0.7902 - mae: 0.6295 - val_loss: 5.5360 - val_mae: 1.7098\n",
            "Epoch 185/250\n",
            "178/178 [==============================] - 22s 119ms/step - loss: 0.7357 - mae: 0.6182 - val_loss: 5.2680 - val_mae: 1.6619\n",
            "Epoch 186/250\n",
            "178/178 [==============================] - 22s 119ms/step - loss: 0.7014 - mae: 0.6043 - val_loss: 5.4683 - val_mae: 1.7001\n",
            "Epoch 187/250\n",
            "178/178 [==============================] - 22s 120ms/step - loss: 0.7541 - mae: 0.6177 - val_loss: 5.0126 - val_mae: 1.6271\n",
            "Epoch 188/250\n",
            "178/178 [==============================] - 22s 120ms/step - loss: 0.7561 - mae: 0.6238 - val_loss: 5.4200 - val_mae: 1.6811\n",
            "Epoch 189/250\n",
            "178/178 [==============================] - 22s 120ms/step - loss: 0.6956 - mae: 0.5978 - val_loss: 5.2134 - val_mae: 1.6562\n",
            "Epoch 190/250\n",
            "178/178 [==============================] - 22s 121ms/step - loss: 0.7224 - mae: 0.5971 - val_loss: 5.2141 - val_mae: 1.6536\n",
            "Epoch 191/250\n",
            "178/178 [==============================] - 22s 120ms/step - loss: 0.7126 - mae: 0.6061 - val_loss: 6.5336 - val_mae: 1.8240\n",
            "Epoch 192/250\n",
            "178/178 [==============================] - 22s 119ms/step - loss: 0.6778 - mae: 0.5891 - val_loss: 5.4132 - val_mae: 1.6875\n",
            "Epoch 193/250\n",
            "178/178 [==============================] - 22s 121ms/step - loss: 0.7619 - mae: 0.6061 - val_loss: 6.3577 - val_mae: 1.8322\n",
            "Epoch 194/250\n",
            "178/178 [==============================] - 22s 120ms/step - loss: 0.7797 - mae: 0.6181 - val_loss: 5.0719 - val_mae: 1.6247\n",
            "Epoch 195/250\n",
            "178/178 [==============================] - 22s 120ms/step - loss: 0.7787 - mae: 0.6283 - val_loss: 5.4913 - val_mae: 1.6835\n",
            "Epoch 196/250\n",
            "178/178 [==============================] - 22s 119ms/step - loss: 0.8266 - mae: 0.6291 - val_loss: 5.3676 - val_mae: 1.6808\n",
            "Epoch 197/250\n",
            "178/178 [==============================] - 22s 120ms/step - loss: 0.7713 - mae: 0.6232 - val_loss: 5.6267 - val_mae: 1.7395\n",
            "Epoch 198/250\n",
            "178/178 [==============================] - 22s 119ms/step - loss: 0.7487 - mae: 0.6051 - val_loss: 5.0377 - val_mae: 1.6304\n",
            "Epoch 199/250\n",
            "178/178 [==============================] - 22s 119ms/step - loss: 0.9071 - mae: 0.6697 - val_loss: 6.7807 - val_mae: 1.9305\n",
            "Epoch 200/250\n",
            "178/178 [==============================] - 22s 121ms/step - loss: 1.0386 - mae: 0.7215 - val_loss: 8.3122 - val_mae: 2.1361\n",
            "Epoch 201/250\n",
            "178/178 [==============================] - 22s 119ms/step - loss: 0.9708 - mae: 0.6991 - val_loss: 6.2632 - val_mae: 1.8240\n",
            "Epoch 202/250\n",
            "178/178 [==============================] - 22s 119ms/step - loss: 1.0447 - mae: 0.7285 - val_loss: 6.5455 - val_mae: 1.8627\n",
            "Epoch 203/250\n",
            "178/178 [==============================] - 22s 121ms/step - loss: 1.1937 - mae: 0.7347 - val_loss: 7.4903 - val_mae: 2.0037\n",
            "Epoch 204/250\n",
            "178/178 [==============================] - 22s 119ms/step - loss: 1.0686 - mae: 0.7164 - val_loss: 7.1551 - val_mae: 1.9425\n",
            "Epoch 205/250\n",
            "178/178 [==============================] - 22s 120ms/step - loss: 1.1370 - mae: 0.7274 - val_loss: 7.4760 - val_mae: 1.8148\n",
            "Epoch 206/250\n",
            "178/178 [==============================] - 22s 120ms/step - loss: 1.2761 - mae: 0.7595 - val_loss: 5.7021 - val_mae: 1.7455\n",
            "Epoch 207/250\n",
            "178/178 [==============================] - 22s 119ms/step - loss: 1.7051 - mae: 0.7832 - val_loss: 5.3592 - val_mae: 1.6877\n",
            "Epoch 208/250\n",
            "178/178 [==============================] - 22s 119ms/step - loss: 1.3344 - mae: 0.7836 - val_loss: 4.9160 - val_mae: 1.6162\n",
            "Epoch 209/250\n",
            "178/178 [==============================] - 22s 120ms/step - loss: 1.1968 - mae: 0.7415 - val_loss: 5.6566 - val_mae: 1.7308\n",
            "Epoch 210/250\n",
            "178/178 [==============================] - 22s 120ms/step - loss: 0.9529 - mae: 0.6972 - val_loss: 5.6714 - val_mae: 1.7233\n",
            "Epoch 211/250\n",
            "178/178 [==============================] - 22s 120ms/step - loss: 1.0120 - mae: 0.6956 - val_loss: 5.2931 - val_mae: 1.6572\n",
            "Epoch 212/250\n",
            "178/178 [==============================] - 22s 120ms/step - loss: 0.9731 - mae: 0.6930 - val_loss: 7.1008 - val_mae: 1.9472\n",
            "Epoch 213/250\n",
            "178/178 [==============================] - 22s 121ms/step - loss: 1.3831 - mae: 0.7520 - val_loss: 6.1323 - val_mae: 1.7856\n",
            "Epoch 214/250\n",
            "178/178 [==============================] - 22s 120ms/step - loss: 1.3105 - mae: 0.7546 - val_loss: 7.3675 - val_mae: 1.9570\n",
            "Epoch 215/250\n",
            "178/178 [==============================] - 22s 120ms/step - loss: 1.0761 - mae: 0.7136 - val_loss: 6.1482 - val_mae: 1.7938\n",
            "Epoch 216/250\n",
            "178/178 [==============================] - 22s 121ms/step - loss: 1.1425 - mae: 0.7168 - val_loss: 5.7078 - val_mae: 1.7266\n",
            "Epoch 217/250\n",
            "178/178 [==============================] - 22s 119ms/step - loss: 1.1476 - mae: 0.7226 - val_loss: 5.0619 - val_mae: 1.6227\n",
            "Epoch 218/250\n",
            "178/178 [==============================] - 22s 120ms/step - loss: 1.1924 - mae: 0.7364 - val_loss: 5.0740 - val_mae: 1.6220\n",
            "Epoch 219/250\n",
            "178/178 [==============================] - 22s 121ms/step - loss: 1.7001 - mae: 0.7482 - val_loss: 5.6059 - val_mae: 1.7056\n",
            "Epoch 220/250\n",
            "178/178 [==============================] - 22s 119ms/step - loss: 2.0419 - mae: 0.8316 - val_loss: 5.9339 - val_mae: 1.7352\n",
            "Epoch 221/250\n",
            "178/178 [==============================] - 22s 119ms/step - loss: 1.3731 - mae: 0.7779 - val_loss: 5.8887 - val_mae: 1.7537\n",
            "Epoch 222/250\n",
            "178/178 [==============================] - 22s 120ms/step - loss: 1.1708 - mae: 0.7264 - val_loss: 5.3608 - val_mae: 1.6718\n",
            "Epoch 223/250\n",
            "178/178 [==============================] - 22s 120ms/step - loss: 1.4507 - mae: 0.7527 - val_loss: 5.5066 - val_mae: 1.6988\n",
            "Epoch 224/250\n",
            "178/178 [==============================] - 22s 120ms/step - loss: 1.1998 - mae: 0.7181 - val_loss: 5.0245 - val_mae: 1.6388\n",
            "Epoch 225/250\n",
            "178/178 [==============================] - 22s 119ms/step - loss: 1.5162 - mae: 0.7834 - val_loss: 6.5296 - val_mae: 1.8558\n",
            "Epoch 226/250\n",
            "178/178 [==============================] - 17s 95ms/step - loss: 1.1087 - mae: 0.7227 - val_loss: 5.7528 - val_mae: 1.7591\n",
            "Epoch 227/250\n",
            "178/178 [==============================] - 22s 120ms/step - loss: 1.0807 - mae: 0.7084 - val_loss: 5.8186 - val_mae: 1.7529\n",
            "Epoch 228/250\n",
            "178/178 [==============================] - 22s 120ms/step - loss: 1.7570 - mae: 0.7714 - val_loss: 8.7081 - val_mae: 2.1468\n",
            "Epoch 229/250\n",
            "178/178 [==============================] - 22s 120ms/step - loss: 1.4211 - mae: 0.7990 - val_loss: 6.4996 - val_mae: 1.8518\n",
            "Epoch 230/250\n",
            "178/178 [==============================] - 17s 94ms/step - loss: 1.4455 - mae: 0.8187 - val_loss: 5.0752 - val_mae: 1.6273\n",
            "Epoch 231/250\n",
            "178/178 [==============================] - 22s 121ms/step - loss: 1.4217 - mae: 0.8028 - val_loss: 4.9713 - val_mae: 1.6360\n",
            "Epoch 232/250\n",
            "178/178 [==============================] - 22s 120ms/step - loss: 1.3302 - mae: 0.7902 - val_loss: 5.0435 - val_mae: 1.6386\n",
            "Epoch 233/250\n",
            "178/178 [==============================] - 22s 120ms/step - loss: 1.3951 - mae: 0.8076 - val_loss: 5.1198 - val_mae: 1.6360\n",
            "Epoch 234/250\n",
            "178/178 [==============================] - 17s 94ms/step - loss: 1.2534 - mae: 0.7577 - val_loss: 5.2975 - val_mae: 1.6699\n",
            "Epoch 235/250\n",
            "178/178 [==============================] - 22s 119ms/step - loss: 1.1748 - mae: 0.7350 - val_loss: 5.2792 - val_mae: 1.6564\n",
            "Epoch 236/250\n",
            "178/178 [==============================] - 22s 120ms/step - loss: 1.1676 - mae: 0.7411 - val_loss: 4.7887 - val_mae: 1.5880\n",
            "Epoch 237/250\n",
            "178/178 [==============================] - 22s 119ms/step - loss: 1.0959 - mae: 0.7173 - val_loss: 6.0620 - val_mae: 1.7831\n",
            "Epoch 238/250\n",
            "178/178 [==============================] - 22s 121ms/step - loss: 0.9676 - mae: 0.6950 - val_loss: 5.5332 - val_mae: 1.7013\n",
            "Epoch 239/250\n",
            "178/178 [==============================] - 22s 121ms/step - loss: 1.1429 - mae: 0.7127 - val_loss: 5.7012 - val_mae: 1.7193\n",
            "Epoch 240/250\n",
            "178/178 [==============================] - 22s 120ms/step - loss: 1.0840 - mae: 0.6923 - val_loss: 6.3279 - val_mae: 1.8198\n",
            "Epoch 241/250\n",
            "178/178 [==============================] - 22s 120ms/step - loss: 1.0619 - mae: 0.6965 - val_loss: 5.8717 - val_mae: 1.7394\n",
            "Epoch 242/250\n",
            "178/178 [==============================] - 22s 121ms/step - loss: 1.2593 - mae: 0.7561 - val_loss: 5.2648 - val_mae: 1.6558\n",
            "Epoch 243/250\n",
            "178/178 [==============================] - 22s 120ms/step - loss: 1.2134 - mae: 0.7412 - val_loss: 4.8759 - val_mae: 1.6112\n",
            "Epoch 244/250\n",
            "178/178 [==============================] - 22s 120ms/step - loss: 1.0569 - mae: 0.7153 - val_loss: 5.1345 - val_mae: 1.6523\n",
            "Epoch 245/250\n",
            "178/178 [==============================] - 22s 120ms/step - loss: 1.1945 - mae: 0.7342 - val_loss: 4.3139 - val_mae: 1.5375\n",
            "Epoch 246/250\n",
            "178/178 [==============================] - 22s 120ms/step - loss: 1.1391 - mae: 0.7214 - val_loss: 4.3358 - val_mae: 1.5261\n",
            "Epoch 247/250\n",
            "178/178 [==============================] - 22s 120ms/step - loss: 1.1637 - mae: 0.7454 - val_loss: 5.1283 - val_mae: 1.6553\n",
            "Epoch 248/250\n",
            "178/178 [==============================] - 22s 119ms/step - loss: 1.2133 - mae: 0.7471 - val_loss: 5.2424 - val_mae: 1.6471\n",
            "Epoch 249/250\n",
            "178/178 [==============================] - 22s 121ms/step - loss: 1.1250 - mae: 0.7319 - val_loss: 5.1881 - val_mae: 1.6365\n",
            "Epoch 250/250\n",
            "178/178 [==============================] - 22s 120ms/step - loss: 1.0181 - mae: 0.7018 - val_loss: 5.0426 - val_mae: 1.5995\n"
          ]
        }
      ]
    },
    {
      "cell_type": "code",
      "source": [
        "loss = history.history['loss']\n",
        "val_loss = history.history['val_loss']\n",
        "mae = history.history['mae']\n",
        "val_mae = history.history['val_mae']\n",
        "\n",
        "\n",
        "epochs_x = range(len(loss))\n",
        "\n",
        "\n",
        "plt.plot(epochs_x, mae, 'o', color ='darkviolet', label='Training MAE')\n",
        "plt.plot(epochs_x, val_mae, 'k', label='Validation MAE')\n",
        "plt.title('Training and validation MeanAbsoluteError')\n",
        "plt.legend()\n",
        "\n",
        "plt.figure()\n",
        "plt.plot(epochs_x, loss, 'o', color ='darkviolet', label='Training loss')\n",
        "plt.plot(epochs_x, val_loss, 'k', label='Validation loss')\n",
        "plt.title('Training and validation loss')\n",
        "plt.legend()\n",
        "\n",
        "plt.show()"
      ],
      "metadata": {
        "id": "Y3K89-CM-dfg",
        "colab": {
          "base_uri": "https://localhost:8080/",
          "height": 887
        },
        "outputId": "87f64782-9f05-41a4-eb9a-06177f7554b4"
      },
      "execution_count": null,
      "outputs": [
        {
          "output_type": "display_data",
          "data": {
            "text/plain": [
              "<Figure size 640x480 with 1 Axes>"
            ],
            "image/png": "[encoded data removed]"
          },
          "metadata": {}
        },
        {
          "output_type": "display_data",
          "data": {
            "text/plain": [
              "<Figure size 640x480 with 1 Axes>"
            ],
            "image/png": "[encoded data removed]"
          },
          "metadata": {}
        }
      ]
    },
    {
      "cell_type": "code",
      "source": [],
      "metadata": {
        "id": "sI5JVEwwQsjc"
      },
      "execution_count": null,
      "outputs": []
    },
    {
      "cell_type": "code",
      "source": [
        "epochs_x"
      ],
      "metadata": {
        "id": "N_sP_ZmSY-Jv",
        "colab": {
          "base_uri": "https://localhost:8080/"
        },
        "outputId": "1f6182a9-f8d4-40db-ce99-c844c8b91e5b"
      },
      "execution_count": null,
      "outputs": [
        {
          "output_type": "execute_result",
          "data": {
            "text/plain": [
              "range(0, 250)"
            ]
          },
          "metadata": {},
          "execution_count": 20
        }
      ]
    },
    {
      "cell_type": "markdown",
      "source": [
        "#Download the model\n"
      ],
      "metadata": {
        "id": "R19IJQSYoW7J"
      }
    },
    {
      "cell_type": "code",
      "source": [
        "os.makedirs('/content/drive/MyDrive/All_Data_Project/cut_panoramic/Model', exist_ok=True)\n",
        "model.save('/content/drive/MyDrive/All_Data_Project/cut_panoramic/Model/Regression/6Re_All_1G_1e-4_16_0.2_250_New_Unfreez.h5')"
      ],
      "metadata": {
        "id": "sdMUIgz71-Ud"
      },
      "execution_count": null,
      "outputs": []
    },
    {
      "cell_type": "markdown",
      "source": [],
      "metadata": {
        "id": "n5YxZ-5QjQ0-"
      }
    },
    {
      "cell_type": "code",
      "source": [
        "# from google.colab import files\n",
        "# files.download('/content/drive/My Drive/cut_panoramic/Model/1.1_รอบแรก_Flimpano_Male125_250.h5')"
      ],
      "metadata": {
        "id": "P5eMxm1NV-oY"
      },
      "execution_count": null,
      "outputs": []
    },
    {
      "cell_type": "code",
      "source": [
        "\n"
      ],
      "metadata": {
        "id": "wY_pDlxkRwxS"
      },
      "execution_count": null,
      "outputs": []
    }
  ]
}