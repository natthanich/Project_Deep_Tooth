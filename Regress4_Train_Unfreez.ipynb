{
  "nbformat": 4,
  "nbformat_minor": 0,
  "metadata": {
    "colab": {
      "provenance": [],
      "machine_shape": "hm",
      "gpuType": "T4",
      "include_colab_link": true
    },
    "kernelspec": {
      "name": "python3",
      "display_name": "Python 3"
    },
    "language_info": {
      "name": "python"
    },
    "accelerator": "GPU",
    "gpuClass": "standard"
  },
  "cells": [
    {
      "cell_type": "markdown",
      "metadata": {
        "id": "view-in-github",
        "colab_type": "text"
      },
      "source": [
        "<a href=\"https://colab.research.google.com/github/natthanich/Project_Deep_Tooth/blob/main/Regress4_Train_Unfreez.ipynb\" target=\"_parent\"><img src=\"https://colab.research.google.com/assets/colab-badge.svg\" alt=\"Open In Colab\"/></a>"
      ]
    },
    {
      "cell_type": "markdown",
      "source": [
        "#เรียกใช้ CSV"
      ],
      "metadata": {
        "id": "ow7eWoNw6U-c"
      }
    },
    {
      "cell_type": "code",
      "execution_count": 1,
      "metadata": {
        "id": "z8o_VVNXzcL8"
      },
      "outputs": [],
      "source": [
        "import pandas as pd\n",
        "import shutil"
      ]
    },
    {
      "cell_type": "code",
      "source": [
        "from google.colab import drive\n",
        "drive.mount('/content/drive')"
      ],
      "metadata": {
        "colab": {
          "base_uri": "https://localhost:8080/"
        },
        "id": "1_2Fe8u81d5r",
        "outputId": "6a6d7dc8-026a-440f-ac21-a32eddd4a553"
      },
      "execution_count": 2,
      "outputs": [
        {
          "output_type": "stream",
          "name": "stdout",
          "text": [
            "Mounted at /content/drive\n"
          ]
        }
      ]
    },
    {
      "cell_type": "markdown",
      "source": [
        "#Imports"
      ],
      "metadata": {
        "id": "5qxePnnn7TGW"
      }
    },
    {
      "cell_type": "code",
      "source": [
        "from tensorflow.keras import models\n",
        "from tensorflow.keras import layers\n",
        "from tensorflow.keras import optimizers\n",
        "import os\n",
        "import glob\n",
        "import shutil\n",
        "import sys\n",
        "import numpy as np\n",
        "from skimage.io import imread\n",
        "import matplotlib.pyplot as plt\n",
        "from IPython.display import Image\n",
        "%matplotlib inline"
      ],
      "metadata": {
        "id": "D-hCRloc3t39"
      },
      "execution_count": 3,
      "outputs": []
    },
    {
      "cell_type": "code",
      "source": [
        "import tensorflow as tf\n",
        "from tensorflow.keras import Sequential\n",
        "from tensorflow.keras.layers import Dense\n",
        "from tensorflow.keras.optimizers import Adam\n",
        "from tensorflow.keras import backend as K"
      ],
      "metadata": {
        "id": "YZWXwjXeGxZP"
      },
      "execution_count": 4,
      "outputs": []
    },
    {
      "cell_type": "markdown",
      "source": [
        "#กำหนดค่าพารามิเตอร์\n"
      ],
      "metadata": {
        "id": "RooqSdBc7QHC"
      }
    },
    {
      "cell_type": "code",
      "source": [
        "batch_size = 16\n",
        "width = 150\n",
        "height = 150\n",
        "epochs = 250\n",
        "NUM_TRAIN = 2850\n",
        "NUM_TEST = 950\n",
        "dropout_rate = 0.2\n",
        "input_shape = (height, width, 3)"
      ],
      "metadata": {
        "id": "thDb7U9B3xOo"
      },
      "execution_count": 5,
      "outputs": []
    },
    {
      "cell_type": "markdown",
      "source": [
        "#Clone efficientnet repo\n"
      ],
      "metadata": {
        "id": "pumGmy6f3eSW"
      }
    },
    {
      "cell_type": "code",
      "source": [
        "#ดึงข้อมูลใน Github มาใช้\n",
        "import os\n",
        "%cd /content\n",
        "if not os.path.isdir(\"efficientnet_keras_transfer_learning\"):\n",
        " !git clone https://github.com/Wanita-8943/efficientnet_keras_transfer_learning\n",
        "%cd efficientnet_keras_transfer_learning/\n"
      ],
      "metadata": {
        "colab": {
          "base_uri": "https://localhost:8080/"
        },
        "id": "P7iy2f8n16p0",
        "outputId": "2885e7eb-b913-446f-a811-0af77366376a"
      },
      "execution_count": 6,
      "outputs": [
        {
          "output_type": "stream",
          "name": "stdout",
          "text": [
            "/content\n",
            "Cloning into 'efficientnet_keras_transfer_learning'...\n",
            "remote: Enumerating objects: 1100, done.\u001b[K\n",
            "remote: Counting objects: 100% (263/263), done.\u001b[K\n",
            "remote: Compressing objects: 100% (142/142), done.\u001b[K\n",
            "remote: Total 1100 (delta 133), reused 241 (delta 121), pack-reused 837\u001b[K\n",
            "Receiving objects: 100% (1100/1100), 14.10 MiB | 19.07 MiB/s, done.\n",
            "Resolving deltas: 100% (630/630), done.\n",
            "/content/efficientnet_keras_transfer_learning\n"
          ]
        }
      ]
    },
    {
      "cell_type": "code",
      "source": [
        "# Options: EfficientNetB0, EfficientNetB1, EfficientNetB2, EfficientNetB3\n",
        "# Higher the number, the more complex the model is.\n",
        "from efficientnet import EfficientNetB0 as Net\n",
        "from efficientnet import center_crop_and_resize, preprocess_input"
      ],
      "metadata": {
        "id": "tjZBRnfo3bN0"
      },
      "execution_count": 7,
      "outputs": []
    },
    {
      "cell_type": "code",
      "source": [
        "# loading pretrained conv base model\n",
        "# โหลดโมเดล มาโดยตัด output ของโมเดลออก เเต่ยังใช้ input อันเดิม\n",
        "# เเละโหลด weight ของโมเดล มาด้วยที่ชื่อว่า imagenet\n",
        "conv_base = Net(weights='imagenet', include_top=False, input_shape=input_shape)"
      ],
      "metadata": {
        "colab": {
          "base_uri": "https://localhost:8080/"
        },
        "id": "r8BN74_JJdfj",
        "outputId": "00fc59c4-24ff-446c-ae77-22af1f8b0cb3"
      },
      "execution_count": 8,
      "outputs": [
        {
          "output_type": "stream",
          "name": "stdout",
          "text": [
            "Downloading data from https://github.com/qubvel/efficientnet/releases/download/v0.0.1/efficientnet-b0_imagenet_1000_notop.h5\n",
            "16717576/16717576 [==============================] - 1s 0us/step\n"
          ]
        }
      ]
    },
    {
      "cell_type": "markdown",
      "source": [
        "#load model\n"
      ],
      "metadata": {
        "id": "PdNWyD-QYkzK"
      }
    },
    {
      "cell_type": "code",
      "source": [
        "import sys\n",
        "sys.path.append('/content/drive/MyDrive/All_Data_Project/cut_panoramic/Model/Regression/3Re_All_1G_1e-4_16_0.2_250.h5')\n",
        "\n",
        "from efficientnet.layers import Swish, DropConnect\n",
        "from efficientnet.model import ConvKernalInitializer\n",
        "from tensorflow.keras.utils import get_custom_objects\n",
        "\n",
        "get_custom_objects().update({\n",
        "    'ConvKernalInitializer': ConvKernalInitializer,\n",
        "    'Swish': Swish,\n",
        "    'DropConnect':DropConnect\n",
        "})"
      ],
      "metadata": {
        "id": "_gPnx2UvYf5A"
      },
      "execution_count": 9,
      "outputs": []
    },
    {
      "cell_type": "code",
      "source": [
        "#load model \n",
        "from tensorflow.keras.models import load_model\n",
        "model = load_model('/content/drive/MyDrive/All_Data_Project/cut_panoramic/Model/Regression/3Re_All_1G_1e-4_16_0.2_250.h5')\n",
        "height = width = model.input_shape[1]"
      ],
      "metadata": {
        "id": "Nu93WzFUYm9e"
      },
      "execution_count": 10,
      "outputs": []
    },
    {
      "cell_type": "code",
      "source": [
        "model.summary()"
      ],
      "metadata": {
        "id": "gp5EbyyXYvc6",
        "colab": {
          "base_uri": "https://localhost:8080/"
        },
        "outputId": "55ccd749-e819-4b61-8338-d51de268ed67"
      },
      "execution_count": 11,
      "outputs": [
        {
          "output_type": "stream",
          "name": "stdout",
          "text": [
            "Model: \"sequential\"\n",
            "_________________________________________________________________\n",
            " Layer (type)                Output Shape              Param #   \n",
            "=================================================================\n",
            " efficientnet-b0 (Functional  (None, 5, 5, 1280)       4049564   \n",
            " )                                                               \n",
            "                                                                 \n",
            " gap (GlobalMaxPooling2D)    (None, 1280)              0         \n",
            "                                                                 \n",
            " dropout_out (Dropout)       (None, 1280)              0         \n",
            "                                                                 \n",
            " fc_out (Dense)              (None, 19)                24339     \n",
            "                                                                 \n",
            " dense (Dense)               (None, 1)                 20        \n",
            "                                                                 \n",
            "=================================================================\n",
            "Total params: 4,073,923\n",
            "Trainable params: 24,359\n",
            "Non-trainable params: 4,049,564\n",
            "_________________________________________________________________\n"
          ]
        }
      ]
    },
    {
      "cell_type": "code",
      "source": [
        "df = pd.read_csv (r'/content/drive/MyDrive/All_Data_Project/cut_panoramic/Data/All_Re.csv')\n",
        "df"
      ],
      "metadata": {
        "id": "q1Dc131_Y3uA",
        "colab": {
          "base_uri": "https://localhost:8080/",
          "height": 423
        },
        "outputId": "dd676a1c-72ca-4903-861e-21415f8fc137"
      },
      "execution_count": 12,
      "outputs": [
        {
          "output_type": "execute_result",
          "data": {
            "text/plain": [
              "      Fig_Age  Age(year) Class  Class_Re       Filename  \\\n",
              "0           1          7  Y07F         1         V1.jpg   \n",
              "1           2          7  Y07F         1    Flip_V1.jpg   \n",
              "2           3          7  Y07F         1         V2.jpg   \n",
              "3           4          7  Y07F         1    Flip_V2.jpg   \n",
              "4           5          7  Y07F         1         V3.jpg   \n",
              "...       ...        ...   ...       ...            ...   \n",
              "4745      121         25  Y25M        19  Flip_J463.jpg   \n",
              "4746      122         25  Y25M        19       J464.jpg   \n",
              "4747      123         25  Y25M        19  Flip_J464.jpg   \n",
              "4748      124         25  Y25M        19       J465.jpg   \n",
              "4749      125         25  Y25M        19  Flip_J465.jpg   \n",
              "\n",
              "                                          Path_filename     Sex Floder  \n",
              "0     /content/drive/My Drive/All_Data_Project/TVT_G...  Female   Both  \n",
              "1     /content/drive/My Drive/All_Data_Project/TVT_G...  Female   Both  \n",
              "2     /content/drive/My Drive/All_Data_Project/TVT_G...  Female   Both  \n",
              "3     /content/drive/My Drive/All_Data_Project/TVT_G...  Female   Both  \n",
              "4     /content/drive/My Drive/All_Data_Project/TVT_G...  Female   Both  \n",
              "...                                                 ...     ...    ...  \n",
              "4745  /content/drive/My Drive/All_Data_Project/TVT_G...    Male   Both  \n",
              "4746  /content/drive/My Drive/All_Data_Project/TVT_G...    Male   Both  \n",
              "4747  /content/drive/My Drive/All_Data_Project/TVT_G...    Male   Both  \n",
              "4748  /content/drive/My Drive/All_Data_Project/TVT_G...    Male   Both  \n",
              "4749  /content/drive/My Drive/All_Data_Project/TVT_G...    Male   Both  \n",
              "\n",
              "[4750 rows x 8 columns]"
            ],
            "text/html": [
              "\n",
              "  <div id=\"df-1bff8eb7-dab3-416c-b887-a00233272d4b\">\n",
              "    <div class=\"colab-df-container\">\n",
              "      <div>\n",
              "<style scoped>\n",
              "    .dataframe tbody tr th:only-of-type {\n",
              "        vertical-align: middle;\n",
              "    }\n",
              "\n",
              "    .dataframe tbody tr th {\n",
              "        vertical-align: top;\n",
              "    }\n",
              "\n",
              "    .dataframe thead th {\n",
              "        text-align: right;\n",
              "    }\n",
              "</style>\n",
              "<table border=\"1\" class=\"dataframe\">\n",
              "  <thead>\n",
              "    <tr style=\"text-align: right;\">\n",
              "      <th></th>\n",
              "      <th>Fig_Age</th>\n",
              "      <th>Age(year)</th>\n",
              "      <th>Class</th>\n",
              "      <th>Class_Re</th>\n",
              "      <th>Filename</th>\n",
              "      <th>Path_filename</th>\n",
              "      <th>Sex</th>\n",
              "      <th>Floder</th>\n",
              "    </tr>\n",
              "  </thead>\n",
              "  <tbody>\n",
              "    <tr>\n",
              "      <th>0</th>\n",
              "      <td>1</td>\n",
              "      <td>7</td>\n",
              "      <td>Y07F</td>\n",
              "      <td>1</td>\n",
              "      <td>V1.jpg</td>\n",
              "      <td>/content/drive/My Drive/All_Data_Project/TVT_G...</td>\n",
              "      <td>Female</td>\n",
              "      <td>Both</td>\n",
              "    </tr>\n",
              "    <tr>\n",
              "      <th>1</th>\n",
              "      <td>2</td>\n",
              "      <td>7</td>\n",
              "      <td>Y07F</td>\n",
              "      <td>1</td>\n",
              "      <td>Flip_V1.jpg</td>\n",
              "      <td>/content/drive/My Drive/All_Data_Project/TVT_G...</td>\n",
              "      <td>Female</td>\n",
              "      <td>Both</td>\n",
              "    </tr>\n",
              "    <tr>\n",
              "      <th>2</th>\n",
              "      <td>3</td>\n",
              "      <td>7</td>\n",
              "      <td>Y07F</td>\n",
              "      <td>1</td>\n",
              "      <td>V2.jpg</td>\n",
              "      <td>/content/drive/My Drive/All_Data_Project/TVT_G...</td>\n",
              "      <td>Female</td>\n",
              "      <td>Both</td>\n",
              "    </tr>\n",
              "    <tr>\n",
              "      <th>3</th>\n",
              "      <td>4</td>\n",
              "      <td>7</td>\n",
              "      <td>Y07F</td>\n",
              "      <td>1</td>\n",
              "      <td>Flip_V2.jpg</td>\n",
              "      <td>/content/drive/My Drive/All_Data_Project/TVT_G...</td>\n",
              "      <td>Female</td>\n",
              "      <td>Both</td>\n",
              "    </tr>\n",
              "    <tr>\n",
              "      <th>4</th>\n",
              "      <td>5</td>\n",
              "      <td>7</td>\n",
              "      <td>Y07F</td>\n",
              "      <td>1</td>\n",
              "      <td>V3.jpg</td>\n",
              "      <td>/content/drive/My Drive/All_Data_Project/TVT_G...</td>\n",
              "      <td>Female</td>\n",
              "      <td>Both</td>\n",
              "    </tr>\n",
              "    <tr>\n",
              "      <th>...</th>\n",
              "      <td>...</td>\n",
              "      <td>...</td>\n",
              "      <td>...</td>\n",
              "      <td>...</td>\n",
              "      <td>...</td>\n",
              "      <td>...</td>\n",
              "      <td>...</td>\n",
              "      <td>...</td>\n",
              "    </tr>\n",
              "    <tr>\n",
              "      <th>4745</th>\n",
              "      <td>121</td>\n",
              "      <td>25</td>\n",
              "      <td>Y25M</td>\n",
              "      <td>19</td>\n",
              "      <td>Flip_J463.jpg</td>\n",
              "      <td>/content/drive/My Drive/All_Data_Project/TVT_G...</td>\n",
              "      <td>Male</td>\n",
              "      <td>Both</td>\n",
              "    </tr>\n",
              "    <tr>\n",
              "      <th>4746</th>\n",
              "      <td>122</td>\n",
              "      <td>25</td>\n",
              "      <td>Y25M</td>\n",
              "      <td>19</td>\n",
              "      <td>J464.jpg</td>\n",
              "      <td>/content/drive/My Drive/All_Data_Project/TVT_G...</td>\n",
              "      <td>Male</td>\n",
              "      <td>Both</td>\n",
              "    </tr>\n",
              "    <tr>\n",
              "      <th>4747</th>\n",
              "      <td>123</td>\n",
              "      <td>25</td>\n",
              "      <td>Y25M</td>\n",
              "      <td>19</td>\n",
              "      <td>Flip_J464.jpg</td>\n",
              "      <td>/content/drive/My Drive/All_Data_Project/TVT_G...</td>\n",
              "      <td>Male</td>\n",
              "      <td>Both</td>\n",
              "    </tr>\n",
              "    <tr>\n",
              "      <th>4748</th>\n",
              "      <td>124</td>\n",
              "      <td>25</td>\n",
              "      <td>Y25M</td>\n",
              "      <td>19</td>\n",
              "      <td>J465.jpg</td>\n",
              "      <td>/content/drive/My Drive/All_Data_Project/TVT_G...</td>\n",
              "      <td>Male</td>\n",
              "      <td>Both</td>\n",
              "    </tr>\n",
              "    <tr>\n",
              "      <th>4749</th>\n",
              "      <td>125</td>\n",
              "      <td>25</td>\n",
              "      <td>Y25M</td>\n",
              "      <td>19</td>\n",
              "      <td>Flip_J465.jpg</td>\n",
              "      <td>/content/drive/My Drive/All_Data_Project/TVT_G...</td>\n",
              "      <td>Male</td>\n",
              "      <td>Both</td>\n",
              "    </tr>\n",
              "  </tbody>\n",
              "</table>\n",
              "<p>4750 rows × 8 columns</p>\n",
              "</div>\n",
              "      <button class=\"colab-df-convert\" onclick=\"convertToInteractive('df-1bff8eb7-dab3-416c-b887-a00233272d4b')\"\n",
              "              title=\"Convert this dataframe to an interactive table.\"\n",
              "              style=\"display:none;\">\n",
              "        \n",
              "  <svg xmlns=\"http://www.w3.org/2000/svg\" height=\"24px\"viewBox=\"0 0 24 24\"\n",
              "       width=\"24px\">\n",
              "    <path d=\"M0 0h24v24H0V0z\" fill=\"none\"/>\n",
              "    <path d=\"M18.56 5.44l.94 2.06.94-2.06 2.06-.94-2.06-.94-.94-2.06-.94 2.06-2.06.94zm-11 1L8.5 8.5l.94-2.06 2.06-.94-2.06-.94L8.5 2.5l-.94 2.06-2.06.94zm10 10l.94 2.06.94-2.06 2.06-.94-2.06-.94-.94-2.06-.94 2.06-2.06.94z\"/><path d=\"M17.41 7.96l-1.37-1.37c-.4-.4-.92-.59-1.43-.59-.52 0-1.04.2-1.43.59L10.3 9.45l-7.72 7.72c-.78.78-.78 2.05 0 2.83L4 21.41c.39.39.9.59 1.41.59.51 0 1.02-.2 1.41-.59l7.78-7.78 2.81-2.81c.8-.78.8-2.07 0-2.86zM5.41 20L4 18.59l7.72-7.72 1.47 1.35L5.41 20z\"/>\n",
              "  </svg>\n",
              "      </button>\n",
              "      \n",
              "  <style>\n",
              "    .colab-df-container {\n",
              "      display:flex;\n",
              "      flex-wrap:wrap;\n",
              "      gap: 12px;\n",
              "    }\n",
              "\n",
              "    .colab-df-convert {\n",
              "      background-color: #E8F0FE;\n",
              "      border: none;\n",
              "      border-radius: 50%;\n",
              "      cursor: pointer;\n",
              "      display: none;\n",
              "      fill: #1967D2;\n",
              "      height: 32px;\n",
              "      padding: 0 0 0 0;\n",
              "      width: 32px;\n",
              "    }\n",
              "\n",
              "    .colab-df-convert:hover {\n",
              "      background-color: #E2EBFA;\n",
              "      box-shadow: 0px 1px 2px rgba(60, 64, 67, 0.3), 0px 1px 3px 1px rgba(60, 64, 67, 0.15);\n",
              "      fill: #174EA6;\n",
              "    }\n",
              "\n",
              "    [theme=dark] .colab-df-convert {\n",
              "      background-color: #3B4455;\n",
              "      fill: #D2E3FC;\n",
              "    }\n",
              "\n",
              "    [theme=dark] .colab-df-convert:hover {\n",
              "      background-color: #434B5C;\n",
              "      box-shadow: 0px 1px 3px 1px rgba(0, 0, 0, 0.15);\n",
              "      filter: drop-shadow(0px 1px 2px rgba(0, 0, 0, 0.3));\n",
              "      fill: #FFFFFF;\n",
              "    }\n",
              "  </style>\n",
              "\n",
              "      <script>\n",
              "        const buttonEl =\n",
              "          document.querySelector('#df-1bff8eb7-dab3-416c-b887-a00233272d4b button.colab-df-convert');\n",
              "        buttonEl.style.display =\n",
              "          google.colab.kernel.accessAllowed ? 'block' : 'none';\n",
              "\n",
              "        async function convertToInteractive(key) {\n",
              "          const element = document.querySelector('#df-1bff8eb7-dab3-416c-b887-a00233272d4b');\n",
              "          const dataTable =\n",
              "            await google.colab.kernel.invokeFunction('convertToInteractive',\n",
              "                                                     [key], {});\n",
              "          if (!dataTable) return;\n",
              "\n",
              "          const docLinkHtml = 'Like what you see? Visit the ' +\n",
              "            '<a target=\"_blank\" href=https://colab.research.google.com/notebooks/data_table.ipynb>data table notebook</a>'\n",
              "            + ' to learn more about interactive tables.';\n",
              "          element.innerHTML = '';\n",
              "          dataTable['output_type'] = 'display_data';\n",
              "          await google.colab.output.renderOutput(dataTable, element);\n",
              "          const docLink = document.createElement('div');\n",
              "          docLink.innerHTML = docLinkHtml;\n",
              "          element.appendChild(docLink);\n",
              "        }\n",
              "      </script>\n",
              "    </div>\n",
              "  </div>\n",
              "  "
            ]
          },
          "metadata": {},
          "execution_count": 12
        }
      ]
    },
    {
      "cell_type": "code",
      "source": [
        "train = df[df['Fig_Age'].between(1,75)]\n",
        "val = df[df['Fig_Age'].between(76,100)]"
      ],
      "metadata": {
        "id": "Z1zBw01Gl8Ac"
      },
      "execution_count": 13,
      "outputs": []
    },
    {
      "cell_type": "code",
      "source": [
        "DATA_PATH = \"/content/drive/MyDrive/All_Data_Project/TVT_Gender\"\n",
        "os.chdir(DATA_PATH)\n",
        "train_dir = os.path.join(DATA_PATH, 'train')\n",
        "print(train_dir)\n",
        "validation_dir = os.path.join(DATA_PATH, 'validation')\n",
        "print(validation_dir)"
      ],
      "metadata": {
        "colab": {
          "base_uri": "https://localhost:8080/"
        },
        "id": "QL0g-8iOnMC4",
        "outputId": "75da66ec-a606-4070-f7ec-9c141fc0bc08"
      },
      "execution_count": 14,
      "outputs": [
        {
          "output_type": "stream",
          "name": "stdout",
          "text": [
            "/content/drive/MyDrive/All_Data_Project/TVT_Gender/train\n",
            "/content/drive/MyDrive/All_Data_Project/TVT_Gender/validation\n"
          ]
        }
      ]
    },
    {
      "cell_type": "markdown",
      "source": [
        "\n",
        "#Train"
      ],
      "metadata": {
        "id": "bWEnlTSwazL5"
      }
    },
    {
      "cell_type": "code",
      "source": [
        "# Train ด้วย ImageDataGenerator ของ Keras ซึ่งจะเพิ่มข้อมูลเสริมระหว่างการฝึกเพื่อลดโอกาสเกิด overfitting\n",
        "#overfitting เกิดจากข้อมูลที่ซับซ้อนกันเกินไป\n",
        "from tensorflow.keras.preprocessing.image import ImageDataGenerator\n",
        "\n",
        "train_datagen = ImageDataGenerator(\n",
        "      rescale=1./255, #โมเดลส่วนใหญ่ต้องใช้ RGB ในช่วง 0–1\n",
        "      rotation_range=40,\n",
        "      width_shift_range=0.2,\n",
        "      height_shift_range=0.2,\n",
        "      shear_range=0.2,\n",
        "      zoom_range=0.2,\n",
        "      horizontal_flip=True,\n",
        "      fill_mode='nearest')\n",
        "\n",
        "# Note that the validation data should not be augmented!\n",
        "test_datagen = ImageDataGenerator(rescale=1./255)"
      ],
      "metadata": {
        "id": "xGPrsn9no_pa"
      },
      "execution_count": 15,
      "outputs": []
    },
    {
      "cell_type": "code",
      "source": [
        "train_generator = train_datagen.flow_from_dataframe(\n",
        "        dataframe = train,\n",
        "        directory = train_dir,\n",
        "        x_col = 'Path_filename',\n",
        "        y_col = 'Age(year)',\n",
        "        class_mode = 'other',\n",
        "        target_size=(height, width),\n",
        "        batch_size=batch_size)\n",
        "\n",
        "validation_generator = test_datagen.flow_from_dataframe(\n",
        "        dataframe = val,\n",
        "        directory = validation_dir,\n",
        "        x_col = 'Path_filename',\n",
        "        y_col = 'Age(year)',\n",
        "        class_mode = 'other',\n",
        "        target_size=(height, width),\n",
        "        batch_size=batch_size)"
      ],
      "metadata": {
        "colab": {
          "base_uri": "https://localhost:8080/"
        },
        "id": "8nVlmAszntK_",
        "outputId": "ba381519-70bb-49f5-a9f4-233c7035cdbd"
      },
      "execution_count": 16,
      "outputs": [
        {
          "output_type": "stream",
          "name": "stdout",
          "text": [
            "Found 2850 validated image filenames.\n",
            "Found 950 validated image filenames.\n"
          ]
        }
      ]
    },
    {
      "cell_type": "code",
      "source": [
        "# multiply_16\n",
        "# set 'multiply_16' and following layers trainable\n",
        "model.trainable = True\n",
        "\n",
        "set_trainable = False\n",
        "for layer in conv_base.layers:\n",
        "    if layer.name == 'multiply_16':\n",
        "        set_trainable = True\n",
        "    if set_trainable:\n",
        "        layer.trainable = True\n",
        "    else:\n",
        "        layer.trainable = False  "
      ],
      "metadata": {
        "id": "RY14olxmJj92"
      },
      "execution_count": 17,
      "outputs": []
    },
    {
      "cell_type": "code",
      "source": [
        "model.summary()"
      ],
      "metadata": {
        "colab": {
          "base_uri": "https://localhost:8080/"
        },
        "id": "zzCdn3X4Jm_E",
        "outputId": "4062e936-458a-4980-e7ec-04fce698508c"
      },
      "execution_count": 18,
      "outputs": [
        {
          "output_type": "stream",
          "name": "stdout",
          "text": [
            "Model: \"sequential\"\n",
            "_________________________________________________________________\n",
            " Layer (type)                Output Shape              Param #   \n",
            "=================================================================\n",
            " efficientnet-b0 (Functional  (None, 5, 5, 1280)       4049564   \n",
            " )                                                               \n",
            "                                                                 \n",
            " gap (GlobalMaxPooling2D)    (None, 1280)              0         \n",
            "                                                                 \n",
            " dropout_out (Dropout)       (None, 1280)              0         \n",
            "                                                                 \n",
            " fc_out (Dense)              (None, 19)                24339     \n",
            "                                                                 \n",
            " dense (Dense)               (None, 1)                 20        \n",
            "                                                                 \n",
            "=================================================================\n",
            "Total params: 4,073,923\n",
            "Trainable params: 4,031,907\n",
            "Non-trainable params: 42,016\n",
            "_________________________________________________________________\n"
          ]
        }
      ]
    },
    {
      "cell_type": "code",
      "source": [
        "model.compile(loss='mse',\n",
        "          optimizer=Adam(learning_rate=1e-4),\n",
        "          metrics=['mae'])\n",
        "history = model.fit_generator(\n",
        "      train_generator,\n",
        "      steps_per_epoch= NUM_TRAIN //batch_size,\n",
        "      epochs=epochs,\n",
        "      validation_data=validation_generator,\n",
        "      validation_steps= NUM_TEST //batch_size,\n",
        "      verbose=1,\n",
        "      use_multiprocessing=True,\n",
        "      workers=4)"
      ],
      "metadata": {
        "id": "N6qUmmF856ZE",
        "outputId": "1913413a-9b9f-4630-85e5-6eda32c156d4",
        "colab": {
          "base_uri": "https://localhost:8080/"
        }
      },
      "execution_count": 19,
      "outputs": [
        {
          "output_type": "stream",
          "name": "stderr",
          "text": [
            "<ipython-input-19-f59104fd3985>:4: UserWarning: `Model.fit_generator` is deprecated and will be removed in a future version. Please use `Model.fit`, which supports generators.\n",
            "  history = model.fit_generator(\n"
          ]
        },
        {
          "output_type": "stream",
          "name": "stdout",
          "text": [
            "Epoch 1/250\n",
            "178/178 [==============================] - 790s 4s/step - loss: 29.9981 - mae: 4.7354 - val_loss: 29.9037 - val_mae: 4.7299\n",
            "Epoch 2/250\n",
            "178/178 [==============================] - 21s 116ms/step - loss: 29.9850 - mae: 4.7379 - val_loss: 30.0424 - val_mae: 4.7373\n",
            "Epoch 3/250\n",
            "178/178 [==============================] - 21s 116ms/step - loss: 30.0087 - mae: 4.7375 - val_loss: 30.0180 - val_mae: 4.7363\n",
            "Epoch 4/250\n",
            "178/178 [==============================] - 21s 117ms/step - loss: 30.0397 - mae: 4.7411 - val_loss: 29.9407 - val_mae: 4.7310\n",
            "Epoch 5/250\n",
            "178/178 [==============================] - 21s 116ms/step - loss: 30.0455 - mae: 4.7404 - val_loss: 29.9947 - val_mae: 4.7384\n",
            "Epoch 6/250\n",
            "178/178 [==============================] - 21s 117ms/step - loss: 28.1387 - mae: 4.4967 - val_loss: 23.9260 - val_mae: 3.7361\n",
            "Epoch 7/250\n",
            "178/178 [==============================] - 21s 118ms/step - loss: 18.8116 - mae: 3.4110 - val_loss: 28.2243 - val_mae: 4.0890\n",
            "Epoch 8/250\n",
            "178/178 [==============================] - 21s 118ms/step - loss: 17.8576 - mae: 3.3265 - val_loss: 25.5834 - val_mae: 3.8974\n",
            "Epoch 9/250\n",
            "178/178 [==============================] - 21s 117ms/step - loss: 17.7325 - mae: 3.3162 - val_loss: 29.5328 - val_mae: 4.1697\n",
            "Epoch 10/250\n",
            "178/178 [==============================] - 21s 118ms/step - loss: 17.1791 - mae: 3.2476 - val_loss: 32.7656 - val_mae: 4.4845\n",
            "Epoch 11/250\n",
            "178/178 [==============================] - 21s 118ms/step - loss: 16.8008 - mae: 3.2058 - val_loss: 24.1074 - val_mae: 3.8535\n",
            "Epoch 12/250\n",
            "178/178 [==============================] - 21s 117ms/step - loss: 16.3059 - mae: 3.1363 - val_loss: 28.1167 - val_mae: 4.1688\n",
            "Epoch 13/250\n",
            "178/178 [==============================] - 21s 118ms/step - loss: 15.9404 - mae: 3.0796 - val_loss: 26.2084 - val_mae: 3.9445\n",
            "Epoch 14/250\n",
            "178/178 [==============================] - 21s 118ms/step - loss: 15.6757 - mae: 3.0234 - val_loss: 23.9152 - val_mae: 3.7743\n",
            "Epoch 15/250\n",
            "178/178 [==============================] - 21s 118ms/step - loss: 15.3922 - mae: 2.9973 - val_loss: 30.2404 - val_mae: 4.3806\n",
            "Epoch 16/250\n",
            "178/178 [==============================] - 21s 118ms/step - loss: 15.1374 - mae: 2.9617 - val_loss: 19.7937 - val_mae: 3.3564\n",
            "Epoch 17/250\n",
            "178/178 [==============================] - 22s 118ms/step - loss: 15.0321 - mae: 2.9425 - val_loss: 20.8493 - val_mae: 3.4775\n",
            "Epoch 18/250\n",
            "178/178 [==============================] - 21s 118ms/step - loss: 14.7662 - mae: 2.9051 - val_loss: 19.3231 - val_mae: 3.3128\n",
            "Epoch 19/250\n",
            "178/178 [==============================] - 22s 118ms/step - loss: 14.6668 - mae: 2.8861 - val_loss: 20.2908 - val_mae: 3.4288\n",
            "Epoch 20/250\n",
            "178/178 [==============================] - 22s 118ms/step - loss: 14.3964 - mae: 2.8375 - val_loss: 22.7331 - val_mae: 3.6946\n",
            "Epoch 21/250\n",
            "178/178 [==============================] - 21s 118ms/step - loss: 14.3055 - mae: 2.8309 - val_loss: 25.6624 - val_mae: 4.0152\n",
            "Epoch 22/250\n",
            "178/178 [==============================] - 22s 119ms/step - loss: 14.0501 - mae: 2.7861 - val_loss: 18.6366 - val_mae: 3.3150\n",
            "Epoch 23/250\n",
            "178/178 [==============================] - 22s 118ms/step - loss: 14.0739 - mae: 2.7823 - val_loss: 21.9457 - val_mae: 3.6790\n",
            "Epoch 24/250\n",
            "178/178 [==============================] - 21s 118ms/step - loss: 13.8623 - mae: 2.7700 - val_loss: 18.4358 - val_mae: 3.3270\n",
            "Epoch 25/250\n",
            "178/178 [==============================] - 22s 119ms/step - loss: 13.7209 - mae: 2.7540 - val_loss: 17.3701 - val_mae: 3.1747\n",
            "Epoch 26/250\n",
            "178/178 [==============================] - 21s 118ms/step - loss: 13.4096 - mae: 2.6909 - val_loss: 19.0808 - val_mae: 3.3818\n",
            "Epoch 27/250\n",
            "178/178 [==============================] - 21s 118ms/step - loss: 13.3681 - mae: 2.6841 - val_loss: 19.7627 - val_mae: 3.5383\n",
            "Epoch 28/250\n",
            "178/178 [==============================] - 22s 119ms/step - loss: 13.3820 - mae: 2.7118 - val_loss: 18.3522 - val_mae: 3.3293\n",
            "Epoch 29/250\n",
            "178/178 [==============================] - 21s 118ms/step - loss: 13.0456 - mae: 2.6549 - val_loss: 20.2085 - val_mae: 3.5087\n",
            "Epoch 30/250\n",
            "178/178 [==============================] - 21s 118ms/step - loss: 12.7838 - mae: 2.6163 - val_loss: 20.8776 - val_mae: 3.6008\n",
            "Epoch 31/250\n",
            "178/178 [==============================] - 22s 119ms/step - loss: 12.6954 - mae: 2.6075 - val_loss: 22.1643 - val_mae: 3.6540\n",
            "Epoch 32/250\n",
            "178/178 [==============================] - 21s 118ms/step - loss: 12.4565 - mae: 2.5669 - val_loss: 19.4443 - val_mae: 3.4096\n",
            "Epoch 33/250\n",
            "178/178 [==============================] - 21s 118ms/step - loss: 12.4337 - mae: 2.5648 - val_loss: 15.9148 - val_mae: 3.0068\n",
            "Epoch 34/250\n",
            "178/178 [==============================] - 21s 118ms/step - loss: 12.2730 - mae: 2.5389 - val_loss: 16.8872 - val_mae: 3.1366\n",
            "Epoch 35/250\n",
            "178/178 [==============================] - 22s 119ms/step - loss: 12.1299 - mae: 2.5195 - val_loss: 25.1953 - val_mae: 3.9653\n",
            "Epoch 36/250\n",
            "178/178 [==============================] - 21s 118ms/step - loss: 12.0509 - mae: 2.5057 - val_loss: 15.4656 - val_mae: 2.9339\n",
            "Epoch 37/250\n",
            "178/178 [==============================] - 22s 119ms/step - loss: 11.8834 - mae: 2.4804 - val_loss: 19.1879 - val_mae: 3.4474\n",
            "Epoch 38/250\n",
            "178/178 [==============================] - 21s 117ms/step - loss: 11.6160 - mae: 2.4458 - val_loss: 14.5427 - val_mae: 2.9041\n",
            "Epoch 39/250\n",
            "178/178 [==============================] - 17s 92ms/step - loss: 11.5909 - mae: 2.4476 - val_loss: 17.7499 - val_mae: 3.2530\n",
            "Epoch 40/250\n",
            "178/178 [==============================] - 22s 118ms/step - loss: 11.3929 - mae: 2.4130 - val_loss: 12.2988 - val_mae: 2.6121\n",
            "Epoch 41/250\n",
            "178/178 [==============================] - 21s 117ms/step - loss: 11.2484 - mae: 2.4039 - val_loss: 13.3620 - val_mae: 2.7743\n",
            "Epoch 42/250\n",
            "178/178 [==============================] - 22s 119ms/step - loss: 11.1235 - mae: 2.3830 - val_loss: 14.1170 - val_mae: 2.8986\n",
            "Epoch 43/250\n",
            "178/178 [==============================] - 22s 118ms/step - loss: 11.0434 - mae: 2.3747 - val_loss: 16.3839 - val_mae: 3.1340\n",
            "Epoch 44/250\n",
            "178/178 [==============================] - 21s 117ms/step - loss: 10.9936 - mae: 2.3732 - val_loss: 13.6032 - val_mae: 2.8257\n",
            "Epoch 45/250\n",
            "178/178 [==============================] - 22s 119ms/step - loss: 10.9529 - mae: 2.3837 - val_loss: 17.4273 - val_mae: 3.2904\n",
            "Epoch 46/250\n",
            "178/178 [==============================] - 21s 118ms/step - loss: 10.6619 - mae: 2.3274 - val_loss: 15.3297 - val_mae: 2.9833\n",
            "Epoch 47/250\n",
            "178/178 [==============================] - 22s 118ms/step - loss: 10.5191 - mae: 2.3107 - val_loss: 13.4548 - val_mae: 2.7565\n",
            "Epoch 48/250\n",
            "178/178 [==============================] - 22s 119ms/step - loss: 10.3795 - mae: 2.2910 - val_loss: 17.3194 - val_mae: 3.2678\n",
            "Epoch 49/250\n",
            "178/178 [==============================] - 21s 118ms/step - loss: 10.3180 - mae: 2.2836 - val_loss: 14.2357 - val_mae: 2.8681\n",
            "Epoch 50/250\n",
            "178/178 [==============================] - 21s 118ms/step - loss: 10.1225 - mae: 2.2555 - val_loss: 13.9341 - val_mae: 2.7904\n",
            "Epoch 51/250\n",
            "178/178 [==============================] - 22s 119ms/step - loss: 10.1794 - mae: 2.2722 - val_loss: 15.0055 - val_mae: 2.9769\n",
            "Epoch 52/250\n",
            "178/178 [==============================] - 21s 118ms/step - loss: 10.0672 - mae: 2.2705 - val_loss: 17.0253 - val_mae: 3.0915\n",
            "Epoch 53/250\n",
            "178/178 [==============================] - 21s 118ms/step - loss: 9.8452 - mae: 2.2287 - val_loss: 17.2732 - val_mae: 3.2479\n",
            "Epoch 54/250\n",
            "178/178 [==============================] - 22s 120ms/step - loss: 9.7700 - mae: 2.2204 - val_loss: 14.1343 - val_mae: 2.8955\n",
            "Epoch 55/250\n",
            "178/178 [==============================] - 22s 120ms/step - loss: 9.6411 - mae: 2.2061 - val_loss: 11.4823 - val_mae: 2.5548\n",
            "Epoch 56/250\n",
            "178/178 [==============================] - 22s 120ms/step - loss: 9.5311 - mae: 2.1856 - val_loss: 11.7189 - val_mae: 2.5968\n",
            "Epoch 57/250\n",
            "178/178 [==============================] - 22s 124ms/step - loss: 9.4097 - mae: 2.1674 - val_loss: 13.5128 - val_mae: 2.8384\n",
            "Epoch 58/250\n",
            "178/178 [==============================] - 23s 124ms/step - loss: 9.3181 - mae: 2.1615 - val_loss: 11.9449 - val_mae: 2.6573\n",
            "Epoch 59/250\n",
            "178/178 [==============================] - 22s 119ms/step - loss: 9.2566 - mae: 2.1492 - val_loss: 12.5902 - val_mae: 2.7605\n",
            "Epoch 60/250\n",
            "178/178 [==============================] - 22s 120ms/step - loss: 9.1187 - mae: 2.1248 - val_loss: 15.4692 - val_mae: 3.0518\n",
            "Epoch 61/250\n",
            "178/178 [==============================] - 22s 120ms/step - loss: 9.0688 - mae: 2.1308 - val_loss: 12.6863 - val_mae: 2.7614\n",
            "Epoch 62/250\n",
            "178/178 [==============================] - 22s 119ms/step - loss: 8.9350 - mae: 2.1133 - val_loss: 11.2640 - val_mae: 2.5276\n",
            "Epoch 63/250\n",
            "178/178 [==============================] - 22s 119ms/step - loss: 8.7736 - mae: 2.0793 - val_loss: 11.7929 - val_mae: 2.5804\n",
            "Epoch 64/250\n",
            "178/178 [==============================] - 22s 120ms/step - loss: 8.7112 - mae: 2.0826 - val_loss: 10.3092 - val_mae: 2.3932\n",
            "Epoch 65/250\n",
            "178/178 [==============================] - 22s 119ms/step - loss: 8.7119 - mae: 2.0967 - val_loss: 9.6379 - val_mae: 2.2827\n",
            "Epoch 66/250\n",
            "178/178 [==============================] - 22s 119ms/step - loss: 8.6357 - mae: 2.0724 - val_loss: 10.5737 - val_mae: 2.4241\n",
            "Epoch 67/250\n",
            "178/178 [==============================] - 22s 120ms/step - loss: 8.4518 - mae: 2.0508 - val_loss: 14.2210 - val_mae: 2.9147\n",
            "Epoch 68/250\n",
            "178/178 [==============================] - 22s 118ms/step - loss: 8.2996 - mae: 2.0147 - val_loss: 13.3800 - val_mae: 2.8479\n",
            "Epoch 69/250\n",
            "178/178 [==============================] - 22s 119ms/step - loss: 8.2558 - mae: 2.0202 - val_loss: 10.2835 - val_mae: 2.3913\n",
            "Epoch 70/250\n",
            "178/178 [==============================] - 22s 120ms/step - loss: 8.3520 - mae: 2.0440 - val_loss: 13.2297 - val_mae: 2.7984\n",
            "Epoch 71/250\n",
            "178/178 [==============================] - 21s 118ms/step - loss: 8.1617 - mae: 2.0135 - val_loss: 9.4662 - val_mae: 2.2924\n",
            "Epoch 72/250\n",
            "178/178 [==============================] - 22s 119ms/step - loss: 7.9708 - mae: 1.9807 - val_loss: 11.4987 - val_mae: 2.5937\n",
            "Epoch 73/250\n",
            "178/178 [==============================] - 22s 121ms/step - loss: 7.8930 - mae: 1.9694 - val_loss: 10.7903 - val_mae: 2.4982\n",
            "Epoch 74/250\n",
            "178/178 [==============================] - 22s 119ms/step - loss: 7.7916 - mae: 1.9620 - val_loss: 10.1680 - val_mae: 2.4217\n",
            "Epoch 75/250\n",
            "178/178 [==============================] - 22s 119ms/step - loss: 7.7291 - mae: 1.9536 - val_loss: 10.7309 - val_mae: 2.4860\n",
            "Epoch 76/250\n",
            "178/178 [==============================] - 22s 120ms/step - loss: 7.6246 - mae: 1.9450 - val_loss: 10.1214 - val_mae: 2.4017\n",
            "Epoch 77/250\n",
            "178/178 [==============================] - 22s 119ms/step - loss: 7.6414 - mae: 1.9512 - val_loss: 11.7912 - val_mae: 2.5973\n",
            "Epoch 78/250\n",
            "178/178 [==============================] - 22s 119ms/step - loss: 7.4888 - mae: 1.9296 - val_loss: 10.0178 - val_mae: 2.4144\n",
            "Epoch 79/250\n",
            "178/178 [==============================] - 22s 120ms/step - loss: 7.4371 - mae: 1.9243 - val_loss: 10.4546 - val_mae: 2.4340\n",
            "Epoch 80/250\n",
            "178/178 [==============================] - 22s 120ms/step - loss: 7.3636 - mae: 1.9243 - val_loss: 11.7398 - val_mae: 2.6294\n",
            "Epoch 81/250\n",
            "178/178 [==============================] - 22s 120ms/step - loss: 7.6416 - mae: 1.9484 - val_loss: 10.9941 - val_mae: 2.4397\n",
            "Epoch 82/250\n",
            "178/178 [==============================] - 22s 120ms/step - loss: 7.4334 - mae: 1.9517 - val_loss: 11.9374 - val_mae: 2.6841\n",
            "Epoch 83/250\n",
            "178/178 [==============================] - 22s 120ms/step - loss: 7.0791 - mae: 1.8814 - val_loss: 13.4830 - val_mae: 2.8257\n",
            "Epoch 84/250\n",
            "178/178 [==============================] - 22s 120ms/step - loss: 7.0797 - mae: 1.8841 - val_loss: 11.4354 - val_mae: 2.6270\n",
            "Epoch 85/250\n",
            "178/178 [==============================] - 22s 119ms/step - loss: 6.9879 - mae: 1.8695 - val_loss: 11.2229 - val_mae: 2.5900\n",
            "Epoch 86/250\n",
            "178/178 [==============================] - 22s 121ms/step - loss: 6.8656 - mae: 1.8455 - val_loss: 10.5919 - val_mae: 2.5001\n",
            "Epoch 87/250\n",
            "178/178 [==============================] - 22s 119ms/step - loss: 6.8503 - mae: 1.8399 - val_loss: 9.4537 - val_mae: 2.3495\n",
            "Epoch 88/250\n",
            "178/178 [==============================] - 22s 119ms/step - loss: 6.7076 - mae: 1.8332 - val_loss: 10.3317 - val_mae: 2.4918\n",
            "Epoch 89/250\n",
            "178/178 [==============================] - 22s 121ms/step - loss: 6.6151 - mae: 1.8081 - val_loss: 9.6109 - val_mae: 2.3725\n",
            "Epoch 90/250\n",
            "178/178 [==============================] - 22s 119ms/step - loss: 6.4576 - mae: 1.7778 - val_loss: 10.7578 - val_mae: 2.4872\n",
            "Epoch 91/250\n",
            "178/178 [==============================] - 22s 119ms/step - loss: 6.5212 - mae: 1.8047 - val_loss: 14.2450 - val_mae: 2.9124\n",
            "Epoch 92/250\n",
            "178/178 [==============================] - 22s 121ms/step - loss: 6.4944 - mae: 1.8027 - val_loss: 10.9863 - val_mae: 2.5303\n",
            "Epoch 93/250\n",
            "178/178 [==============================] - 22s 120ms/step - loss: 6.3089 - mae: 1.7703 - val_loss: 10.1483 - val_mae: 2.4932\n",
            "Epoch 94/250\n",
            "178/178 [==============================] - 22s 120ms/step - loss: 6.3617 - mae: 1.7892 - val_loss: 11.0099 - val_mae: 2.5469\n",
            "Epoch 95/250\n",
            "178/178 [==============================] - 22s 121ms/step - loss: 6.2261 - mae: 1.7599 - val_loss: 9.1856 - val_mae: 2.3187\n",
            "Epoch 96/250\n",
            "178/178 [==============================] - 22s 118ms/step - loss: 6.0832 - mae: 1.7388 - val_loss: 7.8729 - val_mae: 2.1154\n",
            "Epoch 97/250\n",
            "178/178 [==============================] - 22s 121ms/step - loss: 6.0398 - mae: 1.7272 - val_loss: 7.3177 - val_mae: 2.0540\n",
            "Epoch 98/250\n",
            "178/178 [==============================] - 22s 120ms/step - loss: 6.0239 - mae: 1.7373 - val_loss: 8.7452 - val_mae: 2.3148\n",
            "Epoch 99/250\n",
            "178/178 [==============================] - 22s 119ms/step - loss: 5.8984 - mae: 1.7087 - val_loss: 9.0727 - val_mae: 2.3232\n",
            "Epoch 100/250\n",
            "178/178 [==============================] - 22s 121ms/step - loss: 5.8727 - mae: 1.7059 - val_loss: 9.7613 - val_mae: 2.4032\n",
            "Epoch 101/250\n",
            "178/178 [==============================] - 22s 119ms/step - loss: 5.7742 - mae: 1.6857 - val_loss: 10.7096 - val_mae: 2.5343\n",
            "Epoch 102/250\n",
            "178/178 [==============================] - 22s 119ms/step - loss: 5.7432 - mae: 1.6896 - val_loss: 12.7719 - val_mae: 2.7562\n",
            "Epoch 103/250\n",
            "178/178 [==============================] - 22s 121ms/step - loss: 5.5602 - mae: 1.6455 - val_loss: 11.4221 - val_mae: 2.6044\n",
            "Epoch 104/250\n",
            "178/178 [==============================] - 22s 120ms/step - loss: 5.6163 - mae: 1.6651 - val_loss: 8.5613 - val_mae: 2.2237\n",
            "Epoch 105/250\n",
            "178/178 [==============================] - 22s 120ms/step - loss: 5.5944 - mae: 1.6469 - val_loss: 10.6391 - val_mae: 2.5114\n",
            "Epoch 106/250\n",
            "178/178 [==============================] - 22s 120ms/step - loss: 5.4509 - mae: 1.6441 - val_loss: 8.5361 - val_mae: 2.2416\n",
            "Epoch 107/250\n",
            "178/178 [==============================] - 22s 120ms/step - loss: 5.4325 - mae: 1.6294 - val_loss: 8.6904 - val_mae: 2.2509\n",
            "Epoch 108/250\n",
            "178/178 [==============================] - 22s 119ms/step - loss: 5.3313 - mae: 1.6170 - val_loss: 12.6948 - val_mae: 2.7251\n",
            "Epoch 109/250\n",
            "178/178 [==============================] - 22s 121ms/step - loss: 5.3970 - mae: 1.6432 - val_loss: 11.2810 - val_mae: 2.5202\n",
            "Epoch 110/250\n",
            "178/178 [==============================] - 22s 121ms/step - loss: 5.2685 - mae: 1.6262 - val_loss: 10.8143 - val_mae: 2.4965\n",
            "Epoch 111/250\n",
            "178/178 [==============================] - 22s 119ms/step - loss: 5.2134 - mae: 1.6219 - val_loss: 11.6520 - val_mae: 2.6145\n",
            "Epoch 112/250\n",
            "178/178 [==============================] - 22s 120ms/step - loss: 5.1312 - mae: 1.5961 - val_loss: 10.0966 - val_mae: 2.4873\n",
            "Epoch 113/250\n",
            "178/178 [==============================] - 22s 121ms/step - loss: 5.0661 - mae: 1.5924 - val_loss: 8.5328 - val_mae: 2.2492\n",
            "Epoch 114/250\n",
            "178/178 [==============================] - 22s 119ms/step - loss: 5.0640 - mae: 1.5957 - val_loss: 9.5048 - val_mae: 2.4453\n",
            "Epoch 115/250\n",
            "178/178 [==============================] - 22s 119ms/step - loss: 5.0306 - mae: 1.6008 - val_loss: 10.9533 - val_mae: 2.5456\n",
            "Epoch 116/250\n",
            "178/178 [==============================] - 22s 121ms/step - loss: 5.0523 - mae: 1.5913 - val_loss: 7.9122 - val_mae: 2.1551\n",
            "Epoch 117/250\n",
            "178/178 [==============================] - 22s 119ms/step - loss: 4.9223 - mae: 1.5853 - val_loss: 8.7482 - val_mae: 2.3110\n",
            "Epoch 118/250\n",
            "178/178 [==============================] - 22s 120ms/step - loss: 4.9315 - mae: 1.5880 - val_loss: 10.0489 - val_mae: 2.4461\n",
            "Epoch 119/250\n",
            "178/178 [==============================] - 22s 121ms/step - loss: 4.9304 - mae: 1.5922 - val_loss: 7.8860 - val_mae: 2.1247\n",
            "Epoch 120/250\n",
            "178/178 [==============================] - 22s 119ms/step - loss: 4.7431 - mae: 1.5627 - val_loss: 8.2215 - val_mae: 2.1825\n",
            "Epoch 121/250\n",
            "178/178 [==============================] - 22s 120ms/step - loss: 4.6399 - mae: 1.5213 - val_loss: 7.4014 - val_mae: 2.0945\n",
            "Epoch 122/250\n",
            "178/178 [==============================] - 22s 119ms/step - loss: 4.6754 - mae: 1.5408 - val_loss: 8.5063 - val_mae: 2.2317\n",
            "Epoch 123/250\n",
            "178/178 [==============================] - 22s 121ms/step - loss: 4.5835 - mae: 1.5275 - val_loss: 8.0346 - val_mae: 2.1831\n",
            "Epoch 124/250\n",
            "178/178 [==============================] - 22s 119ms/step - loss: 4.5163 - mae: 1.5159 - val_loss: 8.1904 - val_mae: 2.1854\n",
            "Epoch 125/250\n",
            "178/178 [==============================] - 22s 119ms/step - loss: 4.4257 - mae: 1.4957 - val_loss: 8.5856 - val_mae: 2.2847\n",
            "Epoch 126/250\n",
            "178/178 [==============================] - 22s 121ms/step - loss: 4.3785 - mae: 1.4867 - val_loss: 7.8207 - val_mae: 2.1849\n",
            "Epoch 127/250\n",
            "178/178 [==============================] - 22s 119ms/step - loss: 4.3627 - mae: 1.4875 - val_loss: 7.4373 - val_mae: 2.1053\n",
            "Epoch 128/250\n",
            "178/178 [==============================] - 22s 120ms/step - loss: 4.3079 - mae: 1.4875 - val_loss: 6.3711 - val_mae: 1.9485\n",
            "Epoch 129/250\n",
            "178/178 [==============================] - 22s 121ms/step - loss: 4.3020 - mae: 1.4900 - val_loss: 9.1875 - val_mae: 2.3107\n",
            "Epoch 130/250\n",
            "178/178 [==============================] - 22s 119ms/step - loss: 4.2469 - mae: 1.4637 - val_loss: 8.4742 - val_mae: 2.2685\n",
            "Epoch 131/250\n",
            "178/178 [==============================] - 22s 119ms/step - loss: 4.1554 - mae: 1.4521 - val_loss: 9.0210 - val_mae: 2.3207\n",
            "Epoch 132/250\n",
            "178/178 [==============================] - 22s 121ms/step - loss: 4.0866 - mae: 1.4356 - val_loss: 8.2427 - val_mae: 2.2065\n",
            "Epoch 133/250\n",
            "178/178 [==============================] - 22s 119ms/step - loss: 4.1779 - mae: 1.4524 - val_loss: 8.0480 - val_mae: 2.2043\n",
            "Epoch 134/250\n",
            "178/178 [==============================] - 22s 119ms/step - loss: 4.0401 - mae: 1.4284 - val_loss: 7.8626 - val_mae: 2.1348\n",
            "Epoch 135/250\n",
            "178/178 [==============================] - 17s 94ms/step - loss: 4.0201 - mae: 1.4323 - val_loss: 12.0532 - val_mae: 2.6398\n",
            "Epoch 136/250\n",
            "178/178 [==============================] - 22s 120ms/step - loss: 3.9625 - mae: 1.4128 - val_loss: 7.0342 - val_mae: 1.9897\n",
            "Epoch 137/250\n",
            "178/178 [==============================] - 17s 94ms/step - loss: 3.8902 - mae: 1.4005 - val_loss: 9.7796 - val_mae: 2.3970\n",
            "Epoch 138/250\n",
            "178/178 [==============================] - 22s 120ms/step - loss: 3.8719 - mae: 1.3908 - val_loss: 6.8588 - val_mae: 2.0059\n",
            "Epoch 139/250\n",
            "178/178 [==============================] - 22s 120ms/step - loss: 3.7870 - mae: 1.3827 - val_loss: 9.4951 - val_mae: 2.3480\n",
            "Epoch 140/250\n",
            "178/178 [==============================] - 22s 121ms/step - loss: 3.9357 - mae: 1.4063 - val_loss: 6.1811 - val_mae: 1.9779\n",
            "Epoch 141/250\n",
            "178/178 [==============================] - 22s 120ms/step - loss: 3.8730 - mae: 1.4193 - val_loss: 8.8875 - val_mae: 2.2672\n",
            "Epoch 142/250\n",
            "178/178 [==============================] - 22s 120ms/step - loss: 3.7845 - mae: 1.3849 - val_loss: 7.2064 - val_mae: 2.0408\n",
            "Epoch 143/250\n",
            "178/178 [==============================] - 22s 121ms/step - loss: 3.7283 - mae: 1.3757 - val_loss: 6.5326 - val_mae: 1.9533\n",
            "Epoch 144/250\n",
            "178/178 [==============================] - 22s 119ms/step - loss: 3.6058 - mae: 1.3454 - val_loss: 8.7349 - val_mae: 2.2589\n",
            "Epoch 145/250\n",
            "178/178 [==============================] - 22s 120ms/step - loss: 3.7002 - mae: 1.3669 - val_loss: 7.9994 - val_mae: 2.1173\n",
            "Epoch 146/250\n",
            "178/178 [==============================] - 22s 120ms/step - loss: 3.8148 - mae: 1.4022 - val_loss: 6.9201 - val_mae: 2.0077\n",
            "Epoch 147/250\n",
            "178/178 [==============================] - 22s 120ms/step - loss: 3.5714 - mae: 1.3554 - val_loss: 8.4658 - val_mae: 2.2190\n",
            "Epoch 148/250\n",
            "178/178 [==============================] - 22s 119ms/step - loss: 3.5072 - mae: 1.3417 - val_loss: 7.6884 - val_mae: 2.1195\n",
            "Epoch 149/250\n",
            "178/178 [==============================] - 22s 120ms/step - loss: 3.4260 - mae: 1.3265 - val_loss: 9.4632 - val_mae: 2.3344\n",
            "Epoch 150/250\n",
            "178/178 [==============================] - 22s 120ms/step - loss: 3.4006 - mae: 1.3208 - val_loss: 7.7460 - val_mae: 2.0972\n",
            "Epoch 151/250\n",
            "178/178 [==============================] - 22s 120ms/step - loss: 3.3513 - mae: 1.2963 - val_loss: 9.3359 - val_mae: 2.2998\n",
            "Epoch 152/250\n",
            "178/178 [==============================] - 22s 121ms/step - loss: 3.3445 - mae: 1.3074 - val_loss: 5.7973 - val_mae: 1.8272\n",
            "Epoch 153/250\n",
            "178/178 [==============================] - 22s 122ms/step - loss: 3.2766 - mae: 1.2972 - val_loss: 11.3709 - val_mae: 2.5746\n",
            "Epoch 154/250\n",
            "178/178 [==============================] - 22s 120ms/step - loss: 3.2683 - mae: 1.3001 - val_loss: 8.5499 - val_mae: 2.2141\n",
            "Epoch 155/250\n",
            "178/178 [==============================] - 22s 120ms/step - loss: 3.2088 - mae: 1.2909 - val_loss: 7.6158 - val_mae: 2.0949\n",
            "Epoch 156/250\n",
            "178/178 [==============================] - 22s 121ms/step - loss: 3.2626 - mae: 1.2905 - val_loss: 7.5025 - val_mae: 2.0818\n",
            "Epoch 157/250\n",
            "178/178 [==============================] - 22s 120ms/step - loss: 3.1504 - mae: 1.2740 - val_loss: 9.0142 - val_mae: 2.2369\n",
            "Epoch 158/250\n",
            "178/178 [==============================] - 22s 120ms/step - loss: 3.1048 - mae: 1.2701 - val_loss: 6.5202 - val_mae: 1.9385\n",
            "Epoch 159/250\n",
            "178/178 [==============================] - 22s 120ms/step - loss: 3.1094 - mae: 1.2756 - val_loss: 6.3458 - val_mae: 1.9106\n",
            "Epoch 160/250\n",
            "178/178 [==============================] - 22s 120ms/step - loss: 3.0888 - mae: 1.2661 - val_loss: 6.8406 - val_mae: 2.0138\n",
            "Epoch 161/250\n",
            "178/178 [==============================] - 22s 120ms/step - loss: 3.0323 - mae: 1.2546 - val_loss: 7.5863 - val_mae: 2.0926\n",
            "Epoch 162/250\n",
            "178/178 [==============================] - 22s 120ms/step - loss: 3.0142 - mae: 1.2497 - val_loss: 10.1572 - val_mae: 2.4006\n",
            "Epoch 163/250\n",
            "178/178 [==============================] - 22s 121ms/step - loss: 3.0272 - mae: 1.2595 - val_loss: 6.8473 - val_mae: 2.0321\n",
            "Epoch 164/250\n",
            "178/178 [==============================] - 22s 120ms/step - loss: 3.0696 - mae: 1.2647 - val_loss: 7.5295 - val_mae: 2.0631\n",
            "Epoch 165/250\n",
            "178/178 [==============================] - 22s 120ms/step - loss: 2.9352 - mae: 1.2389 - val_loss: 10.4143 - val_mae: 2.4089\n",
            "Epoch 166/250\n",
            "178/178 [==============================] - 22s 122ms/step - loss: 2.9558 - mae: 1.2352 - val_loss: 8.1715 - val_mae: 2.1478\n",
            "Epoch 167/250\n",
            "178/178 [==============================] - 22s 119ms/step - loss: 2.9851 - mae: 1.2403 - val_loss: 6.3929 - val_mae: 1.8620\n",
            "Epoch 168/250\n",
            "178/178 [==============================] - 22s 120ms/step - loss: 3.0262 - mae: 1.2769 - val_loss: 8.3493 - val_mae: 2.1169\n",
            "Epoch 169/250\n",
            "178/178 [==============================] - 22s 120ms/step - loss: 2.9142 - mae: 1.2444 - val_loss: 8.1969 - val_mae: 2.1131\n",
            "Epoch 170/250\n",
            "178/178 [==============================] - 22s 119ms/step - loss: 2.7897 - mae: 1.2059 - val_loss: 7.3453 - val_mae: 2.0373\n",
            "Epoch 171/250\n",
            "178/178 [==============================] - 22s 120ms/step - loss: 2.7218 - mae: 1.1943 - val_loss: 8.1727 - val_mae: 2.1490\n",
            "Epoch 172/250\n",
            "178/178 [==============================] - 22s 119ms/step - loss: 2.7079 - mae: 1.1882 - val_loss: 7.6072 - val_mae: 2.0704\n",
            "Epoch 173/250\n",
            "178/178 [==============================] - 22s 120ms/step - loss: 2.7272 - mae: 1.1846 - val_loss: 7.2227 - val_mae: 2.0078\n",
            "Epoch 174/250\n",
            "178/178 [==============================] - 22s 119ms/step - loss: 2.6030 - mae: 1.1661 - val_loss: 7.4595 - val_mae: 2.0748\n",
            "Epoch 175/250\n",
            "178/178 [==============================] - 22s 120ms/step - loss: 2.7068 - mae: 1.1932 - val_loss: 7.5188 - val_mae: 2.0516\n",
            "Epoch 176/250\n",
            "178/178 [==============================] - 22s 121ms/step - loss: 2.6454 - mae: 1.1809 - val_loss: 7.5160 - val_mae: 2.0653\n",
            "Epoch 177/250\n",
            "178/178 [==============================] - 22s 119ms/step - loss: 2.6095 - mae: 1.1710 - val_loss: 6.7866 - val_mae: 1.9833\n",
            "Epoch 178/250\n",
            "178/178 [==============================] - 22s 119ms/step - loss: 2.6135 - mae: 1.1728 - val_loss: 7.1346 - val_mae: 2.0406\n",
            "Epoch 179/250\n",
            "178/178 [==============================] - 22s 121ms/step - loss: 2.5491 - mae: 1.1566 - val_loss: 7.3772 - val_mae: 2.0427\n",
            "Epoch 180/250\n",
            "178/178 [==============================] - 22s 119ms/step - loss: 2.5166 - mae: 1.1394 - val_loss: 5.8246 - val_mae: 1.8334\n",
            "Epoch 181/250\n",
            "178/178 [==============================] - 22s 119ms/step - loss: 2.4489 - mae: 1.1314 - val_loss: 6.9137 - val_mae: 1.9517\n",
            "Epoch 182/250\n",
            "178/178 [==============================] - 22s 120ms/step - loss: 2.6285 - mae: 1.1776 - val_loss: 5.9656 - val_mae: 1.8603\n",
            "Epoch 183/250\n",
            "178/178 [==============================] - 22s 120ms/step - loss: 2.5411 - mae: 1.1602 - val_loss: 6.1334 - val_mae: 1.8883\n",
            "Epoch 184/250\n",
            "178/178 [==============================] - 17s 94ms/step - loss: 2.4845 - mae: 1.1366 - val_loss: 4.7698 - val_mae: 1.6861\n",
            "Epoch 185/250\n",
            "178/178 [==============================] - 22s 120ms/step - loss: 2.4138 - mae: 1.1300 - val_loss: 6.6713 - val_mae: 1.9606\n",
            "Epoch 186/250\n",
            "178/178 [==============================] - 22s 119ms/step - loss: 2.4042 - mae: 1.1178 - val_loss: 6.9062 - val_mae: 2.0162\n",
            "Epoch 187/250\n",
            "178/178 [==============================] - 22s 119ms/step - loss: 2.3954 - mae: 1.1257 - val_loss: 8.0139 - val_mae: 2.0765\n",
            "Epoch 188/250\n",
            "178/178 [==============================] - 22s 121ms/step - loss: 2.4758 - mae: 1.1534 - val_loss: 7.4961 - val_mae: 2.0335\n",
            "Epoch 189/250\n",
            "178/178 [==============================] - 22s 119ms/step - loss: 2.7124 - mae: 1.2157 - val_loss: 9.5161 - val_mae: 2.2849\n",
            "Epoch 190/250\n",
            "178/178 [==============================] - 22s 119ms/step - loss: 2.6936 - mae: 1.2071 - val_loss: 9.9654 - val_mae: 2.3555\n",
            "Epoch 191/250\n",
            "178/178 [==============================] - 22s 121ms/step - loss: 2.4154 - mae: 1.1386 - val_loss: 6.4955 - val_mae: 1.9194\n",
            "Epoch 192/250\n",
            "178/178 [==============================] - 22s 119ms/step - loss: 2.3643 - mae: 1.1284 - val_loss: 5.7990 - val_mae: 1.8466\n",
            "Epoch 193/250\n",
            "178/178 [==============================] - 22s 120ms/step - loss: 2.2984 - mae: 1.1161 - val_loss: 8.3923 - val_mae: 2.1315\n",
            "Epoch 194/250\n",
            "178/178 [==============================] - 22s 121ms/step - loss: 2.3575 - mae: 1.1245 - val_loss: 7.5989 - val_mae: 2.0636\n",
            "Epoch 195/250\n",
            "178/178 [==============================] - 22s 120ms/step - loss: 2.6057 - mae: 1.1788 - val_loss: 9.2580 - val_mae: 2.2609\n",
            "Epoch 196/250\n",
            "178/178 [==============================] - 22s 120ms/step - loss: 2.4810 - mae: 1.1597 - val_loss: 8.3330 - val_mae: 2.1184\n",
            "Epoch 197/250\n",
            "178/178 [==============================] - 22s 120ms/step - loss: 2.2498 - mae: 1.1077 - val_loss: 9.0517 - val_mae: 2.2044\n",
            "Epoch 198/250\n",
            "178/178 [==============================] - 22s 119ms/step - loss: 2.3141 - mae: 1.1160 - val_loss: 9.3840 - val_mae: 2.2570\n",
            "Epoch 199/250\n",
            "178/178 [==============================] - 22s 119ms/step - loss: 2.4386 - mae: 1.1591 - val_loss: 7.3126 - val_mae: 2.0044\n",
            "Epoch 200/250\n",
            "178/178 [==============================] - 22s 120ms/step - loss: 2.3030 - mae: 1.1105 - val_loss: 7.2552 - val_mae: 1.9974\n",
            "Epoch 201/250\n",
            "178/178 [==============================] - 22s 120ms/step - loss: 2.1670 - mae: 1.0854 - val_loss: 6.5758 - val_mae: 1.9064\n",
            "Epoch 202/250\n",
            "178/178 [==============================] - 22s 120ms/step - loss: 2.1934 - mae: 1.0973 - val_loss: 6.9760 - val_mae: 1.9690\n",
            "Epoch 203/250\n",
            "178/178 [==============================] - 22s 120ms/step - loss: 2.1511 - mae: 1.0840 - val_loss: 7.3287 - val_mae: 2.0089\n",
            "Epoch 204/250\n",
            "178/178 [==============================] - 22s 122ms/step - loss: 2.1069 - mae: 1.0695 - val_loss: 7.5410 - val_mae: 2.0367\n",
            "Epoch 205/250\n",
            "178/178 [==============================] - 22s 119ms/step - loss: 2.0836 - mae: 1.0641 - val_loss: 7.2759 - val_mae: 2.0186\n",
            "Epoch 206/250\n",
            "178/178 [==============================] - 17s 94ms/step - loss: 2.0739 - mae: 1.0684 - val_loss: 6.3596 - val_mae: 1.8975\n",
            "Epoch 207/250\n",
            "178/178 [==============================] - 22s 121ms/step - loss: 2.1034 - mae: 1.0725 - val_loss: 9.0327 - val_mae: 2.2103\n",
            "Epoch 208/250\n",
            "178/178 [==============================] - 22s 119ms/step - loss: 2.1618 - mae: 1.0688 - val_loss: 7.6097 - val_mae: 2.0034\n",
            "Epoch 209/250\n",
            "178/178 [==============================] - 22s 119ms/step - loss: 2.0687 - mae: 1.0621 - val_loss: 7.9348 - val_mae: 2.0917\n",
            "Epoch 210/250\n",
            "178/178 [==============================] - 22s 120ms/step - loss: 2.0531 - mae: 1.0519 - val_loss: 6.6857 - val_mae: 1.9198\n",
            "Epoch 211/250\n",
            "178/178 [==============================] - 22s 119ms/step - loss: 2.6076 - mae: 1.1836 - val_loss: 8.8242 - val_mae: 2.1823\n",
            "Epoch 212/250\n",
            "178/178 [==============================] - 22s 119ms/step - loss: 2.2362 - mae: 1.1225 - val_loss: 7.7462 - val_mae: 2.0716\n",
            "Epoch 213/250\n",
            "178/178 [==============================] - 22s 120ms/step - loss: 2.1206 - mae: 1.0821 - val_loss: 6.9510 - val_mae: 1.9572\n",
            "Epoch 214/250\n",
            "178/178 [==============================] - 22s 120ms/step - loss: 2.1266 - mae: 1.0697 - val_loss: 11.3117 - val_mae: 2.5096\n",
            "Epoch 215/250\n",
            "178/178 [==============================] - 22s 119ms/step - loss: 2.0584 - mae: 1.0749 - val_loss: 6.7382 - val_mae: 1.9022\n",
            "Epoch 216/250\n",
            "178/178 [==============================] - 22s 120ms/step - loss: 2.0177 - mae: 1.0614 - val_loss: 8.3990 - val_mae: 2.1260\n",
            "Epoch 217/250\n",
            "178/178 [==============================] - 22s 121ms/step - loss: 1.9975 - mae: 1.0569 - val_loss: 15.8723 - val_mae: 2.9861\n",
            "Epoch 218/250\n",
            "178/178 [==============================] - 22s 119ms/step - loss: 2.0158 - mae: 1.0636 - val_loss: 7.6683 - val_mae: 2.0700\n",
            "Epoch 219/250\n",
            "178/178 [==============================] - 22s 119ms/step - loss: 2.0001 - mae: 1.0582 - val_loss: 6.9912 - val_mae: 1.9816\n",
            "Epoch 220/250\n",
            "178/178 [==============================] - 22s 121ms/step - loss: 1.8451 - mae: 1.0130 - val_loss: 5.9152 - val_mae: 1.8150\n",
            "Epoch 221/250\n",
            "178/178 [==============================] - 22s 119ms/step - loss: 1.9091 - mae: 1.0268 - val_loss: 6.2005 - val_mae: 1.8545\n",
            "Epoch 222/250\n",
            "178/178 [==============================] - 22s 119ms/step - loss: 1.9262 - mae: 1.0248 - val_loss: 9.5066 - val_mae: 2.2745\n",
            "Epoch 223/250\n",
            "178/178 [==============================] - 22s 122ms/step - loss: 1.8726 - mae: 1.0205 - val_loss: 7.0687 - val_mae: 1.9710\n",
            "Epoch 224/250\n",
            "178/178 [==============================] - 22s 119ms/step - loss: 1.8301 - mae: 1.0002 - val_loss: 8.9568 - val_mae: 2.2097\n",
            "Epoch 225/250\n",
            "178/178 [==============================] - 22s 120ms/step - loss: 1.8326 - mae: 0.9938 - val_loss: 7.5213 - val_mae: 2.0068\n",
            "Epoch 226/250\n",
            "178/178 [==============================] - 22s 120ms/step - loss: 1.8875 - mae: 1.0193 - val_loss: 5.6766 - val_mae: 1.7777\n",
            "Epoch 227/250\n",
            "178/178 [==============================] - 17s 93ms/step - loss: 1.8045 - mae: 0.9898 - val_loss: 7.5356 - val_mae: 2.0143\n",
            "Epoch 228/250\n",
            "178/178 [==============================] - 22s 120ms/step - loss: 1.7925 - mae: 0.9855 - val_loss: 10.6821 - val_mae: 2.4219\n",
            "Epoch 229/250\n",
            "178/178 [==============================] - 22s 119ms/step - loss: 1.7970 - mae: 0.9794 - val_loss: 6.2189 - val_mae: 1.8361\n",
            "Epoch 230/250\n",
            "178/178 [==============================] - 22s 120ms/step - loss: 1.8602 - mae: 1.0107 - val_loss: 6.6624 - val_mae: 1.8928\n",
            "Epoch 231/250\n",
            "178/178 [==============================] - 22s 119ms/step - loss: 1.7672 - mae: 0.9814 - val_loss: 6.8650 - val_mae: 1.9228\n",
            "Epoch 232/250\n",
            "178/178 [==============================] - 22s 120ms/step - loss: 1.7558 - mae: 0.9838 - val_loss: 6.4835 - val_mae: 1.8783\n",
            "Epoch 233/250\n",
            "178/178 [==============================] - 22s 119ms/step - loss: 1.7900 - mae: 0.9891 - val_loss: 6.6703 - val_mae: 1.9008\n",
            "Epoch 234/250\n",
            "178/178 [==============================] - 22s 119ms/step - loss: 1.7230 - mae: 0.9616 - val_loss: 6.7456 - val_mae: 1.9043\n",
            "Epoch 235/250\n",
            "178/178 [==============================] - 22s 121ms/step - loss: 1.7323 - mae: 0.9764 - val_loss: 5.7737 - val_mae: 1.7998\n",
            "Epoch 236/250\n",
            "178/178 [==============================] - 22s 119ms/step - loss: 1.6850 - mae: 0.9594 - val_loss: 7.9409 - val_mae: 2.0889\n",
            "Epoch 237/250\n",
            "178/178 [==============================] - 22s 120ms/step - loss: 1.8073 - mae: 0.9985 - val_loss: 4.0971 - val_mae: 1.5450\n",
            "Epoch 238/250\n",
            "178/178 [==============================] - 22s 121ms/step - loss: 1.9197 - mae: 1.0339 - val_loss: 4.3807 - val_mae: 1.5978\n",
            "Epoch 239/250\n",
            "178/178 [==============================] - 22s 119ms/step - loss: 1.8306 - mae: 0.9995 - val_loss: 4.4364 - val_mae: 1.5785\n",
            "Epoch 240/250\n",
            "178/178 [==============================] - 22s 120ms/step - loss: 1.7097 - mae: 0.9677 - val_loss: 5.0492 - val_mae: 1.6712\n",
            "Epoch 241/250\n",
            "178/178 [==============================] - 22s 120ms/step - loss: 1.7216 - mae: 0.9679 - val_loss: 5.7700 - val_mae: 1.7961\n",
            "Epoch 242/250\n",
            "178/178 [==============================] - 22s 120ms/step - loss: 1.6171 - mae: 0.9375 - val_loss: 4.6525 - val_mae: 1.6213\n",
            "Epoch 243/250\n",
            "178/178 [==============================] - 22s 120ms/step - loss: 1.5765 - mae: 0.9217 - val_loss: 5.9584 - val_mae: 1.8043\n",
            "Epoch 244/250\n",
            "178/178 [==============================] - 22s 120ms/step - loss: 1.9439 - mae: 1.0205 - val_loss: 5.3642 - val_mae: 1.7461\n",
            "Epoch 245/250\n",
            "178/178 [==============================] - 22s 121ms/step - loss: 1.8343 - mae: 1.0086 - val_loss: 6.0630 - val_mae: 1.8222\n",
            "Epoch 246/250\n",
            "178/178 [==============================] - 22s 119ms/step - loss: 1.7796 - mae: 0.9699 - val_loss: 5.6396 - val_mae: 1.7824\n",
            "Epoch 247/250\n",
            "178/178 [==============================] - 22s 119ms/step - loss: 1.6702 - mae: 0.9560 - val_loss: 5.0802 - val_mae: 1.6779\n",
            "Epoch 248/250\n",
            "178/178 [==============================] - 22s 121ms/step - loss: 1.6443 - mae: 0.9504 - val_loss: 6.0415 - val_mae: 1.8503\n",
            "Epoch 249/250\n",
            "178/178 [==============================] - 22s 119ms/step - loss: 1.6221 - mae: 0.9414 - val_loss: 4.8492 - val_mae: 1.6570\n",
            "Epoch 250/250\n",
            "178/178 [==============================] - 22s 120ms/step - loss: 1.6951 - mae: 0.9378 - val_loss: 4.6444 - val_mae: 1.6043\n"
          ]
        }
      ]
    },
    {
      "cell_type": "code",
      "source": [
        "loss = history.history['loss']\n",
        "val_loss = history.history['val_loss']\n",
        "mae = history.history['mae']\n",
        "val_mae = history.history['val_mae']\n",
        "\n",
        "\n",
        "epochs_x = range(len(loss))\n",
        "\n",
        "\n",
        "plt.plot(epochs_x, mae, 'o', color ='darkviolet', label='Training MAE')\n",
        "plt.plot(epochs_x, val_mae, 'k', label='Validation MAE')\n",
        "plt.title('Training and validation MeanAbsoluteError')\n",
        "plt.legend()\n",
        "\n",
        "plt.figure()\n",
        "plt.plot(epochs_x, loss, 'o', color ='darkviolet', label='Training loss')\n",
        "plt.plot(epochs_x, val_loss, 'k', label='Validation loss')\n",
        "plt.title('Training and validation loss')\n",
        "plt.legend()\n",
        "\n",
        "plt.show()"
      ],
      "metadata": {
        "id": "Y3K89-CM-dfg",
        "colab": {
          "base_uri": "https://localhost:8080/",
          "height": 887
        },
        "outputId": "bbdeb8ea-f638-4887-92b3-f2c062e91f98"
      },
      "execution_count": 20,
      "outputs": [
        {
          "output_type": "display_data",
          "data": {
            "text/plain": [
              "<Figure size 640x480 with 1 Axes>"
            ],
            "image/png": "[encoded data removed]"
          },
          "metadata": {}
        },
        {
          "output_type": "display_data",
          "data": {
            "text/plain": [
              "<Figure size 640x480 with 1 Axes>"
            ],
            "image/png": "[encoded data removed]"
          },
          "metadata": {}
        }
      ]
    },
    {
      "cell_type": "code",
      "source": [
        "epochs_x"
      ],
      "metadata": {
        "id": "N_sP_ZmSY-Jv",
        "colab": {
          "base_uri": "https://localhost:8080/"
        },
        "outputId": "4af224ad-025e-4fb4-a6b6-8f3f27e8715d"
      },
      "execution_count": 21,
      "outputs": [
        {
          "output_type": "execute_result",
          "data": {
            "text/plain": [
              "range(0, 250)"
            ]
          },
          "metadata": {},
          "execution_count": 21
        }
      ]
    },
    {
      "cell_type": "markdown",
      "source": [
        "#Download the model\n"
      ],
      "metadata": {
        "id": "R19IJQSYoW7J"
      }
    },
    {
      "cell_type": "code",
      "source": [
        "os.makedirs('/content/drive/MyDrive/All_Data_Project/cut_panoramic/Model', exist_ok=True)\n",
        "model.save('/content/drive/MyDrive/All_Data_Project/cut_panoramic/Model/Regression/4Re_All_1G_1e-4_16_0.2_250_New_Unfreez.h5')"
      ],
      "metadata": {
        "id": "Zed4TdFcG2iJ"
      },
      "execution_count": 22,
      "outputs": []
    },
    {
      "cell_type": "markdown",
      "source": [],
      "metadata": {
        "id": "n5YxZ-5QjQ0-"
      }
    },
    {
      "cell_type": "code",
      "source": [
        "# from google.colab import files\n",
        "# files.download('/content/drive/My Drive/cut_panoramic/Model/1.1_รอบแรก_Flimpano_Male125_250.h5')"
      ],
      "metadata": {
        "id": "P5eMxm1NV-oY"
      },
      "execution_count": 23,
      "outputs": []
    },
    {
      "cell_type": "code",
      "source": [
        "\n"
      ],
      "metadata": {
        "id": "wY_pDlxkRwxS"
      },
      "execution_count": 23,
      "outputs": []
    }
  ]
}