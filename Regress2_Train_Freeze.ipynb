{
  "nbformat": 4,
  "nbformat_minor": 0,
  "metadata": {
    "colab": {
      "provenance": [],
      "machine_shape": "hm",
      "gpuType": "T4",
      "include_colab_link": true
    },
    "kernelspec": {
      "name": "python3",
      "display_name": "Python 3"
    },
    "language_info": {
      "name": "python"
    },
    "accelerator": "GPU",
    "gpuClass": "standard"
  },
  "cells": [
    {
      "cell_type": "markdown",
      "metadata": {
        "id": "view-in-github",
        "colab_type": "text"
      },
      "source": [
        "<a href=\"https://colab.research.google.com/github/natthanich/Project_Deep_Tooth/blob/main/Regress2_Train_Freeze.ipynb\" target=\"_parent\"><img src=\"https://colab.research.google.com/assets/colab-badge.svg\" alt=\"Open In Colab\"/></a>"
      ]
    },
    {
      "cell_type": "markdown",
      "source": [
        "#เรียกใช้ CSV"
      ],
      "metadata": {
        "id": "ow7eWoNw6U-c"
      }
    },
    {
      "cell_type": "code",
      "execution_count": null,
      "metadata": {
        "id": "z8o_VVNXzcL8"
      },
      "outputs": [],
      "source": [
        "import pandas as pd\n",
        "import shutil"
      ]
    },
    {
      "cell_type": "code",
      "source": [
        "from google.colab import drive\n",
        "drive.mount('/content/drive')"
      ],
      "metadata": {
        "colab": {
          "base_uri": "https://localhost:8080/"
        },
        "id": "1_2Fe8u81d5r",
        "outputId": "6ae70d27-b987-406c-d93f-7f28dd7b55f1"
      },
      "execution_count": null,
      "outputs": [
        {
          "output_type": "stream",
          "name": "stdout",
          "text": [
            "Mounted at /content/drive\n"
          ]
        }
      ]
    },
    {
      "cell_type": "markdown",
      "source": [
        "#Imports"
      ],
      "metadata": {
        "id": "5qxePnnn7TGW"
      }
    },
    {
      "cell_type": "code",
      "source": [
        "from tensorflow.keras import models\n",
        "from tensorflow.keras import layers\n",
        "from tensorflow.keras import optimizers\n",
        "import os\n",
        "import glob\n",
        "import shutil\n",
        "import sys\n",
        "import numpy as np\n",
        "from skimage.io import imread\n",
        "import matplotlib.pyplot as plt\n",
        "from IPython.display import Image\n",
        "%matplotlib inline"
      ],
      "metadata": {
        "id": "D-hCRloc3t39"
      },
      "execution_count": null,
      "outputs": []
    },
    {
      "cell_type": "code",
      "source": [
        "import tensorflow as tf\n",
        "from tensorflow.keras import Sequential\n",
        "from tensorflow.keras.layers import Dense\n",
        "from tensorflow.keras.optimizers import Adam\n",
        "from tensorflow.keras import backend as K"
      ],
      "metadata": {
        "id": "YZWXwjXeGxZP"
      },
      "execution_count": null,
      "outputs": []
    },
    {
      "cell_type": "markdown",
      "source": [
        "#กำหนดค่าพารามิเตอร์\n"
      ],
      "metadata": {
        "id": "RooqSdBc7QHC"
      }
    },
    {
      "cell_type": "code",
      "source": [
        "batch_size = 16\n",
        "width = 150\n",
        "height = 150\n",
        "epochs = 250\n",
        "NUM_TRAIN = 2850\n",
        "NUM_TEST = 950\n",
        "dropout_rate = 0.2\n",
        "input_shape = (height, width, 3)"
      ],
      "metadata": {
        "id": "thDb7U9B3xOo"
      },
      "execution_count": null,
      "outputs": []
    },
    {
      "cell_type": "markdown",
      "source": [
        "#Clone efficientnet repo\n"
      ],
      "metadata": {
        "id": "pumGmy6f3eSW"
      }
    },
    {
      "cell_type": "code",
      "source": [
        "#ดึงข้อมูลใน Github มาใช้\n",
        "import os\n",
        "%cd /content\n",
        "if not os.path.isdir(\"efficientnet_keras_transfer_learning\"):\n",
        " !git clone https://github.com/Wanita-8943/efficientnet_keras_transfer_learning\n",
        "%cd efficientnet_keras_transfer_learning/\n"
      ],
      "metadata": {
        "colab": {
          "base_uri": "https://localhost:8080/"
        },
        "id": "P7iy2f8n16p0",
        "outputId": "715a251e-b646-4772-9318-8330509126a8"
      },
      "execution_count": null,
      "outputs": [
        {
          "output_type": "stream",
          "name": "stdout",
          "text": [
            "/content\n",
            "Cloning into 'efficientnet_keras_transfer_learning'...\n",
            "remote: Enumerating objects: 1100, done.\u001b[K\n",
            "remote: Counting objects: 100% (263/263), done.\u001b[K\n",
            "remote: Compressing objects: 100% (142/142), done.\u001b[K\n",
            "remote: Total 1100 (delta 133), reused 241 (delta 121), pack-reused 837\u001b[K\n",
            "Receiving objects: 100% (1100/1100), 14.10 MiB | 17.93 MiB/s, done.\n",
            "Resolving deltas: 100% (630/630), done.\n",
            "/content/efficientnet_keras_transfer_learning\n"
          ]
        }
      ]
    },
    {
      "cell_type": "code",
      "source": [
        "# Options: EfficientNetB0, EfficientNetB1, EfficientNetB2, EfficientNetB3\n",
        "# Higher the number, the more complex the model is.\n",
        "from efficientnet import EfficientNetB0 as Net\n",
        "from efficientnet import center_crop_and_resize, preprocess_input"
      ],
      "metadata": {
        "id": "tjZBRnfo3bN0"
      },
      "execution_count": null,
      "outputs": []
    },
    {
      "cell_type": "markdown",
      "source": [
        "#load model\n"
      ],
      "metadata": {
        "id": "PdNWyD-QYkzK"
      }
    },
    {
      "cell_type": "code",
      "source": [
        "import sys\n",
        "sys.path.append('/content/drive/MyDrive/All_Data_Project/cut_panoramic/Model/Regression/1Re_All_1G_1e-4_16_0.2_250.h5')\n",
        "\n",
        "from efficientnet.layers import Swish, DropConnect\n",
        "from efficientnet.model import ConvKernalInitializer\n",
        "from tensorflow.keras.utils import get_custom_objects\n",
        "\n",
        "get_custom_objects().update({\n",
        "    'ConvKernalInitializer': ConvKernalInitializer,\n",
        "    'Swish': Swish,\n",
        "    'DropConnect':DropConnect\n",
        "})"
      ],
      "metadata": {
        "id": "_gPnx2UvYf5A"
      },
      "execution_count": null,
      "outputs": []
    },
    {
      "cell_type": "code",
      "source": [
        "#load model \n",
        "from tensorflow.keras.models import load_model\n",
        "model = load_model('/content/drive/MyDrive/All_Data_Project/cut_panoramic/Model/Regression/1Re_All_1G_1e-4_16_0.2_250.h5')\n",
        "height = width = model.input_shape[1]"
      ],
      "metadata": {
        "id": "Nu93WzFUYm9e"
      },
      "execution_count": null,
      "outputs": []
    },
    {
      "cell_type": "code",
      "source": [
        "model.summary()"
      ],
      "metadata": {
        "id": "gp5EbyyXYvc6",
        "colab": {
          "base_uri": "https://localhost:8080/"
        },
        "outputId": "b389e380-9d87-4023-9afd-f27b81867241"
      },
      "execution_count": null,
      "outputs": [
        {
          "output_type": "stream",
          "name": "stdout",
          "text": [
            "Model: \"sequential\"\n",
            "_________________________________________________________________\n",
            " Layer (type)                Output Shape              Param #   \n",
            "=================================================================\n",
            " efficientnet-b0 (Functional  (None, 5, 5, 1280)       4049564   \n",
            " )                                                               \n",
            "                                                                 \n",
            " gap (GlobalMaxPooling2D)    (None, 1280)              0         \n",
            "                                                                 \n",
            " dropout_out (Dropout)       (None, 1280)              0         \n",
            "                                                                 \n",
            " fc_out (Dense)              (None, 19)                24339     \n",
            "                                                                 \n",
            " dense (Dense)               (None, 1)                 20        \n",
            "                                                                 \n",
            "=================================================================\n",
            "Total params: 4,073,923\n",
            "Trainable params: 24,359\n",
            "Non-trainable params: 4,049,564\n",
            "_________________________________________________________________\n"
          ]
        }
      ]
    },
    {
      "cell_type": "code",
      "source": [
        "df = pd.read_csv (r'/content/drive/MyDrive/All_Data_Project/cut_panoramic/Data/All_Re.csv')\n",
        "df"
      ],
      "metadata": {
        "id": "q1Dc131_Y3uA",
        "colab": {
          "base_uri": "https://localhost:8080/",
          "height": 423
        },
        "outputId": "b9c1eda4-8180-4cb9-b805-f4e02078d40b"
      },
      "execution_count": null,
      "outputs": [
        {
          "output_type": "execute_result",
          "data": {
            "text/plain": [
              "      Fig_Age  Age(year) Class  Class_Re       Filename  \\\n",
              "0           1          7  Y07F         1         V1.jpg   \n",
              "1           2          7  Y07F         1    Flip_V1.jpg   \n",
              "2           3          7  Y07F         1         V2.jpg   \n",
              "3           4          7  Y07F         1    Flip_V2.jpg   \n",
              "4           5          7  Y07F         1         V3.jpg   \n",
              "...       ...        ...   ...       ...            ...   \n",
              "4745      121         25  Y25M        19  Flip_J463.jpg   \n",
              "4746      122         25  Y25M        19       J464.jpg   \n",
              "4747      123         25  Y25M        19  Flip_J464.jpg   \n",
              "4748      124         25  Y25M        19       J465.jpg   \n",
              "4749      125         25  Y25M        19  Flip_J465.jpg   \n",
              "\n",
              "                                          Path_filename     Sex Floder  \n",
              "0     /content/drive/My Drive/All_Data_Project/TVT_G...  Female   Both  \n",
              "1     /content/drive/My Drive/All_Data_Project/TVT_G...  Female   Both  \n",
              "2     /content/drive/My Drive/All_Data_Project/TVT_G...  Female   Both  \n",
              "3     /content/drive/My Drive/All_Data_Project/TVT_G...  Female   Both  \n",
              "4     /content/drive/My Drive/All_Data_Project/TVT_G...  Female   Both  \n",
              "...                                                 ...     ...    ...  \n",
              "4745  /content/drive/My Drive/All_Data_Project/TVT_G...    Male   Both  \n",
              "4746  /content/drive/My Drive/All_Data_Project/TVT_G...    Male   Both  \n",
              "4747  /content/drive/My Drive/All_Data_Project/TVT_G...    Male   Both  \n",
              "4748  /content/drive/My Drive/All_Data_Project/TVT_G...    Male   Both  \n",
              "4749  /content/drive/My Drive/All_Data_Project/TVT_G...    Male   Both  \n",
              "\n",
              "[4750 rows x 8 columns]"
            ],
            "text/html": [
              "\n",
              "  <div id=\"df-04a02f8a-491d-4e43-91cb-f68ef5e47d30\">\n",
              "    <div class=\"colab-df-container\">\n",
              "      <div>\n",
              "<style scoped>\n",
              "    .dataframe tbody tr th:only-of-type {\n",
              "        vertical-align: middle;\n",
              "    }\n",
              "\n",
              "    .dataframe tbody tr th {\n",
              "        vertical-align: top;\n",
              "    }\n",
              "\n",
              "    .dataframe thead th {\n",
              "        text-align: right;\n",
              "    }\n",
              "</style>\n",
              "<table border=\"1\" class=\"dataframe\">\n",
              "  <thead>\n",
              "    <tr style=\"text-align: right;\">\n",
              "      <th></th>\n",
              "      <th>Fig_Age</th>\n",
              "      <th>Age(year)</th>\n",
              "      <th>Class</th>\n",
              "      <th>Class_Re</th>\n",
              "      <th>Filename</th>\n",
              "      <th>Path_filename</th>\n",
              "      <th>Sex</th>\n",
              "      <th>Floder</th>\n",
              "    </tr>\n",
              "  </thead>\n",
              "  <tbody>\n",
              "    <tr>\n",
              "      <th>0</th>\n",
              "      <td>1</td>\n",
              "      <td>7</td>\n",
              "      <td>Y07F</td>\n",
              "      <td>1</td>\n",
              "      <td>V1.jpg</td>\n",
              "      <td>/content/drive/My Drive/All_Data_Project/TVT_G...</td>\n",
              "      <td>Female</td>\n",
              "      <td>Both</td>\n",
              "    </tr>\n",
              "    <tr>\n",
              "      <th>1</th>\n",
              "      <td>2</td>\n",
              "      <td>7</td>\n",
              "      <td>Y07F</td>\n",
              "      <td>1</td>\n",
              "      <td>Flip_V1.jpg</td>\n",
              "      <td>/content/drive/My Drive/All_Data_Project/TVT_G...</td>\n",
              "      <td>Female</td>\n",
              "      <td>Both</td>\n",
              "    </tr>\n",
              "    <tr>\n",
              "      <th>2</th>\n",
              "      <td>3</td>\n",
              "      <td>7</td>\n",
              "      <td>Y07F</td>\n",
              "      <td>1</td>\n",
              "      <td>V2.jpg</td>\n",
              "      <td>/content/drive/My Drive/All_Data_Project/TVT_G...</td>\n",
              "      <td>Female</td>\n",
              "      <td>Both</td>\n",
              "    </tr>\n",
              "    <tr>\n",
              "      <th>3</th>\n",
              "      <td>4</td>\n",
              "      <td>7</td>\n",
              "      <td>Y07F</td>\n",
              "      <td>1</td>\n",
              "      <td>Flip_V2.jpg</td>\n",
              "      <td>/content/drive/My Drive/All_Data_Project/TVT_G...</td>\n",
              "      <td>Female</td>\n",
              "      <td>Both</td>\n",
              "    </tr>\n",
              "    <tr>\n",
              "      <th>4</th>\n",
              "      <td>5</td>\n",
              "      <td>7</td>\n",
              "      <td>Y07F</td>\n",
              "      <td>1</td>\n",
              "      <td>V3.jpg</td>\n",
              "      <td>/content/drive/My Drive/All_Data_Project/TVT_G...</td>\n",
              "      <td>Female</td>\n",
              "      <td>Both</td>\n",
              "    </tr>\n",
              "    <tr>\n",
              "      <th>...</th>\n",
              "      <td>...</td>\n",
              "      <td>...</td>\n",
              "      <td>...</td>\n",
              "      <td>...</td>\n",
              "      <td>...</td>\n",
              "      <td>...</td>\n",
              "      <td>...</td>\n",
              "      <td>...</td>\n",
              "    </tr>\n",
              "    <tr>\n",
              "      <th>4745</th>\n",
              "      <td>121</td>\n",
              "      <td>25</td>\n",
              "      <td>Y25M</td>\n",
              "      <td>19</td>\n",
              "      <td>Flip_J463.jpg</td>\n",
              "      <td>/content/drive/My Drive/All_Data_Project/TVT_G...</td>\n",
              "      <td>Male</td>\n",
              "      <td>Both</td>\n",
              "    </tr>\n",
              "    <tr>\n",
              "      <th>4746</th>\n",
              "      <td>122</td>\n",
              "      <td>25</td>\n",
              "      <td>Y25M</td>\n",
              "      <td>19</td>\n",
              "      <td>J464.jpg</td>\n",
              "      <td>/content/drive/My Drive/All_Data_Project/TVT_G...</td>\n",
              "      <td>Male</td>\n",
              "      <td>Both</td>\n",
              "    </tr>\n",
              "    <tr>\n",
              "      <th>4747</th>\n",
              "      <td>123</td>\n",
              "      <td>25</td>\n",
              "      <td>Y25M</td>\n",
              "      <td>19</td>\n",
              "      <td>Flip_J464.jpg</td>\n",
              "      <td>/content/drive/My Drive/All_Data_Project/TVT_G...</td>\n",
              "      <td>Male</td>\n",
              "      <td>Both</td>\n",
              "    </tr>\n",
              "    <tr>\n",
              "      <th>4748</th>\n",
              "      <td>124</td>\n",
              "      <td>25</td>\n",
              "      <td>Y25M</td>\n",
              "      <td>19</td>\n",
              "      <td>J465.jpg</td>\n",
              "      <td>/content/drive/My Drive/All_Data_Project/TVT_G...</td>\n",
              "      <td>Male</td>\n",
              "      <td>Both</td>\n",
              "    </tr>\n",
              "    <tr>\n",
              "      <th>4749</th>\n",
              "      <td>125</td>\n",
              "      <td>25</td>\n",
              "      <td>Y25M</td>\n",
              "      <td>19</td>\n",
              "      <td>Flip_J465.jpg</td>\n",
              "      <td>/content/drive/My Drive/All_Data_Project/TVT_G...</td>\n",
              "      <td>Male</td>\n",
              "      <td>Both</td>\n",
              "    </tr>\n",
              "  </tbody>\n",
              "</table>\n",
              "<p>4750 rows × 8 columns</p>\n",
              "</div>\n",
              "      <button class=\"colab-df-convert\" onclick=\"convertToInteractive('df-04a02f8a-491d-4e43-91cb-f68ef5e47d30')\"\n",
              "              title=\"Convert this dataframe to an interactive table.\"\n",
              "              style=\"display:none;\">\n",
              "        \n",
              "  <svg xmlns=\"http://www.w3.org/2000/svg\" height=\"24px\"viewBox=\"0 0 24 24\"\n",
              "       width=\"24px\">\n",
              "    <path d=\"M0 0h24v24H0V0z\" fill=\"none\"/>\n",
              "    <path d=\"M18.56 5.44l.94 2.06.94-2.06 2.06-.94-2.06-.94-.94-2.06-.94 2.06-2.06.94zm-11 1L8.5 8.5l.94-2.06 2.06-.94-2.06-.94L8.5 2.5l-.94 2.06-2.06.94zm10 10l.94 2.06.94-2.06 2.06-.94-2.06-.94-.94-2.06-.94 2.06-2.06.94z\"/><path d=\"M17.41 7.96l-1.37-1.37c-.4-.4-.92-.59-1.43-.59-.52 0-1.04.2-1.43.59L10.3 9.45l-7.72 7.72c-.78.78-.78 2.05 0 2.83L4 21.41c.39.39.9.59 1.41.59.51 0 1.02-.2 1.41-.59l7.78-7.78 2.81-2.81c.8-.78.8-2.07 0-2.86zM5.41 20L4 18.59l7.72-7.72 1.47 1.35L5.41 20z\"/>\n",
              "  </svg>\n",
              "      </button>\n",
              "      \n",
              "  <style>\n",
              "    .colab-df-container {\n",
              "      display:flex;\n",
              "      flex-wrap:wrap;\n",
              "      gap: 12px;\n",
              "    }\n",
              "\n",
              "    .colab-df-convert {\n",
              "      background-color: #E8F0FE;\n",
              "      border: none;\n",
              "      border-radius: 50%;\n",
              "      cursor: pointer;\n",
              "      display: none;\n",
              "      fill: #1967D2;\n",
              "      height: 32px;\n",
              "      padding: 0 0 0 0;\n",
              "      width: 32px;\n",
              "    }\n",
              "\n",
              "    .colab-df-convert:hover {\n",
              "      background-color: #E2EBFA;\n",
              "      box-shadow: 0px 1px 2px rgba(60, 64, 67, 0.3), 0px 1px 3px 1px rgba(60, 64, 67, 0.15);\n",
              "      fill: #174EA6;\n",
              "    }\n",
              "\n",
              "    [theme=dark] .colab-df-convert {\n",
              "      background-color: #3B4455;\n",
              "      fill: #D2E3FC;\n",
              "    }\n",
              "\n",
              "    [theme=dark] .colab-df-convert:hover {\n",
              "      background-color: #434B5C;\n",
              "      box-shadow: 0px 1px 3px 1px rgba(0, 0, 0, 0.15);\n",
              "      filter: drop-shadow(0px 1px 2px rgba(0, 0, 0, 0.3));\n",
              "      fill: #FFFFFF;\n",
              "    }\n",
              "  </style>\n",
              "\n",
              "      <script>\n",
              "        const buttonEl =\n",
              "          document.querySelector('#df-04a02f8a-491d-4e43-91cb-f68ef5e47d30 button.colab-df-convert');\n",
              "        buttonEl.style.display =\n",
              "          google.colab.kernel.accessAllowed ? 'block' : 'none';\n",
              "\n",
              "        async function convertToInteractive(key) {\n",
              "          const element = document.querySelector('#df-04a02f8a-491d-4e43-91cb-f68ef5e47d30');\n",
              "          const dataTable =\n",
              "            await google.colab.kernel.invokeFunction('convertToInteractive',\n",
              "                                                     [key], {});\n",
              "          if (!dataTable) return;\n",
              "\n",
              "          const docLinkHtml = 'Like what you see? Visit the ' +\n",
              "            '<a target=\"_blank\" href=https://colab.research.google.com/notebooks/data_table.ipynb>data table notebook</a>'\n",
              "            + ' to learn more about interactive tables.';\n",
              "          element.innerHTML = '';\n",
              "          dataTable['output_type'] = 'display_data';\n",
              "          await google.colab.output.renderOutput(dataTable, element);\n",
              "          const docLink = document.createElement('div');\n",
              "          docLink.innerHTML = docLinkHtml;\n",
              "          element.appendChild(docLink);\n",
              "        }\n",
              "      </script>\n",
              "    </div>\n",
              "  </div>\n",
              "  "
            ]
          },
          "metadata": {},
          "execution_count": 11
        }
      ]
    },
    {
      "cell_type": "code",
      "source": [
        "train = df[df['Fig_Age'].between(1,75)]\n",
        "val = df[df['Fig_Age'].between(76,100)]"
      ],
      "metadata": {
        "id": "Z1zBw01Gl8Ac"
      },
      "execution_count": null,
      "outputs": []
    },
    {
      "cell_type": "code",
      "source": [
        "DATA_PATH = \"/content/drive/MyDrive/All_Data_Project/TVT_Gender\"\n",
        "os.chdir(DATA_PATH)\n",
        "train_dir = os.path.join(DATA_PATH, 'train')\n",
        "print(train_dir)\n",
        "validation_dir = os.path.join(DATA_PATH, 'validation')\n",
        "print(validation_dir)"
      ],
      "metadata": {
        "colab": {
          "base_uri": "https://localhost:8080/"
        },
        "id": "QL0g-8iOnMC4",
        "outputId": "a455638a-faf0-47b8-923e-d2acd38420b0"
      },
      "execution_count": null,
      "outputs": [
        {
          "output_type": "stream",
          "name": "stdout",
          "text": [
            "/content/drive/MyDrive/All_Data_Project/TVT_Gender/train\n",
            "/content/drive/MyDrive/All_Data_Project/TVT_Gender/validation\n"
          ]
        }
      ]
    },
    {
      "cell_type": "markdown",
      "source": [
        "\n",
        "#Train"
      ],
      "metadata": {
        "id": "bWEnlTSwazL5"
      }
    },
    {
      "cell_type": "code",
      "source": [
        "# Train ด้วย ImageDataGenerator ของ Keras ซึ่งจะเพิ่มข้อมูลเสริมระหว่างการฝึกเพื่อลดโอกาสเกิด overfitting\n",
        "#overfitting เกิดจากข้อมูลที่ซับซ้อนกันเกินไป\n",
        "from tensorflow.keras.preprocessing.image import ImageDataGenerator\n",
        "\n",
        "train_datagen = ImageDataGenerator(\n",
        "      rescale=1./255, #โมเดลส่วนใหญ่ต้องใช้ RGB ในช่วง 0–1\n",
        "      rotation_range=40,\n",
        "      width_shift_range=0.2,\n",
        "      height_shift_range=0.2,\n",
        "      shear_range=0.2,\n",
        "      zoom_range=0.2,\n",
        "      horizontal_flip=True,\n",
        "      fill_mode='nearest')\n",
        "\n",
        "# Note that the validation data should not be augmented!\n",
        "test_datagen = ImageDataGenerator(rescale=1./255)"
      ],
      "metadata": {
        "id": "xGPrsn9no_pa"
      },
      "execution_count": null,
      "outputs": []
    },
    {
      "cell_type": "code",
      "source": [
        "train_generator = train_datagen.flow_from_dataframe(\n",
        "        dataframe = train,\n",
        "        directory = train_dir,\n",
        "        x_col = 'Path_filename',\n",
        "        y_col = 'Age(year)',\n",
        "        class_mode = 'other',\n",
        "        target_size=(height, width),\n",
        "        batch_size=batch_size)\n",
        "\n",
        "validation_generator = test_datagen.flow_from_dataframe(\n",
        "        dataframe = val,\n",
        "        directory = validation_dir,\n",
        "        x_col = 'Path_filename',\n",
        "        y_col = 'Age(year)',\n",
        "        class_mode = 'other',\n",
        "        target_size=(height, width),\n",
        "        batch_size=batch_size)"
      ],
      "metadata": {
        "colab": {
          "base_uri": "https://localhost:8080/"
        },
        "id": "8nVlmAszntK_",
        "outputId": "0eeef829-ab09-4253-cf52-115942728c6b"
      },
      "execution_count": null,
      "outputs": [
        {
          "output_type": "stream",
          "name": "stdout",
          "text": [
            "Found 2850 validated image filenames.\n",
            "Found 950 validated image filenames.\n"
          ]
        }
      ]
    },
    {
      "cell_type": "code",
      "source": [
        "model.compile(loss='mse',\n",
        "          optimizer=Adam(learning_rate=1e-4),\n",
        "          metrics=['mae'])\n",
        "history = model.fit_generator(\n",
        "      train_generator,\n",
        "      steps_per_epoch= NUM_TRAIN //batch_size,\n",
        "      epochs=epochs,\n",
        "      validation_data=validation_generator,\n",
        "      validation_steps= NUM_TEST //batch_size,\n",
        "      verbose=1,\n",
        "      use_multiprocessing=True,\n",
        "      workers=4)"
      ],
      "metadata": {
        "id": "N6qUmmF856ZE",
        "outputId": "085851f6-b357-44b4-c012-d3d26e0012bf",
        "colab": {
          "base_uri": "https://localhost:8080/"
        }
      },
      "execution_count": null,
      "outputs": [
        {
          "metadata": {
            "tags": null
          },
          "name": "stderr",
          "output_type": "stream",
          "text": [
            "<ipython-input-16-f59104fd3985>:4: UserWarning: `Model.fit_generator` is deprecated and will be removed in a future version. Please use `Model.fit`, which supports generators.\n",
            "  history = model.fit_generator(\n"
          ]
        },
        {
          "output_type": "stream",
          "name": "stdout",
          "text": [
            "Epoch 1/250\n",
            "178/178 [==============================] - 740s 4s/step - loss: 75.8495 - mae: 7.1588 - val_loss: 75.1949 - val_mae: 7.1274\n",
            "Epoch 2/250\n",
            "178/178 [==============================] - 18s 99ms/step - loss: 75.5577 - mae: 7.1498 - val_loss: 75.3336 - val_mae: 7.1360\n",
            "Epoch 3/250\n",
            "178/178 [==============================] - 18s 99ms/step - loss: 74.8491 - mae: 7.1108 - val_loss: 74.6755 - val_mae: 7.0965\n",
            "Epoch 4/250\n",
            "178/178 [==============================] - 18s 99ms/step - loss: 74.4192 - mae: 7.0867 - val_loss: 74.2229 - val_mae: 7.0769\n",
            "Epoch 5/250\n",
            "178/178 [==============================] - 18s 100ms/step - loss: 73.8228 - mae: 7.0562 - val_loss: 73.4873 - val_mae: 7.0310\n",
            "Epoch 6/250\n",
            "178/178 [==============================] - 13s 73ms/step - loss: 73.5267 - mae: 7.0375 - val_loss: 73.3676 - val_mae: 7.0277\n",
            "Epoch 7/250\n",
            "178/178 [==============================] - 18s 101ms/step - loss: 73.0954 - mae: 7.0201 - val_loss: 72.5893 - val_mae: 6.9946\n",
            "Epoch 8/250\n",
            "178/178 [==============================] - 18s 99ms/step - loss: 72.4582 - mae: 6.9828 - val_loss: 72.3928 - val_mae: 6.9882\n",
            "Epoch 9/250\n",
            "178/178 [==============================] - 18s 100ms/step - loss: 72.0933 - mae: 6.9650 - val_loss: 72.0943 - val_mae: 6.9668\n",
            "Epoch 10/250\n",
            "178/178 [==============================] - 18s 101ms/step - loss: 71.7352 - mae: 6.9479 - val_loss: 71.5575 - val_mae: 6.9371\n",
            "Epoch 11/250\n",
            "178/178 [==============================] - 18s 101ms/step - loss: 71.2197 - mae: 6.9195 - val_loss: 70.9484 - val_mae: 6.9020\n",
            "Epoch 12/250\n",
            "178/178 [==============================] - 18s 101ms/step - loss: 70.7750 - mae: 6.8931 - val_loss: 70.5892 - val_mae: 6.8900\n",
            "Epoch 13/250\n",
            "178/178 [==============================] - 18s 100ms/step - loss: 70.5418 - mae: 6.8814 - val_loss: 70.1999 - val_mae: 6.8590\n",
            "Epoch 14/250\n",
            "178/178 [==============================] - 18s 101ms/step - loss: 70.0895 - mae: 6.8583 - val_loss: 69.5400 - val_mae: 6.8271\n",
            "Epoch 15/250\n",
            "178/178 [==============================] - 18s 101ms/step - loss: 69.5306 - mae: 6.8280 - val_loss: 69.2527 - val_mae: 6.8119\n",
            "Epoch 16/250\n",
            "178/178 [==============================] - 18s 100ms/step - loss: 69.3127 - mae: 6.8179 - val_loss: 68.8676 - val_mae: 6.7908\n",
            "Epoch 17/250\n",
            "178/178 [==============================] - 18s 100ms/step - loss: 68.8781 - mae: 6.7956 - val_loss: 68.2373 - val_mae: 6.7595\n",
            "Epoch 18/250\n",
            "178/178 [==============================] - 18s 100ms/step - loss: 68.3397 - mae: 6.7641 - val_loss: 68.0454 - val_mae: 6.7421\n",
            "Epoch 19/250\n",
            "178/178 [==============================] - 18s 100ms/step - loss: 67.7666 - mae: 6.7291 - val_loss: 67.5470 - val_mae: 6.7212\n",
            "Epoch 20/250\n",
            "178/178 [==============================] - 18s 100ms/step - loss: 67.4504 - mae: 6.7150 - val_loss: 67.4665 - val_mae: 6.7102\n",
            "Epoch 21/250\n",
            "178/178 [==============================] - 18s 100ms/step - loss: 67.0376 - mae: 6.6877 - val_loss: 66.9878 - val_mae: 6.6868\n",
            "Epoch 22/250\n",
            "178/178 [==============================] - 18s 99ms/step - loss: 66.7562 - mae: 6.6734 - val_loss: 66.4333 - val_mae: 6.6513\n",
            "Epoch 23/250\n",
            "178/178 [==============================] - 18s 100ms/step - loss: 66.3801 - mae: 6.6559 - val_loss: 65.9854 - val_mae: 6.6250\n",
            "Epoch 24/250\n",
            "178/178 [==============================] - 18s 101ms/step - loss: 65.7675 - mae: 6.6189 - val_loss: 65.5612 - val_mae: 6.6077\n",
            "Epoch 25/250\n",
            "178/178 [==============================] - 18s 102ms/step - loss: 65.5099 - mae: 6.6114 - val_loss: 65.0799 - val_mae: 6.5912\n",
            "Epoch 26/250\n",
            "178/178 [==============================] - 19s 103ms/step - loss: 65.0225 - mae: 6.5843 - val_loss: 64.8673 - val_mae: 6.5721\n",
            "Epoch 27/250\n",
            "178/178 [==============================] - 18s 101ms/step - loss: 64.6772 - mae: 6.5671 - val_loss: 64.5162 - val_mae: 6.5606\n",
            "Epoch 28/250\n",
            "178/178 [==============================] - 18s 101ms/step - loss: 64.1236 - mae: 6.5369 - val_loss: 64.1066 - val_mae: 6.5372\n",
            "Epoch 29/250\n",
            "178/178 [==============================] - 19s 102ms/step - loss: 63.7622 - mae: 6.5240 - val_loss: 63.5351 - val_mae: 6.5083\n",
            "Epoch 30/250\n",
            "178/178 [==============================] - 18s 101ms/step - loss: 63.3463 - mae: 6.5003 - val_loss: 63.5328 - val_mae: 6.5201\n",
            "Epoch 31/250\n",
            "178/178 [==============================] - 18s 101ms/step - loss: 63.2222 - mae: 6.4966 - val_loss: 62.9117 - val_mae: 6.4806\n",
            "Epoch 32/250\n",
            "178/178 [==============================] - 18s 100ms/step - loss: 62.6489 - mae: 6.4678 - val_loss: 62.4698 - val_mae: 6.4575\n",
            "Epoch 33/250\n",
            "178/178 [==============================] - 18s 100ms/step - loss: 62.3182 - mae: 6.4493 - val_loss: 62.0047 - val_mae: 6.4352\n",
            "Epoch 34/250\n",
            "178/178 [==============================] - 18s 101ms/step - loss: 61.8601 - mae: 6.4252 - val_loss: 61.8658 - val_mae: 6.4273\n",
            "Epoch 35/250\n",
            "178/178 [==============================] - 14s 74ms/step - loss: 61.5652 - mae: 6.4107 - val_loss: 61.3937 - val_mae: 6.4024\n",
            "Epoch 36/250\n",
            "178/178 [==============================] - 18s 100ms/step - loss: 61.0801 - mae: 6.3837 - val_loss: 60.9750 - val_mae: 6.3887\n",
            "Epoch 37/250\n",
            "178/178 [==============================] - 18s 100ms/step - loss: 60.8577 - mae: 6.3741 - val_loss: 60.3711 - val_mae: 6.3427\n",
            "Epoch 38/250\n",
            "178/178 [==============================] - 18s 100ms/step - loss: 60.5100 - mae: 6.3569 - val_loss: 60.2433 - val_mae: 6.3361\n",
            "Epoch 39/250\n",
            "178/178 [==============================] - 18s 99ms/step - loss: 59.9631 - mae: 6.3274 - val_loss: 59.7195 - val_mae: 6.3092\n",
            "Epoch 40/250\n",
            "178/178 [==============================] - 18s 101ms/step - loss: 59.5895 - mae: 6.3080 - val_loss: 59.7696 - val_mae: 6.3207\n",
            "Epoch 41/250\n",
            "178/178 [==============================] - 18s 100ms/step - loss: 59.3567 - mae: 6.2954 - val_loss: 59.0569 - val_mae: 6.2767\n",
            "Epoch 42/250\n",
            "178/178 [==============================] - 18s 100ms/step - loss: 59.0691 - mae: 6.2814 - val_loss: 58.8079 - val_mae: 6.2679\n",
            "Epoch 43/250\n",
            "178/178 [==============================] - 18s 100ms/step - loss: 58.6324 - mae: 6.2545 - val_loss: 58.2510 - val_mae: 6.2341\n",
            "Epoch 44/250\n",
            "178/178 [==============================] - 18s 100ms/step - loss: 58.1566 - mae: 6.2287 - val_loss: 58.3316 - val_mae: 6.2442\n",
            "Epoch 45/250\n",
            "178/178 [==============================] - 18s 101ms/step - loss: 57.7575 - mae: 6.2076 - val_loss: 57.8388 - val_mae: 6.2160\n",
            "Epoch 46/250\n",
            "178/178 [==============================] - 18s 101ms/step - loss: 57.5317 - mae: 6.1962 - val_loss: 57.6637 - val_mae: 6.2091\n",
            "Epoch 47/250\n",
            "178/178 [==============================] - 18s 100ms/step - loss: 57.2071 - mae: 6.1781 - val_loss: 56.9620 - val_mae: 6.1633\n",
            "Epoch 48/250\n",
            "178/178 [==============================] - 18s 100ms/step - loss: 56.8064 - mae: 6.1558 - val_loss: 56.8826 - val_mae: 6.1590\n",
            "Epoch 49/250\n",
            "178/178 [==============================] - 18s 100ms/step - loss: 56.6563 - mae: 6.1487 - val_loss: 56.3433 - val_mae: 6.1276\n",
            "Epoch 50/250\n",
            "178/178 [==============================] - 18s 101ms/step - loss: 56.1340 - mae: 6.1173 - val_loss: 56.1083 - val_mae: 6.1190\n",
            "Epoch 51/250\n",
            "178/178 [==============================] - 18s 100ms/step - loss: 55.8449 - mae: 6.1012 - val_loss: 55.6252 - val_mae: 6.0855\n",
            "Epoch 52/250\n",
            "178/178 [==============================] - 18s 101ms/step - loss: 55.4010 - mae: 6.0746 - val_loss: 55.5935 - val_mae: 6.0940\n",
            "Epoch 53/250\n",
            "178/178 [==============================] - 18s 100ms/step - loss: 55.1370 - mae: 6.0589 - val_loss: 55.0171 - val_mae: 6.0516\n",
            "Epoch 54/250\n",
            "178/178 [==============================] - 14s 75ms/step - loss: 54.8202 - mae: 6.0435 - val_loss: 54.8508 - val_mae: 6.0517\n",
            "Epoch 55/250\n",
            "178/178 [==============================] - 14s 74ms/step - loss: 54.5940 - mae: 6.0375 - val_loss: 54.0732 - val_mae: 6.0044\n",
            "Epoch 56/250\n",
            "178/178 [==============================] - 18s 99ms/step - loss: 54.2422 - mae: 6.0189 - val_loss: 53.8604 - val_mae: 5.9922\n",
            "Epoch 57/250\n",
            "178/178 [==============================] - 18s 100ms/step - loss: 53.8274 - mae: 5.9964 - val_loss: 53.6255 - val_mae: 5.9880\n",
            "Epoch 58/250\n",
            "178/178 [==============================] - 18s 101ms/step - loss: 53.3358 - mae: 5.9689 - val_loss: 53.4367 - val_mae: 5.9818\n",
            "Epoch 59/250\n",
            "178/178 [==============================] - 18s 100ms/step - loss: 52.9784 - mae: 5.9525 - val_loss: 53.0328 - val_mae: 5.9574\n",
            "Epoch 60/250\n",
            "178/178 [==============================] - 18s 100ms/step - loss: 52.8098 - mae: 5.9449 - val_loss: 52.5636 - val_mae: 5.9322\n",
            "Epoch 61/250\n",
            "178/178 [==============================] - 18s 100ms/step - loss: 52.5980 - mae: 5.9363 - val_loss: 52.2883 - val_mae: 5.9150\n",
            "Epoch 62/250\n",
            "178/178 [==============================] - 18s 100ms/step - loss: 52.3594 - mae: 5.9246 - val_loss: 52.1655 - val_mae: 5.9134\n",
            "Epoch 63/250\n",
            "178/178 [==============================] - 19s 107ms/step - loss: 51.9561 - mae: 5.9050 - val_loss: 51.8356 - val_mae: 5.8982\n",
            "Epoch 64/250\n",
            "178/178 [==============================] - 18s 100ms/step - loss: 51.5710 - mae: 5.8818 - val_loss: 51.3239 - val_mae: 5.8749\n",
            "Epoch 65/250\n",
            "178/178 [==============================] - 18s 100ms/step - loss: 51.2990 - mae: 5.8712 - val_loss: 51.0140 - val_mae: 5.8541\n",
            "Epoch 66/250\n",
            "178/178 [==============================] - 18s 99ms/step - loss: 50.9961 - mae: 5.8554 - val_loss: 50.9612 - val_mae: 5.8502\n",
            "Epoch 67/250\n",
            "178/178 [==============================] - 18s 100ms/step - loss: 50.6975 - mae: 5.8395 - val_loss: 50.5736 - val_mae: 5.8389\n",
            "Epoch 68/250\n",
            "178/178 [==============================] - 18s 100ms/step - loss: 50.4733 - mae: 5.8281 - val_loss: 50.3112 - val_mae: 5.8170\n",
            "Epoch 69/250\n",
            "178/178 [==============================] - 18s 101ms/step - loss: 50.1531 - mae: 5.8114 - val_loss: 49.8227 - val_mae: 5.7930\n",
            "Epoch 70/250\n",
            "178/178 [==============================] - 14s 74ms/step - loss: 49.7833 - mae: 5.7903 - val_loss: 49.8913 - val_mae: 5.7966\n",
            "Epoch 71/250\n",
            "178/178 [==============================] - 18s 100ms/step - loss: 49.6799 - mae: 5.7879 - val_loss: 49.4558 - val_mae: 5.7736\n",
            "Epoch 72/250\n",
            "178/178 [==============================] - 18s 100ms/step - loss: 49.3475 - mae: 5.7694 - val_loss: 49.1455 - val_mae: 5.7518\n",
            "Epoch 73/250\n",
            "178/178 [==============================] - 18s 100ms/step - loss: 48.8894 - mae: 5.7433 - val_loss: 48.7280 - val_mae: 5.7317\n",
            "Epoch 74/250\n",
            "178/178 [==============================] - 18s 102ms/step - loss: 48.7149 - mae: 5.7341 - val_loss: 48.6431 - val_mae: 5.7307\n",
            "Epoch 75/250\n",
            "178/178 [==============================] - 18s 101ms/step - loss: 48.5021 - mae: 5.7215 - val_loss: 48.4257 - val_mae: 5.7186\n",
            "Epoch 76/250\n",
            "178/178 [==============================] - 18s 101ms/step - loss: 48.1794 - mae: 5.7033 - val_loss: 47.9787 - val_mae: 5.6855\n",
            "Epoch 77/250\n",
            "178/178 [==============================] - 18s 101ms/step - loss: 47.8284 - mae: 5.6857 - val_loss: 47.7936 - val_mae: 5.6812\n",
            "Epoch 78/250\n",
            "178/178 [==============================] - 18s 101ms/step - loss: 47.4842 - mae: 5.6628 - val_loss: 47.1694 - val_mae: 5.6455\n",
            "Epoch 79/250\n",
            "178/178 [==============================] - 14s 74ms/step - loss: 47.4099 - mae: 5.6640 - val_loss: 46.9925 - val_mae: 5.6329\n",
            "Epoch 80/250\n",
            "178/178 [==============================] - 18s 101ms/step - loss: 47.1405 - mae: 5.6485 - val_loss: 47.0984 - val_mae: 5.6510\n",
            "Epoch 81/250\n",
            "178/178 [==============================] - 18s 100ms/step - loss: 46.7432 - mae: 5.6222 - val_loss: 46.7764 - val_mae: 5.6276\n",
            "Epoch 82/250\n",
            "178/178 [==============================] - 18s 101ms/step - loss: 46.5946 - mae: 5.6147 - val_loss: 46.3181 - val_mae: 5.5965\n",
            "Epoch 83/250\n",
            "178/178 [==============================] - 18s 101ms/step - loss: 46.3160 - mae: 5.5998 - val_loss: 46.0287 - val_mae: 5.5759\n",
            "Epoch 84/250\n",
            "178/178 [==============================] - 14s 75ms/step - loss: 46.0422 - mae: 5.5834 - val_loss: 45.6931 - val_mae: 5.5614\n",
            "Epoch 85/250\n",
            "178/178 [==============================] - 18s 101ms/step - loss: 45.5925 - mae: 5.5551 - val_loss: 45.4115 - val_mae: 5.5474\n",
            "Epoch 86/250\n",
            "178/178 [==============================] - 18s 100ms/step - loss: 45.5413 - mae: 5.5592 - val_loss: 45.3483 - val_mae: 5.5468\n",
            "Epoch 87/250\n",
            "178/178 [==============================] - 18s 100ms/step - loss: 45.2321 - mae: 5.5443 - val_loss: 45.0309 - val_mae: 5.5331\n",
            "Epoch 88/250\n",
            "178/178 [==============================] - 18s 100ms/step - loss: 45.0197 - mae: 5.5332 - val_loss: 44.9187 - val_mae: 5.5319\n",
            "Epoch 89/250\n",
            "178/178 [==============================] - 18s 100ms/step - loss: 44.7176 - mae: 5.5196 - val_loss: 44.6349 - val_mae: 5.5135\n",
            "Epoch 90/250\n",
            "178/178 [==============================] - 19s 103ms/step - loss: 44.5124 - mae: 5.5099 - val_loss: 44.4275 - val_mae: 5.5054\n",
            "Epoch 91/250\n",
            "178/178 [==============================] - 18s 101ms/step - loss: 44.3202 - mae: 5.4994 - val_loss: 44.2104 - val_mae: 5.4961\n",
            "Epoch 92/250\n",
            "178/178 [==============================] - 18s 100ms/step - loss: 44.0084 - mae: 5.4843 - val_loss: 43.8421 - val_mae: 5.4705\n",
            "Epoch 93/250\n",
            "178/178 [==============================] - 18s 99ms/step - loss: 43.7410 - mae: 5.4693 - val_loss: 43.4311 - val_mae: 5.4517\n",
            "Epoch 94/250\n",
            "178/178 [==============================] - 18s 100ms/step - loss: 43.5128 - mae: 5.4579 - val_loss: 43.3381 - val_mae: 5.4482\n",
            "Epoch 95/250\n",
            "178/178 [==============================] - 18s 100ms/step - loss: 43.3700 - mae: 5.4553 - val_loss: 43.2410 - val_mae: 5.4462\n",
            "Epoch 96/250\n",
            "178/178 [==============================] - 18s 101ms/step - loss: 43.1331 - mae: 5.4426 - val_loss: 42.8629 - val_mae: 5.4259\n",
            "Epoch 97/250\n",
            "178/178 [==============================] - 18s 100ms/step - loss: 42.8575 - mae: 5.4258 - val_loss: 42.6422 - val_mae: 5.4142\n",
            "Epoch 98/250\n",
            "178/178 [==============================] - 18s 100ms/step - loss: 42.6987 - mae: 5.4213 - val_loss: 42.5263 - val_mae: 5.4089\n",
            "Epoch 99/250\n",
            "178/178 [==============================] - 18s 100ms/step - loss: 42.3572 - mae: 5.3991 - val_loss: 42.1144 - val_mae: 5.3867\n",
            "Epoch 100/250\n",
            "178/178 [==============================] - 14s 75ms/step - loss: 42.1321 - mae: 5.3877 - val_loss: 41.9635 - val_mae: 5.3762\n",
            "Epoch 101/250\n",
            "178/178 [==============================] - 19s 101ms/step - loss: 41.8959 - mae: 5.3732 - val_loss: 41.8298 - val_mae: 5.3698\n",
            "Epoch 102/250\n",
            "178/178 [==============================] - 18s 101ms/step - loss: 41.6843 - mae: 5.3617 - val_loss: 41.6620 - val_mae: 5.3640\n",
            "Epoch 103/250\n",
            "178/178 [==============================] - 18s 101ms/step - loss: 41.4417 - mae: 5.3504 - val_loss: 41.4225 - val_mae: 5.3497\n",
            "Epoch 104/250\n",
            "178/178 [==============================] - 18s 99ms/step - loss: 41.1843 - mae: 5.3333 - val_loss: 41.1530 - val_mae: 5.3332\n",
            "Epoch 105/250\n",
            "178/178 [==============================] - 18s 100ms/step - loss: 41.0406 - mae: 5.3275 - val_loss: 40.8593 - val_mae: 5.3166\n",
            "Epoch 106/250\n",
            "178/178 [==============================] - 18s 101ms/step - loss: 40.8508 - mae: 5.3207 - val_loss: 40.7456 - val_mae: 5.3140\n",
            "Epoch 107/250\n",
            "178/178 [==============================] - 18s 100ms/step - loss: 40.6290 - mae: 5.3048 - val_loss: 40.5330 - val_mae: 5.2988\n",
            "Epoch 108/250\n",
            "178/178 [==============================] - 18s 100ms/step - loss: 40.4519 - mae: 5.2955 - val_loss: 40.4196 - val_mae: 5.2943\n",
            "Epoch 109/250\n",
            "178/178 [==============================] - 18s 100ms/step - loss: 40.3463 - mae: 5.2909 - val_loss: 40.2796 - val_mae: 5.2910\n",
            "Epoch 110/250\n",
            "178/178 [==============================] - 18s 100ms/step - loss: 40.0869 - mae: 5.2780 - val_loss: 40.0500 - val_mae: 5.2719\n",
            "Epoch 111/250\n",
            "178/178 [==============================] - 18s 100ms/step - loss: 39.9092 - mae: 5.2642 - val_loss: 39.7778 - val_mae: 5.2594\n",
            "Epoch 112/250\n",
            "178/178 [==============================] - 18s 101ms/step - loss: 39.7189 - mae: 5.2540 - val_loss: 39.5462 - val_mae: 5.2443\n",
            "Epoch 113/250\n",
            "178/178 [==============================] - 18s 100ms/step - loss: 39.5571 - mae: 5.2457 - val_loss: 39.5437 - val_mae: 5.2460\n",
            "Epoch 114/250\n",
            "178/178 [==============================] - 18s 101ms/step - loss: 39.2975 - mae: 5.2275 - val_loss: 39.2154 - val_mae: 5.2216\n",
            "Epoch 115/250\n",
            "178/178 [==============================] - 18s 100ms/step - loss: 39.1837 - mae: 5.2217 - val_loss: 39.0340 - val_mae: 5.2102\n",
            "Epoch 116/250\n",
            "178/178 [==============================] - 18s 101ms/step - loss: 38.9217 - mae: 5.2047 - val_loss: 38.8617 - val_mae: 5.1997\n",
            "Epoch 117/250\n",
            "178/178 [==============================] - 14s 75ms/step - loss: 38.6984 - mae: 5.1943 - val_loss: 38.5702 - val_mae: 5.1896\n",
            "Epoch 118/250\n",
            "178/178 [==============================] - 18s 100ms/step - loss: 38.3967 - mae: 5.1779 - val_loss: 38.3183 - val_mae: 5.1771\n",
            "Epoch 119/250\n",
            "178/178 [==============================] - 18s 100ms/step - loss: 38.4397 - mae: 5.1855 - val_loss: 38.3172 - val_mae: 5.1817\n",
            "Epoch 120/250\n",
            "178/178 [==============================] - 18s 100ms/step - loss: 38.2342 - mae: 5.1774 - val_loss: 38.2766 - val_mae: 5.1893\n",
            "Epoch 121/250\n",
            "178/178 [==============================] - 18s 101ms/step - loss: 38.0358 - mae: 5.1686 - val_loss: 37.8427 - val_mae: 5.1578\n",
            "Epoch 122/250\n",
            "178/178 [==============================] - 19s 103ms/step - loss: 37.8778 - mae: 5.1599 - val_loss: 37.6938 - val_mae: 5.1458\n",
            "Epoch 123/250\n",
            "178/178 [==============================] - 18s 101ms/step - loss: 37.7584 - mae: 5.1556 - val_loss: 37.5406 - val_mae: 5.1437\n",
            "Epoch 124/250\n",
            "178/178 [==============================] - 18s 101ms/step - loss: 37.6211 - mae: 5.1500 - val_loss: 37.3733 - val_mae: 5.1343\n",
            "Epoch 125/250\n",
            "178/178 [==============================] - 18s 101ms/step - loss: 37.4157 - mae: 5.1389 - val_loss: 37.3816 - val_mae: 5.1443\n",
            "Epoch 126/250\n",
            "178/178 [==============================] - 18s 101ms/step - loss: 37.1986 - mae: 5.1272 - val_loss: 37.2132 - val_mae: 5.1292\n",
            "Epoch 127/250\n",
            "178/178 [==============================] - 18s 100ms/step - loss: 37.1960 - mae: 5.1332 - val_loss: 37.0329 - val_mae: 5.1268\n",
            "Epoch 128/250\n",
            "178/178 [==============================] - 18s 100ms/step - loss: 36.8442 - mae: 5.1078 - val_loss: 36.8391 - val_mae: 5.1106\n",
            "Epoch 129/250\n",
            "178/178 [==============================] - 19s 102ms/step - loss: 36.7110 - mae: 5.1020 - val_loss: 36.5676 - val_mae: 5.0951\n",
            "Epoch 130/250\n",
            "178/178 [==============================] - 18s 100ms/step - loss: 36.4988 - mae: 5.0910 - val_loss: 36.5664 - val_mae: 5.0977\n",
            "Epoch 131/250\n",
            "178/178 [==============================] - 18s 100ms/step - loss: 36.2856 - mae: 5.0786 - val_loss: 36.2488 - val_mae: 5.0740\n",
            "Epoch 132/250\n",
            "178/178 [==============================] - 19s 102ms/step - loss: 36.2936 - mae: 5.0800 - val_loss: 36.2371 - val_mae: 5.0769\n",
            "Epoch 133/250\n",
            "178/178 [==============================] - 18s 101ms/step - loss: 36.1002 - mae: 5.0680 - val_loss: 36.0657 - val_mae: 5.0681\n",
            "Epoch 134/250\n",
            "178/178 [==============================] - 18s 101ms/step - loss: 35.9870 - mae: 5.0630 - val_loss: 35.8884 - val_mae: 5.0582\n",
            "Epoch 135/250\n",
            "178/178 [==============================] - 19s 102ms/step - loss: 35.8527 - mae: 5.0573 - val_loss: 35.6879 - val_mae: 5.0487\n",
            "Epoch 136/250\n",
            "178/178 [==============================] - 18s 100ms/step - loss: 35.6966 - mae: 5.0490 - val_loss: 35.6393 - val_mae: 5.0506\n",
            "Epoch 137/250\n",
            "178/178 [==============================] - 18s 100ms/step - loss: 35.6390 - mae: 5.0478 - val_loss: 35.5078 - val_mae: 5.0405\n",
            "Epoch 138/250\n",
            "178/178 [==============================] - 19s 102ms/step - loss: 35.3932 - mae: 5.0326 - val_loss: 35.3204 - val_mae: 5.0273\n",
            "Epoch 139/250\n",
            "178/178 [==============================] - 18s 101ms/step - loss: 35.3340 - mae: 5.0279 - val_loss: 35.1639 - val_mae: 5.0146\n",
            "Epoch 140/250\n",
            "178/178 [==============================] - 18s 101ms/step - loss: 35.1197 - mae: 5.0144 - val_loss: 35.1134 - val_mae: 5.0173\n",
            "Epoch 141/250\n",
            "178/178 [==============================] - 18s 100ms/step - loss: 35.0382 - mae: 5.0117 - val_loss: 34.9488 - val_mae: 5.0062\n",
            "Epoch 142/250\n",
            "178/178 [==============================] - 18s 101ms/step - loss: 34.8874 - mae: 5.0028 - val_loss: 34.7202 - val_mae: 4.9916\n",
            "Epoch 143/250\n",
            "178/178 [==============================] - 18s 100ms/step - loss: 34.6983 - mae: 4.9893 - val_loss: 34.5186 - val_mae: 4.9764\n",
            "Epoch 144/250\n",
            "178/178 [==============================] - 18s 100ms/step - loss: 34.6900 - mae: 4.9918 - val_loss: 34.6287 - val_mae: 4.9850\n",
            "Epoch 145/250\n",
            "178/178 [==============================] - 18s 101ms/step - loss: 34.4757 - mae: 4.9766 - val_loss: 34.5617 - val_mae: 4.9820\n",
            "Epoch 146/250\n",
            "178/178 [==============================] - 18s 100ms/step - loss: 34.3745 - mae: 4.9688 - val_loss: 34.4162 - val_mae: 4.9746\n",
            "Epoch 147/250\n",
            "178/178 [==============================] - 18s 101ms/step - loss: 34.2948 - mae: 4.9682 - val_loss: 34.2485 - val_mae: 4.9626\n",
            "Epoch 148/250\n",
            "178/178 [==============================] - 18s 101ms/step - loss: 34.1809 - mae: 4.9595 - val_loss: 33.9238 - val_mae: 4.9380\n",
            "Epoch 149/250\n",
            "178/178 [==============================] - 18s 100ms/step - loss: 34.1311 - mae: 4.9571 - val_loss: 33.9613 - val_mae: 4.9402\n",
            "Epoch 150/250\n",
            "178/178 [==============================] - 18s 101ms/step - loss: 33.9348 - mae: 4.9439 - val_loss: 33.9518 - val_mae: 4.9442\n",
            "Epoch 151/250\n",
            "178/178 [==============================] - 18s 101ms/step - loss: 33.8225 - mae: 4.9402 - val_loss: 33.7608 - val_mae: 4.9366\n",
            "Epoch 152/250\n",
            "178/178 [==============================] - 18s 101ms/step - loss: 33.7039 - mae: 4.9335 - val_loss: 33.6541 - val_mae: 4.9333\n",
            "Epoch 153/250\n",
            "178/178 [==============================] - 18s 100ms/step - loss: 33.6603 - mae: 4.9345 - val_loss: 33.6183 - val_mae: 4.9341\n",
            "Epoch 154/250\n",
            "178/178 [==============================] - 19s 102ms/step - loss: 33.5479 - mae: 4.9287 - val_loss: 33.4591 - val_mae: 4.9243\n",
            "Epoch 155/250\n",
            "178/178 [==============================] - 18s 101ms/step - loss: 33.3657 - mae: 4.9196 - val_loss: 33.0719 - val_mae: 4.9006\n",
            "Epoch 156/250\n",
            "178/178 [==============================] - 18s 100ms/step - loss: 33.2409 - mae: 4.9132 - val_loss: 33.2991 - val_mae: 4.9200\n",
            "Epoch 157/250\n",
            "178/178 [==============================] - 14s 74ms/step - loss: 33.2017 - mae: 4.9130 - val_loss: 33.1188 - val_mae: 4.9051\n",
            "Epoch 158/250\n",
            "178/178 [==============================] - 19s 101ms/step - loss: 33.0948 - mae: 4.9084 - val_loss: 33.2007 - val_mae: 4.9200\n",
            "Epoch 159/250\n",
            "178/178 [==============================] - 18s 101ms/step - loss: 33.0557 - mae: 4.9092 - val_loss: 33.0358 - val_mae: 4.9116\n",
            "Epoch 160/250\n",
            "178/178 [==============================] - 18s 101ms/step - loss: 32.9808 - mae: 4.9048 - val_loss: 32.7559 - val_mae: 4.8890\n",
            "Epoch 161/250\n",
            "178/178 [==============================] - 18s 100ms/step - loss: 32.8205 - mae: 4.8967 - val_loss: 32.7600 - val_mae: 4.8905\n",
            "Epoch 162/250\n",
            "178/178 [==============================] - 18s 101ms/step - loss: 32.7877 - mae: 4.8955 - val_loss: 32.8727 - val_mae: 4.9090\n",
            "Epoch 163/250\n",
            "178/178 [==============================] - 18s 100ms/step - loss: 32.6904 - mae: 4.8893 - val_loss: 32.7047 - val_mae: 4.8951\n",
            "Epoch 164/250\n",
            "178/178 [==============================] - 18s 100ms/step - loss: 32.6555 - mae: 4.8889 - val_loss: 32.4811 - val_mae: 4.8804\n",
            "Epoch 165/250\n",
            "178/178 [==============================] - 19s 102ms/step - loss: 32.4961 - mae: 4.8795 - val_loss: 32.5336 - val_mae: 4.8816\n",
            "Epoch 166/250\n",
            "178/178 [==============================] - 18s 102ms/step - loss: 32.4391 - mae: 4.8770 - val_loss: 32.4770 - val_mae: 4.8839\n",
            "Epoch 167/250\n",
            "178/178 [==============================] - 18s 100ms/step - loss: 32.2940 - mae: 4.8674 - val_loss: 32.3986 - val_mae: 4.8782\n",
            "Epoch 168/250\n",
            "178/178 [==============================] - 18s 100ms/step - loss: 32.3245 - mae: 4.8737 - val_loss: 32.3412 - val_mae: 4.8741\n",
            "Epoch 169/250\n",
            "178/178 [==============================] - 18s 100ms/step - loss: 32.2317 - mae: 4.8688 - val_loss: 32.0082 - val_mae: 4.8499\n",
            "Epoch 170/250\n",
            "178/178 [==============================] - 18s 101ms/step - loss: 32.1671 - mae: 4.8638 - val_loss: 32.2090 - val_mae: 4.8705\n",
            "Epoch 171/250\n",
            "178/178 [==============================] - 18s 101ms/step - loss: 32.1490 - mae: 4.8673 - val_loss: 32.1546 - val_mae: 4.8668\n",
            "Epoch 172/250\n",
            "178/178 [==============================] - 18s 101ms/step - loss: 32.0166 - mae: 4.8535 - val_loss: 32.0780 - val_mae: 4.8670\n",
            "Epoch 173/250\n",
            "178/178 [==============================] - 18s 101ms/step - loss: 31.9317 - mae: 4.8500 - val_loss: 31.9230 - val_mae: 4.8523\n",
            "Epoch 174/250\n",
            "178/178 [==============================] - 18s 101ms/step - loss: 31.8595 - mae: 4.8456 - val_loss: 31.8421 - val_mae: 4.8424\n",
            "Epoch 175/250\n",
            "178/178 [==============================] - 19s 102ms/step - loss: 31.8181 - mae: 4.8449 - val_loss: 31.7036 - val_mae: 4.8356\n",
            "Epoch 176/250\n",
            "178/178 [==============================] - 18s 101ms/step - loss: 31.7047 - mae: 4.8375 - val_loss: 31.6030 - val_mae: 4.8284\n",
            "Epoch 177/250\n",
            "178/178 [==============================] - 18s 101ms/step - loss: 31.7537 - mae: 4.8437 - val_loss: 31.6341 - val_mae: 4.8315\n",
            "Epoch 178/250\n",
            "178/178 [==============================] - 14s 76ms/step - loss: 31.5993 - mae: 4.8294 - val_loss: 31.6616 - val_mae: 4.8379\n",
            "Epoch 179/250\n",
            "178/178 [==============================] - 14s 75ms/step - loss: 31.5823 - mae: 4.8303 - val_loss: 31.5113 - val_mae: 4.8254\n",
            "Epoch 180/250\n",
            "178/178 [==============================] - 18s 100ms/step - loss: 31.4763 - mae: 4.8216 - val_loss: 31.4978 - val_mae: 4.8260\n",
            "Epoch 181/250\n",
            "178/178 [==============================] - 14s 74ms/step - loss: 31.5069 - mae: 4.8275 - val_loss: 31.4855 - val_mae: 4.8270\n",
            "Epoch 182/250\n",
            "178/178 [==============================] - 19s 101ms/step - loss: 31.4064 - mae: 4.8191 - val_loss: 31.3850 - val_mae: 4.8144\n",
            "Epoch 183/250\n",
            "178/178 [==============================] - 19s 102ms/step - loss: 31.2702 - mae: 4.8099 - val_loss: 31.2455 - val_mae: 4.8089\n",
            "Epoch 184/250\n",
            "178/178 [==============================] - 18s 101ms/step - loss: 31.3324 - mae: 4.8152 - val_loss: 31.2669 - val_mae: 4.8079\n",
            "Epoch 185/250\n",
            "178/178 [==============================] - 18s 100ms/step - loss: 31.2543 - mae: 4.8086 - val_loss: 31.3075 - val_mae: 4.8181\n",
            "Epoch 186/250\n",
            "178/178 [==============================] - 18s 101ms/step - loss: 31.1251 - mae: 4.7968 - val_loss: 31.1777 - val_mae: 4.8022\n",
            "Epoch 187/250\n",
            "178/178 [==============================] - 18s 101ms/step - loss: 31.1224 - mae: 4.7974 - val_loss: 31.0689 - val_mae: 4.7905\n",
            "Epoch 188/250\n",
            "178/178 [==============================] - 18s 101ms/step - loss: 31.1696 - mae: 4.8017 - val_loss: 31.2061 - val_mae: 4.8084\n",
            "Epoch 189/250\n",
            "178/178 [==============================] - 14s 76ms/step - loss: 31.1356 - mae: 4.8007 - val_loss: 30.9980 - val_mae: 4.7914\n",
            "Epoch 190/250\n",
            "178/178 [==============================] - 14s 74ms/step - loss: 31.0810 - mae: 4.7959 - val_loss: 30.9437 - val_mae: 4.7860\n",
            "Epoch 191/250\n",
            "178/178 [==============================] - 18s 100ms/step - loss: 30.9383 - mae: 4.7829 - val_loss: 31.0574 - val_mae: 4.7949\n",
            "Epoch 192/250\n",
            "178/178 [==============================] - 18s 101ms/step - loss: 30.8989 - mae: 4.7836 - val_loss: 30.8507 - val_mae: 4.7822\n",
            "Epoch 193/250\n",
            "178/178 [==============================] - 18s 100ms/step - loss: 30.8717 - mae: 4.7859 - val_loss: 30.8366 - val_mae: 4.7781\n",
            "Epoch 194/250\n",
            "178/178 [==============================] - 18s 101ms/step - loss: 30.8882 - mae: 4.7860 - val_loss: 30.8276 - val_mae: 4.7830\n",
            "Epoch 195/250\n",
            "178/178 [==============================] - 18s 101ms/step - loss: 30.7790 - mae: 4.7792 - val_loss: 30.9116 - val_mae: 4.7960\n",
            "Epoch 196/250\n",
            "178/178 [==============================] - 18s 100ms/step - loss: 30.8081 - mae: 4.7845 - val_loss: 30.8111 - val_mae: 4.7862\n",
            "Epoch 197/250\n",
            "178/178 [==============================] - 19s 102ms/step - loss: 30.7463 - mae: 4.7794 - val_loss: 30.7695 - val_mae: 4.7838\n",
            "Epoch 198/250\n",
            "178/178 [==============================] - 18s 101ms/step - loss: 30.7846 - mae: 4.7859 - val_loss: 30.8441 - val_mae: 4.7939\n",
            "Epoch 199/250\n",
            "178/178 [==============================] - 18s 100ms/step - loss: 30.6984 - mae: 4.7800 - val_loss: 30.7087 - val_mae: 4.7799\n",
            "Epoch 200/250\n",
            "178/178 [==============================] - 18s 101ms/step - loss: 30.6832 - mae: 4.7797 - val_loss: 30.7768 - val_mae: 4.7904\n",
            "Epoch 201/250\n",
            "178/178 [==============================] - 14s 75ms/step - loss: 30.6532 - mae: 4.7791 - val_loss: 30.7476 - val_mae: 4.7884\n",
            "Epoch 202/250\n",
            "178/178 [==============================] - 19s 101ms/step - loss: 30.6839 - mae: 4.7827 - val_loss: 30.5922 - val_mae: 4.7778\n",
            "Epoch 203/250\n",
            "178/178 [==============================] - 18s 99ms/step - loss: 30.5410 - mae: 4.7714 - val_loss: 30.5595 - val_mae: 4.7754\n",
            "Epoch 204/250\n",
            "178/178 [==============================] - 18s 100ms/step - loss: 30.5894 - mae: 4.7759 - val_loss: 30.5736 - val_mae: 4.7742\n",
            "Epoch 205/250\n",
            "178/178 [==============================] - 18s 100ms/step - loss: 30.5107 - mae: 4.7716 - val_loss: 30.4029 - val_mae: 4.7617\n",
            "Epoch 206/250\n",
            "178/178 [==============================] - 18s 99ms/step - loss: 30.5284 - mae: 4.7753 - val_loss: 30.4677 - val_mae: 4.7682\n",
            "Epoch 207/250\n",
            "178/178 [==============================] - 18s 98ms/step - loss: 30.4474 - mae: 4.7672 - val_loss: 30.4412 - val_mae: 4.7674\n",
            "Epoch 208/250\n",
            "178/178 [==============================] - 18s 98ms/step - loss: 30.5119 - mae: 4.7774 - val_loss: 30.4418 - val_mae: 4.7687\n",
            "Epoch 209/250\n",
            "178/178 [==============================] - 18s 100ms/step - loss: 30.4905 - mae: 4.7732 - val_loss: 30.4409 - val_mae: 4.7718\n",
            "Epoch 210/250\n",
            "178/178 [==============================] - 18s 98ms/step - loss: 30.4575 - mae: 4.7723 - val_loss: 30.3567 - val_mae: 4.7654\n",
            "Epoch 211/250\n",
            "178/178 [==============================] - 18s 100ms/step - loss: 30.4421 - mae: 4.7726 - val_loss: 30.3527 - val_mae: 4.7635\n",
            "Epoch 212/250\n",
            "178/178 [==============================] - 18s 101ms/step - loss: 30.4077 - mae: 4.7694 - val_loss: 30.4510 - val_mae: 4.7733\n",
            "Epoch 213/250\n",
            "178/178 [==============================] - 18s 101ms/step - loss: 30.3589 - mae: 4.7662 - val_loss: 30.3979 - val_mae: 4.7691\n",
            "Epoch 214/250\n",
            "178/178 [==============================] - 18s 99ms/step - loss: 30.3954 - mae: 4.7711 - val_loss: 30.4497 - val_mae: 4.7743\n",
            "Epoch 215/250\n",
            "178/178 [==============================] - 18s 100ms/step - loss: 30.4010 - mae: 4.7699 - val_loss: 30.4311 - val_mae: 4.7770\n",
            "Epoch 216/250\n",
            "178/178 [==============================] - 18s 101ms/step - loss: 30.4196 - mae: 4.7760 - val_loss: 30.2960 - val_mae: 4.7639\n",
            "Epoch 217/250\n",
            "178/178 [==============================] - 14s 74ms/step - loss: 30.3393 - mae: 4.7664 - val_loss: 30.2434 - val_mae: 4.7609\n",
            "Epoch 218/250\n",
            "178/178 [==============================] - 18s 99ms/step - loss: 30.3138 - mae: 4.7663 - val_loss: 30.4387 - val_mae: 4.7803\n",
            "Epoch 219/250\n",
            "178/178 [==============================] - 18s 99ms/step - loss: 30.2888 - mae: 4.7628 - val_loss: 30.3109 - val_mae: 4.7673\n",
            "Epoch 220/250\n",
            "178/178 [==============================] - 18s 100ms/step - loss: 30.2803 - mae: 4.7633 - val_loss: 30.3559 - val_mae: 4.7737\n",
            "Epoch 221/250\n",
            "178/178 [==============================] - 18s 100ms/step - loss: 30.2738 - mae: 4.7655 - val_loss: 30.3203 - val_mae: 4.7700\n",
            "Epoch 222/250\n",
            "178/178 [==============================] - 18s 101ms/step - loss: 30.2885 - mae: 4.7677 - val_loss: 30.3486 - val_mae: 4.7725\n",
            "Epoch 223/250\n",
            "178/178 [==============================] - 18s 101ms/step - loss: 30.2939 - mae: 4.7667 - val_loss: 30.0824 - val_mae: 4.7497\n",
            "Epoch 224/250\n",
            "178/178 [==============================] - 18s 100ms/step - loss: 30.1346 - mae: 4.7545 - val_loss: 30.2817 - val_mae: 4.7659\n",
            "Epoch 225/250\n",
            "178/178 [==============================] - 18s 101ms/step - loss: 30.2375 - mae: 4.7633 - val_loss: 30.1554 - val_mae: 4.7548\n",
            "Epoch 226/250\n",
            "178/178 [==============================] - 18s 101ms/step - loss: 30.2235 - mae: 4.7636 - val_loss: 30.2096 - val_mae: 4.7583\n",
            "Epoch 227/250\n",
            "178/178 [==============================] - 14s 74ms/step - loss: 30.2212 - mae: 4.7619 - val_loss: 30.1614 - val_mae: 4.7537\n",
            "Epoch 228/250\n",
            "178/178 [==============================] - 18s 100ms/step - loss: 30.2631 - mae: 4.7676 - val_loss: 30.2596 - val_mae: 4.7669\n",
            "Epoch 229/250\n",
            "178/178 [==============================] - 18s 101ms/step - loss: 30.1662 - mae: 4.7571 - val_loss: 30.2307 - val_mae: 4.7655\n",
            "Epoch 230/250\n",
            "178/178 [==============================] - 18s 101ms/step - loss: 30.1714 - mae: 4.7607 - val_loss: 30.0699 - val_mae: 4.7480\n",
            "Epoch 231/250\n",
            "178/178 [==============================] - 18s 101ms/step - loss: 30.2017 - mae: 4.7612 - val_loss: 30.1326 - val_mae: 4.7539\n",
            "Epoch 232/250\n",
            "178/178 [==============================] - 18s 100ms/step - loss: 30.2627 - mae: 4.7691 - val_loss: 30.1561 - val_mae: 4.7587\n",
            "Epoch 233/250\n",
            "178/178 [==============================] - 18s 100ms/step - loss: 30.1474 - mae: 4.7583 - val_loss: 30.2785 - val_mae: 4.7697\n",
            "Epoch 234/250\n",
            "178/178 [==============================] - 18s 101ms/step - loss: 30.1880 - mae: 4.7610 - val_loss: 30.1944 - val_mae: 4.7639\n",
            "Epoch 235/250\n",
            "178/178 [==============================] - 18s 101ms/step - loss: 30.1228 - mae: 4.7528 - val_loss: 30.0697 - val_mae: 4.7482\n",
            "Epoch 236/250\n",
            "178/178 [==============================] - 18s 100ms/step - loss: 30.1206 - mae: 4.7552 - val_loss: 30.1578 - val_mae: 4.7623\n",
            "Epoch 237/250\n",
            "178/178 [==============================] - 18s 100ms/step - loss: 30.0948 - mae: 4.7528 - val_loss: 30.2289 - val_mae: 4.7654\n",
            "Epoch 238/250\n",
            "178/178 [==============================] - 19s 102ms/step - loss: 30.0936 - mae: 4.7542 - val_loss: 30.1140 - val_mae: 4.7545\n",
            "Epoch 239/250\n",
            "178/178 [==============================] - 18s 100ms/step - loss: 30.1378 - mae: 4.7568 - val_loss: 30.2289 - val_mae: 4.7674\n",
            "Epoch 240/250\n",
            "178/178 [==============================] - 18s 100ms/step - loss: 30.0808 - mae: 4.7527 - val_loss: 30.2087 - val_mae: 4.7638\n",
            "Epoch 241/250\n",
            "178/178 [==============================] - 18s 99ms/step - loss: 30.1412 - mae: 4.7569 - val_loss: 30.0705 - val_mae: 4.7500\n",
            "Epoch 242/250\n",
            "178/178 [==============================] - 18s 100ms/step - loss: 30.1464 - mae: 4.7567 - val_loss: 30.2050 - val_mae: 4.7627\n",
            "Epoch 243/250\n",
            "178/178 [==============================] - 18s 101ms/step - loss: 30.0774 - mae: 4.7520 - val_loss: 30.1708 - val_mae: 4.7588\n",
            "Epoch 244/250\n",
            "178/178 [==============================] - 18s 99ms/step - loss: 30.0596 - mae: 4.7479 - val_loss: 30.1086 - val_mae: 4.7538\n",
            "Epoch 245/250\n",
            "178/178 [==============================] - 19s 102ms/step - loss: 29.9861 - mae: 4.7434 - val_loss: 30.1748 - val_mae: 4.7616\n",
            "Epoch 246/250\n",
            "178/178 [==============================] - 19s 103ms/step - loss: 30.0864 - mae: 4.7514 - val_loss: 30.1606 - val_mae: 4.7614\n",
            "Epoch 247/250\n",
            "178/178 [==============================] - 18s 101ms/step - loss: 30.0914 - mae: 4.7530 - val_loss: 30.0345 - val_mae: 4.7453\n",
            "Epoch 248/250\n",
            "178/178 [==============================] - 18s 101ms/step - loss: 29.9956 - mae: 4.7446 - val_loss: 30.1492 - val_mae: 4.7589\n",
            "Epoch 249/250\n",
            "178/178 [==============================] - 14s 74ms/step - loss: 30.0616 - mae: 4.7501 - val_loss: 30.0933 - val_mae: 4.7501\n",
            "Epoch 250/250\n",
            "178/178 [==============================] - 18s 100ms/step - loss: 30.0626 - mae: 4.7496 - val_loss: 30.0634 - val_mae: 4.7476\n"
          ]
        }
      ]
    },
    {
      "cell_type": "code",
      "source": [
        "loss = history.history['loss']\n",
        "val_loss = history.history['val_loss']\n",
        "mae = history.history['mae']\n",
        "val_mae = history.history['val_mae']\n",
        "\n",
        "\n",
        "epochs_x = range(len(loss))\n",
        "\n",
        "\n",
        "plt.plot(epochs_x, mae, 'o', color ='darkviolet', label='Training MAE')\n",
        "plt.plot(epochs_x, val_mae, 'k', label='Validation MAE')\n",
        "plt.title('Training and validation MeanAbsoluteError')\n",
        "plt.legend()\n",
        "\n",
        "plt.figure()\n",
        "plt.plot(epochs_x, loss, 'o', color ='darkviolet', label='Training loss')\n",
        "plt.plot(epochs_x, val_loss, 'k', label='Validation loss')\n",
        "plt.title('Training and validation loss')\n",
        "plt.legend()\n",
        "\n",
        "plt.show()"
      ],
      "metadata": {
        "id": "Y3K89-CM-dfg",
        "colab": {
          "base_uri": "https://localhost:8080/",
          "height": 887
        },
        "outputId": "824e46ac-0274-4c3c-d5b2-992663ad3d64"
      },
      "execution_count": null,
      "outputs": [
        {
          "output_type": "display_data",
          "data": {
            "text/plain": [
              "<Figure size 640x480 with 1 Axes>"
            ],
            "image/png": "[encoded data removed]"
          },
          "metadata": {}
        },
        {
          "output_type": "display_data",
          "data": {
            "text/plain": [
              "<Figure size 640x480 with 1 Axes>"
            ],
            "image/png": "[encoded data removed]"
          },
          "metadata": {}
        }
      ]
    },
    {
      "cell_type": "code",
      "source": [
        "epochs_x"
      ],
      "metadata": {
        "id": "N_sP_ZmSY-Jv",
        "colab": {
          "base_uri": "https://localhost:8080/"
        },
        "outputId": "3ef7aa17-cad8-416b-870d-b4b0c3ebf1e6"
      },
      "execution_count": null,
      "outputs": [
        {
          "output_type": "execute_result",
          "data": {
            "text/plain": [
              "range(0, 250)"
            ]
          },
          "metadata": {},
          "execution_count": 18
        }
      ]
    },
    {
      "cell_type": "markdown",
      "source": [
        "#Download the model\n"
      ],
      "metadata": {
        "id": "R19IJQSYoW7J"
      }
    },
    {
      "cell_type": "code",
      "source": [
        "os.makedirs('/content/drive/MyDrive/All_Data_Project/cut_panoramic/Model', exist_ok=True)\n",
        "model.save('/content/drive/MyDrive/All_Data_Project/cut_panoramic/Model/Regression/2Re_All_1G_1e-4_16_0.2_250.h5')"
      ],
      "metadata": {
        "id": "Zed4TdFcG2iJ"
      },
      "execution_count": null,
      "outputs": []
    },
    {
      "cell_type": "code",
      "source": [
        "# from google.colab import files\n",
        "# files.download('/content/drive/My Drive/cut_panoramic/Model/1.1_รอบแรก_Flimpano_Male125_250.h5')"
      ],
      "metadata": {
        "id": "P5eMxm1NV-oY"
      },
      "execution_count": null,
      "outputs": []
    },
    {
      "cell_type": "code",
      "source": [
        "\n"
      ],
      "metadata": {
        "id": "wY_pDlxkRwxS"
      },
      "execution_count": null,
      "outputs": []
    }
  ]
}