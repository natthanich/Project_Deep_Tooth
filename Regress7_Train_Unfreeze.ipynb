{
  "nbformat": 4,
  "nbformat_minor": 0,
  "metadata": {
    "colab": {
      "provenance": [],
      "machine_shape": "hm",
      "gpuType": "A100",
      "include_colab_link": true
    },
    "kernelspec": {
      "name": "python3",
      "display_name": "Python 3"
    },
    "language_info": {
      "name": "python"
    },
    "accelerator": "GPU",
    "gpuClass": "standard"
  },
  "cells": [
    {
      "cell_type": "markdown",
      "metadata": {
        "id": "view-in-github",
        "colab_type": "text"
      },
      "source": [
        "<a href=\"https://colab.research.google.com/github/natthanich/Project_Deep_Tooth/blob/main/Regress7_Train_Unfreeze.ipynb\" target=\"_parent\"><img src=\"https://colab.research.google.com/assets/colab-badge.svg\" alt=\"Open In Colab\"/></a>"
      ]
    },
    {
      "cell_type": "markdown",
      "source": [
        "#เรียกใช้ CSV"
      ],
      "metadata": {
        "id": "ow7eWoNw6U-c"
      }
    },
    {
      "cell_type": "code",
      "execution_count": 2,
      "metadata": {
        "id": "z8o_VVNXzcL8"
      },
      "outputs": [],
      "source": [
        "import pandas as pd\n",
        "import shutil"
      ]
    },
    {
      "cell_type": "code",
      "source": [
        "from google.colab import drive\n",
        "drive.mount('/content/drive')"
      ],
      "metadata": {
        "colab": {
          "base_uri": "https://localhost:8080/"
        },
        "id": "1_2Fe8u81d5r",
        "outputId": "81e91e48-5da4-4c75-d931-47aa063fe578"
      },
      "execution_count": 3,
      "outputs": [
        {
          "output_type": "stream",
          "name": "stdout",
          "text": [
            "Mounted at /content/drive\n"
          ]
        }
      ]
    },
    {
      "cell_type": "markdown",
      "source": [
        "#Imports"
      ],
      "metadata": {
        "id": "5qxePnnn7TGW"
      }
    },
    {
      "cell_type": "code",
      "source": [
        "from tensorflow.keras import models\n",
        "from tensorflow.keras import layers\n",
        "from tensorflow.keras import optimizers\n",
        "import os\n",
        "import glob\n",
        "import shutil\n",
        "import sys\n",
        "import numpy as np\n",
        "from skimage.io import imread\n",
        "import matplotlib.pyplot as plt\n",
        "from IPython.display import Image\n",
        "%matplotlib inline"
      ],
      "metadata": {
        "id": "D-hCRloc3t39"
      },
      "execution_count": 4,
      "outputs": []
    },
    {
      "cell_type": "code",
      "source": [
        "import tensorflow as tf\n",
        "from tensorflow.keras import Sequential\n",
        "from tensorflow.keras.layers import Dense\n",
        "from tensorflow.keras.optimizers import Adam\n",
        "from tensorflow.keras import backend as K"
      ],
      "metadata": {
        "id": "YZWXwjXeGxZP"
      },
      "execution_count": 5,
      "outputs": []
    },
    {
      "cell_type": "markdown",
      "source": [
        "#กำหนดค่าพารามิเตอร์\n"
      ],
      "metadata": {
        "id": "RooqSdBc7QHC"
      }
    },
    {
      "cell_type": "code",
      "source": [
        "batch_size = 16\n",
        "width = 150\n",
        "height = 150\n",
        "epochs = 250\n",
        "NUM_TRAIN = 2850\n",
        "NUM_TEST = 950\n",
        "dropout_rate = 0.2\n",
        "input_shape = (height, width, 3)"
      ],
      "metadata": {
        "id": "thDb7U9B3xOo"
      },
      "execution_count": 6,
      "outputs": []
    },
    {
      "cell_type": "markdown",
      "source": [
        "#Clone efficientnet repo\n"
      ],
      "metadata": {
        "id": "pumGmy6f3eSW"
      }
    },
    {
      "cell_type": "code",
      "source": [
        "#ดึงข้อมูลใน Github มาใช้\n",
        "import os\n",
        "%cd /content\n",
        "if not os.path.isdir(\"efficientnet_keras_transfer_learning\"):\n",
        " !git clone https://github.com/Wanita-8943/efficientnet_keras_transfer_learning\n",
        "%cd efficientnet_keras_transfer_learning/\n"
      ],
      "metadata": {
        "colab": {
          "base_uri": "https://localhost:8080/"
        },
        "id": "P7iy2f8n16p0",
        "outputId": "25f6abd5-823a-4494-c7c2-5a951cbf700d"
      },
      "execution_count": 7,
      "outputs": [
        {
          "output_type": "stream",
          "name": "stdout",
          "text": [
            "/content\n",
            "Cloning into 'efficientnet_keras_transfer_learning'...\n",
            "remote: Enumerating objects: 1100, done.\u001b[K\n",
            "remote: Counting objects: 100% (263/263), done.\u001b[K\n",
            "remote: Compressing objects: 100% (142/142), done.\u001b[K\n",
            "remote: Total 1100 (delta 133), reused 241 (delta 121), pack-reused 837\u001b[K\n",
            "Receiving objects: 100% (1100/1100), 14.10 MiB | 16.09 MiB/s, done.\n",
            "Resolving deltas: 100% (630/630), done.\n",
            "/content/efficientnet_keras_transfer_learning\n"
          ]
        }
      ]
    },
    {
      "cell_type": "code",
      "source": [
        "# Options: EfficientNetB0, EfficientNetB1, EfficientNetB2, EfficientNetB3\n",
        "# Higher the number, the more complex the model is.\n",
        "from efficientnet import EfficientNetB0 as Net\n",
        "from efficientnet import center_crop_and_resize, preprocess_input"
      ],
      "metadata": {
        "id": "tjZBRnfo3bN0"
      },
      "execution_count": 8,
      "outputs": []
    },
    {
      "cell_type": "code",
      "source": [
        "# loading pretrained conv base model\n",
        "# โหลดโมเดล มาโดยตัด output ของโมเดลออก เเต่ยังใช้ input อันเดิม\n",
        "# เเละโหลด weight ของโมเดล มาด้วยที่ชื่อว่า imagenet\n",
        "conv_base = Net(weights='imagenet', include_top=False, input_shape=input_shape)"
      ],
      "metadata": {
        "colab": {
          "base_uri": "https://localhost:8080/"
        },
        "id": "r8BN74_JJdfj",
        "outputId": "be6c0d4f-b1e6-45f9-be89-fcc776cce7a6"
      },
      "execution_count": 9,
      "outputs": [
        {
          "output_type": "stream",
          "name": "stdout",
          "text": [
            "Downloading data from https://github.com/qubvel/efficientnet/releases/download/v0.0.1/efficientnet-b0_imagenet_1000_notop.h5\n",
            "16717576/16717576 [==============================] - 1s 0us/step\n"
          ]
        }
      ]
    },
    {
      "cell_type": "markdown",
      "source": [
        "#load model\n"
      ],
      "metadata": {
        "id": "PdNWyD-QYkzK"
      }
    },
    {
      "cell_type": "code",
      "source": [
        "import sys\n",
        "sys.path.append('/content/drive/MyDrive/All_Data_Project/cut_panoramic/Model/Regression/6Re_All_1G_1e-4_16_0.2_250_New_Unfreez.h5')\n",
        "\n",
        "from efficientnet.layers import Swish, DropConnect\n",
        "from efficientnet.model import ConvKernalInitializer\n",
        "from tensorflow.keras.utils import get_custom_objects\n",
        "\n",
        "get_custom_objects().update({\n",
        "    'ConvKernalInitializer': ConvKernalInitializer,\n",
        "    'Swish': Swish,\n",
        "    'DropConnect':DropConnect\n",
        "})"
      ],
      "metadata": {
        "id": "_gPnx2UvYf5A"
      },
      "execution_count": 10,
      "outputs": []
    },
    {
      "cell_type": "code",
      "source": [
        "#load model \n",
        "from tensorflow.keras.models import load_model\n",
        "model = load_model('/content/drive/MyDrive/All_Data_Project/cut_panoramic/Model/Regression/6Re_All_1G_1e-4_16_0.2_250_New_Unfreez.h5')\n",
        "height = width = model.input_shape[1]"
      ],
      "metadata": {
        "id": "Nu93WzFUYm9e"
      },
      "execution_count": 11,
      "outputs": []
    },
    {
      "cell_type": "code",
      "source": [
        "model.summary()"
      ],
      "metadata": {
        "id": "gp5EbyyXYvc6",
        "colab": {
          "base_uri": "https://localhost:8080/"
        },
        "outputId": "c1e41f35-442e-4c38-9d81-7f3f8323bd5d"
      },
      "execution_count": 12,
      "outputs": [
        {
          "output_type": "stream",
          "name": "stdout",
          "text": [
            "Model: \"sequential\"\n",
            "_________________________________________________________________\n",
            " Layer (type)                Output Shape              Param #   \n",
            "=================================================================\n",
            " efficientnet-b0 (Functional  (None, 5, 5, 1280)       4049564   \n",
            " )                                                               \n",
            "                                                                 \n",
            " gap (GlobalMaxPooling2D)    (None, 1280)              0         \n",
            "                                                                 \n",
            " dropout_out (Dropout)       (None, 1280)              0         \n",
            "                                                                 \n",
            " fc_out (Dense)              (None, 19)                24339     \n",
            "                                                                 \n",
            " dense (Dense)               (None, 1)                 20        \n",
            "                                                                 \n",
            "=================================================================\n",
            "Total params: 4,073,923\n",
            "Trainable params: 4,031,907\n",
            "Non-trainable params: 42,016\n",
            "_________________________________________________________________\n"
          ]
        }
      ]
    },
    {
      "cell_type": "code",
      "source": [
        "df = pd.read_csv (r'/content/drive/MyDrive/All_Data_Project/cut_panoramic/Data/All_Re.csv')\n",
        "df"
      ],
      "metadata": {
        "id": "q1Dc131_Y3uA",
        "colab": {
          "base_uri": "https://localhost:8080/",
          "height": 423
        },
        "outputId": "b77d2b73-3c4a-42fb-95e3-96551a459f3b"
      },
      "execution_count": 13,
      "outputs": [
        {
          "output_type": "execute_result",
          "data": {
            "text/plain": [
              "      Fig_Age  Age(year) Class  Class_Re       Filename  \\\n",
              "0           1          7  Y07F         1         V1.jpg   \n",
              "1           2          7  Y07F         1    Flip_V1.jpg   \n",
              "2           3          7  Y07F         1         V2.jpg   \n",
              "3           4          7  Y07F         1    Flip_V2.jpg   \n",
              "4           5          7  Y07F         1         V3.jpg   \n",
              "...       ...        ...   ...       ...            ...   \n",
              "4745      121         25  Y25M        19  Flip_J463.jpg   \n",
              "4746      122         25  Y25M        19       J464.jpg   \n",
              "4747      123         25  Y25M        19  Flip_J464.jpg   \n",
              "4748      124         25  Y25M        19       J465.jpg   \n",
              "4749      125         25  Y25M        19  Flip_J465.jpg   \n",
              "\n",
              "                                          Path_filename     Sex Floder  \n",
              "0     /content/drive/My Drive/All_Data_Project/TVT_G...  Female   Both  \n",
              "1     /content/drive/My Drive/All_Data_Project/TVT_G...  Female   Both  \n",
              "2     /content/drive/My Drive/All_Data_Project/TVT_G...  Female   Both  \n",
              "3     /content/drive/My Drive/All_Data_Project/TVT_G...  Female   Both  \n",
              "4     /content/drive/My Drive/All_Data_Project/TVT_G...  Female   Both  \n",
              "...                                                 ...     ...    ...  \n",
              "4745  /content/drive/My Drive/All_Data_Project/TVT_G...    Male   Both  \n",
              "4746  /content/drive/My Drive/All_Data_Project/TVT_G...    Male   Both  \n",
              "4747  /content/drive/My Drive/All_Data_Project/TVT_G...    Male   Both  \n",
              "4748  /content/drive/My Drive/All_Data_Project/TVT_G...    Male   Both  \n",
              "4749  /content/drive/My Drive/All_Data_Project/TVT_G...    Male   Both  \n",
              "\n",
              "[4750 rows x 8 columns]"
            ],
            "text/html": [
              "\n",
              "  <div id=\"df-7fd8987b-7f7a-49f0-9f71-2d5983f56e38\">\n",
              "    <div class=\"colab-df-container\">\n",
              "      <div>\n",
              "<style scoped>\n",
              "    .dataframe tbody tr th:only-of-type {\n",
              "        vertical-align: middle;\n",
              "    }\n",
              "\n",
              "    .dataframe tbody tr th {\n",
              "        vertical-align: top;\n",
              "    }\n",
              "\n",
              "    .dataframe thead th {\n",
              "        text-align: right;\n",
              "    }\n",
              "</style>\n",
              "<table border=\"1\" class=\"dataframe\">\n",
              "  <thead>\n",
              "    <tr style=\"text-align: right;\">\n",
              "      <th></th>\n",
              "      <th>Fig_Age</th>\n",
              "      <th>Age(year)</th>\n",
              "      <th>Class</th>\n",
              "      <th>Class_Re</th>\n",
              "      <th>Filename</th>\n",
              "      <th>Path_filename</th>\n",
              "      <th>Sex</th>\n",
              "      <th>Floder</th>\n",
              "    </tr>\n",
              "  </thead>\n",
              "  <tbody>\n",
              "    <tr>\n",
              "      <th>0</th>\n",
              "      <td>1</td>\n",
              "      <td>7</td>\n",
              "      <td>Y07F</td>\n",
              "      <td>1</td>\n",
              "      <td>V1.jpg</td>\n",
              "      <td>/content/drive/My Drive/All_Data_Project/TVT_G...</td>\n",
              "      <td>Female</td>\n",
              "      <td>Both</td>\n",
              "    </tr>\n",
              "    <tr>\n",
              "      <th>1</th>\n",
              "      <td>2</td>\n",
              "      <td>7</td>\n",
              "      <td>Y07F</td>\n",
              "      <td>1</td>\n",
              "      <td>Flip_V1.jpg</td>\n",
              "      <td>/content/drive/My Drive/All_Data_Project/TVT_G...</td>\n",
              "      <td>Female</td>\n",
              "      <td>Both</td>\n",
              "    </tr>\n",
              "    <tr>\n",
              "      <th>2</th>\n",
              "      <td>3</td>\n",
              "      <td>7</td>\n",
              "      <td>Y07F</td>\n",
              "      <td>1</td>\n",
              "      <td>V2.jpg</td>\n",
              "      <td>/content/drive/My Drive/All_Data_Project/TVT_G...</td>\n",
              "      <td>Female</td>\n",
              "      <td>Both</td>\n",
              "    </tr>\n",
              "    <tr>\n",
              "      <th>3</th>\n",
              "      <td>4</td>\n",
              "      <td>7</td>\n",
              "      <td>Y07F</td>\n",
              "      <td>1</td>\n",
              "      <td>Flip_V2.jpg</td>\n",
              "      <td>/content/drive/My Drive/All_Data_Project/TVT_G...</td>\n",
              "      <td>Female</td>\n",
              "      <td>Both</td>\n",
              "    </tr>\n",
              "    <tr>\n",
              "      <th>4</th>\n",
              "      <td>5</td>\n",
              "      <td>7</td>\n",
              "      <td>Y07F</td>\n",
              "      <td>1</td>\n",
              "      <td>V3.jpg</td>\n",
              "      <td>/content/drive/My Drive/All_Data_Project/TVT_G...</td>\n",
              "      <td>Female</td>\n",
              "      <td>Both</td>\n",
              "    </tr>\n",
              "    <tr>\n",
              "      <th>...</th>\n",
              "      <td>...</td>\n",
              "      <td>...</td>\n",
              "      <td>...</td>\n",
              "      <td>...</td>\n",
              "      <td>...</td>\n",
              "      <td>...</td>\n",
              "      <td>...</td>\n",
              "      <td>...</td>\n",
              "    </tr>\n",
              "    <tr>\n",
              "      <th>4745</th>\n",
              "      <td>121</td>\n",
              "      <td>25</td>\n",
              "      <td>Y25M</td>\n",
              "      <td>19</td>\n",
              "      <td>Flip_J463.jpg</td>\n",
              "      <td>/content/drive/My Drive/All_Data_Project/TVT_G...</td>\n",
              "      <td>Male</td>\n",
              "      <td>Both</td>\n",
              "    </tr>\n",
              "    <tr>\n",
              "      <th>4746</th>\n",
              "      <td>122</td>\n",
              "      <td>25</td>\n",
              "      <td>Y25M</td>\n",
              "      <td>19</td>\n",
              "      <td>J464.jpg</td>\n",
              "      <td>/content/drive/My Drive/All_Data_Project/TVT_G...</td>\n",
              "      <td>Male</td>\n",
              "      <td>Both</td>\n",
              "    </tr>\n",
              "    <tr>\n",
              "      <th>4747</th>\n",
              "      <td>123</td>\n",
              "      <td>25</td>\n",
              "      <td>Y25M</td>\n",
              "      <td>19</td>\n",
              "      <td>Flip_J464.jpg</td>\n",
              "      <td>/content/drive/My Drive/All_Data_Project/TVT_G...</td>\n",
              "      <td>Male</td>\n",
              "      <td>Both</td>\n",
              "    </tr>\n",
              "    <tr>\n",
              "      <th>4748</th>\n",
              "      <td>124</td>\n",
              "      <td>25</td>\n",
              "      <td>Y25M</td>\n",
              "      <td>19</td>\n",
              "      <td>J465.jpg</td>\n",
              "      <td>/content/drive/My Drive/All_Data_Project/TVT_G...</td>\n",
              "      <td>Male</td>\n",
              "      <td>Both</td>\n",
              "    </tr>\n",
              "    <tr>\n",
              "      <th>4749</th>\n",
              "      <td>125</td>\n",
              "      <td>25</td>\n",
              "      <td>Y25M</td>\n",
              "      <td>19</td>\n",
              "      <td>Flip_J465.jpg</td>\n",
              "      <td>/content/drive/My Drive/All_Data_Project/TVT_G...</td>\n",
              "      <td>Male</td>\n",
              "      <td>Both</td>\n",
              "    </tr>\n",
              "  </tbody>\n",
              "</table>\n",
              "<p>4750 rows × 8 columns</p>\n",
              "</div>\n",
              "      <button class=\"colab-df-convert\" onclick=\"convertToInteractive('df-7fd8987b-7f7a-49f0-9f71-2d5983f56e38')\"\n",
              "              title=\"Convert this dataframe to an interactive table.\"\n",
              "              style=\"display:none;\">\n",
              "        \n",
              "  <svg xmlns=\"http://www.w3.org/2000/svg\" height=\"24px\"viewBox=\"0 0 24 24\"\n",
              "       width=\"24px\">\n",
              "    <path d=\"M0 0h24v24H0V0z\" fill=\"none\"/>\n",
              "    <path d=\"M18.56 5.44l.94 2.06.94-2.06 2.06-.94-2.06-.94-.94-2.06-.94 2.06-2.06.94zm-11 1L8.5 8.5l.94-2.06 2.06-.94-2.06-.94L8.5 2.5l-.94 2.06-2.06.94zm10 10l.94 2.06.94-2.06 2.06-.94-2.06-.94-.94-2.06-.94 2.06-2.06.94z\"/><path d=\"M17.41 7.96l-1.37-1.37c-.4-.4-.92-.59-1.43-.59-.52 0-1.04.2-1.43.59L10.3 9.45l-7.72 7.72c-.78.78-.78 2.05 0 2.83L4 21.41c.39.39.9.59 1.41.59.51 0 1.02-.2 1.41-.59l7.78-7.78 2.81-2.81c.8-.78.8-2.07 0-2.86zM5.41 20L4 18.59l7.72-7.72 1.47 1.35L5.41 20z\"/>\n",
              "  </svg>\n",
              "      </button>\n",
              "      \n",
              "  <style>\n",
              "    .colab-df-container {\n",
              "      display:flex;\n",
              "      flex-wrap:wrap;\n",
              "      gap: 12px;\n",
              "    }\n",
              "\n",
              "    .colab-df-convert {\n",
              "      background-color: #E8F0FE;\n",
              "      border: none;\n",
              "      border-radius: 50%;\n",
              "      cursor: pointer;\n",
              "      display: none;\n",
              "      fill: #1967D2;\n",
              "      height: 32px;\n",
              "      padding: 0 0 0 0;\n",
              "      width: 32px;\n",
              "    }\n",
              "\n",
              "    .colab-df-convert:hover {\n",
              "      background-color: #E2EBFA;\n",
              "      box-shadow: 0px 1px 2px rgba(60, 64, 67, 0.3), 0px 1px 3px 1px rgba(60, 64, 67, 0.15);\n",
              "      fill: #174EA6;\n",
              "    }\n",
              "\n",
              "    [theme=dark] .colab-df-convert {\n",
              "      background-color: #3B4455;\n",
              "      fill: #D2E3FC;\n",
              "    }\n",
              "\n",
              "    [theme=dark] .colab-df-convert:hover {\n",
              "      background-color: #434B5C;\n",
              "      box-shadow: 0px 1px 3px 1px rgba(0, 0, 0, 0.15);\n",
              "      filter: drop-shadow(0px 1px 2px rgba(0, 0, 0, 0.3));\n",
              "      fill: #FFFFFF;\n",
              "    }\n",
              "  </style>\n",
              "\n",
              "      <script>\n",
              "        const buttonEl =\n",
              "          document.querySelector('#df-7fd8987b-7f7a-49f0-9f71-2d5983f56e38 button.colab-df-convert');\n",
              "        buttonEl.style.display =\n",
              "          google.colab.kernel.accessAllowed ? 'block' : 'none';\n",
              "\n",
              "        async function convertToInteractive(key) {\n",
              "          const element = document.querySelector('#df-7fd8987b-7f7a-49f0-9f71-2d5983f56e38');\n",
              "          const dataTable =\n",
              "            await google.colab.kernel.invokeFunction('convertToInteractive',\n",
              "                                                     [key], {});\n",
              "          if (!dataTable) return;\n",
              "\n",
              "          const docLinkHtml = 'Like what you see? Visit the ' +\n",
              "            '<a target=\"_blank\" href=https://colab.research.google.com/notebooks/data_table.ipynb>data table notebook</a>'\n",
              "            + ' to learn more about interactive tables.';\n",
              "          element.innerHTML = '';\n",
              "          dataTable['output_type'] = 'display_data';\n",
              "          await google.colab.output.renderOutput(dataTable, element);\n",
              "          const docLink = document.createElement('div');\n",
              "          docLink.innerHTML = docLinkHtml;\n",
              "          element.appendChild(docLink);\n",
              "        }\n",
              "      </script>\n",
              "    </div>\n",
              "  </div>\n",
              "  "
            ]
          },
          "metadata": {},
          "execution_count": 13
        }
      ]
    },
    {
      "cell_type": "code",
      "source": [
        "train = df[df['Fig_Age'].between(1,75)]\n",
        "val = df[df['Fig_Age'].between(76,100)]"
      ],
      "metadata": {
        "id": "Z1zBw01Gl8Ac"
      },
      "execution_count": 14,
      "outputs": []
    },
    {
      "cell_type": "code",
      "source": [
        "DATA_PATH = \"/content/drive/MyDrive/All_Data_Project/TVT_Gender\"\n",
        "os.chdir(DATA_PATH)\n",
        "train_dir = os.path.join(DATA_PATH, 'train')\n",
        "print(train_dir)\n",
        "validation_dir = os.path.join(DATA_PATH, 'validation')\n",
        "print(validation_dir)"
      ],
      "metadata": {
        "colab": {
          "base_uri": "https://localhost:8080/"
        },
        "id": "QL0g-8iOnMC4",
        "outputId": "de5890c4-5d17-47eb-8f85-01db5f20414c"
      },
      "execution_count": 15,
      "outputs": [
        {
          "output_type": "stream",
          "name": "stdout",
          "text": [
            "/content/drive/MyDrive/All_Data_Project/TVT_Gender/train\n",
            "/content/drive/MyDrive/All_Data_Project/TVT_Gender/validation\n"
          ]
        }
      ]
    },
    {
      "cell_type": "markdown",
      "source": [
        "\n",
        "#Train"
      ],
      "metadata": {
        "id": "bWEnlTSwazL5"
      }
    },
    {
      "cell_type": "code",
      "source": [
        "# Train ด้วย ImageDataGenerator ของ Keras ซึ่งจะเพิ่มข้อมูลเสริมระหว่างการฝึกเพื่อลดโอกาสเกิด overfitting\n",
        "#overfitting เกิดจากข้อมูลที่ซับซ้อนกันเกินไป\n",
        "from tensorflow.keras.preprocessing.image import ImageDataGenerator\n",
        "\n",
        "train_datagen = ImageDataGenerator(\n",
        "      rescale=1./255, #โมเดลส่วนใหญ่ต้องใช้ RGB ในช่วง 0–1\n",
        "      rotation_range=40,\n",
        "      width_shift_range=0.2,\n",
        "      height_shift_range=0.2,\n",
        "      shear_range=0.2,\n",
        "      zoom_range=0.2,\n",
        "      horizontal_flip=True,\n",
        "      fill_mode='nearest')\n",
        "\n",
        "# Note that the validation data should not be augmented!\n",
        "test_datagen = ImageDataGenerator(rescale=1./255)"
      ],
      "metadata": {
        "id": "xGPrsn9no_pa"
      },
      "execution_count": 16,
      "outputs": []
    },
    {
      "cell_type": "code",
      "source": [
        "train_generator = train_datagen.flow_from_dataframe(\n",
        "        dataframe = train,\n",
        "        directory = train_dir,\n",
        "        x_col = 'Path_filename',\n",
        "        y_col = 'Age(year)',\n",
        "        class_mode = 'other',\n",
        "        target_size=(height, width),\n",
        "        batch_size=batch_size)\n",
        "\n",
        "validation_generator = test_datagen.flow_from_dataframe(\n",
        "        dataframe = val,\n",
        "        directory = validation_dir,\n",
        "        x_col = 'Path_filename',\n",
        "        y_col = 'Age(year)',\n",
        "        class_mode = 'other',\n",
        "        target_size=(height, width),\n",
        "        batch_size=batch_size)"
      ],
      "metadata": {
        "colab": {
          "base_uri": "https://localhost:8080/"
        },
        "id": "8nVlmAszntK_",
        "outputId": "7d71c2c0-0fa7-4677-9bd8-108a58a03cbf"
      },
      "execution_count": 17,
      "outputs": [
        {
          "output_type": "stream",
          "name": "stdout",
          "text": [
            "Found 2850 validated image filenames.\n",
            "Found 950 validated image filenames.\n"
          ]
        }
      ]
    },
    {
      "cell_type": "code",
      "source": [
        "model.summary()"
      ],
      "metadata": {
        "colab": {
          "base_uri": "https://localhost:8080/"
        },
        "id": "zzCdn3X4Jm_E",
        "outputId": "03a61490-a6bd-48db-a988-5aabf7edecc2"
      },
      "execution_count": 18,
      "outputs": [
        {
          "output_type": "stream",
          "name": "stdout",
          "text": [
            "Model: \"sequential\"\n",
            "_________________________________________________________________\n",
            " Layer (type)                Output Shape              Param #   \n",
            "=================================================================\n",
            " efficientnet-b0 (Functional  (None, 5, 5, 1280)       4049564   \n",
            " )                                                               \n",
            "                                                                 \n",
            " gap (GlobalMaxPooling2D)    (None, 1280)              0         \n",
            "                                                                 \n",
            " dropout_out (Dropout)       (None, 1280)              0         \n",
            "                                                                 \n",
            " fc_out (Dense)              (None, 19)                24339     \n",
            "                                                                 \n",
            " dense (Dense)               (None, 1)                 20        \n",
            "                                                                 \n",
            "=================================================================\n",
            "Total params: 4,073,923\n",
            "Trainable params: 4,031,907\n",
            "Non-trainable params: 42,016\n",
            "_________________________________________________________________\n"
          ]
        }
      ]
    },
    {
      "cell_type": "code",
      "source": [
        "model.compile(loss='mse',\n",
        "          optimizer=Adam(learning_rate=1e-4),\n",
        "          metrics=['mae'])\n",
        "history = model.fit_generator(\n",
        "      train_generator,\n",
        "      steps_per_epoch= NUM_TRAIN //batch_size,\n",
        "      epochs=epochs,\n",
        "      validation_data=validation_generator,\n",
        "      validation_steps= NUM_TEST //batch_size,\n",
        "      verbose=1,\n",
        "      use_multiprocessing=True,\n",
        "      workers=4)"
      ],
      "metadata": {
        "id": "N6qUmmF856ZE",
        "outputId": "84a72d87-ac9b-4356-834b-54a75bbcec03",
        "colab": {
          "base_uri": "https://localhost:8080/"
        }
      },
      "execution_count": 19,
      "outputs": [
        {
          "output_type": "stream",
          "name": "stderr",
          "text": [
            "<ipython-input-19-f59104fd3985>:4: UserWarning: `Model.fit_generator` is deprecated and will be removed in a future version. Please use `Model.fit`, which supports generators.\n",
            "  history = model.fit_generator(\n"
          ]
        },
        {
          "output_type": "stream",
          "name": "stdout",
          "text": [
            "Epoch 1/250\n",
            "178/178 [==============================] - 755s 4s/step - loss: 0.9774 - mae: 0.6986 - val_loss: 5.1724 - val_mae: 1.6282\n",
            "Epoch 2/250\n",
            "178/178 [==============================] - 18s 99ms/step - loss: 0.8333 - mae: 0.6606 - val_loss: 4.9031 - val_mae: 1.5906\n",
            "Epoch 3/250\n",
            "178/178 [==============================] - 18s 100ms/step - loss: 0.8846 - mae: 0.6676 - val_loss: 4.0847 - val_mae: 1.4577\n",
            "Epoch 4/250\n",
            "178/178 [==============================] - 18s 99ms/step - loss: 0.8985 - mae: 0.6697 - val_loss: 4.1396 - val_mae: 1.4835\n",
            "Epoch 5/250\n",
            "178/178 [==============================] - 18s 100ms/step - loss: 0.9793 - mae: 0.7022 - val_loss: 5.3469 - val_mae: 1.6590\n",
            "Epoch 6/250\n",
            "178/178 [==============================] - 18s 100ms/step - loss: 0.8934 - mae: 0.6675 - val_loss: 5.2399 - val_mae: 1.6411\n",
            "Epoch 7/250\n",
            "178/178 [==============================] - 18s 99ms/step - loss: 0.8022 - mae: 0.6426 - val_loss: 5.6440 - val_mae: 1.6866\n",
            "Epoch 8/250\n",
            "178/178 [==============================] - 18s 100ms/step - loss: 0.6943 - mae: 0.6090 - val_loss: 5.2325 - val_mae: 1.6466\n",
            "Epoch 9/250\n",
            "178/178 [==============================] - 18s 100ms/step - loss: 0.9421 - mae: 0.6944 - val_loss: 6.2805 - val_mae: 1.8125\n",
            "Epoch 10/250\n",
            "178/178 [==============================] - 18s 101ms/step - loss: 0.8287 - mae: 0.6597 - val_loss: 5.5790 - val_mae: 1.7029\n",
            "Epoch 11/250\n",
            "178/178 [==============================] - 18s 99ms/step - loss: 0.8464 - mae: 0.6473 - val_loss: 5.7583 - val_mae: 1.7484\n",
            "Epoch 12/250\n",
            "178/178 [==============================] - 18s 100ms/step - loss: 0.8246 - mae: 0.6291 - val_loss: 4.7442 - val_mae: 1.5925\n",
            "Epoch 13/250\n",
            "178/178 [==============================] - 18s 100ms/step - loss: 0.9127 - mae: 0.6627 - val_loss: 5.0254 - val_mae: 1.6158\n",
            "Epoch 14/250\n",
            "178/178 [==============================] - 18s 99ms/step - loss: 0.8458 - mae: 0.6634 - val_loss: 5.8669 - val_mae: 1.7447\n",
            "Epoch 15/250\n",
            "178/178 [==============================] - 18s 100ms/step - loss: 0.7775 - mae: 0.6313 - val_loss: 5.3095 - val_mae: 1.6602\n",
            "Epoch 16/250\n",
            "178/178 [==============================] - 18s 100ms/step - loss: 0.7720 - mae: 0.6306 - val_loss: 5.5865 - val_mae: 1.6782\n",
            "Epoch 17/250\n",
            "178/178 [==============================] - 18s 100ms/step - loss: 0.8560 - mae: 0.6449 - val_loss: 4.6287 - val_mae: 1.5619\n",
            "Epoch 18/250\n",
            "178/178 [==============================] - 18s 100ms/step - loss: 0.7637 - mae: 0.6203 - val_loss: 5.9875 - val_mae: 1.7639\n",
            "Epoch 19/250\n",
            "178/178 [==============================] - 18s 100ms/step - loss: 0.7660 - mae: 0.6281 - val_loss: 5.1878 - val_mae: 1.6532\n",
            "Epoch 20/250\n",
            "178/178 [==============================] - 18s 100ms/step - loss: 0.8221 - mae: 0.6353 - val_loss: 5.6137 - val_mae: 1.7063\n",
            "Epoch 21/250\n",
            "178/178 [==============================] - 18s 99ms/step - loss: 0.8328 - mae: 0.6410 - val_loss: 5.5600 - val_mae: 1.7202\n",
            "Epoch 22/250\n",
            "178/178 [==============================] - 18s 100ms/step - loss: 0.7135 - mae: 0.6106 - val_loss: 6.4269 - val_mae: 1.8199\n",
            "Epoch 23/250\n",
            "178/178 [==============================] - 18s 101ms/step - loss: 0.7471 - mae: 0.6101 - val_loss: 5.3404 - val_mae: 1.6679\n",
            "Epoch 24/250\n",
            "178/178 [==============================] - 18s 100ms/step - loss: 0.7478 - mae: 0.6085 - val_loss: 5.5040 - val_mae: 1.6898\n",
            "Epoch 25/250\n",
            "178/178 [==============================] - 18s 100ms/step - loss: 0.7833 - mae: 0.6245 - val_loss: 15.4844 - val_mae: 2.7677\n",
            "Epoch 26/250\n",
            "178/178 [==============================] - 19s 102ms/step - loss: 1.2275 - mae: 0.7666 - val_loss: 6.3347 - val_mae: 1.7986\n",
            "Epoch 27/250\n",
            "178/178 [==============================] - 19s 103ms/step - loss: 0.9078 - mae: 0.6718 - val_loss: 5.9584 - val_mae: 1.7470\n",
            "Epoch 28/250\n",
            "178/178 [==============================] - 19s 103ms/step - loss: 0.8581 - mae: 0.6677 - val_loss: 4.8564 - val_mae: 1.5678\n",
            "Epoch 29/250\n",
            "178/178 [==============================] - 19s 102ms/step - loss: 1.0735 - mae: 0.6980 - val_loss: 4.7235 - val_mae: 1.5524\n",
            "Epoch 30/250\n",
            "178/178 [==============================] - 19s 102ms/step - loss: 0.9086 - mae: 0.6645 - val_loss: 5.5418 - val_mae: 1.6712\n",
            "Epoch 31/250\n",
            "178/178 [==============================] - 19s 103ms/step - loss: 0.8919 - mae: 0.6649 - val_loss: 6.0336 - val_mae: 1.7552\n",
            "Epoch 32/250\n",
            "178/178 [==============================] - 19s 103ms/step - loss: 1.0017 - mae: 0.7015 - val_loss: 5.6115 - val_mae: 1.6897\n",
            "Epoch 33/250\n",
            "178/178 [==============================] - 19s 104ms/step - loss: 0.9132 - mae: 0.6742 - val_loss: 6.1571 - val_mae: 1.7820\n",
            "Epoch 34/250\n",
            "178/178 [==============================] - 19s 106ms/step - loss: 0.8705 - mae: 0.6532 - val_loss: 5.7455 - val_mae: 1.7117\n",
            "Epoch 35/250\n",
            "178/178 [==============================] - 15s 80ms/step - loss: 0.9182 - mae: 0.6636 - val_loss: 5.6958 - val_mae: 1.7193\n",
            "Epoch 36/250\n",
            "178/178 [==============================] - 19s 103ms/step - loss: 0.8810 - mae: 0.6413 - val_loss: 5.5335 - val_mae: 1.6911\n",
            "Epoch 37/250\n",
            "178/178 [==============================] - 19s 105ms/step - loss: 0.8111 - mae: 0.6297 - val_loss: 5.4239 - val_mae: 1.6837\n",
            "Epoch 38/250\n",
            "178/178 [==============================] - 19s 105ms/step - loss: 0.8002 - mae: 0.6283 - val_loss: 5.1018 - val_mae: 1.6390\n",
            "Epoch 39/250\n",
            "178/178 [==============================] - 19s 106ms/step - loss: 0.8654 - mae: 0.6415 - val_loss: 5.7234 - val_mae: 1.7158\n",
            "Epoch 40/250\n",
            "178/178 [==============================] - 19s 105ms/step - loss: 0.7670 - mae: 0.6180 - val_loss: 5.8404 - val_mae: 1.7321\n",
            "Epoch 41/250\n",
            "178/178 [==============================] - 19s 105ms/step - loss: 0.8053 - mae: 0.6233 - val_loss: 4.7580 - val_mae: 1.5765\n",
            "Epoch 42/250\n",
            "178/178 [==============================] - 19s 105ms/step - loss: 0.8523 - mae: 0.6270 - val_loss: 5.1378 - val_mae: 1.6390\n",
            "Epoch 43/250\n",
            "178/178 [==============================] - 19s 105ms/step - loss: 0.7514 - mae: 0.6123 - val_loss: 4.9214 - val_mae: 1.6074\n",
            "Epoch 44/250\n",
            "178/178 [==============================] - 19s 105ms/step - loss: 0.7141 - mae: 0.6043 - val_loss: 5.2854 - val_mae: 1.6518\n",
            "Epoch 45/250\n",
            "178/178 [==============================] - 19s 105ms/step - loss: 0.8099 - mae: 0.6104 - val_loss: 5.1574 - val_mae: 1.6543\n",
            "Epoch 46/250\n",
            "178/178 [==============================] - 19s 105ms/step - loss: 0.7856 - mae: 0.6113 - val_loss: 5.3507 - val_mae: 1.6856\n",
            "Epoch 47/250\n",
            "178/178 [==============================] - 19s 104ms/step - loss: 0.7364 - mae: 0.6029 - val_loss: 5.6442 - val_mae: 1.7032\n",
            "Epoch 48/250\n",
            "178/178 [==============================] - 19s 106ms/step - loss: 0.7102 - mae: 0.5998 - val_loss: 5.8120 - val_mae: 1.7318\n",
            "Epoch 49/250\n",
            "178/178 [==============================] - 19s 106ms/step - loss: 0.7214 - mae: 0.5931 - val_loss: 5.2673 - val_mae: 1.6641\n",
            "Epoch 50/250\n",
            "178/178 [==============================] - 19s 105ms/step - loss: 0.7759 - mae: 0.6099 - val_loss: 5.6165 - val_mae: 1.7088\n",
            "Epoch 51/250\n",
            "178/178 [==============================] - 19s 106ms/step - loss: 0.7525 - mae: 0.6071 - val_loss: 4.9531 - val_mae: 1.6504\n",
            "Epoch 52/250\n",
            "178/178 [==============================] - 19s 105ms/step - loss: 0.7608 - mae: 0.6055 - val_loss: 5.0328 - val_mae: 1.6201\n",
            "Epoch 53/250\n",
            "178/178 [==============================] - 19s 106ms/step - loss: 0.6861 - mae: 0.5924 - val_loss: 4.7696 - val_mae: 1.5812\n",
            "Epoch 54/250\n",
            "178/178 [==============================] - 19s 106ms/step - loss: 0.8070 - mae: 0.6349 - val_loss: 5.1035 - val_mae: 1.6397\n",
            "Epoch 55/250\n",
            "178/178 [==============================] - 19s 106ms/step - loss: 0.9626 - mae: 0.6785 - val_loss: 5.0587 - val_mae: 1.6300\n",
            "Epoch 56/250\n",
            "178/178 [==============================] - 19s 105ms/step - loss: 1.1029 - mae: 0.7279 - val_loss: 4.7668 - val_mae: 1.5820\n",
            "Epoch 57/250\n",
            "178/178 [==============================] - 19s 105ms/step - loss: 0.8638 - mae: 0.6629 - val_loss: 4.7007 - val_mae: 1.5849\n",
            "Epoch 58/250\n",
            "178/178 [==============================] - 19s 106ms/step - loss: 0.9210 - mae: 0.6870 - val_loss: 5.9273 - val_mae: 1.7466\n",
            "Epoch 59/250\n",
            "178/178 [==============================] - 19s 106ms/step - loss: 1.0844 - mae: 0.7043 - val_loss: 5.2895 - val_mae: 1.6538\n",
            "Epoch 60/250\n",
            "178/178 [==============================] - 19s 106ms/step - loss: 0.9719 - mae: 0.6631 - val_loss: 4.9220 - val_mae: 1.5830\n",
            "Epoch 61/250\n",
            "178/178 [==============================] - 19s 105ms/step - loss: 1.0508 - mae: 0.6763 - val_loss: 5.0298 - val_mae: 1.6128\n",
            "Epoch 62/250\n",
            "178/178 [==============================] - 19s 106ms/step - loss: 1.0277 - mae: 0.6638 - val_loss: 4.9114 - val_mae: 1.5982\n",
            "Epoch 63/250\n",
            "178/178 [==============================] - 19s 106ms/step - loss: 0.9266 - mae: 0.6824 - val_loss: 5.7156 - val_mae: 1.7140\n",
            "Epoch 64/250\n",
            "178/178 [==============================] - 19s 106ms/step - loss: 0.9494 - mae: 0.6593 - val_loss: 5.2859 - val_mae: 1.6580\n",
            "Epoch 65/250\n",
            "178/178 [==============================] - 19s 106ms/step - loss: 0.9203 - mae: 0.6385 - val_loss: 4.8305 - val_mae: 1.5746\n",
            "Epoch 66/250\n",
            "178/178 [==============================] - 19s 106ms/step - loss: 1.1880 - mae: 0.6944 - val_loss: 4.4648 - val_mae: 1.5433\n",
            "Epoch 67/250\n",
            "178/178 [==============================] - 19s 105ms/step - loss: 1.0873 - mae: 0.6615 - val_loss: 5.1460 - val_mae: 1.6460\n",
            "Epoch 68/250\n",
            "178/178 [==============================] - 19s 105ms/step - loss: 1.0065 - mae: 0.6461 - val_loss: 5.3915 - val_mae: 1.6567\n",
            "Epoch 69/250\n",
            "178/178 [==============================] - 19s 105ms/step - loss: 1.0467 - mae: 0.6810 - val_loss: 5.9240 - val_mae: 1.7356\n",
            "Epoch 70/250\n",
            "178/178 [==============================] - 19s 106ms/step - loss: 1.0167 - mae: 0.6682 - val_loss: 4.9381 - val_mae: 1.6028\n",
            "Epoch 71/250\n",
            "178/178 [==============================] - 19s 106ms/step - loss: 0.9268 - mae: 0.6635 - val_loss: 4.4662 - val_mae: 1.5164\n",
            "Epoch 72/250\n",
            "178/178 [==============================] - 19s 106ms/step - loss: 0.9093 - mae: 0.6390 - val_loss: 4.8582 - val_mae: 1.5749\n",
            "Epoch 73/250\n",
            "178/178 [==============================] - 19s 106ms/step - loss: 0.8440 - mae: 0.6305 - val_loss: 4.9930 - val_mae: 1.6068\n",
            "Epoch 74/250\n",
            "178/178 [==============================] - 19s 105ms/step - loss: 1.0064 - mae: 0.6430 - val_loss: 5.7854 - val_mae: 1.7211\n",
            "Epoch 75/250\n",
            "178/178 [==============================] - 19s 107ms/step - loss: 0.9500 - mae: 0.6669 - val_loss: 5.2989 - val_mae: 1.6598\n",
            "Epoch 76/250\n",
            "178/178 [==============================] - 19s 105ms/step - loss: 1.0515 - mae: 0.6599 - val_loss: 5.2684 - val_mae: 1.6632\n",
            "Epoch 77/250\n",
            "178/178 [==============================] - 19s 106ms/step - loss: 0.9943 - mae: 0.6507 - val_loss: 6.4736 - val_mae: 1.8170\n",
            "Epoch 78/250\n",
            "178/178 [==============================] - 19s 105ms/step - loss: 0.8081 - mae: 0.6179 - val_loss: 5.3787 - val_mae: 1.6780\n",
            "Epoch 79/250\n",
            "178/178 [==============================] - 19s 106ms/step - loss: 0.8297 - mae: 0.6240 - val_loss: 4.8500 - val_mae: 1.5963\n",
            "Epoch 80/250\n",
            "178/178 [==============================] - 19s 106ms/step - loss: 0.6842 - mae: 0.5870 - val_loss: 5.3632 - val_mae: 1.6751\n",
            "Epoch 81/250\n",
            "178/178 [==============================] - 19s 106ms/step - loss: 0.7956 - mae: 0.6222 - val_loss: 4.3569 - val_mae: 1.5359\n",
            "Epoch 82/250\n",
            "178/178 [==============================] - 19s 106ms/step - loss: 0.7482 - mae: 0.6148 - val_loss: 5.3551 - val_mae: 1.6981\n",
            "Epoch 83/250\n",
            "178/178 [==============================] - 19s 105ms/step - loss: 0.8157 - mae: 0.6382 - val_loss: 6.2420 - val_mae: 1.7790\n",
            "Epoch 84/250\n",
            "178/178 [==============================] - 19s 106ms/step - loss: 0.7802 - mae: 0.6096 - val_loss: 5.2014 - val_mae: 1.6424\n",
            "Epoch 85/250\n",
            "178/178 [==============================] - 19s 105ms/step - loss: 0.9062 - mae: 0.6469 - val_loss: 5.4775 - val_mae: 1.7070\n",
            "Epoch 86/250\n",
            "178/178 [==============================] - 19s 106ms/step - loss: 0.8815 - mae: 0.6550 - val_loss: 5.3639 - val_mae: 1.6681\n",
            "Epoch 87/250\n",
            "178/178 [==============================] - 19s 106ms/step - loss: 0.7982 - mae: 0.6156 - val_loss: 5.1505 - val_mae: 1.6345\n",
            "Epoch 88/250\n",
            "178/178 [==============================] - 19s 105ms/step - loss: 0.8941 - mae: 0.6496 - val_loss: 4.8933 - val_mae: 1.5994\n",
            "Epoch 89/250\n",
            "178/178 [==============================] - 19s 106ms/step - loss: 0.9167 - mae: 0.6417 - val_loss: 4.9005 - val_mae: 1.5723\n",
            "Epoch 90/250\n",
            "178/178 [==============================] - 19s 106ms/step - loss: 0.7843 - mae: 0.6131 - val_loss: 5.0953 - val_mae: 1.6416\n",
            "Epoch 91/250\n",
            "178/178 [==============================] - 19s 106ms/step - loss: 0.7546 - mae: 0.6042 - val_loss: 5.0760 - val_mae: 1.6140\n",
            "Epoch 92/250\n",
            "178/178 [==============================] - 19s 106ms/step - loss: 0.7499 - mae: 0.5928 - val_loss: 5.0009 - val_mae: 1.6207\n",
            "Epoch 93/250\n",
            "178/178 [==============================] - 19s 105ms/step - loss: 0.7466 - mae: 0.6002 - val_loss: 6.0306 - val_mae: 1.7537\n",
            "Epoch 94/250\n",
            "178/178 [==============================] - 19s 107ms/step - loss: 0.7396 - mae: 0.6038 - val_loss: 5.2250 - val_mae: 1.6567\n",
            "Epoch 95/250\n",
            "178/178 [==============================] - 19s 106ms/step - loss: 0.8646 - mae: 0.6037 - val_loss: 4.7591 - val_mae: 1.5761\n",
            "Epoch 96/250\n",
            "178/178 [==============================] - 19s 106ms/step - loss: 0.7289 - mae: 0.5929 - val_loss: 5.3049 - val_mae: 1.6675\n",
            "Epoch 97/250\n",
            "178/178 [==============================] - 19s 105ms/step - loss: 0.8890 - mae: 0.6417 - val_loss: 5.6877 - val_mae: 1.7398\n",
            "Epoch 98/250\n",
            "178/178 [==============================] - 19s 106ms/step - loss: 1.0420 - mae: 0.6723 - val_loss: 5.3463 - val_mae: 1.6848\n",
            "Epoch 99/250\n",
            "178/178 [==============================] - 19s 106ms/step - loss: 0.8820 - mae: 0.6434 - val_loss: 5.6637 - val_mae: 1.7161\n",
            "Epoch 100/250\n",
            "178/178 [==============================] - 19s 105ms/step - loss: 0.9027 - mae: 0.6385 - val_loss: 5.8025 - val_mae: 1.7418\n",
            "Epoch 101/250\n",
            "178/178 [==============================] - 19s 106ms/step - loss: 0.9586 - mae: 0.6553 - val_loss: 6.6043 - val_mae: 1.8418\n",
            "Epoch 102/250\n",
            "178/178 [==============================] - 19s 106ms/step - loss: 0.7743 - mae: 0.6264 - val_loss: 6.0847 - val_mae: 1.7594\n",
            "Epoch 103/250\n",
            "178/178 [==============================] - 19s 106ms/step - loss: 0.8271 - mae: 0.6279 - val_loss: 4.2324 - val_mae: 1.5122\n",
            "Epoch 104/250\n",
            "178/178 [==============================] - 19s 105ms/step - loss: 1.0148 - mae: 0.6905 - val_loss: 6.2033 - val_mae: 1.7797\n",
            "Epoch 105/250\n",
            "178/178 [==============================] - 19s 105ms/step - loss: 0.9333 - mae: 0.6737 - val_loss: 6.2920 - val_mae: 1.8000\n",
            "Epoch 106/250\n",
            "178/178 [==============================] - 19s 106ms/step - loss: 0.8561 - mae: 0.6458 - val_loss: 5.5429 - val_mae: 1.7103\n",
            "Epoch 107/250\n",
            "178/178 [==============================] - 19s 106ms/step - loss: 0.9511 - mae: 0.6636 - val_loss: 6.6123 - val_mae: 1.8597\n",
            "Epoch 108/250\n",
            "178/178 [==============================] - 19s 105ms/step - loss: 0.8304 - mae: 0.6423 - val_loss: 5.8717 - val_mae: 1.7539\n",
            "Epoch 109/250\n",
            "178/178 [==============================] - 15s 80ms/step - loss: 0.8669 - mae: 0.6437 - val_loss: 6.2425 - val_mae: 1.8177\n",
            "Epoch 110/250\n",
            "178/178 [==============================] - 19s 106ms/step - loss: 0.9198 - mae: 0.6552 - val_loss: 6.5482 - val_mae: 1.8368\n",
            "Epoch 111/250\n",
            "178/178 [==============================] - 19s 105ms/step - loss: 0.9850 - mae: 0.6661 - val_loss: 6.3520 - val_mae: 1.8191\n",
            "Epoch 112/250\n",
            "178/178 [==============================] - 19s 105ms/step - loss: 0.7673 - mae: 0.6212 - val_loss: 6.0700 - val_mae: 1.7600\n",
            "Epoch 113/250\n",
            "178/178 [==============================] - 19s 105ms/step - loss: 0.8669 - mae: 0.6214 - val_loss: 6.9649 - val_mae: 1.8790\n",
            "Epoch 114/250\n",
            "178/178 [==============================] - 19s 106ms/step - loss: 0.9802 - mae: 0.6506 - val_loss: 6.7245 - val_mae: 1.9004\n",
            "Epoch 115/250\n",
            "178/178 [==============================] - 19s 106ms/step - loss: 0.9398 - mae: 0.6867 - val_loss: 6.4954 - val_mae: 1.8326\n",
            "Epoch 116/250\n",
            "178/178 [==============================] - 19s 106ms/step - loss: 0.7892 - mae: 0.6261 - val_loss: 5.4057 - val_mae: 1.6939\n",
            "Epoch 117/250\n",
            "178/178 [==============================] - 19s 105ms/step - loss: 0.7792 - mae: 0.6262 - val_loss: 4.7090 - val_mae: 1.5934\n",
            "Epoch 118/250\n",
            "178/178 [==============================] - 19s 106ms/step - loss: 0.8981 - mae: 0.6538 - val_loss: 5.4363 - val_mae: 1.7022\n",
            "Epoch 119/250\n",
            "178/178 [==============================] - 19s 105ms/step - loss: 0.9028 - mae: 0.6582 - val_loss: 6.5159 - val_mae: 1.8427\n",
            "Epoch 120/250\n",
            "178/178 [==============================] - 19s 105ms/step - loss: 0.8078 - mae: 0.6281 - val_loss: 6.9794 - val_mae: 1.8870\n",
            "Epoch 121/250\n",
            "178/178 [==============================] - 19s 105ms/step - loss: 0.8265 - mae: 0.6307 - val_loss: 6.3787 - val_mae: 1.8193\n",
            "Epoch 122/250\n",
            "178/178 [==============================] - 19s 106ms/step - loss: 0.8659 - mae: 0.6405 - val_loss: 5.7132 - val_mae: 1.6915\n",
            "Epoch 123/250\n",
            "178/178 [==============================] - 19s 106ms/step - loss: 0.7496 - mae: 0.6139 - val_loss: 5.9285 - val_mae: 1.7324\n",
            "Epoch 124/250\n",
            "178/178 [==============================] - 19s 105ms/step - loss: 0.7663 - mae: 0.6123 - val_loss: 6.7488 - val_mae: 1.8642\n",
            "Epoch 125/250\n",
            "178/178 [==============================] - 19s 106ms/step - loss: 0.8067 - mae: 0.6167 - val_loss: 7.0105 - val_mae: 1.8900\n",
            "Epoch 126/250\n",
            "178/178 [==============================] - 19s 106ms/step - loss: 0.7568 - mae: 0.6035 - val_loss: 6.4874 - val_mae: 1.8095\n",
            "Epoch 127/250\n",
            "178/178 [==============================] - 19s 106ms/step - loss: 0.8304 - mae: 0.6298 - val_loss: 7.7281 - val_mae: 1.9712\n",
            "Epoch 128/250\n",
            "178/178 [==============================] - 19s 106ms/step - loss: 0.7931 - mae: 0.6123 - val_loss: 8.0647 - val_mae: 2.0215\n",
            "Epoch 129/250\n",
            "178/178 [==============================] - 19s 107ms/step - loss: 0.8309 - mae: 0.6346 - val_loss: 6.5806 - val_mae: 1.8537\n",
            "Epoch 130/250\n",
            "178/178 [==============================] - 19s 106ms/step - loss: 0.7414 - mae: 0.6046 - val_loss: 6.7992 - val_mae: 1.8568\n",
            "Epoch 131/250\n",
            "178/178 [==============================] - 19s 107ms/step - loss: 0.7479 - mae: 0.5964 - val_loss: 6.6466 - val_mae: 1.8419\n",
            "Epoch 132/250\n",
            "178/178 [==============================] - 19s 105ms/step - loss: 0.8228 - mae: 0.6195 - val_loss: 9.0232 - val_mae: 2.1629\n",
            "Epoch 133/250\n",
            "178/178 [==============================] - 19s 105ms/step - loss: 0.7952 - mae: 0.6150 - val_loss: 6.0030 - val_mae: 1.7592\n",
            "Epoch 134/250\n",
            "178/178 [==============================] - 19s 106ms/step - loss: 0.8120 - mae: 0.6188 - val_loss: 7.1496 - val_mae: 1.8872\n",
            "Epoch 135/250\n",
            "178/178 [==============================] - 19s 106ms/step - loss: 0.7832 - mae: 0.6059 - val_loss: 6.1254 - val_mae: 1.7635\n",
            "Epoch 136/250\n",
            "178/178 [==============================] - 19s 105ms/step - loss: 0.7953 - mae: 0.6129 - val_loss: 5.8662 - val_mae: 1.7342\n",
            "Epoch 137/250\n",
            "178/178 [==============================] - 19s 106ms/step - loss: 0.7361 - mae: 0.5877 - val_loss: 5.2583 - val_mae: 1.6439\n",
            "Epoch 138/250\n",
            "178/178 [==============================] - 19s 106ms/step - loss: 0.6951 - mae: 0.5823 - val_loss: 5.8335 - val_mae: 1.7265\n",
            "Epoch 139/250\n",
            "178/178 [==============================] - 19s 106ms/step - loss: 0.9905 - mae: 0.6580 - val_loss: 5.0590 - val_mae: 1.6169\n",
            "Epoch 140/250\n",
            "178/178 [==============================] - 20s 107ms/step - loss: 1.0486 - mae: 0.6782 - val_loss: 5.6870 - val_mae: 1.7276\n",
            "Epoch 141/250\n",
            "178/178 [==============================] - 19s 105ms/step - loss: 0.8281 - mae: 0.6316 - val_loss: 4.8994 - val_mae: 1.5975\n",
            "Epoch 142/250\n",
            "178/178 [==============================] - 19s 105ms/step - loss: 0.9359 - mae: 0.6383 - val_loss: 5.1753 - val_mae: 1.6511\n",
            "Epoch 143/250\n",
            "178/178 [==============================] - 19s 106ms/step - loss: 0.8969 - mae: 0.6283 - val_loss: 5.6101 - val_mae: 1.7026\n",
            "Epoch 144/250\n",
            "178/178 [==============================] - 19s 105ms/step - loss: 0.8873 - mae: 0.6203 - val_loss: 6.5139 - val_mae: 1.8280\n",
            "Epoch 145/250\n",
            "178/178 [==============================] - 19s 106ms/step - loss: 0.8282 - mae: 0.6075 - val_loss: 6.5576 - val_mae: 1.8270\n",
            "Epoch 146/250\n",
            "178/178 [==============================] - 19s 106ms/step - loss: 0.7340 - mae: 0.5907 - val_loss: 5.4857 - val_mae: 1.6772\n",
            "Epoch 147/250\n",
            "178/178 [==============================] - 19s 106ms/step - loss: 0.7979 - mae: 0.6102 - val_loss: 8.5576 - val_mae: 2.0978\n",
            "Epoch 148/250\n",
            "178/178 [==============================] - 19s 106ms/step - loss: 0.8524 - mae: 0.6265 - val_loss: 6.7105 - val_mae: 1.8631\n",
            "Epoch 149/250\n",
            "178/178 [==============================] - 19s 106ms/step - loss: 0.8289 - mae: 0.6106 - val_loss: 4.9128 - val_mae: 1.6047\n",
            "Epoch 150/250\n",
            "178/178 [==============================] - 19s 106ms/step - loss: 0.7918 - mae: 0.6067 - val_loss: 6.6472 - val_mae: 1.8334\n",
            "Epoch 151/250\n",
            "178/178 [==============================] - 19s 106ms/step - loss: 0.7951 - mae: 0.6128 - val_loss: 5.5368 - val_mae: 1.6983\n",
            "Epoch 152/250\n",
            "178/178 [==============================] - 19s 106ms/step - loss: 0.7422 - mae: 0.5910 - val_loss: 5.4594 - val_mae: 1.7096\n",
            "Epoch 153/250\n",
            "178/178 [==============================] - 19s 107ms/step - loss: 0.7476 - mae: 0.6024 - val_loss: 5.5579 - val_mae: 1.6957\n",
            "Epoch 154/250\n",
            "178/178 [==============================] - 19s 105ms/step - loss: 0.8762 - mae: 0.6319 - val_loss: 6.2610 - val_mae: 1.7978\n",
            "Epoch 155/250\n",
            "178/178 [==============================] - 19s 106ms/step - loss: 0.7713 - mae: 0.6100 - val_loss: 5.5220 - val_mae: 1.6956\n",
            "Epoch 156/250\n",
            "178/178 [==============================] - 19s 106ms/step - loss: 0.7300 - mae: 0.5974 - val_loss: 5.9512 - val_mae: 1.7543\n",
            "Epoch 157/250\n",
            "178/178 [==============================] - 19s 106ms/step - loss: 0.6990 - mae: 0.5957 - val_loss: 5.3220 - val_mae: 1.6532\n",
            "Epoch 158/250\n",
            "178/178 [==============================] - 19s 106ms/step - loss: 0.6463 - mae: 0.5655 - val_loss: 5.8052 - val_mae: 1.7115\n",
            "Epoch 159/250\n",
            "178/178 [==============================] - 19s 106ms/step - loss: 0.6943 - mae: 0.5849 - val_loss: 5.8754 - val_mae: 1.7293\n",
            "Epoch 160/250\n",
            "178/178 [==============================] - 19s 105ms/step - loss: 0.7103 - mae: 0.5826 - val_loss: 5.1550 - val_mae: 1.6367\n",
            "Epoch 161/250\n",
            "178/178 [==============================] - 19s 106ms/step - loss: 0.7278 - mae: 0.5917 - val_loss: 5.6166 - val_mae: 1.6941\n",
            "Epoch 162/250\n",
            "178/178 [==============================] - 19s 106ms/step - loss: 0.6825 - mae: 0.5898 - val_loss: 5.4831 - val_mae: 1.6961\n",
            "Epoch 163/250\n",
            "178/178 [==============================] - 19s 106ms/step - loss: 0.6762 - mae: 0.5833 - val_loss: 5.7084 - val_mae: 1.7078\n",
            "Epoch 164/250\n",
            "178/178 [==============================] - 19s 106ms/step - loss: 0.6397 - mae: 0.5714 - val_loss: 5.6500 - val_mae: 1.6970\n",
            "Epoch 165/250\n",
            "178/178 [==============================] - 19s 107ms/step - loss: 0.6582 - mae: 0.5765 - val_loss: 5.5623 - val_mae: 1.6901\n",
            "Epoch 166/250\n",
            "178/178 [==============================] - 19s 106ms/step - loss: 0.6006 - mae: 0.5527 - val_loss: 5.5298 - val_mae: 1.6841\n",
            "Epoch 167/250\n",
            "178/178 [==============================] - 19s 105ms/step - loss: 0.7109 - mae: 0.5783 - val_loss: 5.1135 - val_mae: 1.6494\n",
            "Epoch 168/250\n",
            "178/178 [==============================] - 19s 106ms/step - loss: 0.7394 - mae: 0.5970 - val_loss: 5.5767 - val_mae: 1.7114\n",
            "Epoch 169/250\n",
            "178/178 [==============================] - 19s 106ms/step - loss: 0.7067 - mae: 0.5802 - val_loss: 5.6516 - val_mae: 1.7361\n",
            "Epoch 170/250\n",
            "178/178 [==============================] - 19s 106ms/step - loss: 0.7161 - mae: 0.5770 - val_loss: 5.7555 - val_mae: 1.7464\n",
            "Epoch 171/250\n",
            "178/178 [==============================] - 19s 106ms/step - loss: 0.6361 - mae: 0.5664 - val_loss: 5.8939 - val_mae: 1.7419\n",
            "Epoch 172/250\n",
            "178/178 [==============================] - 19s 105ms/step - loss: 0.6889 - mae: 0.5727 - val_loss: 4.7709 - val_mae: 1.5644\n",
            "Epoch 173/250\n",
            "178/178 [==============================] - 19s 106ms/step - loss: 0.6828 - mae: 0.5808 - val_loss: 6.7037 - val_mae: 1.8173\n",
            "Epoch 174/250\n",
            "178/178 [==============================] - 19s 105ms/step - loss: 0.7232 - mae: 0.5867 - val_loss: 4.8400 - val_mae: 1.5995\n",
            "Epoch 175/250\n",
            "178/178 [==============================] - 19s 105ms/step - loss: 0.6158 - mae: 0.5594 - val_loss: 5.3094 - val_mae: 1.6480\n",
            "Epoch 176/250\n",
            "178/178 [==============================] - 19s 106ms/step - loss: 0.6172 - mae: 0.5619 - val_loss: 6.8157 - val_mae: 1.8636\n",
            "Epoch 177/250\n",
            "178/178 [==============================] - 19s 106ms/step - loss: 0.7376 - mae: 0.5902 - val_loss: 5.6375 - val_mae: 1.7190\n",
            "Epoch 178/250\n",
            "178/178 [==============================] - 19s 106ms/step - loss: 0.7346 - mae: 0.5884 - val_loss: 5.3087 - val_mae: 1.6649\n",
            "Epoch 179/250\n",
            "178/178 [==============================] - 19s 105ms/step - loss: 0.6094 - mae: 0.5534 - val_loss: 6.1044 - val_mae: 1.7859\n",
            "Epoch 180/250\n",
            "178/178 [==============================] - 19s 106ms/step - loss: 0.6515 - mae: 0.5694 - val_loss: 5.7630 - val_mae: 1.7352\n",
            "Epoch 181/250\n",
            "178/178 [==============================] - 19s 105ms/step - loss: 0.6781 - mae: 0.5706 - val_loss: 5.8050 - val_mae: 1.7290\n",
            "Epoch 182/250\n",
            "178/178 [==============================] - 19s 105ms/step - loss: 0.6388 - mae: 0.5595 - val_loss: 5.8481 - val_mae: 1.7615\n",
            "Epoch 183/250\n",
            "178/178 [==============================] - 19s 105ms/step - loss: 0.7807 - mae: 0.5874 - val_loss: 5.6549 - val_mae: 1.7116\n",
            "Epoch 184/250\n",
            "178/178 [==============================] - 19s 106ms/step - loss: 0.7287 - mae: 0.5783 - val_loss: 7.5616 - val_mae: 1.9402\n",
            "Epoch 185/250\n",
            "178/178 [==============================] - 19s 106ms/step - loss: 0.7677 - mae: 0.6080 - val_loss: 5.3145 - val_mae: 1.6366\n",
            "Epoch 186/250\n",
            "178/178 [==============================] - 19s 106ms/step - loss: 0.7359 - mae: 0.5977 - val_loss: 6.3304 - val_mae: 1.8149\n",
            "Epoch 187/250\n",
            "178/178 [==============================] - 19s 105ms/step - loss: 0.7647 - mae: 0.6137 - val_loss: 6.5631 - val_mae: 1.8177\n",
            "Epoch 188/250\n",
            "178/178 [==============================] - 19s 106ms/step - loss: 0.8254 - mae: 0.6071 - val_loss: 8.9061 - val_mae: 1.9119\n",
            "Epoch 189/250\n",
            "178/178 [==============================] - 19s 106ms/step - loss: 0.7300 - mae: 0.5974 - val_loss: 5.6828 - val_mae: 1.7094\n",
            "Epoch 190/250\n",
            "178/178 [==============================] - 19s 105ms/step - loss: 0.7838 - mae: 0.5948 - val_loss: 5.4021 - val_mae: 1.6700\n",
            "Epoch 191/250\n",
            "178/178 [==============================] - 19s 106ms/step - loss: 0.8263 - mae: 0.6130 - val_loss: 5.4732 - val_mae: 1.6886\n",
            "Epoch 192/250\n",
            "178/178 [==============================] - 19s 106ms/step - loss: 0.7187 - mae: 0.5963 - val_loss: 6.5604 - val_mae: 1.8361\n",
            "Epoch 193/250\n",
            "178/178 [==============================] - 19s 106ms/step - loss: 0.8021 - mae: 0.5950 - val_loss: 7.2985 - val_mae: 1.9343\n",
            "Epoch 194/250\n",
            "178/178 [==============================] - 19s 105ms/step - loss: 0.7132 - mae: 0.5879 - val_loss: 7.7167 - val_mae: 1.9691\n",
            "Epoch 195/250\n",
            "178/178 [==============================] - 19s 106ms/step - loss: 0.6919 - mae: 0.5795 - val_loss: 7.1201 - val_mae: 1.9222\n",
            "Epoch 196/250\n",
            "178/178 [==============================] - 19s 106ms/step - loss: 0.8176 - mae: 0.6139 - val_loss: 8.4486 - val_mae: 2.0109\n",
            "Epoch 197/250\n",
            "178/178 [==============================] - 19s 106ms/step - loss: 0.7931 - mae: 0.6120 - val_loss: 6.8799 - val_mae: 1.8268\n",
            "Epoch 198/250\n",
            "178/178 [==============================] - 19s 106ms/step - loss: 0.8745 - mae: 0.6176 - val_loss: 6.1964 - val_mae: 1.7441\n",
            "Epoch 199/250\n",
            "178/178 [==============================] - 20s 107ms/step - loss: 0.8048 - mae: 0.5917 - val_loss: 6.3870 - val_mae: 1.7860\n",
            "Epoch 200/250\n",
            "178/178 [==============================] - 19s 106ms/step - loss: 0.7600 - mae: 0.5946 - val_loss: 5.4988 - val_mae: 1.6803\n",
            "Epoch 201/250\n",
            "178/178 [==============================] - 20s 107ms/step - loss: 0.6920 - mae: 0.5731 - val_loss: 6.4610 - val_mae: 1.8239\n",
            "Epoch 202/250\n",
            "178/178 [==============================] - 19s 106ms/step - loss: 0.6172 - mae: 0.5521 - val_loss: 5.7816 - val_mae: 1.7117\n",
            "Epoch 203/250\n",
            "178/178 [==============================] - 19s 107ms/step - loss: 0.7021 - mae: 0.5860 - val_loss: 6.9729 - val_mae: 1.8778\n",
            "Epoch 204/250\n",
            "178/178 [==============================] - 19s 106ms/step - loss: 0.7145 - mae: 0.5761 - val_loss: 6.2386 - val_mae: 1.7686\n",
            "Epoch 205/250\n",
            "178/178 [==============================] - 19s 106ms/step - loss: 0.7647 - mae: 0.5851 - val_loss: 6.2436 - val_mae: 1.7680\n",
            "Epoch 206/250\n",
            "178/178 [==============================] - 19s 106ms/step - loss: 0.8561 - mae: 0.5926 - val_loss: 5.0643 - val_mae: 1.6139\n",
            "Epoch 207/250\n",
            "178/178 [==============================] - 19s 105ms/step - loss: 0.8046 - mae: 0.6082 - val_loss: 6.6211 - val_mae: 1.8248\n",
            "Epoch 208/250\n",
            "178/178 [==============================] - 19s 106ms/step - loss: 0.7631 - mae: 0.5989 - val_loss: 5.4258 - val_mae: 1.6848\n",
            "Epoch 209/250\n",
            "178/178 [==============================] - 19s 106ms/step - loss: 0.7015 - mae: 0.5766 - val_loss: 4.8344 - val_mae: 1.5854\n",
            "Epoch 210/250\n",
            "178/178 [==============================] - 19s 106ms/step - loss: 0.6585 - mae: 0.5567 - val_loss: 5.9655 - val_mae: 1.7406\n",
            "Epoch 211/250\n",
            "178/178 [==============================] - 19s 106ms/step - loss: 0.7022 - mae: 0.5649 - val_loss: 4.3224 - val_mae: 1.5003\n",
            "Epoch 212/250\n",
            "178/178 [==============================] - 19s 106ms/step - loss: 0.6723 - mae: 0.5713 - val_loss: 4.8773 - val_mae: 1.5608\n",
            "Epoch 213/250\n",
            "178/178 [==============================] - 19s 106ms/step - loss: 0.6613 - mae: 0.5663 - val_loss: 5.8917 - val_mae: 1.7151\n",
            "Epoch 214/250\n",
            "178/178 [==============================] - 19s 106ms/step - loss: 0.7262 - mae: 0.5746 - val_loss: 6.4116 - val_mae: 1.7692\n",
            "Epoch 215/250\n",
            "178/178 [==============================] - 19s 105ms/step - loss: 0.7929 - mae: 0.6073 - val_loss: 5.2866 - val_mae: 1.6406\n",
            "Epoch 216/250\n",
            "178/178 [==============================] - 19s 106ms/step - loss: 0.7368 - mae: 0.5943 - val_loss: 5.1264 - val_mae: 1.5944\n",
            "Epoch 217/250\n",
            "178/178 [==============================] - 19s 106ms/step - loss: 0.6684 - mae: 0.5696 - val_loss: 5.2042 - val_mae: 1.6276\n",
            "Epoch 218/250\n",
            "178/178 [==============================] - 19s 106ms/step - loss: 0.6457 - mae: 0.5547 - val_loss: 4.7649 - val_mae: 1.5448\n",
            "Epoch 219/250\n",
            "178/178 [==============================] - 19s 105ms/step - loss: 0.5783 - mae: 0.5376 - val_loss: 5.4141 - val_mae: 1.6365\n",
            "Epoch 220/250\n",
            "178/178 [==============================] - 19s 106ms/step - loss: 0.7295 - mae: 0.5753 - val_loss: 5.1441 - val_mae: 1.5828\n",
            "Epoch 221/250\n",
            "178/178 [==============================] - 19s 105ms/step - loss: 0.8030 - mae: 0.5908 - val_loss: 6.0658 - val_mae: 1.7433\n",
            "Epoch 222/250\n",
            "178/178 [==============================] - 19s 105ms/step - loss: 0.7567 - mae: 0.5909 - val_loss: 5.7289 - val_mae: 1.7139\n",
            "Epoch 223/250\n",
            "178/178 [==============================] - 19s 106ms/step - loss: 0.8731 - mae: 0.6094 - val_loss: 25.7510 - val_mae: 3.7485\n",
            "Epoch 224/250\n",
            "178/178 [==============================] - 19s 105ms/step - loss: 1.1934 - mae: 0.7486 - val_loss: 8.6336 - val_mae: 2.0839\n",
            "Epoch 225/250\n",
            "178/178 [==============================] - 19s 105ms/step - loss: 0.7929 - mae: 0.6365 - val_loss: 7.0721 - val_mae: 1.8943\n",
            "Epoch 226/250\n",
            "178/178 [==============================] - 19s 106ms/step - loss: 0.7822 - mae: 0.6218 - val_loss: 6.6962 - val_mae: 1.8073\n",
            "Epoch 227/250\n",
            "178/178 [==============================] - 19s 106ms/step - loss: 0.8246 - mae: 0.6121 - val_loss: 6.6048 - val_mae: 1.8060\n",
            "Epoch 228/250\n",
            "178/178 [==============================] - 19s 106ms/step - loss: 0.7502 - mae: 0.6029 - val_loss: 6.5720 - val_mae: 1.8098\n",
            "Epoch 229/250\n",
            "178/178 [==============================] - 20s 107ms/step - loss: 1.7338 - mae: 0.6869 - val_loss: 6.3477 - val_mae: 1.7497\n",
            "Epoch 230/250\n",
            "178/178 [==============================] - 19s 106ms/step - loss: 0.9583 - mae: 0.6432 - val_loss: 6.3007 - val_mae: 1.7858\n",
            "Epoch 231/250\n",
            "178/178 [==============================] - 19s 106ms/step - loss: 0.8806 - mae: 0.6139 - val_loss: 6.0431 - val_mae: 1.7465\n",
            "Epoch 232/250\n",
            "178/178 [==============================] - 19s 106ms/step - loss: 0.7431 - mae: 0.5938 - val_loss: 6.7551 - val_mae: 1.8243\n",
            "Epoch 233/250\n",
            "178/178 [==============================] - 19s 106ms/step - loss: 0.8905 - mae: 0.6354 - val_loss: 8.1091 - val_mae: 1.9757\n",
            "Epoch 234/250\n",
            "178/178 [==============================] - 19s 105ms/step - loss: 0.8157 - mae: 0.6121 - val_loss: 7.6310 - val_mae: 1.9188\n",
            "Epoch 235/250\n",
            "178/178 [==============================] - 19s 106ms/step - loss: 0.8419 - mae: 0.5931 - val_loss: 7.2443 - val_mae: 1.8743\n",
            "Epoch 236/250\n",
            "178/178 [==============================] - 19s 106ms/step - loss: 0.8149 - mae: 0.6082 - val_loss: 8.6274 - val_mae: 2.0611\n",
            "Epoch 237/250\n",
            "178/178 [==============================] - 19s 106ms/step - loss: 0.7372 - mae: 0.5943 - val_loss: 7.2073 - val_mae: 1.9080\n",
            "Epoch 238/250\n",
            "178/178 [==============================] - 19s 106ms/step - loss: 0.7367 - mae: 0.5784 - val_loss: 6.6630 - val_mae: 1.8303\n",
            "Epoch 239/250\n",
            "178/178 [==============================] - 19s 107ms/step - loss: 0.6907 - mae: 0.5726 - val_loss: 6.7435 - val_mae: 1.8382\n",
            "Epoch 240/250\n",
            "178/178 [==============================] - 19s 106ms/step - loss: 0.6591 - mae: 0.5602 - val_loss: 6.7917 - val_mae: 1.8303\n",
            "Epoch 241/250\n",
            "178/178 [==============================] - 19s 106ms/step - loss: 0.6837 - mae: 0.5595 - val_loss: 5.9191 - val_mae: 1.7277\n",
            "Epoch 242/250\n",
            "178/178 [==============================] - 19s 106ms/step - loss: 0.6894 - mae: 0.5746 - val_loss: 6.4584 - val_mae: 1.8044\n",
            "Epoch 243/250\n",
            "178/178 [==============================] - 19s 105ms/step - loss: 0.6977 - mae: 0.5811 - val_loss: 6.4668 - val_mae: 1.8136\n",
            "Epoch 244/250\n",
            "178/178 [==============================] - 19s 105ms/step - loss: 0.8113 - mae: 0.6192 - val_loss: 6.3662 - val_mae: 1.7772\n",
            "Epoch 245/250\n",
            "178/178 [==============================] - 19s 105ms/step - loss: 0.6534 - mae: 0.5737 - val_loss: 6.3145 - val_mae: 1.7861\n",
            "Epoch 246/250\n",
            "178/178 [==============================] - 19s 106ms/step - loss: 0.6932 - mae: 0.5756 - val_loss: 6.1419 - val_mae: 1.7413\n",
            "Epoch 247/250\n",
            "178/178 [==============================] - 19s 106ms/step - loss: 0.7497 - mae: 0.5777 - val_loss: 6.8957 - val_mae: 1.8514\n",
            "Epoch 248/250\n",
            "178/178 [==============================] - 19s 105ms/step - loss: 0.6702 - mae: 0.5590 - val_loss: 6.2469 - val_mae: 1.7508\n",
            "Epoch 249/250\n",
            "178/178 [==============================] - 19s 106ms/step - loss: 0.6901 - mae: 0.5703 - val_loss: 5.5935 - val_mae: 1.6936\n",
            "Epoch 250/250\n",
            "178/178 [==============================] - 19s 106ms/step - loss: 0.7074 - mae: 0.5657 - val_loss: 7.4874 - val_mae: 1.9632\n"
          ]
        }
      ]
    },
    {
      "cell_type": "code",
      "source": [
        "loss = history.history['loss']\n",
        "val_loss = history.history['val_loss']\n",
        "mae = history.history['mae']\n",
        "val_mae = history.history['val_mae']\n",
        "\n",
        "\n",
        "epochs_x = range(len(loss))\n",
        "\n",
        "\n",
        "plt.plot(epochs_x, mae, 'o', color ='darkviolet', label='Training MAE')\n",
        "plt.plot(epochs_x, val_mae, 'k', label='Validation MAE')\n",
        "plt.title('Training and validation MeanAbsoluteError')\n",
        "plt.legend()\n",
        "\n",
        "plt.figure()\n",
        "plt.plot(epochs_x, loss, 'o', color ='darkviolet', label='Training loss')\n",
        "plt.plot(epochs_x, val_loss, 'k', label='Validation loss')\n",
        "plt.title('Training and validation loss')\n",
        "plt.legend()\n",
        "\n",
        "plt.show()"
      ],
      "metadata": {
        "id": "Y3K89-CM-dfg",
        "colab": {
          "base_uri": "https://localhost:8080/",
          "height": 887
        },
        "outputId": "cf2ce1b1-43c8-48f0-e9e6-d35f26b2ffcf"
      },
      "execution_count": 20,
      "outputs": [
        {
          "output_type": "display_data",
          "data": {
            "text/plain": [
              "<Figure size 640x480 with 1 Axes>"
            ],
            "image/png": "[encoded data removed]"
          },
          "metadata": {}
        },
        {
          "output_type": "display_data",
          "data": {
            "text/plain": [
              "<Figure size 640x480 with 1 Axes>"
            ],
            "image/png": "[encoded data removed]"
          },
          "metadata": {}
        }
      ]
    },
    {
      "cell_type": "code",
      "source": [],
      "metadata": {
        "id": "sI5JVEwwQsjc"
      },
      "execution_count": 20,
      "outputs": []
    },
    {
      "cell_type": "code",
      "source": [
        "epochs_x"
      ],
      "metadata": {
        "id": "N_sP_ZmSY-Jv",
        "colab": {
          "base_uri": "https://localhost:8080/"
        },
        "outputId": "07c3b93d-1f75-4c6d-8f0a-e91a63e2d5cc"
      },
      "execution_count": 21,
      "outputs": [
        {
          "output_type": "execute_result",
          "data": {
            "text/plain": [
              "range(0, 250)"
            ]
          },
          "metadata": {},
          "execution_count": 21
        }
      ]
    },
    {
      "cell_type": "markdown",
      "source": [
        "#Download the model\n"
      ],
      "metadata": {
        "id": "R19IJQSYoW7J"
      }
    },
    {
      "cell_type": "code",
      "source": [
        "os.makedirs('/content/drive/MyDrive/All_Data_Project/cut_panoramic/Model', exist_ok=True)\n",
        "model.save('/content/drive/MyDrive/All_Data_Project/cut_panoramic/Model/Regression/7Re_All_1G_1e-4_16_0.2_250_New_Unfreez.h5')"
      ],
      "metadata": {
        "id": "Zed4TdFcG2iJ"
      },
      "execution_count": 22,
      "outputs": []
    },
    {
      "cell_type": "markdown",
      "source": [],
      "metadata": {
        "id": "n5YxZ-5QjQ0-"
      }
    },
    {
      "cell_type": "code",
      "source": [
        "# from google.colab import files\n",
        "# files.download('/content/drive/My Drive/cut_panoramic/Model/1.1_รอบแรก_Flimpano_Male125_250.h5')"
      ],
      "metadata": {
        "id": "P5eMxm1NV-oY"
      },
      "execution_count": 23,
      "outputs": []
    },
    {
      "cell_type": "code",
      "source": [
        "\n"
      ],
      "metadata": {
        "id": "wY_pDlxkRwxS"
      },
      "execution_count": 23,
      "outputs": []
    }
  ]
}