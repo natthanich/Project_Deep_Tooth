{
  "nbformat": 4,
  "nbformat_minor": 0,
  "metadata": {
    "colab": {
      "provenance": [],
      "machine_shape": "hm",
      "gpuType": "T4",
      "include_colab_link": true
    },
    "kernelspec": {
      "name": "python3",
      "display_name": "Python 3"
    },
    "language_info": {
      "name": "python"
    },
    "accelerator": "GPU",
    "gpuClass": "standard"
  },
  "cells": [
    {
      "cell_type": "markdown",
      "metadata": {
        "id": "view-in-github",
        "colab_type": "text"
      },
      "source": [
        "<a href=\"https://colab.research.google.com/github/natthanich/Project_Deep_Tooth/blob/main/Regress5_Train_Unfreez.ipynb\" target=\"_parent\"><img src=\"https://colab.research.google.com/assets/colab-badge.svg\" alt=\"Open In Colab\"/></a>"
      ]
    },
    {
      "cell_type": "markdown",
      "source": [
        "#เรียกใช้ CSV"
      ],
      "metadata": {
        "id": "ow7eWoNw6U-c"
      }
    },
    {
      "cell_type": "code",
      "execution_count": 1,
      "metadata": {
        "id": "z8o_VVNXzcL8"
      },
      "outputs": [],
      "source": [
        "import pandas as pd\n",
        "import shutil"
      ]
    },
    {
      "cell_type": "code",
      "source": [
        "from google.colab import drive\n",
        "drive.mount('/content/drive')"
      ],
      "metadata": {
        "colab": {
          "base_uri": "https://localhost:8080/"
        },
        "id": "1_2Fe8u81d5r",
        "outputId": "e8d935ee-2a5d-4e8f-ece0-43a72f0ad109"
      },
      "execution_count": 2,
      "outputs": [
        {
          "output_type": "stream",
          "name": "stdout",
          "text": [
            "Mounted at /content/drive\n"
          ]
        }
      ]
    },
    {
      "cell_type": "markdown",
      "source": [
        "#Imports"
      ],
      "metadata": {
        "id": "5qxePnnn7TGW"
      }
    },
    {
      "cell_type": "code",
      "source": [
        "from tensorflow.keras import models\n",
        "from tensorflow.keras import layers\n",
        "from tensorflow.keras import optimizers\n",
        "import os\n",
        "import glob\n",
        "import shutil\n",
        "import sys\n",
        "import numpy as np\n",
        "from skimage.io import imread\n",
        "import matplotlib.pyplot as plt\n",
        "from IPython.display import Image\n",
        "%matplotlib inline"
      ],
      "metadata": {
        "id": "D-hCRloc3t39"
      },
      "execution_count": 3,
      "outputs": []
    },
    {
      "cell_type": "code",
      "source": [
        "import tensorflow as tf\n",
        "from tensorflow.keras import Sequential\n",
        "from tensorflow.keras.layers import Dense\n",
        "from tensorflow.keras.optimizers import Adam\n",
        "from tensorflow.keras import backend as K"
      ],
      "metadata": {
        "id": "YZWXwjXeGxZP"
      },
      "execution_count": 4,
      "outputs": []
    },
    {
      "cell_type": "markdown",
      "source": [
        "#กำหนดค่าพารามิเตอร์\n"
      ],
      "metadata": {
        "id": "RooqSdBc7QHC"
      }
    },
    {
      "cell_type": "code",
      "source": [
        "batch_size = 16\n",
        "width = 150\n",
        "height = 150\n",
        "epochs = 250\n",
        "NUM_TRAIN = 2850\n",
        "NUM_TEST = 950\n",
        "dropout_rate = 0.2\n",
        "input_shape = (height, width, 3)"
      ],
      "metadata": {
        "id": "thDb7U9B3xOo"
      },
      "execution_count": 5,
      "outputs": []
    },
    {
      "cell_type": "markdown",
      "source": [
        "#Clone efficientnet repo\n"
      ],
      "metadata": {
        "id": "pumGmy6f3eSW"
      }
    },
    {
      "cell_type": "code",
      "source": [
        "#ดึงข้อมูลใน Github มาใช้\n",
        "import os\n",
        "%cd /content\n",
        "if not os.path.isdir(\"efficientnet_keras_transfer_learning\"):\n",
        " !git clone https://github.com/Wanita-8943/efficientnet_keras_transfer_learning\n",
        "%cd efficientnet_keras_transfer_learning/\n"
      ],
      "metadata": {
        "colab": {
          "base_uri": "https://localhost:8080/"
        },
        "id": "P7iy2f8n16p0",
        "outputId": "d797d93c-c766-4bf6-ee87-15e35bdbe212"
      },
      "execution_count": 6,
      "outputs": [
        {
          "output_type": "stream",
          "name": "stdout",
          "text": [
            "/content\n",
            "Cloning into 'efficientnet_keras_transfer_learning'...\n",
            "remote: Enumerating objects: 1100, done.\u001b[K\n",
            "remote: Counting objects: 100% (263/263), done.\u001b[K\n",
            "remote: Compressing objects: 100% (142/142), done.\u001b[K\n",
            "remote: Total 1100 (delta 133), reused 241 (delta 121), pack-reused 837\u001b[K\n",
            "Receiving objects: 100% (1100/1100), 14.10 MiB | 12.03 MiB/s, done.\n",
            "Resolving deltas: 100% (630/630), done.\n",
            "/content/efficientnet_keras_transfer_learning\n"
          ]
        }
      ]
    },
    {
      "cell_type": "code",
      "source": [
        "# Options: EfficientNetB0, EfficientNetB1, EfficientNetB2, EfficientNetB3\n",
        "# Higher the number, the more complex the model is.\n",
        "from efficientnet import EfficientNetB0 as Net\n",
        "from efficientnet import center_crop_and_resize, preprocess_input"
      ],
      "metadata": {
        "id": "tjZBRnfo3bN0"
      },
      "execution_count": 7,
      "outputs": []
    },
    {
      "cell_type": "code",
      "source": [
        "# loading pretrained conv base model\n",
        "# โหลดโมเดล มาโดยตัด output ของโมเดลออก เเต่ยังใช้ input อันเดิม\n",
        "# เเละโหลด weight ของโมเดล มาด้วยที่ชื่อว่า imagenet\n",
        "conv_base = Net(weights='imagenet', include_top=False, input_shape=input_shape)"
      ],
      "metadata": {
        "colab": {
          "base_uri": "https://localhost:8080/"
        },
        "id": "r8BN74_JJdfj",
        "outputId": "7225fd3f-7477-4bc5-9d9a-52da32b0efae"
      },
      "execution_count": 8,
      "outputs": [
        {
          "output_type": "stream",
          "name": "stdout",
          "text": [
            "Downloading data from https://github.com/qubvel/efficientnet/releases/download/v0.0.1/efficientnet-b0_imagenet_1000_notop.h5\n",
            "16717576/16717576 [==============================] - 1s 0us/step\n"
          ]
        }
      ]
    },
    {
      "cell_type": "markdown",
      "source": [
        "#load model\n"
      ],
      "metadata": {
        "id": "PdNWyD-QYkzK"
      }
    },
    {
      "cell_type": "code",
      "source": [
        "import sys\n",
        "sys.path.append('/content/drive/MyDrive/All_Data_Project/cut_panoramic/Model/Regression/4Re_All_1G_1e-4_16_0.2_250_New_Unfreez.h5')\n",
        "\n",
        "from efficientnet.layers import Swish, DropConnect\n",
        "from efficientnet.model import ConvKernalInitializer\n",
        "from tensorflow.keras.utils import get_custom_objects\n",
        "\n",
        "get_custom_objects().update({\n",
        "    'ConvKernalInitializer': ConvKernalInitializer,\n",
        "    'Swish': Swish,\n",
        "    'DropConnect':DropConnect\n",
        "})"
      ],
      "metadata": {
        "id": "_gPnx2UvYf5A"
      },
      "execution_count": 9,
      "outputs": []
    },
    {
      "cell_type": "code",
      "source": [
        "#load model \n",
        "from tensorflow.keras.models import load_model\n",
        "model = load_model('/content/drive/MyDrive/All_Data_Project/cut_panoramic/Model/Regression/4Re_All_1G_1e-4_16_0.2_250_New_Unfreez.h5')\n",
        "height = width = model.input_shape[1]"
      ],
      "metadata": {
        "id": "Nu93WzFUYm9e"
      },
      "execution_count": 10,
      "outputs": []
    },
    {
      "cell_type": "code",
      "source": [
        "model.summary()"
      ],
      "metadata": {
        "id": "gp5EbyyXYvc6",
        "colab": {
          "base_uri": "https://localhost:8080/"
        },
        "outputId": "748782aa-831b-4f4d-fb99-d8d2aee8c202"
      },
      "execution_count": 11,
      "outputs": [
        {
          "output_type": "stream",
          "name": "stdout",
          "text": [
            "Model: \"sequential\"\n",
            "_________________________________________________________________\n",
            " Layer (type)                Output Shape              Param #   \n",
            "=================================================================\n",
            " efficientnet-b0 (Functional  (None, 5, 5, 1280)       4049564   \n",
            " )                                                               \n",
            "                                                                 \n",
            " gap (GlobalMaxPooling2D)    (None, 1280)              0         \n",
            "                                                                 \n",
            " dropout_out (Dropout)       (None, 1280)              0         \n",
            "                                                                 \n",
            " fc_out (Dense)              (None, 19)                24339     \n",
            "                                                                 \n",
            " dense (Dense)               (None, 1)                 20        \n",
            "                                                                 \n",
            "=================================================================\n",
            "Total params: 4,073,923\n",
            "Trainable params: 4,031,907\n",
            "Non-trainable params: 42,016\n",
            "_________________________________________________________________\n"
          ]
        }
      ]
    },
    {
      "cell_type": "code",
      "source": [
        "df = pd.read_csv (r'/content/drive/MyDrive/All_Data_Project/cut_panoramic/Data/All_Re.csv')\n",
        "df"
      ],
      "metadata": {
        "id": "q1Dc131_Y3uA",
        "colab": {
          "base_uri": "https://localhost:8080/",
          "height": 423
        },
        "outputId": "9d6d1c5b-ec5a-46b3-ab95-11ded4fe9c30"
      },
      "execution_count": 12,
      "outputs": [
        {
          "output_type": "execute_result",
          "data": {
            "text/plain": [
              "      Fig_Age  Age(year) Class  Class_Re       Filename  \\\n",
              "0           1          7  Y07F         1         V1.jpg   \n",
              "1           2          7  Y07F         1    Flip_V1.jpg   \n",
              "2           3          7  Y07F         1         V2.jpg   \n",
              "3           4          7  Y07F         1    Flip_V2.jpg   \n",
              "4           5          7  Y07F         1         V3.jpg   \n",
              "...       ...        ...   ...       ...            ...   \n",
              "4745      121         25  Y25M        19  Flip_J463.jpg   \n",
              "4746      122         25  Y25M        19       J464.jpg   \n",
              "4747      123         25  Y25M        19  Flip_J464.jpg   \n",
              "4748      124         25  Y25M        19       J465.jpg   \n",
              "4749      125         25  Y25M        19  Flip_J465.jpg   \n",
              "\n",
              "                                          Path_filename     Sex Floder  \n",
              "0     /content/drive/My Drive/All_Data_Project/TVT_G...  Female   Both  \n",
              "1     /content/drive/My Drive/All_Data_Project/TVT_G...  Female   Both  \n",
              "2     /content/drive/My Drive/All_Data_Project/TVT_G...  Female   Both  \n",
              "3     /content/drive/My Drive/All_Data_Project/TVT_G...  Female   Both  \n",
              "4     /content/drive/My Drive/All_Data_Project/TVT_G...  Female   Both  \n",
              "...                                                 ...     ...    ...  \n",
              "4745  /content/drive/My Drive/All_Data_Project/TVT_G...    Male   Both  \n",
              "4746  /content/drive/My Drive/All_Data_Project/TVT_G...    Male   Both  \n",
              "4747  /content/drive/My Drive/All_Data_Project/TVT_G...    Male   Both  \n",
              "4748  /content/drive/My Drive/All_Data_Project/TVT_G...    Male   Both  \n",
              "4749  /content/drive/My Drive/All_Data_Project/TVT_G...    Male   Both  \n",
              "\n",
              "[4750 rows x 8 columns]"
            ],
            "text/html": [
              "\n",
              "  <div id=\"df-b03e8d28-5395-4fbe-b654-fe9e97735995\">\n",
              "    <div class=\"colab-df-container\">\n",
              "      <div>\n",
              "<style scoped>\n",
              "    .dataframe tbody tr th:only-of-type {\n",
              "        vertical-align: middle;\n",
              "    }\n",
              "\n",
              "    .dataframe tbody tr th {\n",
              "        vertical-align: top;\n",
              "    }\n",
              "\n",
              "    .dataframe thead th {\n",
              "        text-align: right;\n",
              "    }\n",
              "</style>\n",
              "<table border=\"1\" class=\"dataframe\">\n",
              "  <thead>\n",
              "    <tr style=\"text-align: right;\">\n",
              "      <th></th>\n",
              "      <th>Fig_Age</th>\n",
              "      <th>Age(year)</th>\n",
              "      <th>Class</th>\n",
              "      <th>Class_Re</th>\n",
              "      <th>Filename</th>\n",
              "      <th>Path_filename</th>\n",
              "      <th>Sex</th>\n",
              "      <th>Floder</th>\n",
              "    </tr>\n",
              "  </thead>\n",
              "  <tbody>\n",
              "    <tr>\n",
              "      <th>0</th>\n",
              "      <td>1</td>\n",
              "      <td>7</td>\n",
              "      <td>Y07F</td>\n",
              "      <td>1</td>\n",
              "      <td>V1.jpg</td>\n",
              "      <td>/content/drive/My Drive/All_Data_Project/TVT_G...</td>\n",
              "      <td>Female</td>\n",
              "      <td>Both</td>\n",
              "    </tr>\n",
              "    <tr>\n",
              "      <th>1</th>\n",
              "      <td>2</td>\n",
              "      <td>7</td>\n",
              "      <td>Y07F</td>\n",
              "      <td>1</td>\n",
              "      <td>Flip_V1.jpg</td>\n",
              "      <td>/content/drive/My Drive/All_Data_Project/TVT_G...</td>\n",
              "      <td>Female</td>\n",
              "      <td>Both</td>\n",
              "    </tr>\n",
              "    <tr>\n",
              "      <th>2</th>\n",
              "      <td>3</td>\n",
              "      <td>7</td>\n",
              "      <td>Y07F</td>\n",
              "      <td>1</td>\n",
              "      <td>V2.jpg</td>\n",
              "      <td>/content/drive/My Drive/All_Data_Project/TVT_G...</td>\n",
              "      <td>Female</td>\n",
              "      <td>Both</td>\n",
              "    </tr>\n",
              "    <tr>\n",
              "      <th>3</th>\n",
              "      <td>4</td>\n",
              "      <td>7</td>\n",
              "      <td>Y07F</td>\n",
              "      <td>1</td>\n",
              "      <td>Flip_V2.jpg</td>\n",
              "      <td>/content/drive/My Drive/All_Data_Project/TVT_G...</td>\n",
              "      <td>Female</td>\n",
              "      <td>Both</td>\n",
              "    </tr>\n",
              "    <tr>\n",
              "      <th>4</th>\n",
              "      <td>5</td>\n",
              "      <td>7</td>\n",
              "      <td>Y07F</td>\n",
              "      <td>1</td>\n",
              "      <td>V3.jpg</td>\n",
              "      <td>/content/drive/My Drive/All_Data_Project/TVT_G...</td>\n",
              "      <td>Female</td>\n",
              "      <td>Both</td>\n",
              "    </tr>\n",
              "    <tr>\n",
              "      <th>...</th>\n",
              "      <td>...</td>\n",
              "      <td>...</td>\n",
              "      <td>...</td>\n",
              "      <td>...</td>\n",
              "      <td>...</td>\n",
              "      <td>...</td>\n",
              "      <td>...</td>\n",
              "      <td>...</td>\n",
              "    </tr>\n",
              "    <tr>\n",
              "      <th>4745</th>\n",
              "      <td>121</td>\n",
              "      <td>25</td>\n",
              "      <td>Y25M</td>\n",
              "      <td>19</td>\n",
              "      <td>Flip_J463.jpg</td>\n",
              "      <td>/content/drive/My Drive/All_Data_Project/TVT_G...</td>\n",
              "      <td>Male</td>\n",
              "      <td>Both</td>\n",
              "    </tr>\n",
              "    <tr>\n",
              "      <th>4746</th>\n",
              "      <td>122</td>\n",
              "      <td>25</td>\n",
              "      <td>Y25M</td>\n",
              "      <td>19</td>\n",
              "      <td>J464.jpg</td>\n",
              "      <td>/content/drive/My Drive/All_Data_Project/TVT_G...</td>\n",
              "      <td>Male</td>\n",
              "      <td>Both</td>\n",
              "    </tr>\n",
              "    <tr>\n",
              "      <th>4747</th>\n",
              "      <td>123</td>\n",
              "      <td>25</td>\n",
              "      <td>Y25M</td>\n",
              "      <td>19</td>\n",
              "      <td>Flip_J464.jpg</td>\n",
              "      <td>/content/drive/My Drive/All_Data_Project/TVT_G...</td>\n",
              "      <td>Male</td>\n",
              "      <td>Both</td>\n",
              "    </tr>\n",
              "    <tr>\n",
              "      <th>4748</th>\n",
              "      <td>124</td>\n",
              "      <td>25</td>\n",
              "      <td>Y25M</td>\n",
              "      <td>19</td>\n",
              "      <td>J465.jpg</td>\n",
              "      <td>/content/drive/My Drive/All_Data_Project/TVT_G...</td>\n",
              "      <td>Male</td>\n",
              "      <td>Both</td>\n",
              "    </tr>\n",
              "    <tr>\n",
              "      <th>4749</th>\n",
              "      <td>125</td>\n",
              "      <td>25</td>\n",
              "      <td>Y25M</td>\n",
              "      <td>19</td>\n",
              "      <td>Flip_J465.jpg</td>\n",
              "      <td>/content/drive/My Drive/All_Data_Project/TVT_G...</td>\n",
              "      <td>Male</td>\n",
              "      <td>Both</td>\n",
              "    </tr>\n",
              "  </tbody>\n",
              "</table>\n",
              "<p>4750 rows × 8 columns</p>\n",
              "</div>\n",
              "      <button class=\"colab-df-convert\" onclick=\"convertToInteractive('df-b03e8d28-5395-4fbe-b654-fe9e97735995')\"\n",
              "              title=\"Convert this dataframe to an interactive table.\"\n",
              "              style=\"display:none;\">\n",
              "        \n",
              "  <svg xmlns=\"http://www.w3.org/2000/svg\" height=\"24px\"viewBox=\"0 0 24 24\"\n",
              "       width=\"24px\">\n",
              "    <path d=\"M0 0h24v24H0V0z\" fill=\"none\"/>\n",
              "    <path d=\"M18.56 5.44l.94 2.06.94-2.06 2.06-.94-2.06-.94-.94-2.06-.94 2.06-2.06.94zm-11 1L8.5 8.5l.94-2.06 2.06-.94-2.06-.94L8.5 2.5l-.94 2.06-2.06.94zm10 10l.94 2.06.94-2.06 2.06-.94-2.06-.94-.94-2.06-.94 2.06-2.06.94z\"/><path d=\"M17.41 7.96l-1.37-1.37c-.4-.4-.92-.59-1.43-.59-.52 0-1.04.2-1.43.59L10.3 9.45l-7.72 7.72c-.78.78-.78 2.05 0 2.83L4 21.41c.39.39.9.59 1.41.59.51 0 1.02-.2 1.41-.59l7.78-7.78 2.81-2.81c.8-.78.8-2.07 0-2.86zM5.41 20L4 18.59l7.72-7.72 1.47 1.35L5.41 20z\"/>\n",
              "  </svg>\n",
              "      </button>\n",
              "      \n",
              "  <style>\n",
              "    .colab-df-container {\n",
              "      display:flex;\n",
              "      flex-wrap:wrap;\n",
              "      gap: 12px;\n",
              "    }\n",
              "\n",
              "    .colab-df-convert {\n",
              "      background-color: #E8F0FE;\n",
              "      border: none;\n",
              "      border-radius: 50%;\n",
              "      cursor: pointer;\n",
              "      display: none;\n",
              "      fill: #1967D2;\n",
              "      height: 32px;\n",
              "      padding: 0 0 0 0;\n",
              "      width: 32px;\n",
              "    }\n",
              "\n",
              "    .colab-df-convert:hover {\n",
              "      background-color: #E2EBFA;\n",
              "      box-shadow: 0px 1px 2px rgba(60, 64, 67, 0.3), 0px 1px 3px 1px rgba(60, 64, 67, 0.15);\n",
              "      fill: #174EA6;\n",
              "    }\n",
              "\n",
              "    [theme=dark] .colab-df-convert {\n",
              "      background-color: #3B4455;\n",
              "      fill: #D2E3FC;\n",
              "    }\n",
              "\n",
              "    [theme=dark] .colab-df-convert:hover {\n",
              "      background-color: #434B5C;\n",
              "      box-shadow: 0px 1px 3px 1px rgba(0, 0, 0, 0.15);\n",
              "      filter: drop-shadow(0px 1px 2px rgba(0, 0, 0, 0.3));\n",
              "      fill: #FFFFFF;\n",
              "    }\n",
              "  </style>\n",
              "\n",
              "      <script>\n",
              "        const buttonEl =\n",
              "          document.querySelector('#df-b03e8d28-5395-4fbe-b654-fe9e97735995 button.colab-df-convert');\n",
              "        buttonEl.style.display =\n",
              "          google.colab.kernel.accessAllowed ? 'block' : 'none';\n",
              "\n",
              "        async function convertToInteractive(key) {\n",
              "          const element = document.querySelector('#df-b03e8d28-5395-4fbe-b654-fe9e97735995');\n",
              "          const dataTable =\n",
              "            await google.colab.kernel.invokeFunction('convertToInteractive',\n",
              "                                                     [key], {});\n",
              "          if (!dataTable) return;\n",
              "\n",
              "          const docLinkHtml = 'Like what you see? Visit the ' +\n",
              "            '<a target=\"_blank\" href=https://colab.research.google.com/notebooks/data_table.ipynb>data table notebook</a>'\n",
              "            + ' to learn more about interactive tables.';\n",
              "          element.innerHTML = '';\n",
              "          dataTable['output_type'] = 'display_data';\n",
              "          await google.colab.output.renderOutput(dataTable, element);\n",
              "          const docLink = document.createElement('div');\n",
              "          docLink.innerHTML = docLinkHtml;\n",
              "          element.appendChild(docLink);\n",
              "        }\n",
              "      </script>\n",
              "    </div>\n",
              "  </div>\n",
              "  "
            ]
          },
          "metadata": {},
          "execution_count": 12
        }
      ]
    },
    {
      "cell_type": "code",
      "source": [
        "train = df[df['Fig_Age'].between(1,75)]\n",
        "val = df[df['Fig_Age'].between(76,100)]"
      ],
      "metadata": {
        "id": "Z1zBw01Gl8Ac"
      },
      "execution_count": 13,
      "outputs": []
    },
    {
      "cell_type": "code",
      "source": [
        "DATA_PATH = \"/content/drive/MyDrive/All_Data_Project/TVT_Gender\"\n",
        "os.chdir(DATA_PATH)\n",
        "train_dir = os.path.join(DATA_PATH, 'train')\n",
        "print(train_dir)\n",
        "validation_dir = os.path.join(DATA_PATH, 'validation')\n",
        "print(validation_dir)"
      ],
      "metadata": {
        "colab": {
          "base_uri": "https://localhost:8080/"
        },
        "id": "QL0g-8iOnMC4",
        "outputId": "277fc781-de32-46ef-b79a-1788b7dcca3e"
      },
      "execution_count": 14,
      "outputs": [
        {
          "output_type": "stream",
          "name": "stdout",
          "text": [
            "/content/drive/MyDrive/All_Data_Project/TVT_Gender/train\n",
            "/content/drive/MyDrive/All_Data_Project/TVT_Gender/validation\n"
          ]
        }
      ]
    },
    {
      "cell_type": "markdown",
      "source": [
        "\n",
        "#Train"
      ],
      "metadata": {
        "id": "bWEnlTSwazL5"
      }
    },
    {
      "cell_type": "code",
      "source": [
        "# Train ด้วย ImageDataGenerator ของ Keras ซึ่งจะเพิ่มข้อมูลเสริมระหว่างการฝึกเพื่อลดโอกาสเกิด overfitting\n",
        "#overfitting เกิดจากข้อมูลที่ซับซ้อนกันเกินไป\n",
        "from tensorflow.keras.preprocessing.image import ImageDataGenerator\n",
        "\n",
        "train_datagen = ImageDataGenerator(\n",
        "      rescale=1./255, #โมเดลส่วนใหญ่ต้องใช้ RGB ในช่วง 0–1\n",
        "      rotation_range=40,\n",
        "      width_shift_range=0.2,\n",
        "      height_shift_range=0.2,\n",
        "      shear_range=0.2,\n",
        "      zoom_range=0.2,\n",
        "      horizontal_flip=True,\n",
        "      fill_mode='nearest')\n",
        "\n",
        "# Note that the validation data should not be augmented!\n",
        "test_datagen = ImageDataGenerator(rescale=1./255)"
      ],
      "metadata": {
        "id": "xGPrsn9no_pa"
      },
      "execution_count": 15,
      "outputs": []
    },
    {
      "cell_type": "code",
      "source": [
        "train_generator = train_datagen.flow_from_dataframe(\n",
        "        dataframe = train,\n",
        "        directory = train_dir,\n",
        "        x_col = 'Path_filename',\n",
        "        y_col = 'Age(year)',\n",
        "        class_mode = 'other',\n",
        "        target_size=(height, width),\n",
        "        batch_size=batch_size)\n",
        "\n",
        "validation_generator = test_datagen.flow_from_dataframe(\n",
        "        dataframe = val,\n",
        "        directory = validation_dir,\n",
        "        x_col = 'Path_filename',\n",
        "        y_col = 'Age(year)',\n",
        "        class_mode = 'other',\n",
        "        target_size=(height, width),\n",
        "        batch_size=batch_size)"
      ],
      "metadata": {
        "colab": {
          "base_uri": "https://localhost:8080/"
        },
        "id": "8nVlmAszntK_",
        "outputId": "2d65a98a-625a-4027-adbd-5bcc0cf64501"
      },
      "execution_count": 16,
      "outputs": [
        {
          "output_type": "stream",
          "name": "stdout",
          "text": [
            "Found 2850 validated image filenames.\n",
            "Found 950 validated image filenames.\n"
          ]
        }
      ]
    },
    {
      "cell_type": "code",
      "source": [
        "model.summary()"
      ],
      "metadata": {
        "colab": {
          "base_uri": "https://localhost:8080/"
        },
        "id": "zzCdn3X4Jm_E",
        "outputId": "b2531f18-884d-4eb7-b005-8f8f846077a1"
      },
      "execution_count": 17,
      "outputs": [
        {
          "output_type": "stream",
          "name": "stdout",
          "text": [
            "Model: \"sequential\"\n",
            "_________________________________________________________________\n",
            " Layer (type)                Output Shape              Param #   \n",
            "=================================================================\n",
            " efficientnet-b0 (Functional  (None, 5, 5, 1280)       4049564   \n",
            " )                                                               \n",
            "                                                                 \n",
            " gap (GlobalMaxPooling2D)    (None, 1280)              0         \n",
            "                                                                 \n",
            " dropout_out (Dropout)       (None, 1280)              0         \n",
            "                                                                 \n",
            " fc_out (Dense)              (None, 19)                24339     \n",
            "                                                                 \n",
            " dense (Dense)               (None, 1)                 20        \n",
            "                                                                 \n",
            "=================================================================\n",
            "Total params: 4,073,923\n",
            "Trainable params: 4,031,907\n",
            "Non-trainable params: 42,016\n",
            "_________________________________________________________________\n"
          ]
        }
      ]
    },
    {
      "cell_type": "code",
      "source": [
        "model.compile(loss='mse',\n",
        "          optimizer=Adam(learning_rate=1e-4),\n",
        "          metrics=['mae'])\n",
        "history = model.fit_generator(\n",
        "      train_generator,\n",
        "      steps_per_epoch= NUM_TRAIN //batch_size,\n",
        "      epochs=epochs,\n",
        "      validation_data=validation_generator,\n",
        "      validation_steps= NUM_TEST //batch_size,\n",
        "      verbose=1,\n",
        "      use_multiprocessing=True,\n",
        "      workers=4)"
      ],
      "metadata": {
        "id": "N6qUmmF856ZE",
        "outputId": "09f3281a-9e38-4efd-c247-14038c56e60e",
        "colab": {
          "base_uri": "https://localhost:8080/"
        }
      },
      "execution_count": 18,
      "outputs": [
        {
          "output_type": "stream",
          "name": "stderr",
          "text": [
            "<ipython-input-18-f59104fd3985>:4: UserWarning: `Model.fit_generator` is deprecated and will be removed in a future version. Please use `Model.fit`, which supports generators.\n",
            "  history = model.fit_generator(\n"
          ]
        },
        {
          "output_type": "stream",
          "name": "stdout",
          "text": [
            "Epoch 1/250\n",
            "178/178 [==============================] - 751s 4s/step - loss: 1.7378 - mae: 0.9721 - val_loss: 6.6398 - val_mae: 1.9362\n",
            "Epoch 2/250\n",
            "178/178 [==============================] - 21s 116ms/step - loss: 1.5608 - mae: 0.9234 - val_loss: 5.1398 - val_mae: 1.6898\n",
            "Epoch 3/250\n",
            "178/178 [==============================] - 21s 115ms/step - loss: 1.7461 - mae: 0.9484 - val_loss: 3.8492 - val_mae: 1.4948\n",
            "Epoch 4/250\n",
            "178/178 [==============================] - 21s 115ms/step - loss: 1.7647 - mae: 0.9786 - val_loss: 7.4063 - val_mae: 1.9723\n",
            "Epoch 5/250\n",
            "178/178 [==============================] - 21s 115ms/step - loss: 1.5586 - mae: 0.9242 - val_loss: 6.1875 - val_mae: 1.8415\n",
            "Epoch 6/250\n",
            "178/178 [==============================] - 21s 115ms/step - loss: 1.4815 - mae: 0.8988 - val_loss: 6.0546 - val_mae: 1.8298\n",
            "Epoch 7/250\n",
            "178/178 [==============================] - 21s 116ms/step - loss: 1.5171 - mae: 0.9052 - val_loss: 6.2041 - val_mae: 1.8503\n",
            "Epoch 8/250\n",
            "178/178 [==============================] - 21s 115ms/step - loss: 1.4897 - mae: 0.8989 - val_loss: 6.6739 - val_mae: 1.9376\n",
            "Epoch 9/250\n",
            "178/178 [==============================] - 21s 115ms/step - loss: 1.4983 - mae: 0.9016 - val_loss: 5.0003 - val_mae: 1.6561\n",
            "Epoch 10/250\n",
            "178/178 [==============================] - 21s 116ms/step - loss: 1.4124 - mae: 0.8911 - val_loss: 5.8426 - val_mae: 1.8047\n",
            "Epoch 11/250\n",
            "178/178 [==============================] - 21s 115ms/step - loss: 1.4011 - mae: 0.8736 - val_loss: 4.7233 - val_mae: 1.6332\n",
            "Epoch 12/250\n",
            "178/178 [==============================] - 21s 116ms/step - loss: 1.6652 - mae: 0.9567 - val_loss: 5.7808 - val_mae: 1.7705\n",
            "Epoch 13/250\n",
            "178/178 [==============================] - 21s 116ms/step - loss: 1.8965 - mae: 1.0249 - val_loss: 6.6116 - val_mae: 1.9111\n",
            "Epoch 14/250\n",
            "178/178 [==============================] - 21s 116ms/step - loss: 1.7244 - mae: 0.9817 - val_loss: 7.6261 - val_mae: 2.0586\n",
            "Epoch 15/250\n",
            "178/178 [==============================] - 21s 116ms/step - loss: 1.5939 - mae: 0.9451 - val_loss: 6.6731 - val_mae: 1.9006\n",
            "Epoch 16/250\n",
            "178/178 [==============================] - 21s 116ms/step - loss: 2.3117 - mae: 1.0767 - val_loss: 5.2255 - val_mae: 1.7278\n",
            "Epoch 17/250\n",
            "178/178 [==============================] - 21s 117ms/step - loss: 2.1595 - mae: 1.0589 - val_loss: 5.6359 - val_mae: 1.7933\n",
            "Epoch 18/250\n",
            "178/178 [==============================] - 21s 116ms/step - loss: 1.8140 - mae: 0.9923 - val_loss: 5.2462 - val_mae: 1.7304\n",
            "Epoch 19/250\n",
            "178/178 [==============================] - 17s 90ms/step - loss: 1.7124 - mae: 0.9747 - val_loss: 5.5297 - val_mae: 1.7728\n",
            "Epoch 20/250\n",
            "178/178 [==============================] - 21s 116ms/step - loss: 1.7211 - mae: 0.9779 - val_loss: 5.1169 - val_mae: 1.7022\n",
            "Epoch 21/250\n",
            "178/178 [==============================] - 21s 116ms/step - loss: 1.5991 - mae: 0.9282 - val_loss: 5.2164 - val_mae: 1.7149\n",
            "Epoch 22/250\n",
            "178/178 [==============================] - 21s 117ms/step - loss: 1.8030 - mae: 0.9757 - val_loss: 6.0171 - val_mae: 1.8356\n",
            "Epoch 23/250\n",
            "178/178 [==============================] - 21s 117ms/step - loss: 1.6620 - mae: 0.9666 - val_loss: 4.5596 - val_mae: 1.6244\n",
            "Epoch 24/250\n",
            "178/178 [==============================] - 21s 116ms/step - loss: 1.7883 - mae: 0.9672 - val_loss: 5.8672 - val_mae: 1.8185\n",
            "Epoch 25/250\n",
            "178/178 [==============================] - 21s 116ms/step - loss: 1.5524 - mae: 0.9243 - val_loss: 5.8478 - val_mae: 1.8094\n",
            "Epoch 26/250\n",
            "178/178 [==============================] - 21s 117ms/step - loss: 1.6131 - mae: 0.9197 - val_loss: 6.0811 - val_mae: 1.8544\n",
            "Epoch 27/250\n",
            "178/178 [==============================] - 21s 118ms/step - loss: 1.5056 - mae: 0.9050 - val_loss: 5.9570 - val_mae: 1.8200\n",
            "Epoch 28/250\n",
            "178/178 [==============================] - 21s 116ms/step - loss: 1.4704 - mae: 0.8911 - val_loss: 5.4223 - val_mae: 1.7413\n",
            "Epoch 29/250\n",
            "178/178 [==============================] - 21s 117ms/step - loss: 1.6862 - mae: 0.9499 - val_loss: 7.7373 - val_mae: 2.0575\n",
            "Epoch 30/250\n",
            "178/178 [==============================] - 17s 90ms/step - loss: 1.6634 - mae: 0.9442 - val_loss: 6.5924 - val_mae: 1.9054\n",
            "Epoch 31/250\n",
            "178/178 [==============================] - 21s 117ms/step - loss: 1.5225 - mae: 0.9212 - val_loss: 7.3936 - val_mae: 2.0334\n",
            "Epoch 32/250\n",
            "178/178 [==============================] - 21s 117ms/step - loss: 1.4412 - mae: 0.8959 - val_loss: 7.0864 - val_mae: 1.9955\n",
            "Epoch 33/250\n",
            "178/178 [==============================] - 21s 118ms/step - loss: 1.5954 - mae: 0.9171 - val_loss: 6.7733 - val_mae: 1.9694\n",
            "Epoch 34/250\n",
            "178/178 [==============================] - 22s 118ms/step - loss: 1.6280 - mae: 0.9275 - val_loss: 6.1799 - val_mae: 1.8739\n",
            "Epoch 35/250\n",
            "178/178 [==============================] - 22s 121ms/step - loss: 1.4995 - mae: 0.9083 - val_loss: 5.1475 - val_mae: 1.7034\n",
            "Epoch 36/250\n",
            "178/178 [==============================] - 22s 122ms/step - loss: 1.5004 - mae: 0.9079 - val_loss: 5.7351 - val_mae: 1.7815\n",
            "Epoch 37/250\n",
            "178/178 [==============================] - 21s 118ms/step - loss: 1.4127 - mae: 0.8814 - val_loss: 5.0146 - val_mae: 1.6993\n",
            "Epoch 38/250\n",
            "178/178 [==============================] - 21s 117ms/step - loss: 1.3408 - mae: 0.8609 - val_loss: 5.9215 - val_mae: 1.8483\n",
            "Epoch 39/250\n",
            "178/178 [==============================] - 21s 117ms/step - loss: 1.4534 - mae: 0.8952 - val_loss: 4.8598 - val_mae: 1.6563\n",
            "Epoch 40/250\n",
            "178/178 [==============================] - 21s 118ms/step - loss: 1.3230 - mae: 0.8549 - val_loss: 6.2080 - val_mae: 1.8632\n",
            "Epoch 41/250\n",
            "178/178 [==============================] - 21s 117ms/step - loss: 1.3461 - mae: 0.8632 - val_loss: 5.1060 - val_mae: 1.7073\n",
            "Epoch 42/250\n",
            "178/178 [==============================] - 21s 117ms/step - loss: 1.3340 - mae: 0.8596 - val_loss: 5.6106 - val_mae: 1.7641\n",
            "Epoch 43/250\n",
            "178/178 [==============================] - 21s 117ms/step - loss: 1.3351 - mae: 0.8625 - val_loss: 5.0692 - val_mae: 1.6702\n",
            "Epoch 44/250\n",
            "178/178 [==============================] - 21s 117ms/step - loss: 1.3225 - mae: 0.8503 - val_loss: 6.2020 - val_mae: 1.8626\n",
            "Epoch 45/250\n",
            "178/178 [==============================] - 21s 118ms/step - loss: 1.3036 - mae: 0.8532 - val_loss: 6.6682 - val_mae: 1.9157\n",
            "Epoch 46/250\n",
            "178/178 [==============================] - 22s 118ms/step - loss: 1.4307 - mae: 0.8894 - val_loss: 5.3718 - val_mae: 1.7344\n",
            "Epoch 47/250\n",
            "178/178 [==============================] - 21s 117ms/step - loss: 1.5371 - mae: 0.9160 - val_loss: 6.0051 - val_mae: 1.8090\n",
            "Epoch 48/250\n",
            "178/178 [==============================] - 21s 118ms/step - loss: 1.3338 - mae: 0.8636 - val_loss: 6.6920 - val_mae: 1.9327\n",
            "Epoch 49/250\n",
            "178/178 [==============================] - 21s 117ms/step - loss: 1.3998 - mae: 0.8746 - val_loss: 6.7555 - val_mae: 1.9316\n",
            "Epoch 50/250\n",
            "178/178 [==============================] - 21s 117ms/step - loss: 1.3941 - mae: 0.8844 - val_loss: 5.5702 - val_mae: 1.7701\n",
            "Epoch 51/250\n",
            "178/178 [==============================] - 21s 117ms/step - loss: 1.4261 - mae: 0.8838 - val_loss: 6.2556 - val_mae: 1.8754\n",
            "Epoch 52/250\n",
            "178/178 [==============================] - 21s 117ms/step - loss: 1.2655 - mae: 0.8344 - val_loss: 6.8692 - val_mae: 1.9628\n",
            "Epoch 53/250\n",
            "178/178 [==============================] - 21s 116ms/step - loss: 1.4779 - mae: 0.8957 - val_loss: 5.8614 - val_mae: 1.8533\n",
            "Epoch 54/250\n",
            "178/178 [==============================] - 21s 117ms/step - loss: 1.4238 - mae: 0.8849 - val_loss: 4.8454 - val_mae: 1.6538\n",
            "Epoch 55/250\n",
            "178/178 [==============================] - 21s 118ms/step - loss: 1.2766 - mae: 0.8506 - val_loss: 5.5528 - val_mae: 1.7536\n",
            "Epoch 56/250\n",
            "178/178 [==============================] - 21s 117ms/step - loss: 1.3175 - mae: 0.8523 - val_loss: 5.5731 - val_mae: 1.7634\n",
            "Epoch 57/250\n",
            "178/178 [==============================] - 21s 117ms/step - loss: 1.3980 - mae: 0.8768 - val_loss: 5.0027 - val_mae: 1.6809\n",
            "Epoch 58/250\n",
            "178/178 [==============================] - 21s 118ms/step - loss: 1.3159 - mae: 0.8590 - val_loss: 4.8689 - val_mae: 1.6472\n",
            "Epoch 59/250\n",
            "178/178 [==============================] - 21s 118ms/step - loss: 1.4320 - mae: 0.8850 - val_loss: 9.3790 - val_mae: 2.2729\n",
            "Epoch 60/250\n",
            "178/178 [==============================] - 21s 117ms/step - loss: 1.3252 - mae: 0.8686 - val_loss: 7.2168 - val_mae: 1.9804\n",
            "Epoch 61/250\n",
            "178/178 [==============================] - 22s 118ms/step - loss: 1.2485 - mae: 0.8370 - val_loss: 6.6456 - val_mae: 1.9018\n",
            "Epoch 62/250\n",
            "178/178 [==============================] - 21s 116ms/step - loss: 1.2828 - mae: 0.8530 - val_loss: 6.4652 - val_mae: 1.8992\n",
            "Epoch 63/250\n",
            "178/178 [==============================] - 21s 117ms/step - loss: 1.3969 - mae: 0.8830 - val_loss: 4.7236 - val_mae: 1.6103\n",
            "Epoch 64/250\n",
            "178/178 [==============================] - 21s 117ms/step - loss: 1.3495 - mae: 0.8637 - val_loss: 5.5901 - val_mae: 1.7841\n",
            "Epoch 65/250\n",
            "178/178 [==============================] - 21s 118ms/step - loss: 1.2432 - mae: 0.8323 - val_loss: 5.7875 - val_mae: 1.7835\n",
            "Epoch 66/250\n",
            "178/178 [==============================] - 21s 117ms/step - loss: 1.2103 - mae: 0.8216 - val_loss: 5.2544 - val_mae: 1.7288\n",
            "Epoch 67/250\n",
            "178/178 [==============================] - 21s 117ms/step - loss: 1.2804 - mae: 0.8518 - val_loss: 6.3875 - val_mae: 1.8937\n",
            "Epoch 68/250\n",
            "178/178 [==============================] - 21s 117ms/step - loss: 1.2752 - mae: 0.8387 - val_loss: 4.2509 - val_mae: 1.5732\n",
            "Epoch 69/250\n",
            "178/178 [==============================] - 21s 117ms/step - loss: 1.3112 - mae: 0.8466 - val_loss: 4.9475 - val_mae: 1.6515\n",
            "Epoch 70/250\n",
            "178/178 [==============================] - 21s 117ms/step - loss: 1.1645 - mae: 0.8090 - val_loss: 5.8063 - val_mae: 1.7999\n",
            "Epoch 71/250\n",
            "178/178 [==============================] - 17s 91ms/step - loss: 1.2318 - mae: 0.8270 - val_loss: 4.6482 - val_mae: 1.6136\n",
            "Epoch 72/250\n",
            "178/178 [==============================] - 21s 117ms/step - loss: 1.2305 - mae: 0.8244 - val_loss: 5.1242 - val_mae: 1.6825\n",
            "Epoch 73/250\n",
            "178/178 [==============================] - 21s 116ms/step - loss: 1.1608 - mae: 0.8020 - val_loss: 6.4541 - val_mae: 1.8528\n",
            "Epoch 74/250\n",
            "178/178 [==============================] - 21s 117ms/step - loss: 1.0864 - mae: 0.7807 - val_loss: 5.1460 - val_mae: 1.6961\n",
            "Epoch 75/250\n",
            "178/178 [==============================] - 21s 117ms/step - loss: 1.1289 - mae: 0.7934 - val_loss: 5.0727 - val_mae: 1.6715\n",
            "Epoch 76/250\n",
            "178/178 [==============================] - 21s 117ms/step - loss: 1.1121 - mae: 0.7864 - val_loss: 7.1079 - val_mae: 1.9377\n",
            "Epoch 77/250\n",
            "178/178 [==============================] - 21s 117ms/step - loss: 1.2832 - mae: 0.8384 - val_loss: 6.7310 - val_mae: 1.8926\n",
            "Epoch 78/250\n",
            "178/178 [==============================] - 17s 92ms/step - loss: 1.3365 - mae: 0.8479 - val_loss: 5.8727 - val_mae: 1.7812\n",
            "Epoch 79/250\n",
            "178/178 [==============================] - 21s 117ms/step - loss: 1.2928 - mae: 0.8302 - val_loss: 4.6819 - val_mae: 1.5947\n",
            "Epoch 80/250\n",
            "178/178 [==============================] - 21s 117ms/step - loss: 1.2072 - mae: 0.8152 - val_loss: 6.5967 - val_mae: 1.8849\n",
            "Epoch 81/250\n",
            "178/178 [==============================] - 21s 117ms/step - loss: 1.2195 - mae: 0.8153 - val_loss: 4.0964 - val_mae: 1.5017\n",
            "Epoch 82/250\n",
            "178/178 [==============================] - 21s 117ms/step - loss: 1.3230 - mae: 0.8656 - val_loss: 6.6175 - val_mae: 1.8675\n",
            "Epoch 83/250\n",
            "178/178 [==============================] - 21s 117ms/step - loss: 1.2116 - mae: 0.8214 - val_loss: 5.3463 - val_mae: 1.6911\n",
            "Epoch 84/250\n",
            "178/178 [==============================] - 21s 118ms/step - loss: 1.1881 - mae: 0.8099 - val_loss: 5.3043 - val_mae: 1.6764\n",
            "Epoch 85/250\n",
            "178/178 [==============================] - 21s 117ms/step - loss: 1.0927 - mae: 0.7804 - val_loss: 5.0256 - val_mae: 1.6486\n",
            "Epoch 86/250\n",
            "178/178 [==============================] - 21s 117ms/step - loss: 1.1426 - mae: 0.7944 - val_loss: 5.6246 - val_mae: 1.7382\n",
            "Epoch 87/250\n",
            "178/178 [==============================] - 21s 117ms/step - loss: 1.1851 - mae: 0.8072 - val_loss: 4.6585 - val_mae: 1.6164\n",
            "Epoch 88/250\n",
            "178/178 [==============================] - 21s 117ms/step - loss: 1.2579 - mae: 0.8224 - val_loss: 6.2715 - val_mae: 1.8117\n",
            "Epoch 89/250\n",
            "178/178 [==============================] - 21s 117ms/step - loss: 1.1542 - mae: 0.7998 - val_loss: 6.2970 - val_mae: 1.8135\n",
            "Epoch 90/250\n",
            "178/178 [==============================] - 21s 118ms/step - loss: 1.3002 - mae: 0.8452 - val_loss: 4.5736 - val_mae: 1.5743\n",
            "Epoch 91/250\n",
            "178/178 [==============================] - 21s 117ms/step - loss: 1.2663 - mae: 0.8386 - val_loss: 5.0260 - val_mae: 1.6433\n",
            "Epoch 92/250\n",
            "178/178 [==============================] - 21s 117ms/step - loss: 1.2824 - mae: 0.8454 - val_loss: 6.9580 - val_mae: 1.8963\n",
            "Epoch 93/250\n",
            "178/178 [==============================] - 22s 118ms/step - loss: 1.3829 - mae: 0.8345 - val_loss: 6.4061 - val_mae: 1.7913\n",
            "Epoch 94/250\n",
            "178/178 [==============================] - 21s 117ms/step - loss: 1.3801 - mae: 0.8458 - val_loss: 6.1424 - val_mae: 1.8589\n",
            "Epoch 95/250\n",
            "178/178 [==============================] - 21s 117ms/step - loss: 1.3921 - mae: 0.8619 - val_loss: 4.8148 - val_mae: 1.6489\n",
            "Epoch 96/250\n",
            "178/178 [==============================] - 21s 117ms/step - loss: 1.2313 - mae: 0.8237 - val_loss: 5.4700 - val_mae: 1.7204\n",
            "Epoch 97/250\n",
            "178/178 [==============================] - 21s 116ms/step - loss: 1.2226 - mae: 0.8215 - val_loss: 5.3302 - val_mae: 1.7122\n",
            "Epoch 98/250\n",
            "178/178 [==============================] - 21s 117ms/step - loss: 1.2063 - mae: 0.8011 - val_loss: 4.8640 - val_mae: 1.6102\n",
            "Epoch 99/250\n",
            "178/178 [==============================] - 21s 117ms/step - loss: 1.1065 - mae: 0.7850 - val_loss: 5.3671 - val_mae: 1.6904\n",
            "Epoch 100/250\n",
            "178/178 [==============================] - 21s 117ms/step - loss: 1.2484 - mae: 0.8173 - val_loss: 4.7820 - val_mae: 1.6135\n",
            "Epoch 101/250\n",
            "178/178 [==============================] - 21s 118ms/step - loss: 1.4251 - mae: 0.8804 - val_loss: 6.5277 - val_mae: 1.8462\n",
            "Epoch 102/250\n",
            "178/178 [==============================] - 22s 119ms/step - loss: 1.4589 - mae: 0.8726 - val_loss: 4.9900 - val_mae: 1.6427\n",
            "Epoch 103/250\n",
            "178/178 [==============================] - 22s 119ms/step - loss: 1.1845 - mae: 0.8126 - val_loss: 5.2133 - val_mae: 1.6790\n",
            "Epoch 104/250\n",
            "178/178 [==============================] - 21s 117ms/step - loss: 1.2015 - mae: 0.8071 - val_loss: 4.1252 - val_mae: 1.4993\n",
            "Epoch 105/250\n",
            "178/178 [==============================] - 21s 117ms/step - loss: 1.1854 - mae: 0.8095 - val_loss: 4.9127 - val_mae: 1.6175\n",
            "Epoch 106/250\n",
            "178/178 [==============================] - 21s 117ms/step - loss: 1.1585 - mae: 0.8061 - val_loss: 5.0128 - val_mae: 1.6417\n",
            "Epoch 107/250\n",
            "178/178 [==============================] - 21s 117ms/step - loss: 1.0896 - mae: 0.7804 - val_loss: 5.2944 - val_mae: 1.7028\n",
            "Epoch 108/250\n",
            "178/178 [==============================] - 17s 90ms/step - loss: 1.1891 - mae: 0.8183 - val_loss: 6.6647 - val_mae: 1.8937\n",
            "Epoch 109/250\n",
            "178/178 [==============================] - 21s 117ms/step - loss: 1.1327 - mae: 0.7912 - val_loss: 5.2921 - val_mae: 1.6829\n",
            "Epoch 110/250\n",
            "178/178 [==============================] - 21s 117ms/step - loss: 1.0709 - mae: 0.7694 - val_loss: 5.2801 - val_mae: 1.7020\n",
            "Epoch 111/250\n",
            "178/178 [==============================] - 21s 117ms/step - loss: 1.0628 - mae: 0.7679 - val_loss: 4.9037 - val_mae: 1.6282\n",
            "Epoch 112/250\n",
            "178/178 [==============================] - 17s 93ms/step - loss: 1.0310 - mae: 0.7573 - val_loss: 5.5825 - val_mae: 1.7467\n",
            "Epoch 113/250\n",
            "178/178 [==============================] - 22s 118ms/step - loss: 1.1005 - mae: 0.7789 - val_loss: 5.1316 - val_mae: 1.6579\n",
            "Epoch 114/250\n",
            "178/178 [==============================] - 21s 118ms/step - loss: 1.0307 - mae: 0.7588 - val_loss: 5.4318 - val_mae: 1.6978\n",
            "Epoch 115/250\n",
            "178/178 [==============================] - 22s 118ms/step - loss: 1.1010 - mae: 0.7744 - val_loss: 5.8996 - val_mae: 1.7626\n",
            "Epoch 116/250\n",
            "178/178 [==============================] - 22s 119ms/step - loss: 1.0356 - mae: 0.7640 - val_loss: 7.5985 - val_mae: 1.9975\n",
            "Epoch 117/250\n",
            "178/178 [==============================] - 22s 118ms/step - loss: 1.0182 - mae: 0.7560 - val_loss: 6.1123 - val_mae: 1.7563\n",
            "Epoch 118/250\n",
            "178/178 [==============================] - 22s 119ms/step - loss: 1.3484 - mae: 0.8188 - val_loss: 6.3600 - val_mae: 1.8399\n",
            "Epoch 119/250\n",
            "178/178 [==============================] - 22s 118ms/step - loss: 1.3071 - mae: 0.8301 - val_loss: 6.0816 - val_mae: 1.7775\n",
            "Epoch 120/250\n",
            "178/178 [==============================] - 21s 118ms/step - loss: 1.1242 - mae: 0.7951 - val_loss: 6.4760 - val_mae: 1.8295\n",
            "Epoch 121/250\n",
            "178/178 [==============================] - 17s 91ms/step - loss: 1.1478 - mae: 0.7940 - val_loss: 7.9607 - val_mae: 2.0033\n",
            "Epoch 122/250\n",
            "178/178 [==============================] - 22s 118ms/step - loss: 1.1038 - mae: 0.7830 - val_loss: 7.3485 - val_mae: 1.9664\n",
            "Epoch 123/250\n",
            "178/178 [==============================] - 21s 118ms/step - loss: 1.1613 - mae: 0.7833 - val_loss: 6.5307 - val_mae: 1.8672\n",
            "Epoch 124/250\n",
            "178/178 [==============================] - 21s 118ms/step - loss: 1.0963 - mae: 0.7723 - val_loss: 5.6670 - val_mae: 1.7363\n",
            "Epoch 125/250\n",
            "178/178 [==============================] - 22s 118ms/step - loss: 1.0556 - mae: 0.7549 - val_loss: 5.5285 - val_mae: 1.6871\n",
            "Epoch 126/250\n",
            "178/178 [==============================] - 22s 118ms/step - loss: 1.0991 - mae: 0.7690 - val_loss: 5.9962 - val_mae: 1.7757\n",
            "Epoch 127/250\n",
            "178/178 [==============================] - 21s 118ms/step - loss: 0.9994 - mae: 0.7431 - val_loss: 6.3149 - val_mae: 1.8188\n",
            "Epoch 128/250\n",
            "178/178 [==============================] - 22s 118ms/step - loss: 1.1361 - mae: 0.7781 - val_loss: 7.1751 - val_mae: 1.9456\n",
            "Epoch 129/250\n",
            "178/178 [==============================] - 22s 119ms/step - loss: 1.0375 - mae: 0.7544 - val_loss: 5.3106 - val_mae: 1.6670\n",
            "Epoch 130/250\n",
            "178/178 [==============================] - 17s 91ms/step - loss: 1.0395 - mae: 0.7618 - val_loss: 5.8011 - val_mae: 1.7176\n",
            "Epoch 131/250\n",
            "178/178 [==============================] - 22s 118ms/step - loss: 1.0073 - mae: 0.7488 - val_loss: 6.8975 - val_mae: 1.8790\n",
            "Epoch 132/250\n",
            "178/178 [==============================] - 21s 117ms/step - loss: 1.0565 - mae: 0.7434 - val_loss: 5.6161 - val_mae: 1.7170\n",
            "Epoch 133/250\n",
            "178/178 [==============================] - 21s 117ms/step - loss: 0.9758 - mae: 0.7352 - val_loss: 6.3640 - val_mae: 1.8286\n",
            "Epoch 134/250\n",
            "178/178 [==============================] - 21s 118ms/step - loss: 0.9981 - mae: 0.7443 - val_loss: 6.8727 - val_mae: 1.8763\n",
            "Epoch 135/250\n",
            "178/178 [==============================] - 21s 117ms/step - loss: 1.1022 - mae: 0.7594 - val_loss: 5.8601 - val_mae: 1.7503\n",
            "Epoch 136/250\n",
            "178/178 [==============================] - 21s 117ms/step - loss: 0.9617 - mae: 0.7287 - val_loss: 5.5050 - val_mae: 1.6917\n",
            "Epoch 137/250\n",
            "178/178 [==============================] - 21s 117ms/step - loss: 1.8166 - mae: 0.9085 - val_loss: 4.4470 - val_mae: 1.5446\n",
            "Epoch 138/250\n",
            "178/178 [==============================] - 21s 117ms/step - loss: 1.8605 - mae: 0.9438 - val_loss: 7.5287 - val_mae: 1.9751\n",
            "Epoch 139/250\n",
            "178/178 [==============================] - 21s 117ms/step - loss: 1.6556 - mae: 0.9216 - val_loss: 5.5734 - val_mae: 1.6965\n",
            "Epoch 140/250\n",
            "178/178 [==============================] - 22s 118ms/step - loss: 1.3734 - mae: 0.8529 - val_loss: 5.0673 - val_mae: 1.6348\n",
            "Epoch 141/250\n",
            "178/178 [==============================] - 21s 118ms/step - loss: 1.1543 - mae: 0.7933 - val_loss: 5.0957 - val_mae: 1.6355\n",
            "Epoch 142/250\n",
            "178/178 [==============================] - 21s 117ms/step - loss: 1.1420 - mae: 0.8007 - val_loss: 5.7355 - val_mae: 1.7177\n",
            "Epoch 143/250\n",
            "178/178 [==============================] - 21s 117ms/step - loss: 1.1818 - mae: 0.7933 - val_loss: 6.6949 - val_mae: 1.8509\n",
            "Epoch 144/250\n",
            "178/178 [==============================] - 21s 117ms/step - loss: 1.1933 - mae: 0.7875 - val_loss: 5.1923 - val_mae: 1.6187\n",
            "Epoch 145/250\n",
            "178/178 [==============================] - 21s 117ms/step - loss: 1.0943 - mae: 0.7655 - val_loss: 5.5978 - val_mae: 1.6898\n",
            "Epoch 146/250\n",
            "178/178 [==============================] - 21s 118ms/step - loss: 1.1280 - mae: 0.7704 - val_loss: 4.6280 - val_mae: 1.5593\n",
            "Epoch 147/250\n",
            "178/178 [==============================] - 21s 117ms/step - loss: 1.0447 - mae: 0.7542 - val_loss: 6.5174 - val_mae: 1.8405\n",
            "Epoch 148/250\n",
            "178/178 [==============================] - 21s 118ms/step - loss: 0.9467 - mae: 0.7231 - val_loss: 6.0359 - val_mae: 1.7747\n",
            "Epoch 149/250\n",
            "178/178 [==============================] - 21s 118ms/step - loss: 0.9953 - mae: 0.7406 - val_loss: 5.0228 - val_mae: 1.6123\n",
            "Epoch 150/250\n",
            "178/178 [==============================] - 21s 117ms/step - loss: 1.0202 - mae: 0.7547 - val_loss: 5.3540 - val_mae: 1.6607\n",
            "Epoch 151/250\n",
            "178/178 [==============================] - 21s 117ms/step - loss: 0.9237 - mae: 0.7173 - val_loss: 5.5982 - val_mae: 1.7022\n",
            "Epoch 152/250\n",
            "178/178 [==============================] - 21s 118ms/step - loss: 1.0046 - mae: 0.7476 - val_loss: 4.4891 - val_mae: 1.5227\n",
            "Epoch 153/250\n",
            "178/178 [==============================] - 21s 117ms/step - loss: 0.9988 - mae: 0.7397 - val_loss: 5.6971 - val_mae: 1.7165\n",
            "Epoch 154/250\n",
            "178/178 [==============================] - 21s 117ms/step - loss: 0.9426 - mae: 0.7183 - val_loss: 5.5574 - val_mae: 1.7023\n",
            "Epoch 155/250\n",
            "178/178 [==============================] - 21s 118ms/step - loss: 0.9995 - mae: 0.7339 - val_loss: 5.6651 - val_mae: 1.6983\n",
            "Epoch 156/250\n",
            "178/178 [==============================] - 21s 118ms/step - loss: 0.9578 - mae: 0.7249 - val_loss: 5.5898 - val_mae: 1.7171\n",
            "Epoch 157/250\n",
            "178/178 [==============================] - 22s 118ms/step - loss: 0.9470 - mae: 0.7265 - val_loss: 5.6488 - val_mae: 1.7067\n",
            "Epoch 158/250\n",
            "178/178 [==============================] - 22s 119ms/step - loss: 0.9810 - mae: 0.7322 - val_loss: 5.4061 - val_mae: 1.7008\n",
            "Epoch 159/250\n",
            "178/178 [==============================] - 22s 118ms/step - loss: 1.0121 - mae: 0.7392 - val_loss: 5.6659 - val_mae: 1.7217\n",
            "Epoch 160/250\n",
            "178/178 [==============================] - 21s 117ms/step - loss: 0.9740 - mae: 0.7225 - val_loss: 5.2257 - val_mae: 1.6638\n",
            "Epoch 161/250\n",
            "178/178 [==============================] - 21s 118ms/step - loss: 1.1098 - mae: 0.7668 - val_loss: 5.2698 - val_mae: 1.6846\n",
            "Epoch 162/250\n",
            "178/178 [==============================] - 21s 117ms/step - loss: 1.0434 - mae: 0.7506 - val_loss: 5.0822 - val_mae: 1.6313\n",
            "Epoch 163/250\n",
            "178/178 [==============================] - 21s 117ms/step - loss: 1.0220 - mae: 0.7595 - val_loss: 4.9555 - val_mae: 1.6344\n",
            "Epoch 164/250\n",
            "178/178 [==============================] - 21s 117ms/step - loss: 0.9281 - mae: 0.7171 - val_loss: 5.0716 - val_mae: 1.6386\n",
            "Epoch 165/250\n",
            "178/178 [==============================] - 21s 117ms/step - loss: 0.9780 - mae: 0.7279 - val_loss: 4.6571 - val_mae: 1.5732\n",
            "Epoch 166/250\n",
            "178/178 [==============================] - 21s 117ms/step - loss: 0.9658 - mae: 0.7276 - val_loss: 5.0676 - val_mae: 1.6545\n",
            "Epoch 167/250\n",
            "178/178 [==============================] - 21s 118ms/step - loss: 0.8741 - mae: 0.6907 - val_loss: 4.2848 - val_mae: 1.5093\n",
            "Epoch 168/250\n",
            "178/178 [==============================] - 21s 117ms/step - loss: 1.0962 - mae: 0.7647 - val_loss: 5.8310 - val_mae: 1.7690\n",
            "Epoch 169/250\n",
            "178/178 [==============================] - 21s 117ms/step - loss: 1.0372 - mae: 0.7575 - val_loss: 5.4887 - val_mae: 1.6951\n",
            "Epoch 170/250\n",
            "178/178 [==============================] - 21s 118ms/step - loss: 0.9879 - mae: 0.7368 - val_loss: 5.6897 - val_mae: 1.7358\n",
            "Epoch 171/250\n",
            "178/178 [==============================] - 21s 117ms/step - loss: 1.0515 - mae: 0.7519 - val_loss: 5.3101 - val_mae: 1.6515\n",
            "Epoch 172/250\n",
            "178/178 [==============================] - 21s 117ms/step - loss: 1.5723 - mae: 0.8755 - val_loss: 5.5477 - val_mae: 1.6976\n",
            "Epoch 173/250\n",
            "178/178 [==============================] - 21s 117ms/step - loss: 1.4354 - mae: 0.8693 - val_loss: 5.6822 - val_mae: 1.6987\n",
            "Epoch 174/250\n",
            "178/178 [==============================] - 21s 117ms/step - loss: 1.2217 - mae: 0.7941 - val_loss: 4.9462 - val_mae: 1.6074\n",
            "Epoch 175/250\n",
            "178/178 [==============================] - 21s 117ms/step - loss: 1.1863 - mae: 0.7734 - val_loss: 5.0040 - val_mae: 1.6268\n",
            "Epoch 176/250\n",
            "178/178 [==============================] - 21s 118ms/step - loss: 1.7959 - mae: 0.9300 - val_loss: 7.5916 - val_mae: 2.0123\n",
            "Epoch 177/250\n",
            "178/178 [==============================] - 21s 118ms/step - loss: 1.6893 - mae: 0.8934 - val_loss: 5.5242 - val_mae: 1.6960\n",
            "Epoch 178/250\n",
            "178/178 [==============================] - 22s 119ms/step - loss: 1.3735 - mae: 0.8538 - val_loss: 5.4623 - val_mae: 1.7236\n",
            "Epoch 179/250\n",
            "178/178 [==============================] - 21s 118ms/step - loss: 1.4218 - mae: 0.8533 - val_loss: 4.1642 - val_mae: 1.5334\n",
            "Epoch 180/250\n",
            "178/178 [==============================] - 21s 117ms/step - loss: 1.2396 - mae: 0.8079 - val_loss: 5.0268 - val_mae: 1.6487\n",
            "Epoch 181/250\n",
            "178/178 [==============================] - 21s 117ms/step - loss: 1.1469 - mae: 0.7898 - val_loss: 5.5775 - val_mae: 1.7305\n",
            "Epoch 182/250\n",
            "178/178 [==============================] - 17s 93ms/step - loss: 1.1773 - mae: 0.7886 - val_loss: 5.3569 - val_mae: 1.7014\n",
            "Epoch 183/250\n",
            "178/178 [==============================] - 21s 117ms/step - loss: 1.1120 - mae: 0.7762 - val_loss: 5.4455 - val_mae: 1.6947\n",
            "Epoch 184/250\n",
            "178/178 [==============================] - 21s 117ms/step - loss: 1.0595 - mae: 0.7623 - val_loss: 6.0346 - val_mae: 1.7807\n",
            "Epoch 185/250\n",
            "178/178 [==============================] - 21s 117ms/step - loss: 1.0740 - mae: 0.7623 - val_loss: 5.4888 - val_mae: 1.6975\n",
            "Epoch 186/250\n",
            "178/178 [==============================] - 21s 117ms/step - loss: 0.9981 - mae: 0.7407 - val_loss: 5.3401 - val_mae: 1.6953\n",
            "Epoch 187/250\n",
            "178/178 [==============================] - 22s 118ms/step - loss: 1.0836 - mae: 0.7452 - val_loss: 5.6706 - val_mae: 1.7330\n",
            "Epoch 188/250\n",
            "178/178 [==============================] - 21s 118ms/step - loss: 1.0164 - mae: 0.7433 - val_loss: 5.0028 - val_mae: 1.6214\n",
            "Epoch 189/250\n",
            "178/178 [==============================] - 21s 117ms/step - loss: 0.9911 - mae: 0.7287 - val_loss: 4.7161 - val_mae: 1.5950\n",
            "Epoch 190/250\n",
            "178/178 [==============================] - 21s 118ms/step - loss: 0.9708 - mae: 0.7344 - val_loss: 5.5662 - val_mae: 1.6971\n",
            "Epoch 191/250\n",
            "178/178 [==============================] - 21s 118ms/step - loss: 1.0328 - mae: 0.7452 - val_loss: 6.1652 - val_mae: 1.7943\n",
            "Epoch 192/250\n",
            "178/178 [==============================] - 22s 118ms/step - loss: 1.0883 - mae: 0.7546 - val_loss: 5.1012 - val_mae: 1.6514\n",
            "Epoch 193/250\n",
            "178/178 [==============================] - 21s 118ms/step - loss: 1.0660 - mae: 0.7510 - val_loss: 5.9683 - val_mae: 1.7943\n",
            "Epoch 194/250\n",
            "178/178 [==============================] - 21s 117ms/step - loss: 0.8799 - mae: 0.7050 - val_loss: 5.7317 - val_mae: 1.7725\n",
            "Epoch 195/250\n",
            "178/178 [==============================] - 21s 117ms/step - loss: 0.9896 - mae: 0.7230 - val_loss: 5.0365 - val_mae: 1.6491\n",
            "Epoch 196/250\n",
            "178/178 [==============================] - 21s 117ms/step - loss: 0.9612 - mae: 0.7194 - val_loss: 6.4955 - val_mae: 1.8700\n",
            "Epoch 197/250\n",
            "178/178 [==============================] - 21s 117ms/step - loss: 0.9843 - mae: 0.7334 - val_loss: 4.9468 - val_mae: 1.6345\n",
            "Epoch 198/250\n",
            "178/178 [==============================] - 21s 117ms/step - loss: 0.9910 - mae: 0.7212 - val_loss: 4.8249 - val_mae: 1.5947\n",
            "Epoch 199/250\n",
            "178/178 [==============================] - 21s 118ms/step - loss: 0.9471 - mae: 0.7235 - val_loss: 6.8707 - val_mae: 1.9102\n",
            "Epoch 200/250\n",
            "178/178 [==============================] - 22s 118ms/step - loss: 0.9684 - mae: 0.6994 - val_loss: 6.0225 - val_mae: 1.7887\n",
            "Epoch 201/250\n",
            "178/178 [==============================] - 21s 117ms/step - loss: 1.8822 - mae: 0.8919 - val_loss: 5.6223 - val_mae: 1.7469\n",
            "Epoch 202/250\n",
            "178/178 [==============================] - 21s 118ms/step - loss: 1.3519 - mae: 0.8354 - val_loss: 5.5555 - val_mae: 1.7158\n",
            "Epoch 203/250\n",
            "178/178 [==============================] - 21s 117ms/step - loss: 1.2355 - mae: 0.8006 - val_loss: 5.7214 - val_mae: 1.7373\n",
            "Epoch 204/250\n",
            "178/178 [==============================] - 21s 117ms/step - loss: 1.2236 - mae: 0.7907 - val_loss: 9.7409 - val_mae: 2.2618\n",
            "Epoch 205/250\n",
            "178/178 [==============================] - 21s 118ms/step - loss: 1.2157 - mae: 0.8107 - val_loss: 6.1185 - val_mae: 1.7887\n",
            "Epoch 206/250\n",
            "178/178 [==============================] - 21s 117ms/step - loss: 1.1365 - mae: 0.7810 - val_loss: 6.1997 - val_mae: 1.8112\n",
            "Epoch 207/250\n",
            "178/178 [==============================] - 21s 117ms/step - loss: 1.1047 - mae: 0.7659 - val_loss: 6.5899 - val_mae: 1.8633\n",
            "Epoch 208/250\n",
            "178/178 [==============================] - 21s 117ms/step - loss: 1.1319 - mae: 0.7721 - val_loss: 5.7569 - val_mae: 1.7379\n",
            "Epoch 209/250\n",
            "178/178 [==============================] - 21s 116ms/step - loss: 0.9880 - mae: 0.7351 - val_loss: 6.0435 - val_mae: 1.7866\n",
            "Epoch 210/250\n",
            "178/178 [==============================] - 21s 117ms/step - loss: 0.9840 - mae: 0.7293 - val_loss: 7.0824 - val_mae: 1.9336\n",
            "Epoch 211/250\n",
            "178/178 [==============================] - 21s 118ms/step - loss: 0.9665 - mae: 0.7268 - val_loss: 6.3501 - val_mae: 1.8219\n",
            "Epoch 212/250\n",
            "178/178 [==============================] - 21s 117ms/step - loss: 0.9202 - mae: 0.7087 - val_loss: 6.4987 - val_mae: 1.8605\n",
            "Epoch 213/250\n",
            "178/178 [==============================] - 21s 117ms/step - loss: 0.9910 - mae: 0.7314 - val_loss: 6.6142 - val_mae: 1.8725\n",
            "Epoch 214/250\n",
            "178/178 [==============================] - 22s 118ms/step - loss: 0.8962 - mae: 0.6983 - val_loss: 6.7383 - val_mae: 1.8910\n",
            "Epoch 215/250\n",
            "178/178 [==============================] - 21s 117ms/step - loss: 0.9189 - mae: 0.7016 - val_loss: 6.6361 - val_mae: 1.8708\n",
            "Epoch 216/250\n",
            "178/178 [==============================] - 21s 117ms/step - loss: 0.9321 - mae: 0.7032 - val_loss: 5.7925 - val_mae: 1.7682\n",
            "Epoch 217/250\n",
            "178/178 [==============================] - 22s 118ms/step - loss: 1.0075 - mae: 0.7408 - val_loss: 5.2259 - val_mae: 1.6882\n",
            "Epoch 218/250\n",
            "178/178 [==============================] - 21s 118ms/step - loss: 0.9148 - mae: 0.7046 - val_loss: 5.5520 - val_mae: 1.7318\n",
            "Epoch 219/250\n",
            "178/178 [==============================] - 21s 118ms/step - loss: 0.9471 - mae: 0.7163 - val_loss: 5.3329 - val_mae: 1.7138\n",
            "Epoch 220/250\n",
            "178/178 [==============================] - 22s 118ms/step - loss: 1.0979 - mae: 0.7504 - val_loss: 4.1354 - val_mae: 1.4862\n",
            "Epoch 221/250\n",
            "178/178 [==============================] - 21s 118ms/step - loss: 1.3311 - mae: 0.8094 - val_loss: 5.5327 - val_mae: 1.7032\n",
            "Epoch 222/250\n",
            "178/178 [==============================] - 21s 117ms/step - loss: 1.2761 - mae: 0.8132 - val_loss: 5.4632 - val_mae: 1.6949\n",
            "Epoch 223/250\n",
            "178/178 [==============================] - 21s 117ms/step - loss: 1.1656 - mae: 0.7683 - val_loss: 5.4172 - val_mae: 1.6822\n",
            "Epoch 224/250\n",
            "178/178 [==============================] - 21s 117ms/step - loss: 1.1634 - mae: 0.7750 - val_loss: 5.4215 - val_mae: 1.7175\n",
            "Epoch 225/250\n",
            "178/178 [==============================] - 21s 117ms/step - loss: 1.0927 - mae: 0.7522 - val_loss: 5.4555 - val_mae: 1.6933\n",
            "Epoch 226/250\n",
            "178/178 [==============================] - 22s 118ms/step - loss: 1.0939 - mae: 0.7509 - val_loss: 4.8921 - val_mae: 1.6224\n",
            "Epoch 227/250\n",
            "178/178 [==============================] - 21s 116ms/step - loss: 1.0015 - mae: 0.7249 - val_loss: 5.5732 - val_mae: 1.7247\n",
            "Epoch 228/250\n",
            "178/178 [==============================] - 21s 117ms/step - loss: 1.0187 - mae: 0.7269 - val_loss: 6.0705 - val_mae: 1.8136\n",
            "Epoch 229/250\n",
            "178/178 [==============================] - 22s 119ms/step - loss: 1.0437 - mae: 0.7485 - val_loss: 5.7866 - val_mae: 1.7324\n",
            "Epoch 230/250\n",
            "178/178 [==============================] - 21s 117ms/step - loss: 0.9769 - mae: 0.7160 - val_loss: 5.3174 - val_mae: 1.6882\n",
            "Epoch 231/250\n",
            "178/178 [==============================] - 21s 117ms/step - loss: 0.9035 - mae: 0.6940 - val_loss: 5.8347 - val_mae: 1.7725\n",
            "Epoch 232/250\n",
            "178/178 [==============================] - 21s 118ms/step - loss: 0.9762 - mae: 0.7084 - val_loss: 5.9996 - val_mae: 1.7877\n",
            "Epoch 233/250\n",
            "178/178 [==============================] - 21s 117ms/step - loss: 0.9466 - mae: 0.7150 - val_loss: 4.9443 - val_mae: 1.6194\n",
            "Epoch 234/250\n",
            "178/178 [==============================] - 21s 118ms/step - loss: 0.8842 - mae: 0.6985 - val_loss: 5.5216 - val_mae: 1.7333\n",
            "Epoch 235/250\n",
            "178/178 [==============================] - 21s 118ms/step - loss: 1.2865 - mae: 0.8084 - val_loss: 8.4174 - val_mae: 2.1151\n",
            "Epoch 236/250\n",
            "178/178 [==============================] - 17s 92ms/step - loss: 1.3255 - mae: 0.8296 - val_loss: 8.2387 - val_mae: 2.0508\n",
            "Epoch 237/250\n",
            "178/178 [==============================] - 21s 117ms/step - loss: 1.1148 - mae: 0.7809 - val_loss: 6.9313 - val_mae: 1.8876\n",
            "Epoch 238/250\n",
            "178/178 [==============================] - 21s 117ms/step - loss: 1.0377 - mae: 0.7559 - val_loss: 6.9425 - val_mae: 1.8951\n",
            "Epoch 239/250\n",
            "178/178 [==============================] - 21s 117ms/step - loss: 1.0006 - mae: 0.7285 - val_loss: 7.4462 - val_mae: 1.9566\n",
            "Epoch 240/250\n",
            "178/178 [==============================] - 21s 118ms/step - loss: 0.9733 - mae: 0.7253 - val_loss: 5.5374 - val_mae: 1.7124\n",
            "Epoch 241/250\n",
            "178/178 [==============================] - 21s 117ms/step - loss: 1.0301 - mae: 0.7423 - val_loss: 6.0201 - val_mae: 1.7847\n",
            "Epoch 242/250\n",
            "178/178 [==============================] - 21s 117ms/step - loss: 1.0523 - mae: 0.7362 - val_loss: 5.4515 - val_mae: 1.7015\n",
            "Epoch 243/250\n",
            "178/178 [==============================] - 19s 104ms/step - loss: 1.0755 - mae: 0.7708 - val_loss: 7.2430 - val_mae: 1.9809\n",
            "Epoch 244/250\n",
            "178/178 [==============================] - 21s 117ms/step - loss: 0.9846 - mae: 0.7403 - val_loss: 5.6521 - val_mae: 1.7484\n",
            "Epoch 245/250\n",
            "178/178 [==============================] - 22s 118ms/step - loss: 1.0311 - mae: 0.7309 - val_loss: 6.3075 - val_mae: 1.8240\n",
            "Epoch 246/250\n",
            "178/178 [==============================] - 21s 117ms/step - loss: 0.9936 - mae: 0.7290 - val_loss: 5.7515 - val_mae: 1.7428\n",
            "Epoch 247/250\n",
            "178/178 [==============================] - 21s 117ms/step - loss: 0.9609 - mae: 0.7330 - val_loss: 5.5744 - val_mae: 1.7216\n",
            "Epoch 248/250\n",
            "178/178 [==============================] - 22s 119ms/step - loss: 0.9325 - mae: 0.7188 - val_loss: 5.8812 - val_mae: 1.7699\n",
            "Epoch 249/250\n",
            "178/178 [==============================] - 21s 116ms/step - loss: 0.8666 - mae: 0.6914 - val_loss: 5.3481 - val_mae: 1.7034\n",
            "Epoch 250/250\n",
            "178/178 [==============================] - 21s 117ms/step - loss: 0.8743 - mae: 0.6896 - val_loss: 5.2889 - val_mae: 1.6948\n"
          ]
        }
      ]
    },
    {
      "cell_type": "code",
      "source": [
        "loss = history.history['loss']\n",
        "val_loss = history.history['val_loss']\n",
        "mae = history.history['mae']\n",
        "val_mae = history.history['val_mae']\n",
        "\n",
        "\n",
        "epochs_x = range(len(loss))\n",
        "\n",
        "\n",
        "plt.plot(epochs_x, mae, 'o', color ='darkviolet', label='Training MAE')\n",
        "plt.plot(epochs_x, val_mae, 'k', label='Validation MAE')\n",
        "plt.title('Training and validation MeanAbsoluteError')\n",
        "plt.legend()\n",
        "\n",
        "plt.figure()\n",
        "plt.plot(epochs_x, loss, 'o', color ='darkviolet', label='Training loss')\n",
        "plt.plot(epochs_x, val_loss, 'k', label='Validation loss')\n",
        "plt.title('Training and validation loss')\n",
        "plt.legend()\n",
        "\n",
        "plt.show()"
      ],
      "metadata": {
        "id": "Y3K89-CM-dfg",
        "colab": {
          "base_uri": "https://localhost:8080/",
          "height": 887
        },
        "outputId": "fb9ec9ad-f7a7-4846-b329-ffd5b384a569"
      },
      "execution_count": 19,
      "outputs": [
        {
          "output_type": "display_data",
          "data": {
            "text/plain": [
              "<Figure size 640x480 with 1 Axes>"
            ],
            "image/png": "[encoded data removed]"
          },
          "metadata": {}
        },
        {
          "output_type": "display_data",
          "data": {
            "text/plain": [
              "<Figure size 640x480 with 1 Axes>"
            ],
            "image/png": "[encoded data removed]"
          },
          "metadata": {}
        }
      ]
    },
    {
      "cell_type": "code",
      "source": [],
      "metadata": {
        "id": "sI5JVEwwQsjc"
      },
      "execution_count": 19,
      "outputs": []
    },
    {
      "cell_type": "code",
      "source": [
        "epochs_x"
      ],
      "metadata": {
        "id": "N_sP_ZmSY-Jv",
        "colab": {
          "base_uri": "https://localhost:8080/"
        },
        "outputId": "7f0b5aeb-2b9e-4b1a-c67c-86a19882b5b4"
      },
      "execution_count": 20,
      "outputs": [
        {
          "output_type": "execute_result",
          "data": {
            "text/plain": [
              "range(0, 250)"
            ]
          },
          "metadata": {},
          "execution_count": 20
        }
      ]
    },
    {
      "cell_type": "markdown",
      "source": [
        "#Download the model\n"
      ],
      "metadata": {
        "id": "R19IJQSYoW7J"
      }
    },
    {
      "cell_type": "code",
      "source": [
        "os.makedirs('/content/drive/MyDrive/All_Data_Project/cut_panoramic/Model', exist_ok=True)\n",
        "model.save('/content/drive/MyDrive/All_Data_Project/cut_panoramic/Model/Regression/5Re_All_1G_1e-4_16_0.2_250_New_Unfreez.h5')"
      ],
      "metadata": {
        "id": "Zed4TdFcG2iJ"
      },
      "execution_count": 23,
      "outputs": []
    },
    {
      "cell_type": "markdown",
      "source": [],
      "metadata": {
        "id": "n5YxZ-5QjQ0-"
      }
    },
    {
      "cell_type": "code",
      "source": [
        "# from google.colab import files\n",
        "# files.download('/content/drive/My Drive/cut_panoramic/Model/1.1_รอบแรก_Flimpano_Male125_250.h5')"
      ],
      "metadata": {
        "id": "P5eMxm1NV-oY"
      },
      "execution_count": 22,
      "outputs": []
    },
    {
      "cell_type": "code",
      "source": [
        "\n"
      ],
      "metadata": {
        "id": "wY_pDlxkRwxS"
      },
      "execution_count": 22,
      "outputs": []
    }
  ]
}