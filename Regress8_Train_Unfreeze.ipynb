{
  "nbformat": 4,
  "nbformat_minor": 0,
  "metadata": {
    "colab": {
      "provenance": [],
      "machine_shape": "hm",
      "include_colab_link": true
    },
    "kernelspec": {
      "name": "python3",
      "display_name": "Python 3"
    },
    "language_info": {
      "name": "python"
    },
    "accelerator": "GPU",
    "gpuClass": "standard"
  },
  "cells": [
    {
      "cell_type": "markdown",
      "metadata": {
        "id": "view-in-github",
        "colab_type": "text"
      },
      "source": [
        "<a href=\"https://colab.research.google.com/github/natthanich/Project_Deep_Tooth/blob/main/Regress8_Train_Unfreeze.ipynb\" target=\"_parent\"><img src=\"https://colab.research.google.com/assets/colab-badge.svg\" alt=\"Open In Colab\"/></a>"
      ]
    },
    {
      "cell_type": "markdown",
      "source": [
        "#เรียกใช้ CSV"
      ],
      "metadata": {
        "id": "ow7eWoNw6U-c"
      }
    },
    {
      "cell_type": "code",
      "execution_count": null,
      "metadata": {
        "id": "z8o_VVNXzcL8"
      },
      "outputs": [],
      "source": [
        "import pandas as pd\n",
        "import shutil"
      ]
    },
    {
      "cell_type": "code",
      "source": [
        "from google.colab import drive\n",
        "drive.mount('/content/drive')"
      ],
      "metadata": {
        "colab": {
          "base_uri": "https://localhost:8080/"
        },
        "id": "1_2Fe8u81d5r",
        "outputId": "30c4d02a-8e89-4ce0-88f2-820f481dc8b0"
      },
      "execution_count": null,
      "outputs": [
        {
          "output_type": "stream",
          "name": "stdout",
          "text": [
            "Mounted at /content/drive\n"
          ]
        }
      ]
    },
    {
      "cell_type": "markdown",
      "source": [
        "#Imports"
      ],
      "metadata": {
        "id": "5qxePnnn7TGW"
      }
    },
    {
      "cell_type": "code",
      "source": [
        "from tensorflow.keras import models\n",
        "from tensorflow.keras import layers\n",
        "from tensorflow.keras import optimizers\n",
        "import os\n",
        "import glob\n",
        "import shutil\n",
        "import sys\n",
        "import numpy as np\n",
        "from skimage.io import imread\n",
        "import matplotlib.pyplot as plt\n",
        "from IPython.display import Image\n",
        "%matplotlib inline"
      ],
      "metadata": {
        "id": "D-hCRloc3t39"
      },
      "execution_count": null,
      "outputs": []
    },
    {
      "cell_type": "code",
      "source": [
        "import tensorflow as tf\n",
        "from tensorflow.keras import Sequential\n",
        "from tensorflow.keras.layers import Dense\n",
        "from tensorflow.keras.optimizers import Adam\n",
        "from tensorflow.keras import backend as K"
      ],
      "metadata": {
        "id": "YZWXwjXeGxZP"
      },
      "execution_count": null,
      "outputs": []
    },
    {
      "cell_type": "markdown",
      "source": [
        "#กำหนดค่าพารามิเตอร์\n"
      ],
      "metadata": {
        "id": "RooqSdBc7QHC"
      }
    },
    {
      "cell_type": "code",
      "source": [
        "batch_size = 16\n",
        "width = 150\n",
        "height = 150\n",
        "epochs = 250\n",
        "NUM_TRAIN = 2850\n",
        "NUM_TEST = 950\n",
        "dropout_rate = 0.2\n",
        "input_shape = (height, width, 3)"
      ],
      "metadata": {
        "id": "thDb7U9B3xOo"
      },
      "execution_count": null,
      "outputs": []
    },
    {
      "cell_type": "markdown",
      "source": [
        "#Clone efficientnet repo\n"
      ],
      "metadata": {
        "id": "pumGmy6f3eSW"
      }
    },
    {
      "cell_type": "code",
      "source": [
        "#ดึงข้อมูลใน Github มาใช้\n",
        "import os\n",
        "%cd /content\n",
        "if not os.path.isdir(\"efficientnet_keras_transfer_learning\"):\n",
        " !git clone https://github.com/Wanita-8943/efficientnet_keras_transfer_learning\n",
        "%cd efficientnet_keras_transfer_learning/\n"
      ],
      "metadata": {
        "colab": {
          "base_uri": "https://localhost:8080/"
        },
        "id": "P7iy2f8n16p0",
        "outputId": "3bc52b65-b97f-4662-8154-6d6b3f267d30"
      },
      "execution_count": null,
      "outputs": [
        {
          "output_type": "stream",
          "name": "stdout",
          "text": [
            "/content\n",
            "Cloning into 'efficientnet_keras_transfer_learning'...\n",
            "remote: Enumerating objects: 1100, done.\u001b[K\n",
            "remote: Counting objects: 100% (263/263), done.\u001b[K\n",
            "remote: Compressing objects: 100% (142/142), done.\u001b[K\n",
            "remote: Total 1100 (delta 133), reused 241 (delta 121), pack-reused 837\u001b[K\n",
            "Receiving objects: 100% (1100/1100), 14.10 MiB | 16.77 MiB/s, done.\n",
            "Resolving deltas: 100% (630/630), done.\n",
            "/content/efficientnet_keras_transfer_learning\n"
          ]
        }
      ]
    },
    {
      "cell_type": "code",
      "source": [
        "# Options: EfficientNetB0, EfficientNetB1, EfficientNetB2, EfficientNetB3\n",
        "# Higher the number, the more complex the model is.\n",
        "from efficientnet import EfficientNetB0 as Net\n",
        "from efficientnet import center_crop_and_resize, preprocess_input"
      ],
      "metadata": {
        "id": "tjZBRnfo3bN0"
      },
      "execution_count": null,
      "outputs": []
    },
    {
      "cell_type": "code",
      "source": [
        "# loading pretrained conv base model\n",
        "# โหลดโมเดล มาโดยตัด output ของโมเดลออก เเต่ยังใช้ input อันเดิม\n",
        "# เเละโหลด weight ของโมเดล มาด้วยที่ชื่อว่า imagenet\n",
        "conv_base = Net(weights='imagenet', include_top=False, input_shape=input_shape)"
      ],
      "metadata": {
        "colab": {
          "base_uri": "https://localhost:8080/"
        },
        "id": "r8BN74_JJdfj",
        "outputId": "dcf9d6d2-c3fc-47a1-9ea1-29160a5dce3c"
      },
      "execution_count": null,
      "outputs": [
        {
          "output_type": "stream",
          "name": "stdout",
          "text": [
            "Downloading data from https://github.com/qubvel/efficientnet/releases/download/v0.0.1/efficientnet-b0_imagenet_1000_notop.h5\n",
            "16717576/16717576 [==============================] - 1s 0us/step\n"
          ]
        }
      ]
    },
    {
      "cell_type": "markdown",
      "source": [
        "#load model\n"
      ],
      "metadata": {
        "id": "PdNWyD-QYkzK"
      }
    },
    {
      "cell_type": "code",
      "source": [
        "import sys\n",
        "sys.path.append('/content/drive/MyDrive/All_Data_Project/cut_panoramic/Model/Regression/7Re_All_1G_1e-4_16_0.2_250_New_Unfreez.h5')\n",
        "\n",
        "from efficientnet.layers import Swish, DropConnect\n",
        "from efficientnet.model import ConvKernalInitializer\n",
        "from tensorflow.keras.utils import get_custom_objects\n",
        "\n",
        "get_custom_objects().update({\n",
        "    'ConvKernalInitializer': ConvKernalInitializer,\n",
        "    'Swish': Swish,\n",
        "    'DropConnect':DropConnect\n",
        "})"
      ],
      "metadata": {
        "id": "_gPnx2UvYf5A"
      },
      "execution_count": null,
      "outputs": []
    },
    {
      "cell_type": "code",
      "source": [
        "#load model \n",
        "from tensorflow.keras.models import load_model\n",
        "model = load_model('/content/drive/MyDrive/All_Data_Project/cut_panoramic/Model/Regression/7Re_All_1G_1e-4_16_0.2_250_New_Unfreez.h5')\n",
        "height = width = model.input_shape[1]"
      ],
      "metadata": {
        "id": "Nu93WzFUYm9e"
      },
      "execution_count": null,
      "outputs": []
    },
    {
      "cell_type": "code",
      "source": [
        "model.summary()"
      ],
      "metadata": {
        "id": "gp5EbyyXYvc6",
        "colab": {
          "base_uri": "https://localhost:8080/"
        },
        "outputId": "aa7fcfb6-8a73-449d-a21d-59f09a1fb24c"
      },
      "execution_count": null,
      "outputs": [
        {
          "output_type": "stream",
          "name": "stdout",
          "text": [
            "Model: \"sequential\"\n",
            "_________________________________________________________________\n",
            " Layer (type)                Output Shape              Param #   \n",
            "=================================================================\n",
            " efficientnet-b0 (Functional  (None, 5, 5, 1280)       4049564   \n",
            " )                                                               \n",
            "                                                                 \n",
            " gap (GlobalMaxPooling2D)    (None, 1280)              0         \n",
            "                                                                 \n",
            " dropout_out (Dropout)       (None, 1280)              0         \n",
            "                                                                 \n",
            " fc_out (Dense)              (None, 19)                24339     \n",
            "                                                                 \n",
            " dense (Dense)               (None, 1)                 20        \n",
            "                                                                 \n",
            "=================================================================\n",
            "Total params: 4,073,923\n",
            "Trainable params: 4,031,907\n",
            "Non-trainable params: 42,016\n",
            "_________________________________________________________________\n"
          ]
        }
      ]
    },
    {
      "cell_type": "code",
      "source": [
        "df = pd.read_csv (r'/content/drive/MyDrive/All_Data_Project/cut_panoramic/Data/All_Re.csv')\n",
        "df"
      ],
      "metadata": {
        "id": "q1Dc131_Y3uA",
        "colab": {
          "base_uri": "https://localhost:8080/",
          "height": 423
        },
        "outputId": "9b4ffd14-84f4-467a-88b2-d79624546355"
      },
      "execution_count": null,
      "outputs": [
        {
          "output_type": "execute_result",
          "data": {
            "text/plain": [
              "      Fig_Age  Age(year) Class  Class_Re       Filename  \\\n",
              "0           1          7  Y07F         1         V1.jpg   \n",
              "1           2          7  Y07F         1    Flip_V1.jpg   \n",
              "2           3          7  Y07F         1         V2.jpg   \n",
              "3           4          7  Y07F         1    Flip_V2.jpg   \n",
              "4           5          7  Y07F         1         V3.jpg   \n",
              "...       ...        ...   ...       ...            ...   \n",
              "4745      121         25  Y25M        19  Flip_J463.jpg   \n",
              "4746      122         25  Y25M        19       J464.jpg   \n",
              "4747      123         25  Y25M        19  Flip_J464.jpg   \n",
              "4748      124         25  Y25M        19       J465.jpg   \n",
              "4749      125         25  Y25M        19  Flip_J465.jpg   \n",
              "\n",
              "                                          Path_filename     Sex Floder  \n",
              "0     /content/drive/My Drive/All_Data_Project/TVT_G...  Female   Both  \n",
              "1     /content/drive/My Drive/All_Data_Project/TVT_G...  Female   Both  \n",
              "2     /content/drive/My Drive/All_Data_Project/TVT_G...  Female   Both  \n",
              "3     /content/drive/My Drive/All_Data_Project/TVT_G...  Female   Both  \n",
              "4     /content/drive/My Drive/All_Data_Project/TVT_G...  Female   Both  \n",
              "...                                                 ...     ...    ...  \n",
              "4745  /content/drive/My Drive/All_Data_Project/TVT_G...    Male   Both  \n",
              "4746  /content/drive/My Drive/All_Data_Project/TVT_G...    Male   Both  \n",
              "4747  /content/drive/My Drive/All_Data_Project/TVT_G...    Male   Both  \n",
              "4748  /content/drive/My Drive/All_Data_Project/TVT_G...    Male   Both  \n",
              "4749  /content/drive/My Drive/All_Data_Project/TVT_G...    Male   Both  \n",
              "\n",
              "[4750 rows x 8 columns]"
            ],
            "text/html": [
              "\n",
              "  <div id=\"df-2eaad703-a752-40b9-9d7d-415d0fb11fb1\">\n",
              "    <div class=\"colab-df-container\">\n",
              "      <div>\n",
              "<style scoped>\n",
              "    .dataframe tbody tr th:only-of-type {\n",
              "        vertical-align: middle;\n",
              "    }\n",
              "\n",
              "    .dataframe tbody tr th {\n",
              "        vertical-align: top;\n",
              "    }\n",
              "\n",
              "    .dataframe thead th {\n",
              "        text-align: right;\n",
              "    }\n",
              "</style>\n",
              "<table border=\"1\" class=\"dataframe\">\n",
              "  <thead>\n",
              "    <tr style=\"text-align: right;\">\n",
              "      <th></th>\n",
              "      <th>Fig_Age</th>\n",
              "      <th>Age(year)</th>\n",
              "      <th>Class</th>\n",
              "      <th>Class_Re</th>\n",
              "      <th>Filename</th>\n",
              "      <th>Path_filename</th>\n",
              "      <th>Sex</th>\n",
              "      <th>Floder</th>\n",
              "    </tr>\n",
              "  </thead>\n",
              "  <tbody>\n",
              "    <tr>\n",
              "      <th>0</th>\n",
              "      <td>1</td>\n",
              "      <td>7</td>\n",
              "      <td>Y07F</td>\n",
              "      <td>1</td>\n",
              "      <td>V1.jpg</td>\n",
              "      <td>/content/drive/My Drive/All_Data_Project/TVT_G...</td>\n",
              "      <td>Female</td>\n",
              "      <td>Both</td>\n",
              "    </tr>\n",
              "    <tr>\n",
              "      <th>1</th>\n",
              "      <td>2</td>\n",
              "      <td>7</td>\n",
              "      <td>Y07F</td>\n",
              "      <td>1</td>\n",
              "      <td>Flip_V1.jpg</td>\n",
              "      <td>/content/drive/My Drive/All_Data_Project/TVT_G...</td>\n",
              "      <td>Female</td>\n",
              "      <td>Both</td>\n",
              "    </tr>\n",
              "    <tr>\n",
              "      <th>2</th>\n",
              "      <td>3</td>\n",
              "      <td>7</td>\n",
              "      <td>Y07F</td>\n",
              "      <td>1</td>\n",
              "      <td>V2.jpg</td>\n",
              "      <td>/content/drive/My Drive/All_Data_Project/TVT_G...</td>\n",
              "      <td>Female</td>\n",
              "      <td>Both</td>\n",
              "    </tr>\n",
              "    <tr>\n",
              "      <th>3</th>\n",
              "      <td>4</td>\n",
              "      <td>7</td>\n",
              "      <td>Y07F</td>\n",
              "      <td>1</td>\n",
              "      <td>Flip_V2.jpg</td>\n",
              "      <td>/content/drive/My Drive/All_Data_Project/TVT_G...</td>\n",
              "      <td>Female</td>\n",
              "      <td>Both</td>\n",
              "    </tr>\n",
              "    <tr>\n",
              "      <th>4</th>\n",
              "      <td>5</td>\n",
              "      <td>7</td>\n",
              "      <td>Y07F</td>\n",
              "      <td>1</td>\n",
              "      <td>V3.jpg</td>\n",
              "      <td>/content/drive/My Drive/All_Data_Project/TVT_G...</td>\n",
              "      <td>Female</td>\n",
              "      <td>Both</td>\n",
              "    </tr>\n",
              "    <tr>\n",
              "      <th>...</th>\n",
              "      <td>...</td>\n",
              "      <td>...</td>\n",
              "      <td>...</td>\n",
              "      <td>...</td>\n",
              "      <td>...</td>\n",
              "      <td>...</td>\n",
              "      <td>...</td>\n",
              "      <td>...</td>\n",
              "    </tr>\n",
              "    <tr>\n",
              "      <th>4745</th>\n",
              "      <td>121</td>\n",
              "      <td>25</td>\n",
              "      <td>Y25M</td>\n",
              "      <td>19</td>\n",
              "      <td>Flip_J463.jpg</td>\n",
              "      <td>/content/drive/My Drive/All_Data_Project/TVT_G...</td>\n",
              "      <td>Male</td>\n",
              "      <td>Both</td>\n",
              "    </tr>\n",
              "    <tr>\n",
              "      <th>4746</th>\n",
              "      <td>122</td>\n",
              "      <td>25</td>\n",
              "      <td>Y25M</td>\n",
              "      <td>19</td>\n",
              "      <td>J464.jpg</td>\n",
              "      <td>/content/drive/My Drive/All_Data_Project/TVT_G...</td>\n",
              "      <td>Male</td>\n",
              "      <td>Both</td>\n",
              "    </tr>\n",
              "    <tr>\n",
              "      <th>4747</th>\n",
              "      <td>123</td>\n",
              "      <td>25</td>\n",
              "      <td>Y25M</td>\n",
              "      <td>19</td>\n",
              "      <td>Flip_J464.jpg</td>\n",
              "      <td>/content/drive/My Drive/All_Data_Project/TVT_G...</td>\n",
              "      <td>Male</td>\n",
              "      <td>Both</td>\n",
              "    </tr>\n",
              "    <tr>\n",
              "      <th>4748</th>\n",
              "      <td>124</td>\n",
              "      <td>25</td>\n",
              "      <td>Y25M</td>\n",
              "      <td>19</td>\n",
              "      <td>J465.jpg</td>\n",
              "      <td>/content/drive/My Drive/All_Data_Project/TVT_G...</td>\n",
              "      <td>Male</td>\n",
              "      <td>Both</td>\n",
              "    </tr>\n",
              "    <tr>\n",
              "      <th>4749</th>\n",
              "      <td>125</td>\n",
              "      <td>25</td>\n",
              "      <td>Y25M</td>\n",
              "      <td>19</td>\n",
              "      <td>Flip_J465.jpg</td>\n",
              "      <td>/content/drive/My Drive/All_Data_Project/TVT_G...</td>\n",
              "      <td>Male</td>\n",
              "      <td>Both</td>\n",
              "    </tr>\n",
              "  </tbody>\n",
              "</table>\n",
              "<p>4750 rows × 8 columns</p>\n",
              "</div>\n",
              "      <button class=\"colab-df-convert\" onclick=\"convertToInteractive('df-2eaad703-a752-40b9-9d7d-415d0fb11fb1')\"\n",
              "              title=\"Convert this dataframe to an interactive table.\"\n",
              "              style=\"display:none;\">\n",
              "        \n",
              "  <svg xmlns=\"http://www.w3.org/2000/svg\" height=\"24px\"viewBox=\"0 0 24 24\"\n",
              "       width=\"24px\">\n",
              "    <path d=\"M0 0h24v24H0V0z\" fill=\"none\"/>\n",
              "    <path d=\"M18.56 5.44l.94 2.06.94-2.06 2.06-.94-2.06-.94-.94-2.06-.94 2.06-2.06.94zm-11 1L8.5 8.5l.94-2.06 2.06-.94-2.06-.94L8.5 2.5l-.94 2.06-2.06.94zm10 10l.94 2.06.94-2.06 2.06-.94-2.06-.94-.94-2.06-.94 2.06-2.06.94z\"/><path d=\"M17.41 7.96l-1.37-1.37c-.4-.4-.92-.59-1.43-.59-.52 0-1.04.2-1.43.59L10.3 9.45l-7.72 7.72c-.78.78-.78 2.05 0 2.83L4 21.41c.39.39.9.59 1.41.59.51 0 1.02-.2 1.41-.59l7.78-7.78 2.81-2.81c.8-.78.8-2.07 0-2.86zM5.41 20L4 18.59l7.72-7.72 1.47 1.35L5.41 20z\"/>\n",
              "  </svg>\n",
              "      </button>\n",
              "      \n",
              "  <style>\n",
              "    .colab-df-container {\n",
              "      display:flex;\n",
              "      flex-wrap:wrap;\n",
              "      gap: 12px;\n",
              "    }\n",
              "\n",
              "    .colab-df-convert {\n",
              "      background-color: #E8F0FE;\n",
              "      border: none;\n",
              "      border-radius: 50%;\n",
              "      cursor: pointer;\n",
              "      display: none;\n",
              "      fill: #1967D2;\n",
              "      height: 32px;\n",
              "      padding: 0 0 0 0;\n",
              "      width: 32px;\n",
              "    }\n",
              "\n",
              "    .colab-df-convert:hover {\n",
              "      background-color: #E2EBFA;\n",
              "      box-shadow: 0px 1px 2px rgba(60, 64, 67, 0.3), 0px 1px 3px 1px rgba(60, 64, 67, 0.15);\n",
              "      fill: #174EA6;\n",
              "    }\n",
              "\n",
              "    [theme=dark] .colab-df-convert {\n",
              "      background-color: #3B4455;\n",
              "      fill: #D2E3FC;\n",
              "    }\n",
              "\n",
              "    [theme=dark] .colab-df-convert:hover {\n",
              "      background-color: #434B5C;\n",
              "      box-shadow: 0px 1px 3px 1px rgba(0, 0, 0, 0.15);\n",
              "      filter: drop-shadow(0px 1px 2px rgba(0, 0, 0, 0.3));\n",
              "      fill: #FFFFFF;\n",
              "    }\n",
              "  </style>\n",
              "\n",
              "      <script>\n",
              "        const buttonEl =\n",
              "          document.querySelector('#df-2eaad703-a752-40b9-9d7d-415d0fb11fb1 button.colab-df-convert');\n",
              "        buttonEl.style.display =\n",
              "          google.colab.kernel.accessAllowed ? 'block' : 'none';\n",
              "\n",
              "        async function convertToInteractive(key) {\n",
              "          const element = document.querySelector('#df-2eaad703-a752-40b9-9d7d-415d0fb11fb1');\n",
              "          const dataTable =\n",
              "            await google.colab.kernel.invokeFunction('convertToInteractive',\n",
              "                                                     [key], {});\n",
              "          if (!dataTable) return;\n",
              "\n",
              "          const docLinkHtml = 'Like what you see? Visit the ' +\n",
              "            '<a target=\"_blank\" href=https://colab.research.google.com/notebooks/data_table.ipynb>data table notebook</a>'\n",
              "            + ' to learn more about interactive tables.';\n",
              "          element.innerHTML = '';\n",
              "          dataTable['output_type'] = 'display_data';\n",
              "          await google.colab.output.renderOutput(dataTable, element);\n",
              "          const docLink = document.createElement('div');\n",
              "          docLink.innerHTML = docLinkHtml;\n",
              "          element.appendChild(docLink);\n",
              "        }\n",
              "      </script>\n",
              "    </div>\n",
              "  </div>\n",
              "  "
            ]
          },
          "metadata": {},
          "execution_count": 12
        }
      ]
    },
    {
      "cell_type": "code",
      "source": [
        "train = df[df['Fig_Age'].between(1,75)]\n",
        "val = df[df['Fig_Age'].between(76,100)]"
      ],
      "metadata": {
        "id": "Z1zBw01Gl8Ac"
      },
      "execution_count": null,
      "outputs": []
    },
    {
      "cell_type": "code",
      "source": [
        "DATA_PATH = \"/content/drive/MyDrive/All_Data_Project/TVT_Gender\"\n",
        "os.chdir(DATA_PATH)\n",
        "train_dir = os.path.join(DATA_PATH, 'train')\n",
        "print(train_dir)\n",
        "validation_dir = os.path.join(DATA_PATH, 'validation')\n",
        "print(validation_dir)"
      ],
      "metadata": {
        "colab": {
          "base_uri": "https://localhost:8080/"
        },
        "id": "QL0g-8iOnMC4",
        "outputId": "85be68d4-28b2-4a8e-9eac-d2912fe0ff46"
      },
      "execution_count": null,
      "outputs": [
        {
          "output_type": "stream",
          "name": "stdout",
          "text": [
            "/content/drive/MyDrive/All_Data_Project/TVT_Gender/train\n",
            "/content/drive/MyDrive/All_Data_Project/TVT_Gender/validation\n"
          ]
        }
      ]
    },
    {
      "cell_type": "markdown",
      "source": [
        "\n",
        "#Train"
      ],
      "metadata": {
        "id": "bWEnlTSwazL5"
      }
    },
    {
      "cell_type": "code",
      "source": [
        "# Train ด้วย ImageDataGenerator ของ Keras ซึ่งจะเพิ่มข้อมูลเสริมระหว่างการฝึกเพื่อลดโอกาสเกิด overfitting\n",
        "#overfitting เกิดจากข้อมูลที่ซับซ้อนกันเกินไป\n",
        "from tensorflow.keras.preprocessing.image import ImageDataGenerator\n",
        "\n",
        "train_datagen = ImageDataGenerator(\n",
        "      rescale=1./255, #โมเดลส่วนใหญ่ต้องใช้ RGB ในช่วง 0–1\n",
        "      rotation_range=40,\n",
        "      width_shift_range=0.2,\n",
        "      height_shift_range=0.2,\n",
        "      shear_range=0.2,\n",
        "      zoom_range=0.2,\n",
        "      horizontal_flip=True,\n",
        "      fill_mode='nearest')\n",
        "\n",
        "# Note that the validation data should not be augmented!\n",
        "test_datagen = ImageDataGenerator(rescale=1./255)"
      ],
      "metadata": {
        "id": "xGPrsn9no_pa"
      },
      "execution_count": null,
      "outputs": []
    },
    {
      "cell_type": "code",
      "source": [
        "train_generator = train_datagen.flow_from_dataframe(\n",
        "        dataframe = train,\n",
        "        directory = train_dir,\n",
        "        x_col = 'Path_filename',\n",
        "        y_col = 'Age(year)',\n",
        "        class_mode = 'other',\n",
        "        target_size=(height, width),\n",
        "        batch_size=batch_size)\n",
        "\n",
        "validation_generator = test_datagen.flow_from_dataframe(\n",
        "        dataframe = val,\n",
        "        directory = validation_dir,\n",
        "        x_col = 'Path_filename',\n",
        "        y_col = 'Age(year)',\n",
        "        class_mode = 'other',\n",
        "        target_size=(height, width),\n",
        "        batch_size=batch_size)"
      ],
      "metadata": {
        "colab": {
          "base_uri": "https://localhost:8080/"
        },
        "id": "8nVlmAszntK_",
        "outputId": "125cb19f-8481-4970-e399-645d3c6cac18"
      },
      "execution_count": null,
      "outputs": [
        {
          "output_type": "stream",
          "name": "stdout",
          "text": [
            "Found 2850 validated image filenames.\n",
            "Found 950 validated image filenames.\n"
          ]
        }
      ]
    },
    {
      "cell_type": "code",
      "source": [
        "model.summary()"
      ],
      "metadata": {
        "colab": {
          "base_uri": "https://localhost:8080/"
        },
        "id": "zzCdn3X4Jm_E",
        "outputId": "dd87f0fe-5e67-4496-fc7a-27730712861b"
      },
      "execution_count": null,
      "outputs": [
        {
          "output_type": "stream",
          "name": "stdout",
          "text": [
            "Model: \"sequential\"\n",
            "_________________________________________________________________\n",
            " Layer (type)                Output Shape              Param #   \n",
            "=================================================================\n",
            " efficientnet-b0 (Functional  (None, 5, 5, 1280)       4049564   \n",
            " )                                                               \n",
            "                                                                 \n",
            " gap (GlobalMaxPooling2D)    (None, 1280)              0         \n",
            "                                                                 \n",
            " dropout_out (Dropout)       (None, 1280)              0         \n",
            "                                                                 \n",
            " fc_out (Dense)              (None, 19)                24339     \n",
            "                                                                 \n",
            " dense (Dense)               (None, 1)                 20        \n",
            "                                                                 \n",
            "=================================================================\n",
            "Total params: 4,073,923\n",
            "Trainable params: 4,031,907\n",
            "Non-trainable params: 42,016\n",
            "_________________________________________________________________\n"
          ]
        }
      ]
    },
    {
      "cell_type": "code",
      "source": [
        "model.compile(loss='mse',\n",
        "          optimizer=Adam(learning_rate=1e-4),\n",
        "          metrics=['mae'])\n",
        "history = model.fit_generator(\n",
        "      train_generator,\n",
        "      steps_per_epoch= NUM_TRAIN //batch_size,\n",
        "      epochs=epochs,\n",
        "      validation_data=validation_generator,\n",
        "      validation_steps= NUM_TEST //batch_size,\n",
        "      verbose=1,\n",
        "      use_multiprocessing=True,\n",
        "      workers=4)"
      ],
      "metadata": {
        "id": "N6qUmmF856ZE",
        "outputId": "063a7cc9-6466-4fc3-bf61-8dc416772e8c",
        "colab": {
          "base_uri": "https://localhost:8080/"
        }
      },
      "execution_count": null,
      "outputs": [
        {
          "metadata": {
            "tags": null
          },
          "name": "stderr",
          "output_type": "stream",
          "text": [
            "<ipython-input-18-f59104fd3985>:4: UserWarning: `Model.fit_generator` is deprecated and will be removed in a future version. Please use `Model.fit`, which supports generators.\n",
            "  history = model.fit_generator(\n"
          ]
        },
        {
          "output_type": "stream",
          "name": "stdout",
          "text": [
            "Epoch 1/250\n",
            "178/178 [==============================] - 753s 4s/step - loss: 0.8405 - mae: 0.5951 - val_loss: 6.4951 - val_mae: 1.8286\n",
            "Epoch 2/250\n",
            "178/178 [==============================] - 21s 117ms/step - loss: 0.7203 - mae: 0.5823 - val_loss: 6.8370 - val_mae: 1.8511\n",
            "Epoch 3/250\n",
            "178/178 [==============================] - 21s 117ms/step - loss: 0.7474 - mae: 0.6066 - val_loss: 8.0539 - val_mae: 2.0098\n",
            "Epoch 4/250\n",
            "178/178 [==============================] - 22s 118ms/step - loss: 0.7828 - mae: 0.6035 - val_loss: 7.3152 - val_mae: 1.8971\n",
            "Epoch 5/250\n",
            "178/178 [==============================] - 21s 117ms/step - loss: 0.7719 - mae: 0.6087 - val_loss: 5.1446 - val_mae: 1.6042\n",
            "Epoch 6/250\n",
            "178/178 [==============================] - 21s 117ms/step - loss: 0.8357 - mae: 0.6337 - val_loss: 7.0580 - val_mae: 1.8732\n",
            "Epoch 7/250\n",
            "178/178 [==============================] - 17s 93ms/step - loss: 0.6872 - mae: 0.5722 - val_loss: 6.8593 - val_mae: 1.8637\n",
            "Epoch 8/250\n",
            "178/178 [==============================] - 21s 118ms/step - loss: 0.8334 - mae: 0.6282 - val_loss: 7.0704 - val_mae: 1.9367\n",
            "Epoch 9/250\n",
            "178/178 [==============================] - 22s 120ms/step - loss: 0.9400 - mae: 0.6426 - val_loss: 7.2243 - val_mae: 1.8928\n",
            "Epoch 10/250\n",
            "178/178 [==============================] - 21s 118ms/step - loss: 0.7717 - mae: 0.5936 - val_loss: 7.0603 - val_mae: 1.8807\n",
            "Epoch 11/250\n",
            "178/178 [==============================] - 21s 118ms/step - loss: 0.7696 - mae: 0.5822 - val_loss: 7.3729 - val_mae: 1.9289\n",
            "Epoch 12/250\n",
            "178/178 [==============================] - 22s 119ms/step - loss: 0.6860 - mae: 0.5677 - val_loss: 9.3929 - val_mae: 1.9966\n",
            "Epoch 13/250\n",
            "178/178 [==============================] - 21s 118ms/step - loss: 0.8877 - mae: 0.5941 - val_loss: 7.1385 - val_mae: 1.8780\n",
            "Epoch 14/250\n",
            "178/178 [==============================] - 21s 118ms/step - loss: 0.9818 - mae: 0.5962 - val_loss: 18.6681 - val_mae: 2.5310\n",
            "Epoch 15/250\n",
            "178/178 [==============================] - 22s 119ms/step - loss: 0.8390 - mae: 0.6225 - val_loss: 6.4191 - val_mae: 1.8189\n",
            "Epoch 16/250\n",
            "178/178 [==============================] - 22s 119ms/step - loss: 0.7806 - mae: 0.5967 - val_loss: 5.5078 - val_mae: 1.7075\n",
            "Epoch 17/250\n",
            "178/178 [==============================] - 22s 118ms/step - loss: 0.7540 - mae: 0.5890 - val_loss: 5.8211 - val_mae: 1.7386\n",
            "Epoch 18/250\n",
            "178/178 [==============================] - 22s 119ms/step - loss: 0.7673 - mae: 0.5885 - val_loss: 6.9300 - val_mae: 1.8834\n",
            "Epoch 19/250\n",
            "178/178 [==============================] - 22s 119ms/step - loss: 0.6815 - mae: 0.5810 - val_loss: 6.5345 - val_mae: 1.8415\n",
            "Epoch 20/250\n",
            "178/178 [==============================] - 22s 119ms/step - loss: 0.7264 - mae: 0.5815 - val_loss: 7.9783 - val_mae: 2.0429\n",
            "Epoch 21/250\n",
            "178/178 [==============================] - 22s 119ms/step - loss: 0.6937 - mae: 0.5705 - val_loss: 6.5773 - val_mae: 1.8380\n",
            "Epoch 22/250\n",
            "178/178 [==============================] - 22s 119ms/step - loss: 0.6195 - mae: 0.5586 - val_loss: 5.7869 - val_mae: 1.7344\n",
            "Epoch 23/250\n",
            "178/178 [==============================] - 22s 119ms/step - loss: 0.6564 - mae: 0.5551 - val_loss: 6.0207 - val_mae: 1.7495\n",
            "Epoch 24/250\n",
            "178/178 [==============================] - 22s 119ms/step - loss: 0.6446 - mae: 0.5660 - val_loss: 5.9000 - val_mae: 1.7403\n",
            "Epoch 25/250\n",
            "178/178 [==============================] - 17s 92ms/step - loss: 0.6255 - mae: 0.5406 - val_loss: 5.6218 - val_mae: 1.7006\n",
            "Epoch 26/250\n",
            "178/178 [==============================] - 22s 119ms/step - loss: 0.6202 - mae: 0.5470 - val_loss: 5.6201 - val_mae: 1.7045\n",
            "Epoch 27/250\n",
            "178/178 [==============================] - 22s 119ms/step - loss: 0.6966 - mae: 0.5666 - val_loss: 6.1707 - val_mae: 1.7973\n",
            "Epoch 28/250\n",
            "178/178 [==============================] - 22s 119ms/step - loss: 0.7719 - mae: 0.5817 - val_loss: 5.9844 - val_mae: 1.7540\n",
            "Epoch 29/250\n",
            "178/178 [==============================] - 22s 119ms/step - loss: 0.8183 - mae: 0.5930 - val_loss: 6.6936 - val_mae: 1.8221\n",
            "Epoch 30/250\n",
            "178/178 [==============================] - 22s 119ms/step - loss: 0.7978 - mae: 0.5984 - val_loss: 6.7012 - val_mae: 1.8302\n",
            "Epoch 31/250\n",
            "178/178 [==============================] - 17s 92ms/step - loss: 0.7867 - mae: 0.5911 - val_loss: 7.7766 - val_mae: 1.9901\n",
            "Epoch 32/250\n",
            "178/178 [==============================] - 22s 118ms/step - loss: 0.8087 - mae: 0.5947 - val_loss: 6.7689 - val_mae: 1.8222\n",
            "Epoch 33/250\n",
            "178/178 [==============================] - 17s 93ms/step - loss: 0.7484 - mae: 0.5865 - val_loss: 6.1609 - val_mae: 1.7479\n",
            "Epoch 34/250\n",
            "178/178 [==============================] - 22s 119ms/step - loss: 0.9352 - mae: 0.6199 - val_loss: 6.1416 - val_mae: 1.7679\n",
            "Epoch 35/250\n",
            "178/178 [==============================] - 22s 119ms/step - loss: 0.9079 - mae: 0.6020 - val_loss: 6.1826 - val_mae: 1.7822\n",
            "Epoch 36/250\n",
            "178/178 [==============================] - 22s 121ms/step - loss: 0.8829 - mae: 0.6318 - val_loss: 4.7397 - val_mae: 1.5953\n",
            "Epoch 37/250\n",
            "178/178 [==============================] - 23s 124ms/step - loss: 0.8826 - mae: 0.6247 - val_loss: 5.3664 - val_mae: 1.6798\n",
            "Epoch 38/250\n",
            "178/178 [==============================] - 22s 119ms/step - loss: 0.7482 - mae: 0.5993 - val_loss: 5.5603 - val_mae: 1.7028\n",
            "Epoch 39/250\n",
            "178/178 [==============================] - 22s 119ms/step - loss: 0.8246 - mae: 0.6031 - val_loss: 5.6167 - val_mae: 1.7227\n",
            "Epoch 40/250\n",
            "178/178 [==============================] - 22s 120ms/step - loss: 0.7158 - mae: 0.5936 - val_loss: 5.9627 - val_mae: 1.7540\n",
            "Epoch 41/250\n",
            "178/178 [==============================] - 17s 92ms/step - loss: 0.6972 - mae: 0.5812 - val_loss: 5.1315 - val_mae: 1.6355\n",
            "Epoch 42/250\n",
            "178/178 [==============================] - 22s 119ms/step - loss: 0.6963 - mae: 0.5838 - val_loss: 5.2914 - val_mae: 1.6499\n",
            "Epoch 43/250\n",
            "178/178 [==============================] - 22s 119ms/step - loss: 0.8108 - mae: 0.5766 - val_loss: 5.8324 - val_mae: 1.7175\n",
            "Epoch 44/250\n",
            "178/178 [==============================] - 22s 118ms/step - loss: 0.7348 - mae: 0.5771 - val_loss: 6.5955 - val_mae: 1.8319\n",
            "Epoch 45/250\n",
            "178/178 [==============================] - 22s 120ms/step - loss: 0.8209 - mae: 0.5996 - val_loss: 4.3528 - val_mae: 1.5461\n",
            "Epoch 46/250\n",
            "178/178 [==============================] - 22s 119ms/step - loss: 1.0992 - mae: 0.6718 - val_loss: 4.7037 - val_mae: 1.5771\n",
            "Epoch 47/250\n",
            "178/178 [==============================] - 22s 118ms/step - loss: 0.8914 - mae: 0.6175 - val_loss: 6.3922 - val_mae: 1.8049\n",
            "Epoch 48/250\n",
            "178/178 [==============================] - 22s 119ms/step - loss: 0.8388 - mae: 0.6216 - val_loss: 5.4949 - val_mae: 1.6745\n",
            "Epoch 49/250\n",
            "178/178 [==============================] - 22s 118ms/step - loss: 0.7505 - mae: 0.5967 - val_loss: 5.3614 - val_mae: 1.6573\n",
            "Epoch 50/250\n",
            "178/178 [==============================] - 22s 118ms/step - loss: 0.8548 - mae: 0.6057 - val_loss: 5.6840 - val_mae: 1.7167\n",
            "Epoch 51/250\n",
            "178/178 [==============================] - 17s 94ms/step - loss: 0.8142 - mae: 0.5932 - val_loss: 5.3619 - val_mae: 1.6560\n",
            "Epoch 52/250\n",
            "178/178 [==============================] - 22s 119ms/step - loss: 0.7149 - mae: 0.5729 - val_loss: 5.9196 - val_mae: 1.7455\n",
            "Epoch 53/250\n",
            "178/178 [==============================] - 22s 119ms/step - loss: 0.8164 - mae: 0.5773 - val_loss: 5.1614 - val_mae: 1.6437\n",
            "Epoch 54/250\n",
            "178/178 [==============================] - 22s 119ms/step - loss: 0.6522 - mae: 0.5559 - val_loss: 5.8781 - val_mae: 1.7313\n",
            "Epoch 55/250\n",
            "178/178 [==============================] - 22s 118ms/step - loss: 0.6778 - mae: 0.5640 - val_loss: 5.1564 - val_mae: 1.6482\n",
            "Epoch 56/250\n",
            "178/178 [==============================] - 22s 118ms/step - loss: 0.6743 - mae: 0.5630 - val_loss: 6.4277 - val_mae: 1.8069\n",
            "Epoch 57/250\n",
            "178/178 [==============================] - 22s 119ms/step - loss: 0.6860 - mae: 0.5514 - val_loss: 5.0089 - val_mae: 1.6174\n",
            "Epoch 58/250\n",
            "178/178 [==============================] - 22s 119ms/step - loss: 0.5821 - mae: 0.5405 - val_loss: 4.8830 - val_mae: 1.6044\n",
            "Epoch 59/250\n",
            "178/178 [==============================] - 22s 119ms/step - loss: 0.6133 - mae: 0.5455 - val_loss: 5.3443 - val_mae: 1.6708\n",
            "Epoch 60/250\n",
            "178/178 [==============================] - 22s 119ms/step - loss: 0.6337 - mae: 0.5462 - val_loss: 5.6600 - val_mae: 1.7035\n",
            "Epoch 61/250\n",
            "178/178 [==============================] - 22s 118ms/step - loss: 0.7797 - mae: 0.5880 - val_loss: 7.5011 - val_mae: 1.9629\n",
            "Epoch 62/250\n",
            "178/178 [==============================] - 22s 119ms/step - loss: 0.8422 - mae: 0.6134 - val_loss: 6.8712 - val_mae: 1.8248\n",
            "Epoch 63/250\n",
            "178/178 [==============================] - 22s 119ms/step - loss: 0.8056 - mae: 0.6218 - val_loss: 5.1913 - val_mae: 1.6344\n",
            "Epoch 64/250\n",
            "178/178 [==============================] - 22s 119ms/step - loss: 0.8566 - mae: 0.6220 - val_loss: 5.7857 - val_mae: 1.7121\n",
            "Epoch 65/250\n",
            "178/178 [==============================] - 22s 118ms/step - loss: 0.8612 - mae: 0.6055 - val_loss: 5.7795 - val_mae: 1.6744\n",
            "Epoch 66/250\n",
            "178/178 [==============================] - 22s 120ms/step - loss: 0.7555 - mae: 0.5860 - val_loss: 6.2842 - val_mae: 1.7826\n",
            "Epoch 67/250\n",
            "178/178 [==============================] - 22s 118ms/step - loss: 0.7925 - mae: 0.6041 - val_loss: 6.9139 - val_mae: 1.8728\n",
            "Epoch 68/250\n",
            "178/178 [==============================] - 21s 117ms/step - loss: 0.8151 - mae: 0.5962 - val_loss: 7.4593 - val_mae: 1.9383\n",
            "Epoch 69/250\n",
            "178/178 [==============================] - 22s 119ms/step - loss: 0.7350 - mae: 0.5723 - val_loss: 6.4631 - val_mae: 1.8096\n",
            "Epoch 70/250\n",
            "178/178 [==============================] - 22s 118ms/step - loss: 0.7026 - mae: 0.5697 - val_loss: 5.8316 - val_mae: 1.7244\n",
            "Epoch 71/250\n",
            "178/178 [==============================] - 22s 119ms/step - loss: 0.8091 - mae: 0.5970 - val_loss: 5.9179 - val_mae: 1.7458\n",
            "Epoch 72/250\n",
            "178/178 [==============================] - 22s 121ms/step - loss: 0.7454 - mae: 0.5802 - val_loss: 6.5021 - val_mae: 1.8286\n",
            "Epoch 73/250\n",
            "178/178 [==============================] - 22s 119ms/step - loss: 0.8144 - mae: 0.6255 - val_loss: 6.4663 - val_mae: 1.8013\n",
            "Epoch 74/250\n",
            "178/178 [==============================] - 22s 119ms/step - loss: 0.6671 - mae: 0.5628 - val_loss: 5.4302 - val_mae: 1.6664\n",
            "Epoch 75/250\n",
            "178/178 [==============================] - 22s 119ms/step - loss: 0.7216 - mae: 0.5877 - val_loss: 6.4266 - val_mae: 1.8048\n",
            "Epoch 76/250\n",
            "178/178 [==============================] - 22s 118ms/step - loss: 0.6768 - mae: 0.5735 - val_loss: 6.2413 - val_mae: 1.7845\n",
            "Epoch 77/250\n",
            "178/178 [==============================] - 21s 118ms/step - loss: 0.7295 - mae: 0.5712 - val_loss: 6.1617 - val_mae: 1.7591\n",
            "Epoch 78/250\n",
            "178/178 [==============================] - 22s 119ms/step - loss: 0.7584 - mae: 0.5817 - val_loss: 6.1357 - val_mae: 1.7571\n",
            "Epoch 79/250\n",
            "178/178 [==============================] - 22s 118ms/step - loss: 0.6733 - mae: 0.5544 - val_loss: 7.5148 - val_mae: 1.9265\n",
            "Epoch 80/250\n",
            "178/178 [==============================] - 22s 118ms/step - loss: 0.6748 - mae: 0.5559 - val_loss: 7.4680 - val_mae: 1.9301\n",
            "Epoch 81/250\n",
            "178/178 [==============================] - 22s 119ms/step - loss: 0.7848 - mae: 0.5942 - val_loss: 7.2292 - val_mae: 1.9028\n",
            "Epoch 82/250\n",
            "178/178 [==============================] - 21s 118ms/step - loss: 0.6605 - mae: 0.5654 - val_loss: 6.9836 - val_mae: 1.8783\n",
            "Epoch 83/250\n",
            "178/178 [==============================] - 22s 118ms/step - loss: 0.6397 - mae: 0.5474 - val_loss: 6.1563 - val_mae: 1.7781\n",
            "Epoch 84/250\n",
            "178/178 [==============================] - 22s 119ms/step - loss: 0.7954 - mae: 0.5976 - val_loss: 6.9707 - val_mae: 1.9088\n",
            "Epoch 85/250\n",
            "178/178 [==============================] - 22s 119ms/step - loss: 0.7274 - mae: 0.5920 - val_loss: 6.3750 - val_mae: 1.8175\n",
            "Epoch 86/250\n",
            "178/178 [==============================] - 21s 118ms/step - loss: 0.7227 - mae: 0.5798 - val_loss: 6.4771 - val_mae: 1.8306\n",
            "Epoch 87/250\n",
            "178/178 [==============================] - 22s 120ms/step - loss: 0.6734 - mae: 0.5565 - val_loss: 6.1562 - val_mae: 1.7463\n",
            "Epoch 88/250\n",
            "178/178 [==============================] - 22s 118ms/step - loss: 0.7114 - mae: 0.5746 - val_loss: 6.0079 - val_mae: 1.7395\n",
            "Epoch 89/250\n",
            "178/178 [==============================] - 21s 118ms/step - loss: 0.7985 - mae: 0.6013 - val_loss: 6.3384 - val_mae: 1.7527\n",
            "Epoch 90/250\n",
            "178/178 [==============================] - 17s 93ms/step - loss: 0.8529 - mae: 0.6225 - val_loss: 7.4241 - val_mae: 1.9142\n",
            "Epoch 91/250\n",
            "178/178 [==============================] - 22s 118ms/step - loss: 0.8023 - mae: 0.6029 - val_loss: 7.1654 - val_mae: 1.9046\n",
            "Epoch 92/250\n",
            "178/178 [==============================] - 22s 120ms/step - loss: 0.8354 - mae: 0.6027 - val_loss: 7.7230 - val_mae: 1.9618\n",
            "Epoch 93/250\n",
            "178/178 [==============================] - 22s 119ms/step - loss: 0.7434 - mae: 0.5839 - val_loss: 6.8643 - val_mae: 1.8572\n",
            "Epoch 94/250\n",
            "178/178 [==============================] - 21s 118ms/step - loss: 0.7145 - mae: 0.5734 - val_loss: 6.3695 - val_mae: 1.7895\n",
            "Epoch 95/250\n",
            "178/178 [==============================] - 22s 119ms/step - loss: 0.7743 - mae: 0.5725 - val_loss: 6.5521 - val_mae: 1.8268\n",
            "Epoch 96/250\n",
            "178/178 [==============================] - 21s 118ms/step - loss: 0.7382 - mae: 0.5744 - val_loss: 6.2974 - val_mae: 1.7970\n",
            "Epoch 97/250\n",
            "178/178 [==============================] - 21s 118ms/step - loss: 0.7589 - mae: 0.5722 - val_loss: 5.9048 - val_mae: 1.7204\n",
            "Epoch 98/250\n",
            "178/178 [==============================] - 22s 119ms/step - loss: 0.7546 - mae: 0.5696 - val_loss: 8.8093 - val_mae: 2.1123\n",
            "Epoch 99/250\n",
            "178/178 [==============================] - 22s 118ms/step - loss: 0.8634 - mae: 0.5833 - val_loss: 7.4852 - val_mae: 1.9585\n",
            "Epoch 100/250\n",
            "178/178 [==============================] - 22s 118ms/step - loss: 0.7899 - mae: 0.5760 - val_loss: 6.4482 - val_mae: 1.8244\n",
            "Epoch 101/250\n",
            "178/178 [==============================] - 22s 120ms/step - loss: 0.7960 - mae: 0.5756 - val_loss: 6.3328 - val_mae: 1.8084\n",
            "Epoch 102/250\n",
            "178/178 [==============================] - 22s 118ms/step - loss: 0.8445 - mae: 0.5848 - val_loss: 7.5889 - val_mae: 1.9621\n",
            "Epoch 103/250\n",
            "178/178 [==============================] - 22s 118ms/step - loss: 0.8165 - mae: 0.5893 - val_loss: 6.6929 - val_mae: 1.8620\n",
            "Epoch 104/250\n",
            "178/178 [==============================] - 22s 119ms/step - loss: 0.8296 - mae: 0.5814 - val_loss: 6.6609 - val_mae: 1.8535\n",
            "Epoch 105/250\n",
            "178/178 [==============================] - 17s 92ms/step - loss: 0.7165 - mae: 0.5572 - val_loss: 8.1405 - val_mae: 2.0182\n",
            "Epoch 106/250\n",
            "178/178 [==============================] - 22s 119ms/step - loss: 0.7164 - mae: 0.5524 - val_loss: 6.2695 - val_mae: 1.7929\n",
            "Epoch 107/250\n",
            "178/178 [==============================] - 21s 118ms/step - loss: 0.7911 - mae: 0.5533 - val_loss: 5.8156 - val_mae: 1.7658\n",
            "Epoch 108/250\n",
            "178/178 [==============================] - 21s 117ms/step - loss: 0.6416 - mae: 0.5376 - val_loss: 6.4790 - val_mae: 1.8484\n",
            "Epoch 109/250\n",
            "178/178 [==============================] - 22s 119ms/step - loss: 0.7873 - mae: 0.5779 - val_loss: 7.8375 - val_mae: 2.0071\n",
            "Epoch 110/250\n",
            "178/178 [==============================] - 22s 119ms/step - loss: 0.6693 - mae: 0.5433 - val_loss: 6.3622 - val_mae: 1.8104\n",
            "Epoch 111/250\n",
            "178/178 [==============================] - 22s 118ms/step - loss: 0.5778 - mae: 0.5268 - val_loss: 6.2729 - val_mae: 1.8064\n",
            "Epoch 112/250\n",
            "178/178 [==============================] - 17s 94ms/step - loss: 0.6110 - mae: 0.5349 - val_loss: 5.8569 - val_mae: 1.7524\n",
            "Epoch 113/250\n",
            "178/178 [==============================] - 22s 118ms/step - loss: 0.9095 - mae: 0.6096 - val_loss: 5.4594 - val_mae: 1.6997\n",
            "Epoch 114/250\n",
            "178/178 [==============================] - 22s 119ms/step - loss: 0.6909 - mae: 0.5777 - val_loss: 5.3898 - val_mae: 1.6606\n",
            "Epoch 115/250\n",
            "178/178 [==============================] - 22s 118ms/step - loss: 0.6550 - mae: 0.5468 - val_loss: 5.4328 - val_mae: 1.6958\n",
            "Epoch 116/250\n",
            "178/178 [==============================] - 22s 118ms/step - loss: 0.7420 - mae: 0.5550 - val_loss: 5.7060 - val_mae: 1.7183\n",
            "Epoch 117/250\n",
            "178/178 [==============================] - 22s 119ms/step - loss: 0.6581 - mae: 0.5464 - val_loss: 4.9618 - val_mae: 1.6203\n",
            "Epoch 118/250\n",
            "178/178 [==============================] - 21s 118ms/step - loss: 0.6567 - mae: 0.5503 - val_loss: 5.2005 - val_mae: 1.6582\n",
            "Epoch 119/250\n",
            "178/178 [==============================] - 17s 92ms/step - loss: 0.7404 - mae: 0.5672 - val_loss: 5.7739 - val_mae: 1.7341\n",
            "Epoch 120/250\n",
            "178/178 [==============================] - 22s 117ms/step - loss: 0.6961 - mae: 0.5551 - val_loss: 5.5491 - val_mae: 1.6849\n",
            "Epoch 121/250\n",
            "178/178 [==============================] - 22s 118ms/step - loss: 0.6995 - mae: 0.5546 - val_loss: 6.9038 - val_mae: 1.8916\n",
            "Epoch 122/250\n",
            "178/178 [==============================] - 22s 119ms/step - loss: 0.7400 - mae: 0.5694 - val_loss: 5.8371 - val_mae: 1.7408\n",
            "Epoch 123/250\n",
            "178/178 [==============================] - 22s 118ms/step - loss: 0.6711 - mae: 0.5432 - val_loss: 6.7789 - val_mae: 1.8343\n",
            "Epoch 124/250\n",
            "178/178 [==============================] - 22s 119ms/step - loss: 0.7001 - mae: 0.5550 - val_loss: 6.8620 - val_mae: 1.8758\n",
            "Epoch 125/250\n",
            "178/178 [==============================] - 22s 120ms/step - loss: 0.6818 - mae: 0.5588 - val_loss: 6.4267 - val_mae: 1.8174\n",
            "Epoch 126/250\n",
            "178/178 [==============================] - 22s 118ms/step - loss: 0.6934 - mae: 0.5398 - val_loss: 6.8708 - val_mae: 1.8796\n",
            "Epoch 127/250\n",
            "178/178 [==============================] - 22s 118ms/step - loss: 0.6917 - mae: 0.5649 - val_loss: 5.1406 - val_mae: 1.6358\n",
            "Epoch 128/250\n",
            "178/178 [==============================] - 22s 119ms/step - loss: 0.7274 - mae: 0.5703 - val_loss: 6.0270 - val_mae: 1.7612\n",
            "Epoch 129/250\n",
            "178/178 [==============================] - 22s 119ms/step - loss: 0.9075 - mae: 0.6154 - val_loss: 4.4760 - val_mae: 1.5488\n",
            "Epoch 130/250\n",
            "178/178 [==============================] - 22s 118ms/step - loss: 0.7642 - mae: 0.5820 - val_loss: 4.4544 - val_mae: 1.5455\n",
            "Epoch 131/250\n",
            "178/178 [==============================] - 17s 92ms/step - loss: 0.6650 - mae: 0.5495 - val_loss: 5.2190 - val_mae: 1.6485\n",
            "Epoch 132/250\n",
            "178/178 [==============================] - 22s 118ms/step - loss: 0.8532 - mae: 0.6280 - val_loss: 7.0442 - val_mae: 1.8878\n",
            "Epoch 133/250\n",
            "178/178 [==============================] - 22s 119ms/step - loss: 0.8549 - mae: 0.6203 - val_loss: 6.4637 - val_mae: 1.8020\n",
            "Epoch 134/250\n",
            "178/178 [==============================] - 22s 118ms/step - loss: 0.8063 - mae: 0.6064 - val_loss: 6.1813 - val_mae: 1.7655\n",
            "Epoch 135/250\n",
            "178/178 [==============================] - 21s 117ms/step - loss: 0.7399 - mae: 0.5902 - val_loss: 6.2793 - val_mae: 1.7827\n",
            "Epoch 136/250\n",
            "178/178 [==============================] - 22s 119ms/step - loss: 0.7332 - mae: 0.5846 - val_loss: 5.6329 - val_mae: 1.6967\n",
            "Epoch 137/250\n",
            "178/178 [==============================] - 22s 118ms/step - loss: 0.7374 - mae: 0.5718 - val_loss: 6.7764 - val_mae: 1.8435\n",
            "Epoch 138/250\n",
            "178/178 [==============================] - 21s 117ms/step - loss: 0.7005 - mae: 0.5639 - val_loss: 6.0548 - val_mae: 1.7485\n",
            "Epoch 139/250\n",
            "178/178 [==============================] - 17s 92ms/step - loss: 0.6721 - mae: 0.5552 - val_loss: 6.4329 - val_mae: 1.7995\n",
            "Epoch 140/250\n",
            "178/178 [==============================] - 21s 117ms/step - loss: 0.6594 - mae: 0.5410 - val_loss: 6.7853 - val_mae: 1.8245\n",
            "Epoch 141/250\n",
            "178/178 [==============================] - 21s 118ms/step - loss: 0.9479 - mae: 0.6314 - val_loss: 5.9217 - val_mae: 1.7380\n",
            "Epoch 142/250\n",
            "178/178 [==============================] - 22s 118ms/step - loss: 0.8948 - mae: 0.6105 - val_loss: 5.9499 - val_mae: 1.7338\n",
            "Epoch 143/250\n",
            "178/178 [==============================] - 22s 119ms/step - loss: 0.9279 - mae: 0.6148 - val_loss: 6.2142 - val_mae: 1.7748\n",
            "Epoch 144/250\n",
            "178/178 [==============================] - 17s 93ms/step - loss: 0.8183 - mae: 0.5931 - val_loss: 5.5569 - val_mae: 1.6845\n",
            "Epoch 145/250\n",
            "178/178 [==============================] - 22s 119ms/step - loss: 0.8021 - mae: 0.5798 - val_loss: 5.9578 - val_mae: 1.7446\n",
            "Epoch 146/250\n",
            "178/178 [==============================] - 21s 118ms/step - loss: 0.8238 - mae: 0.5961 - val_loss: 5.3409 - val_mae: 1.6487\n",
            "Epoch 147/250\n",
            "178/178 [==============================] - 21s 118ms/step - loss: 0.9669 - mae: 0.6166 - val_loss: 5.6530 - val_mae: 1.6885\n",
            "Epoch 148/250\n",
            "178/178 [==============================] - 21s 118ms/step - loss: 0.8644 - mae: 0.5991 - val_loss: 5.6328 - val_mae: 1.6970\n",
            "Epoch 149/250\n",
            "178/178 [==============================] - 22s 119ms/step - loss: 0.8914 - mae: 0.6178 - val_loss: 7.1278 - val_mae: 1.8889\n",
            "Epoch 150/250\n",
            "178/178 [==============================] - 21s 118ms/step - loss: 0.9123 - mae: 0.6228 - val_loss: 6.1906 - val_mae: 1.7521\n",
            "Epoch 151/250\n",
            "178/178 [==============================] - 21s 117ms/step - loss: 0.9086 - mae: 0.6119 - val_loss: 6.5527 - val_mae: 1.7755\n",
            "Epoch 152/250\n",
            "178/178 [==============================] - 21s 118ms/step - loss: 0.9093 - mae: 0.6280 - val_loss: 6.3414 - val_mae: 1.7693\n",
            "Epoch 153/250\n",
            "178/178 [==============================] - 22s 119ms/step - loss: 1.0037 - mae: 0.6325 - val_loss: 6.2370 - val_mae: 1.7661\n",
            "Epoch 154/250\n",
            "178/178 [==============================] - 22s 119ms/step - loss: 0.8708 - mae: 0.6208 - val_loss: 7.1916 - val_mae: 1.8741\n",
            "Epoch 155/250\n",
            "178/178 [==============================] - 22s 119ms/step - loss: 0.8499 - mae: 0.6025 - val_loss: 6.4714 - val_mae: 1.7730\n",
            "Epoch 156/250\n",
            "178/178 [==============================] - 22s 118ms/step - loss: 1.0007 - mae: 0.6162 - val_loss: 6.6346 - val_mae: 1.8095\n",
            "Epoch 157/250\n",
            "178/178 [==============================] - 21s 117ms/step - loss: 0.8068 - mae: 0.6024 - val_loss: 5.7030 - val_mae: 1.6896\n",
            "Epoch 158/250\n",
            "178/178 [==============================] - 21s 118ms/step - loss: 0.9768 - mae: 0.6125 - val_loss: 6.3529 - val_mae: 1.7728\n",
            "Epoch 159/250\n",
            "178/178 [==============================] - 21s 118ms/step - loss: 0.7876 - mae: 0.5860 - val_loss: 6.8831 - val_mae: 1.8268\n",
            "Epoch 160/250\n",
            "178/178 [==============================] - 21s 117ms/step - loss: 0.7662 - mae: 0.5831 - val_loss: 6.2073 - val_mae: 1.7479\n",
            "Epoch 161/250\n",
            "178/178 [==============================] - 21s 118ms/step - loss: 0.8239 - mae: 0.5847 - val_loss: 6.0065 - val_mae: 1.7150\n",
            "Epoch 162/250\n",
            "178/178 [==============================] - 22s 118ms/step - loss: 0.8035 - mae: 0.5939 - val_loss: 6.2959 - val_mae: 1.7488\n",
            "Epoch 163/250\n",
            "178/178 [==============================] - 21s 118ms/step - loss: 0.8605 - mae: 0.6048 - val_loss: 6.0946 - val_mae: 1.7453\n",
            "Epoch 164/250\n",
            "178/178 [==============================] - 22s 118ms/step - loss: 0.7850 - mae: 0.5705 - val_loss: 5.8279 - val_mae: 1.7093\n",
            "Epoch 165/250\n",
            "178/178 [==============================] - 21s 118ms/step - loss: 0.8258 - mae: 0.5860 - val_loss: 5.2150 - val_mae: 1.6177\n",
            "Epoch 166/250\n",
            "178/178 [==============================] - 22s 118ms/step - loss: 0.8367 - mae: 0.5995 - val_loss: 6.2316 - val_mae: 1.7354\n",
            "Epoch 167/250\n",
            "178/178 [==============================] - 22s 118ms/step - loss: 0.8415 - mae: 0.5780 - val_loss: 5.4033 - val_mae: 1.6638\n",
            "Epoch 168/250\n",
            "178/178 [==============================] - 22s 118ms/step - loss: 0.8023 - mae: 0.5758 - val_loss: 5.5354 - val_mae: 1.6796\n",
            "Epoch 169/250\n",
            "178/178 [==============================] - 22s 118ms/step - loss: 0.7673 - mae: 0.5680 - val_loss: 6.6989 - val_mae: 1.8212\n",
            "Epoch 170/250\n",
            "178/178 [==============================] - 22s 118ms/step - loss: 0.6408 - mae: 0.5514 - val_loss: 6.9716 - val_mae: 1.8582\n",
            "Epoch 171/250\n",
            "178/178 [==============================] - 21s 118ms/step - loss: 0.7792 - mae: 0.5845 - val_loss: 5.8152 - val_mae: 1.7306\n",
            "Epoch 172/250\n",
            "178/178 [==============================] - 22s 118ms/step - loss: 0.7003 - mae: 0.5690 - val_loss: 5.7368 - val_mae: 1.7084\n",
            "Epoch 173/250\n",
            "178/178 [==============================] - 22s 118ms/step - loss: 0.7046 - mae: 0.5688 - val_loss: 6.2149 - val_mae: 1.7626\n",
            "Epoch 174/250\n",
            "178/178 [==============================] - 21s 118ms/step - loss: 0.7482 - mae: 0.5678 - val_loss: 4.9539 - val_mae: 1.6221\n",
            "Epoch 175/250\n",
            "178/178 [==============================] - 21s 118ms/step - loss: 0.7879 - mae: 0.5886 - val_loss: 5.5597 - val_mae: 1.7211\n",
            "Epoch 176/250\n",
            "178/178 [==============================] - 22s 118ms/step - loss: 0.7144 - mae: 0.5807 - val_loss: 5.4640 - val_mae: 1.6743\n",
            "Epoch 177/250\n",
            "178/178 [==============================] - 22s 119ms/step - loss: 0.7348 - mae: 0.5793 - val_loss: 5.9476 - val_mae: 1.7543\n",
            "Epoch 178/250\n",
            "178/178 [==============================] - 22s 119ms/step - loss: 0.6752 - mae: 0.5555 - val_loss: 5.8669 - val_mae: 1.7209\n",
            "Epoch 179/250\n",
            "178/178 [==============================] - 22s 119ms/step - loss: 0.7068 - mae: 0.5655 - val_loss: 6.1868 - val_mae: 1.7659\n",
            "Epoch 180/250\n",
            "178/178 [==============================] - 22s 119ms/step - loss: 0.6829 - mae: 0.5537 - val_loss: 6.0307 - val_mae: 1.7668\n",
            "Epoch 181/250\n",
            "178/178 [==============================] - 22s 120ms/step - loss: 0.7232 - mae: 0.5615 - val_loss: 7.2819 - val_mae: 1.8920\n",
            "Epoch 182/250\n",
            "178/178 [==============================] - 22s 119ms/step - loss: 0.6995 - mae: 0.5622 - val_loss: 5.9914 - val_mae: 1.7676\n",
            "Epoch 183/250\n",
            "178/178 [==============================] - 22s 119ms/step - loss: 0.7228 - mae: 0.5769 - val_loss: 5.7049 - val_mae: 1.7131\n",
            "Epoch 184/250\n",
            "178/178 [==============================] - 17s 94ms/step - loss: 0.6898 - mae: 0.5623 - val_loss: 6.4160 - val_mae: 1.8127\n",
            "Epoch 185/250\n",
            "178/178 [==============================] - 22s 120ms/step - loss: 0.6764 - mae: 0.5471 - val_loss: 6.5009 - val_mae: 1.8102\n",
            "Epoch 186/250\n",
            "178/178 [==============================] - 22s 120ms/step - loss: 0.7629 - mae: 0.5635 - val_loss: 6.0990 - val_mae: 1.7414\n",
            "Epoch 187/250\n",
            "178/178 [==============================] - 22s 119ms/step - loss: 0.5807 - mae: 0.5289 - val_loss: 6.2219 - val_mae: 1.7852\n",
            "Epoch 188/250\n",
            "178/178 [==============================] - 22s 121ms/step - loss: 0.6623 - mae: 0.5440 - val_loss: 5.7354 - val_mae: 1.7237\n",
            "Epoch 189/250\n",
            "178/178 [==============================] - 22s 120ms/step - loss: 0.6825 - mae: 0.5505 - val_loss: 5.7868 - val_mae: 1.7101\n",
            "Epoch 190/250\n",
            "178/178 [==============================] - 22s 119ms/step - loss: 0.6886 - mae: 0.5549 - val_loss: 6.0405 - val_mae: 1.7568\n",
            "Epoch 191/250\n",
            "178/178 [==============================] - 22s 119ms/step - loss: 0.6494 - mae: 0.5444 - val_loss: 6.6043 - val_mae: 1.8412\n",
            "Epoch 192/250\n",
            "178/178 [==============================] - 22s 121ms/step - loss: 0.6378 - mae: 0.5347 - val_loss: 5.5315 - val_mae: 1.6839\n",
            "Epoch 193/250\n",
            "178/178 [==============================] - 22s 119ms/step - loss: 0.7818 - mae: 0.5715 - val_loss: 4.7352 - val_mae: 1.5861\n",
            "Epoch 194/250\n",
            "178/178 [==============================] - 22s 120ms/step - loss: 0.7926 - mae: 0.5874 - val_loss: 4.4597 - val_mae: 1.5476\n",
            "Epoch 195/250\n",
            "178/178 [==============================] - 22s 120ms/step - loss: 0.7616 - mae: 0.5883 - val_loss: 5.2681 - val_mae: 1.6358\n",
            "Epoch 196/250\n",
            "178/178 [==============================] - 22s 122ms/step - loss: 0.7516 - mae: 0.5710 - val_loss: 4.9236 - val_mae: 1.6142\n",
            "Epoch 197/250\n",
            "178/178 [==============================] - 22s 120ms/step - loss: 0.6865 - mae: 0.5716 - val_loss: 4.5859 - val_mae: 1.5759\n",
            "Epoch 198/250\n",
            "178/178 [==============================] - 22s 120ms/step - loss: 0.6561 - mae: 0.5460 - val_loss: 4.7531 - val_mae: 1.6132\n",
            "Epoch 199/250\n",
            "178/178 [==============================] - 22s 120ms/step - loss: 0.7628 - mae: 0.5757 - val_loss: 4.9500 - val_mae: 1.6250\n",
            "Epoch 200/250\n",
            "178/178 [==============================] - 22s 119ms/step - loss: 0.7226 - mae: 0.5492 - val_loss: 4.8781 - val_mae: 1.6071\n",
            "Epoch 201/250\n",
            "178/178 [==============================] - 22s 120ms/step - loss: 0.7887 - mae: 0.5645 - val_loss: 4.7399 - val_mae: 1.5927\n",
            "Epoch 202/250\n",
            "178/178 [==============================] - 22s 119ms/step - loss: 0.7256 - mae: 0.5614 - val_loss: 4.6939 - val_mae: 1.5893\n",
            "Epoch 203/250\n",
            "178/178 [==============================] - 22s 119ms/step - loss: 0.7205 - mae: 0.5485 - val_loss: 5.4079 - val_mae: 1.6800\n",
            "Epoch 204/250\n",
            "178/178 [==============================] - 22s 119ms/step - loss: 0.6946 - mae: 0.5602 - val_loss: 5.1908 - val_mae: 1.6294\n",
            "Epoch 205/250\n",
            "178/178 [==============================] - 22s 120ms/step - loss: 0.6088 - mae: 0.5312 - val_loss: 4.9791 - val_mae: 1.6152\n",
            "Epoch 206/250\n",
            "178/178 [==============================] - 22s 119ms/step - loss: 0.6003 - mae: 0.5265 - val_loss: 5.2125 - val_mae: 1.6469\n",
            "Epoch 207/250\n",
            "178/178 [==============================] - 22s 119ms/step - loss: 0.5988 - mae: 0.5220 - val_loss: 5.7229 - val_mae: 1.7068\n",
            "Epoch 208/250\n",
            "178/178 [==============================] - 22s 119ms/step - loss: 0.6132 - mae: 0.5368 - val_loss: 5.0331 - val_mae: 1.6219\n",
            "Epoch 209/250\n",
            "178/178 [==============================] - 22s 121ms/step - loss: 0.6801 - mae: 0.5382 - val_loss: 5.1852 - val_mae: 1.6462\n",
            "Epoch 210/250\n",
            "178/178 [==============================] - 22s 120ms/step - loss: 0.6197 - mae: 0.5258 - val_loss: 5.5625 - val_mae: 1.7073\n",
            "Epoch 211/250\n",
            "178/178 [==============================] - 22s 119ms/step - loss: 0.6284 - mae: 0.5354 - val_loss: 5.0632 - val_mae: 1.6330\n",
            "Epoch 212/250\n",
            "178/178 [==============================] - 22s 119ms/step - loss: 0.8454 - mae: 0.5930 - val_loss: 4.0471 - val_mae: 1.4892\n",
            "Epoch 213/250\n",
            "178/178 [==============================] - 18s 95ms/step - loss: 1.0085 - mae: 0.6347 - val_loss: 4.6954 - val_mae: 1.5861\n",
            "Epoch 214/250\n",
            "178/178 [==============================] - 17s 94ms/step - loss: 1.1050 - mae: 0.6309 - val_loss: 4.9841 - val_mae: 1.6408\n",
            "Epoch 215/250\n",
            "178/178 [==============================] - 22s 120ms/step - loss: 0.9535 - mae: 0.6074 - val_loss: 5.0412 - val_mae: 1.6412\n",
            "Epoch 216/250\n",
            "178/178 [==============================] - 22s 119ms/step - loss: 0.9819 - mae: 0.6004 - val_loss: 5.0694 - val_mae: 1.6489\n",
            "Epoch 217/250\n",
            "178/178 [==============================] - 22s 119ms/step - loss: 0.7693 - mae: 0.5656 - val_loss: 5.3309 - val_mae: 1.6720\n",
            "Epoch 218/250\n",
            "178/178 [==============================] - 22s 120ms/step - loss: 0.7220 - mae: 0.5462 - val_loss: 5.8884 - val_mae: 1.7439\n",
            "Epoch 219/250\n",
            "178/178 [==============================] - 22s 121ms/step - loss: 0.8048 - mae: 0.5581 - val_loss: 4.9537 - val_mae: 1.6332\n",
            "Epoch 220/250\n",
            "178/178 [==============================] - 22s 120ms/step - loss: 0.7055 - mae: 0.5433 - val_loss: 5.3289 - val_mae: 1.6778\n",
            "Epoch 221/250\n",
            "178/178 [==============================] - 22s 121ms/step - loss: 0.7886 - mae: 0.5471 - val_loss: 5.3957 - val_mae: 1.6900\n",
            "Epoch 222/250\n",
            "178/178 [==============================] - 22s 122ms/step - loss: 0.8225 - mae: 0.5592 - val_loss: 5.1070 - val_mae: 1.6437\n",
            "Epoch 223/250\n",
            "178/178 [==============================] - 18s 96ms/step - loss: 0.8312 - mae: 0.5787 - val_loss: 5.1102 - val_mae: 1.6314\n",
            "Epoch 224/250\n",
            "178/178 [==============================] - 22s 121ms/step - loss: 0.8390 - mae: 0.5981 - val_loss: 5.9308 - val_mae: 1.7317\n",
            "Epoch 225/250\n",
            "178/178 [==============================] - 22s 119ms/step - loss: 0.7657 - mae: 0.5658 - val_loss: 5.6466 - val_mae: 1.6923\n",
            "Epoch 226/250\n",
            "178/178 [==============================] - 22s 120ms/step - loss: 0.7187 - mae: 0.5606 - val_loss: 5.9633 - val_mae: 1.7383\n",
            "Epoch 227/250\n",
            "178/178 [==============================] - 22s 119ms/step - loss: 0.7801 - mae: 0.5648 - val_loss: 5.6735 - val_mae: 1.7130\n",
            "Epoch 228/250\n",
            "178/178 [==============================] - 22s 119ms/step - loss: 0.6994 - mae: 0.5502 - val_loss: 5.5527 - val_mae: 1.6948\n",
            "Epoch 229/250\n",
            "178/178 [==============================] - 22s 119ms/step - loss: 0.7371 - mae: 0.5519 - val_loss: 5.7212 - val_mae: 1.7206\n",
            "Epoch 230/250\n",
            "178/178 [==============================] - 22s 119ms/step - loss: 0.7079 - mae: 0.5451 - val_loss: 4.9340 - val_mae: 1.6218\n",
            "Epoch 231/250\n",
            "178/178 [==============================] - 22s 120ms/step - loss: 0.8647 - mae: 0.5897 - val_loss: 5.3250 - val_mae: 1.6482\n",
            "Epoch 232/250\n",
            "178/178 [==============================] - 22s 119ms/step - loss: 0.7034 - mae: 0.5578 - val_loss: 4.9684 - val_mae: 1.5937\n",
            "Epoch 233/250\n",
            "178/178 [==============================] - 22s 119ms/step - loss: 2.2365 - mae: 0.7121 - val_loss: 9.3455 - val_mae: 1.8515\n",
            "Epoch 234/250\n",
            "178/178 [==============================] - 22s 119ms/step - loss: 3.4835 - mae: 0.9400 - val_loss: 6.7844 - val_mae: 1.9911\n",
            "Epoch 235/250\n",
            "178/178 [==============================] - 22s 119ms/step - loss: 1.4561 - mae: 0.7938 - val_loss: 7.1795 - val_mae: 2.0550\n",
            "Epoch 236/250\n",
            "178/178 [==============================] - 22s 118ms/step - loss: 1.3319 - mae: 0.7617 - val_loss: 13.4562 - val_mae: 2.4367\n",
            "Epoch 237/250\n",
            "178/178 [==============================] - 22s 118ms/step - loss: 1.5056 - mae: 0.7570 - val_loss: 7.5012 - val_mae: 2.0880\n",
            "Epoch 238/250\n",
            "178/178 [==============================] - 22s 118ms/step - loss: 1.2481 - mae: 0.7450 - val_loss: 6.1658 - val_mae: 1.8931\n",
            "Epoch 239/250\n",
            "178/178 [==============================] - 22s 121ms/step - loss: 1.0710 - mae: 0.7231 - val_loss: 6.4336 - val_mae: 1.9342\n",
            "Epoch 240/250\n",
            "178/178 [==============================] - 22s 119ms/step - loss: 1.1288 - mae: 0.7126 - val_loss: 6.0611 - val_mae: 1.8910\n",
            "Epoch 241/250\n",
            "178/178 [==============================] - 22s 120ms/step - loss: 1.4452 - mae: 0.7500 - val_loss: 5.9817 - val_mae: 1.8711\n",
            "Epoch 242/250\n",
            "178/178 [==============================] - 22s 118ms/step - loss: 1.0706 - mae: 0.7063 - val_loss: 5.9142 - val_mae: 1.8688\n",
            "Epoch 243/250\n",
            "178/178 [==============================] - 22s 120ms/step - loss: 1.1052 - mae: 0.7081 - val_loss: 5.5628 - val_mae: 1.8163\n",
            "Epoch 244/250\n",
            "178/178 [==============================] - 22s 119ms/step - loss: 1.1924 - mae: 0.7016 - val_loss: 5.9272 - val_mae: 1.8602\n",
            "Epoch 245/250\n",
            "178/178 [==============================] - 22s 119ms/step - loss: 1.0100 - mae: 0.6790 - val_loss: 5.7737 - val_mae: 1.8476\n",
            "Epoch 246/250\n",
            "178/178 [==============================] - 22s 119ms/step - loss: 1.1324 - mae: 0.6924 - val_loss: 8.1389 - val_mae: 2.2462\n",
            "Epoch 247/250\n",
            "178/178 [==============================] - 22s 120ms/step - loss: 1.1204 - mae: 0.7176 - val_loss: 7.0710 - val_mae: 2.0579\n",
            "Epoch 248/250\n",
            "178/178 [==============================] - 22s 119ms/step - loss: 1.0352 - mae: 0.6972 - val_loss: 6.2766 - val_mae: 1.9431\n",
            "Epoch 249/250\n",
            "178/178 [==============================] - 22s 119ms/step - loss: 1.4122 - mae: 0.7519 - val_loss: 6.6088 - val_mae: 1.9771\n",
            "Epoch 250/250\n",
            "178/178 [==============================] - 22s 119ms/step - loss: 1.1818 - mae: 0.7128 - val_loss: 6.4839 - val_mae: 1.9451\n"
          ]
        }
      ]
    },
    {
      "cell_type": "code",
      "source": [
        "loss = history.history['loss']\n",
        "val_loss = history.history['val_loss']\n",
        "mae = history.history['mae']\n",
        "val_mae = history.history['val_mae']\n",
        "\n",
        "\n",
        "epochs_x = range(len(loss))\n",
        "\n",
        "\n",
        "plt.plot(epochs_x, mae, 'o', color ='darkviolet', label='Training MAE')\n",
        "plt.plot(epochs_x, val_mae, 'k', label='Validation MAE')\n",
        "plt.title('Training and validation MeanAbsoluteError')\n",
        "plt.legend()\n",
        "\n",
        "plt.figure()\n",
        "plt.plot(epochs_x, loss, 'o', color ='darkviolet', label='Training loss')\n",
        "plt.plot(epochs_x, val_loss, 'k', label='Validation loss')\n",
        "plt.title('Training and validation loss')\n",
        "plt.legend()\n",
        "\n",
        "plt.show()"
      ],
      "metadata": {
        "id": "Y3K89-CM-dfg",
        "colab": {
          "base_uri": "https://localhost:8080/",
          "height": 887
        },
        "outputId": "724a8aee-99d3-4013-b02e-41dd912f98d9"
      },
      "execution_count": null,
      "outputs": [
        {
          "output_type": "display_data",
          "data": {
            "text/plain": [
              "<Figure size 640x480 with 1 Axes>"
            ],
            "image/png": "[encoded data removed]"
          },
          "metadata": {}
        },
        {
          "output_type": "display_data",
          "data": {
            "text/plain": [
              "<Figure size 640x480 with 1 Axes>"
            ],
            "image/png": "[encoded data removed]"
          },
          "metadata": {}
        }
      ]
    },
    {
      "cell_type": "code",
      "source": [],
      "metadata": {
        "id": "sI5JVEwwQsjc"
      },
      "execution_count": null,
      "outputs": []
    },
    {
      "cell_type": "code",
      "source": [
        "epochs_x"
      ],
      "metadata": {
        "id": "N_sP_ZmSY-Jv",
        "colab": {
          "base_uri": "https://localhost:8080/"
        },
        "outputId": "0c87a64d-10f7-40b6-be64-d7000128026e"
      },
      "execution_count": null,
      "outputs": [
        {
          "output_type": "execute_result",
          "data": {
            "text/plain": [
              "range(0, 250)"
            ]
          },
          "metadata": {},
          "execution_count": 20
        }
      ]
    },
    {
      "cell_type": "markdown",
      "source": [
        "#Download the model\n"
      ],
      "metadata": {
        "id": "R19IJQSYoW7J"
      }
    },
    {
      "cell_type": "code",
      "source": [
        "os.makedirs('/content/drive/MyDrive/All_Data_Project/cut_panoramic/Model', exist_ok=True)\n",
        "model.save('/content/drive/MyDrive/All_Data_Project/cut_panoramic/Model/Regression/8Re_All_1G_1e-4_16_0.2_250_New_Unfreez.h5')"
      ],
      "metadata": {
        "id": "Zed4TdFcG2iJ"
      },
      "execution_count": null,
      "outputs": []
    },
    {
      "cell_type": "markdown",
      "source": [],
      "metadata": {
        "id": "n5YxZ-5QjQ0-"
      }
    },
    {
      "cell_type": "code",
      "source": [
        "# from google.colab import files\n",
        "# files.download('/content/drive/My Drive/cut_panoramic/Model/1.1_รอบแรก_Flimpano_Male125_250.h5')"
      ],
      "metadata": {
        "id": "P5eMxm1NV-oY"
      },
      "execution_count": null,
      "outputs": []
    },
    {
      "cell_type": "code",
      "source": [
        "\n"
      ],
      "metadata": {
        "id": "wY_pDlxkRwxS"
      },
      "execution_count": null,
      "outputs": []
    }
  ]
}