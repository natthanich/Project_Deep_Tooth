{
  "nbformat": 4,
  "nbformat_minor": 0,
  "metadata": {
    "colab": {
      "provenance": [],
      "machine_shape": "hm",
      "gpuType": "T4",
      "include_colab_link": true
    },
    "kernelspec": {
      "name": "python3",
      "display_name": "Python 3"
    },
    "language_info": {
      "name": "python"
    },
    "accelerator": "GPU",
    "gpuClass": "standard"
  },
  "cells": [
    {
      "cell_type": "markdown",
      "metadata": {
        "id": "view-in-github",
        "colab_type": "text"
      },
      "source": [
        "<a href=\"https://colab.research.google.com/github/natthanich/Project_Deep_Tooth/blob/main/Regress3_Train_Freeze.ipynb\" target=\"_parent\"><img src=\"https://colab.research.google.com/assets/colab-badge.svg\" alt=\"Open In Colab\"/></a>"
      ]
    },
    {
      "cell_type": "markdown",
      "source": [
        "#เรียกใช้ CSV"
      ],
      "metadata": {
        "id": "ow7eWoNw6U-c"
      }
    },
    {
      "cell_type": "code",
      "execution_count": null,
      "metadata": {
        "id": "z8o_VVNXzcL8"
      },
      "outputs": [],
      "source": [
        "import pandas as pd\n",
        "import shutil"
      ]
    },
    {
      "cell_type": "code",
      "source": [
        "from google.colab import drive\n",
        "drive.mount('/content/drive')"
      ],
      "metadata": {
        "colab": {
          "base_uri": "https://localhost:8080/"
        },
        "id": "1_2Fe8u81d5r",
        "outputId": "720ddf39-93de-4768-dbb2-332be1f17f56"
      },
      "execution_count": null,
      "outputs": [
        {
          "output_type": "stream",
          "name": "stdout",
          "text": [
            "Mounted at /content/drive\n"
          ]
        }
      ]
    },
    {
      "cell_type": "markdown",
      "source": [
        "#Imports"
      ],
      "metadata": {
        "id": "5qxePnnn7TGW"
      }
    },
    {
      "cell_type": "code",
      "source": [
        "from tensorflow.keras import models\n",
        "from tensorflow.keras import layers\n",
        "from tensorflow.keras import optimizers\n",
        "import os\n",
        "import glob\n",
        "import shutil\n",
        "import sys\n",
        "import numpy as np\n",
        "from skimage.io import imread\n",
        "import matplotlib.pyplot as plt\n",
        "from IPython.display import Image\n",
        "%matplotlib inline"
      ],
      "metadata": {
        "id": "D-hCRloc3t39"
      },
      "execution_count": null,
      "outputs": []
    },
    {
      "cell_type": "code",
      "source": [
        "import tensorflow as tf\n",
        "from tensorflow.keras import Sequential\n",
        "from tensorflow.keras.layers import Dense\n",
        "from tensorflow.keras.optimizers import Adam\n",
        "from tensorflow.keras import backend as K"
      ],
      "metadata": {
        "id": "YZWXwjXeGxZP"
      },
      "execution_count": null,
      "outputs": []
    },
    {
      "cell_type": "markdown",
      "source": [
        "#กำหนดค่าพารามิเตอร์\n"
      ],
      "metadata": {
        "id": "RooqSdBc7QHC"
      }
    },
    {
      "cell_type": "code",
      "source": [
        "batch_size = 16\n",
        "width = 150\n",
        "height = 150\n",
        "epochs = 250\n",
        "NUM_TRAIN = 2850\n",
        "NUM_TEST = 950\n",
        "dropout_rate = 0.2\n",
        "input_shape = (height, width, 3)"
      ],
      "metadata": {
        "id": "thDb7U9B3xOo"
      },
      "execution_count": null,
      "outputs": []
    },
    {
      "cell_type": "markdown",
      "source": [
        "#Clone efficientnet repo\n"
      ],
      "metadata": {
        "id": "pumGmy6f3eSW"
      }
    },
    {
      "cell_type": "code",
      "source": [
        "#ดึงข้อมูลใน Github มาใช้\n",
        "import os\n",
        "%cd /content\n",
        "if not os.path.isdir(\"efficientnet_keras_transfer_learning\"):\n",
        " !git clone https://github.com/Wanita-8943/efficientnet_keras_transfer_learning\n",
        "%cd efficientnet_keras_transfer_learning/\n"
      ],
      "metadata": {
        "colab": {
          "base_uri": "https://localhost:8080/"
        },
        "id": "P7iy2f8n16p0",
        "outputId": "d1e5ae77-e910-41f1-b6c3-9fcd5f5705fb"
      },
      "execution_count": null,
      "outputs": [
        {
          "output_type": "stream",
          "name": "stdout",
          "text": [
            "/content\n",
            "Cloning into 'efficientnet_keras_transfer_learning'...\n",
            "remote: Enumerating objects: 1100, done.\u001b[K\n",
            "remote: Counting objects: 100% (263/263), done.\u001b[K\n",
            "remote: Compressing objects: 100% (142/142), done.\u001b[K\n",
            "remote: Total 1100 (delta 133), reused 241 (delta 121), pack-reused 837\u001b[K\n",
            "Receiving objects: 100% (1100/1100), 14.10 MiB | 15.90 MiB/s, done.\n",
            "Resolving deltas: 100% (630/630), done.\n",
            "/content/efficientnet_keras_transfer_learning\n"
          ]
        }
      ]
    },
    {
      "cell_type": "code",
      "source": [
        "# Options: EfficientNetB0, EfficientNetB1, EfficientNetB2, EfficientNetB3\n",
        "# Higher the number, the more complex the model is.\n",
        "from efficientnet import EfficientNetB0 as Net\n",
        "from efficientnet import center_crop_and_resize, preprocess_input"
      ],
      "metadata": {
        "id": "tjZBRnfo3bN0"
      },
      "execution_count": null,
      "outputs": []
    },
    {
      "cell_type": "markdown",
      "source": [
        "#load model\n"
      ],
      "metadata": {
        "id": "PdNWyD-QYkzK"
      }
    },
    {
      "cell_type": "code",
      "source": [
        "import sys\n",
        "sys.path.append('/content/drive/MyDrive/All_Data_Project/cut_panoramic/Model/Regression/2Re_All_1G_1e-4_16_0.2_250.h5')\n",
        "\n",
        "from efficientnet.layers import Swish, DropConnect\n",
        "from efficientnet.model import ConvKernalInitializer\n",
        "from tensorflow.keras.utils import get_custom_objects\n",
        "\n",
        "get_custom_objects().update({\n",
        "    'ConvKernalInitializer': ConvKernalInitializer,\n",
        "    'Swish': Swish,\n",
        "    'DropConnect':DropConnect\n",
        "})"
      ],
      "metadata": {
        "id": "_gPnx2UvYf5A"
      },
      "execution_count": null,
      "outputs": []
    },
    {
      "cell_type": "code",
      "source": [
        "#load model \n",
        "from tensorflow.keras.models import load_model\n",
        "model = load_model('/content/drive/MyDrive/All_Data_Project/cut_panoramic/Model/Regression/2Re_All_1G_1e-4_16_0.2_250.h5')\n",
        "height = width = model.input_shape[1]"
      ],
      "metadata": {
        "id": "Nu93WzFUYm9e"
      },
      "execution_count": null,
      "outputs": []
    },
    {
      "cell_type": "code",
      "source": [
        "model.summary()"
      ],
      "metadata": {
        "id": "gp5EbyyXYvc6",
        "colab": {
          "base_uri": "https://localhost:8080/"
        },
        "outputId": "92b5d0a6-5148-4702-e019-b599a6530401"
      },
      "execution_count": null,
      "outputs": [
        {
          "output_type": "stream",
          "name": "stdout",
          "text": [
            "Model: \"sequential\"\n",
            "_________________________________________________________________\n",
            " Layer (type)                Output Shape              Param #   \n",
            "=================================================================\n",
            " efficientnet-b0 (Functional  (None, 5, 5, 1280)       4049564   \n",
            " )                                                               \n",
            "                                                                 \n",
            " gap (GlobalMaxPooling2D)    (None, 1280)              0         \n",
            "                                                                 \n",
            " dropout_out (Dropout)       (None, 1280)              0         \n",
            "                                                                 \n",
            " fc_out (Dense)              (None, 19)                24339     \n",
            "                                                                 \n",
            " dense (Dense)               (None, 1)                 20        \n",
            "                                                                 \n",
            "=================================================================\n",
            "Total params: 4,073,923\n",
            "Trainable params: 24,359\n",
            "Non-trainable params: 4,049,564\n",
            "_________________________________________________________________\n"
          ]
        }
      ]
    },
    {
      "cell_type": "code",
      "source": [
        "df = pd.read_csv (r'/content/drive/MyDrive/All_Data_Project/cut_panoramic/Data/All_Re.csv')\n",
        "df"
      ],
      "metadata": {
        "id": "q1Dc131_Y3uA",
        "colab": {
          "base_uri": "https://localhost:8080/",
          "height": 423
        },
        "outputId": "0d0edf74-b8e8-4249-b4c5-9ae6ba387171"
      },
      "execution_count": null,
      "outputs": [
        {
          "output_type": "execute_result",
          "data": {
            "text/plain": [
              "      Fig_Age  Age(year) Class  Class_Re       Filename  \\\n",
              "0           1          7  Y07F         1         V1.jpg   \n",
              "1           2          7  Y07F         1    Flip_V1.jpg   \n",
              "2           3          7  Y07F         1         V2.jpg   \n",
              "3           4          7  Y07F         1    Flip_V2.jpg   \n",
              "4           5          7  Y07F         1         V3.jpg   \n",
              "...       ...        ...   ...       ...            ...   \n",
              "4745      121         25  Y25M        19  Flip_J463.jpg   \n",
              "4746      122         25  Y25M        19       J464.jpg   \n",
              "4747      123         25  Y25M        19  Flip_J464.jpg   \n",
              "4748      124         25  Y25M        19       J465.jpg   \n",
              "4749      125         25  Y25M        19  Flip_J465.jpg   \n",
              "\n",
              "                                          Path_filename     Sex Floder  \n",
              "0     /content/drive/My Drive/All_Data_Project/TVT_G...  Female   Both  \n",
              "1     /content/drive/My Drive/All_Data_Project/TVT_G...  Female   Both  \n",
              "2     /content/drive/My Drive/All_Data_Project/TVT_G...  Female   Both  \n",
              "3     /content/drive/My Drive/All_Data_Project/TVT_G...  Female   Both  \n",
              "4     /content/drive/My Drive/All_Data_Project/TVT_G...  Female   Both  \n",
              "...                                                 ...     ...    ...  \n",
              "4745  /content/drive/My Drive/All_Data_Project/TVT_G...    Male   Both  \n",
              "4746  /content/drive/My Drive/All_Data_Project/TVT_G...    Male   Both  \n",
              "4747  /content/drive/My Drive/All_Data_Project/TVT_G...    Male   Both  \n",
              "4748  /content/drive/My Drive/All_Data_Project/TVT_G...    Male   Both  \n",
              "4749  /content/drive/My Drive/All_Data_Project/TVT_G...    Male   Both  \n",
              "\n",
              "[4750 rows x 8 columns]"
            ],
            "text/html": [
              "\n",
              "  <div id=\"df-d32df4f7-24cf-4342-8d06-86ab813658be\">\n",
              "    <div class=\"colab-df-container\">\n",
              "      <div>\n",
              "<style scoped>\n",
              "    .dataframe tbody tr th:only-of-type {\n",
              "        vertical-align: middle;\n",
              "    }\n",
              "\n",
              "    .dataframe tbody tr th {\n",
              "        vertical-align: top;\n",
              "    }\n",
              "\n",
              "    .dataframe thead th {\n",
              "        text-align: right;\n",
              "    }\n",
              "</style>\n",
              "<table border=\"1\" class=\"dataframe\">\n",
              "  <thead>\n",
              "    <tr style=\"text-align: right;\">\n",
              "      <th></th>\n",
              "      <th>Fig_Age</th>\n",
              "      <th>Age(year)</th>\n",
              "      <th>Class</th>\n",
              "      <th>Class_Re</th>\n",
              "      <th>Filename</th>\n",
              "      <th>Path_filename</th>\n",
              "      <th>Sex</th>\n",
              "      <th>Floder</th>\n",
              "    </tr>\n",
              "  </thead>\n",
              "  <tbody>\n",
              "    <tr>\n",
              "      <th>0</th>\n",
              "      <td>1</td>\n",
              "      <td>7</td>\n",
              "      <td>Y07F</td>\n",
              "      <td>1</td>\n",
              "      <td>V1.jpg</td>\n",
              "      <td>/content/drive/My Drive/All_Data_Project/TVT_G...</td>\n",
              "      <td>Female</td>\n",
              "      <td>Both</td>\n",
              "    </tr>\n",
              "    <tr>\n",
              "      <th>1</th>\n",
              "      <td>2</td>\n",
              "      <td>7</td>\n",
              "      <td>Y07F</td>\n",
              "      <td>1</td>\n",
              "      <td>Flip_V1.jpg</td>\n",
              "      <td>/content/drive/My Drive/All_Data_Project/TVT_G...</td>\n",
              "      <td>Female</td>\n",
              "      <td>Both</td>\n",
              "    </tr>\n",
              "    <tr>\n",
              "      <th>2</th>\n",
              "      <td>3</td>\n",
              "      <td>7</td>\n",
              "      <td>Y07F</td>\n",
              "      <td>1</td>\n",
              "      <td>V2.jpg</td>\n",
              "      <td>/content/drive/My Drive/All_Data_Project/TVT_G...</td>\n",
              "      <td>Female</td>\n",
              "      <td>Both</td>\n",
              "    </tr>\n",
              "    <tr>\n",
              "      <th>3</th>\n",
              "      <td>4</td>\n",
              "      <td>7</td>\n",
              "      <td>Y07F</td>\n",
              "      <td>1</td>\n",
              "      <td>Flip_V2.jpg</td>\n",
              "      <td>/content/drive/My Drive/All_Data_Project/TVT_G...</td>\n",
              "      <td>Female</td>\n",
              "      <td>Both</td>\n",
              "    </tr>\n",
              "    <tr>\n",
              "      <th>4</th>\n",
              "      <td>5</td>\n",
              "      <td>7</td>\n",
              "      <td>Y07F</td>\n",
              "      <td>1</td>\n",
              "      <td>V3.jpg</td>\n",
              "      <td>/content/drive/My Drive/All_Data_Project/TVT_G...</td>\n",
              "      <td>Female</td>\n",
              "      <td>Both</td>\n",
              "    </tr>\n",
              "    <tr>\n",
              "      <th>...</th>\n",
              "      <td>...</td>\n",
              "      <td>...</td>\n",
              "      <td>...</td>\n",
              "      <td>...</td>\n",
              "      <td>...</td>\n",
              "      <td>...</td>\n",
              "      <td>...</td>\n",
              "      <td>...</td>\n",
              "    </tr>\n",
              "    <tr>\n",
              "      <th>4745</th>\n",
              "      <td>121</td>\n",
              "      <td>25</td>\n",
              "      <td>Y25M</td>\n",
              "      <td>19</td>\n",
              "      <td>Flip_J463.jpg</td>\n",
              "      <td>/content/drive/My Drive/All_Data_Project/TVT_G...</td>\n",
              "      <td>Male</td>\n",
              "      <td>Both</td>\n",
              "    </tr>\n",
              "    <tr>\n",
              "      <th>4746</th>\n",
              "      <td>122</td>\n",
              "      <td>25</td>\n",
              "      <td>Y25M</td>\n",
              "      <td>19</td>\n",
              "      <td>J464.jpg</td>\n",
              "      <td>/content/drive/My Drive/All_Data_Project/TVT_G...</td>\n",
              "      <td>Male</td>\n",
              "      <td>Both</td>\n",
              "    </tr>\n",
              "    <tr>\n",
              "      <th>4747</th>\n",
              "      <td>123</td>\n",
              "      <td>25</td>\n",
              "      <td>Y25M</td>\n",
              "      <td>19</td>\n",
              "      <td>Flip_J464.jpg</td>\n",
              "      <td>/content/drive/My Drive/All_Data_Project/TVT_G...</td>\n",
              "      <td>Male</td>\n",
              "      <td>Both</td>\n",
              "    </tr>\n",
              "    <tr>\n",
              "      <th>4748</th>\n",
              "      <td>124</td>\n",
              "      <td>25</td>\n",
              "      <td>Y25M</td>\n",
              "      <td>19</td>\n",
              "      <td>J465.jpg</td>\n",
              "      <td>/content/drive/My Drive/All_Data_Project/TVT_G...</td>\n",
              "      <td>Male</td>\n",
              "      <td>Both</td>\n",
              "    </tr>\n",
              "    <tr>\n",
              "      <th>4749</th>\n",
              "      <td>125</td>\n",
              "      <td>25</td>\n",
              "      <td>Y25M</td>\n",
              "      <td>19</td>\n",
              "      <td>Flip_J465.jpg</td>\n",
              "      <td>/content/drive/My Drive/All_Data_Project/TVT_G...</td>\n",
              "      <td>Male</td>\n",
              "      <td>Both</td>\n",
              "    </tr>\n",
              "  </tbody>\n",
              "</table>\n",
              "<p>4750 rows × 8 columns</p>\n",
              "</div>\n",
              "      <button class=\"colab-df-convert\" onclick=\"convertToInteractive('df-d32df4f7-24cf-4342-8d06-86ab813658be')\"\n",
              "              title=\"Convert this dataframe to an interactive table.\"\n",
              "              style=\"display:none;\">\n",
              "        \n",
              "  <svg xmlns=\"http://www.w3.org/2000/svg\" height=\"24px\"viewBox=\"0 0 24 24\"\n",
              "       width=\"24px\">\n",
              "    <path d=\"M0 0h24v24H0V0z\" fill=\"none\"/>\n",
              "    <path d=\"M18.56 5.44l.94 2.06.94-2.06 2.06-.94-2.06-.94-.94-2.06-.94 2.06-2.06.94zm-11 1L8.5 8.5l.94-2.06 2.06-.94-2.06-.94L8.5 2.5l-.94 2.06-2.06.94zm10 10l.94 2.06.94-2.06 2.06-.94-2.06-.94-.94-2.06-.94 2.06-2.06.94z\"/><path d=\"M17.41 7.96l-1.37-1.37c-.4-.4-.92-.59-1.43-.59-.52 0-1.04.2-1.43.59L10.3 9.45l-7.72 7.72c-.78.78-.78 2.05 0 2.83L4 21.41c.39.39.9.59 1.41.59.51 0 1.02-.2 1.41-.59l7.78-7.78 2.81-2.81c.8-.78.8-2.07 0-2.86zM5.41 20L4 18.59l7.72-7.72 1.47 1.35L5.41 20z\"/>\n",
              "  </svg>\n",
              "      </button>\n",
              "      \n",
              "  <style>\n",
              "    .colab-df-container {\n",
              "      display:flex;\n",
              "      flex-wrap:wrap;\n",
              "      gap: 12px;\n",
              "    }\n",
              "\n",
              "    .colab-df-convert {\n",
              "      background-color: #E8F0FE;\n",
              "      border: none;\n",
              "      border-radius: 50%;\n",
              "      cursor: pointer;\n",
              "      display: none;\n",
              "      fill: #1967D2;\n",
              "      height: 32px;\n",
              "      padding: 0 0 0 0;\n",
              "      width: 32px;\n",
              "    }\n",
              "\n",
              "    .colab-df-convert:hover {\n",
              "      background-color: #E2EBFA;\n",
              "      box-shadow: 0px 1px 2px rgba(60, 64, 67, 0.3), 0px 1px 3px 1px rgba(60, 64, 67, 0.15);\n",
              "      fill: #174EA6;\n",
              "    }\n",
              "\n",
              "    [theme=dark] .colab-df-convert {\n",
              "      background-color: #3B4455;\n",
              "      fill: #D2E3FC;\n",
              "    }\n",
              "\n",
              "    [theme=dark] .colab-df-convert:hover {\n",
              "      background-color: #434B5C;\n",
              "      box-shadow: 0px 1px 3px 1px rgba(0, 0, 0, 0.15);\n",
              "      filter: drop-shadow(0px 1px 2px rgba(0, 0, 0, 0.3));\n",
              "      fill: #FFFFFF;\n",
              "    }\n",
              "  </style>\n",
              "\n",
              "      <script>\n",
              "        const buttonEl =\n",
              "          document.querySelector('#df-d32df4f7-24cf-4342-8d06-86ab813658be button.colab-df-convert');\n",
              "        buttonEl.style.display =\n",
              "          google.colab.kernel.accessAllowed ? 'block' : 'none';\n",
              "\n",
              "        async function convertToInteractive(key) {\n",
              "          const element = document.querySelector('#df-d32df4f7-24cf-4342-8d06-86ab813658be');\n",
              "          const dataTable =\n",
              "            await google.colab.kernel.invokeFunction('convertToInteractive',\n",
              "                                                     [key], {});\n",
              "          if (!dataTable) return;\n",
              "\n",
              "          const docLinkHtml = 'Like what you see? Visit the ' +\n",
              "            '<a target=\"_blank\" href=https://colab.research.google.com/notebooks/data_table.ipynb>data table notebook</a>'\n",
              "            + ' to learn more about interactive tables.';\n",
              "          element.innerHTML = '';\n",
              "          dataTable['output_type'] = 'display_data';\n",
              "          await google.colab.output.renderOutput(dataTable, element);\n",
              "          const docLink = document.createElement('div');\n",
              "          docLink.innerHTML = docLinkHtml;\n",
              "          element.appendChild(docLink);\n",
              "        }\n",
              "      </script>\n",
              "    </div>\n",
              "  </div>\n",
              "  "
            ]
          },
          "metadata": {},
          "execution_count": 11
        }
      ]
    },
    {
      "cell_type": "code",
      "source": [
        "train = df[df['Fig_Age'].between(1,75)]\n",
        "val = df[df['Fig_Age'].between(76,100)]"
      ],
      "metadata": {
        "id": "Z1zBw01Gl8Ac"
      },
      "execution_count": null,
      "outputs": []
    },
    {
      "cell_type": "code",
      "source": [
        "DATA_PATH = \"/content/drive/MyDrive/All_Data_Project/TVT_Gender\"\n",
        "os.chdir(DATA_PATH)\n",
        "train_dir = os.path.join(DATA_PATH, 'train')\n",
        "print(train_dir)\n",
        "validation_dir = os.path.join(DATA_PATH, 'validation')\n",
        "print(validation_dir)"
      ],
      "metadata": {
        "colab": {
          "base_uri": "https://localhost:8080/"
        },
        "id": "QL0g-8iOnMC4",
        "outputId": "ebeac179-d13b-4aed-9833-099553dc48e6"
      },
      "execution_count": null,
      "outputs": [
        {
          "output_type": "stream",
          "name": "stdout",
          "text": [
            "/content/drive/MyDrive/All_Data_Project/TVT_Gender/train\n",
            "/content/drive/MyDrive/All_Data_Project/TVT_Gender/validation\n"
          ]
        }
      ]
    },
    {
      "cell_type": "markdown",
      "source": [
        "\n",
        "#Train"
      ],
      "metadata": {
        "id": "bWEnlTSwazL5"
      }
    },
    {
      "cell_type": "code",
      "source": [
        "# Train ด้วย ImageDataGenerator ของ Keras ซึ่งจะเพิ่มข้อมูลเสริมระหว่างการฝึกเพื่อลดโอกาสเกิด overfitting\n",
        "#overfitting เกิดจากข้อมูลที่ซับซ้อนกันเกินไป\n",
        "from tensorflow.keras.preprocessing.image import ImageDataGenerator\n",
        "\n",
        "train_datagen = ImageDataGenerator(\n",
        "      rescale=1./255, #โมเดลส่วนใหญ่ต้องใช้ RGB ในช่วง 0–1\n",
        "      rotation_range=40,\n",
        "      width_shift_range=0.2,\n",
        "      height_shift_range=0.2,\n",
        "      shear_range=0.2,\n",
        "      zoom_range=0.2,\n",
        "      horizontal_flip=True,\n",
        "      fill_mode='nearest')\n",
        "\n",
        "# Note that the validation data should not be augmented!\n",
        "test_datagen = ImageDataGenerator(rescale=1./255)"
      ],
      "metadata": {
        "id": "xGPrsn9no_pa"
      },
      "execution_count": null,
      "outputs": []
    },
    {
      "cell_type": "code",
      "source": [
        "train_generator = train_datagen.flow_from_dataframe(\n",
        "        dataframe = train,\n",
        "        directory = train_dir,\n",
        "        x_col = 'Path_filename',\n",
        "        y_col = 'Age(year)',\n",
        "        class_mode = 'other',\n",
        "        target_size=(height, width),\n",
        "        batch_size=batch_size)\n",
        "\n",
        "validation_generator = test_datagen.flow_from_dataframe(\n",
        "        dataframe = val,\n",
        "        directory = validation_dir,\n",
        "        x_col = 'Path_filename',\n",
        "        y_col = 'Age(year)',\n",
        "        class_mode = 'other',\n",
        "        target_size=(height, width),\n",
        "        batch_size=batch_size)"
      ],
      "metadata": {
        "colab": {
          "base_uri": "https://localhost:8080/"
        },
        "id": "8nVlmAszntK_",
        "outputId": "fd8f6b26-58a5-4ad0-c9c1-995faadfa3c7"
      },
      "execution_count": null,
      "outputs": [
        {
          "output_type": "stream",
          "name": "stdout",
          "text": [
            "Found 2850 validated image filenames.\n",
            "Found 950 validated image filenames.\n"
          ]
        }
      ]
    },
    {
      "cell_type": "code",
      "source": [
        "model.compile(loss='mse',\n",
        "          optimizer=Adam(learning_rate=1e-4),\n",
        "          metrics=['mae'])\n",
        "history = model.fit_generator(\n",
        "      train_generator,\n",
        "      steps_per_epoch= NUM_TRAIN //batch_size,\n",
        "      epochs=epochs,\n",
        "      validation_data=validation_generator,\n",
        "      validation_steps= NUM_TEST //batch_size,\n",
        "      verbose=1,\n",
        "      use_multiprocessing=True,\n",
        "      workers=4)"
      ],
      "metadata": {
        "id": "N6qUmmF856ZE",
        "outputId": "d525d177-9449-4af5-abe6-4dbad516f514",
        "colab": {
          "base_uri": "https://localhost:8080/"
        }
      },
      "execution_count": null,
      "outputs": [
        {
          "metadata": {
            "tags": null
          },
          "name": "stderr",
          "output_type": "stream",
          "text": [
            "<ipython-input-16-f59104fd3985>:4: UserWarning: `Model.fit_generator` is deprecated and will be removed in a future version. Please use `Model.fit`, which supports generators.\n",
            "  history = model.fit_generator(\n"
          ]
        },
        {
          "output_type": "stream",
          "name": "stdout",
          "text": [
            "Epoch 1/250\n",
            "178/178 [==============================] - 570s 3s/step - loss: 30.0428 - mae: 4.7486 - val_loss: 30.0375 - val_mae: 4.7478\n",
            "Epoch 2/250\n",
            "178/178 [==============================] - 18s 97ms/step - loss: 30.0653 - mae: 4.7512 - val_loss: 30.0323 - val_mae: 4.7475\n",
            "Epoch 3/250\n",
            "178/178 [==============================] - 18s 97ms/step - loss: 30.0626 - mae: 4.7493 - val_loss: 30.0542 - val_mae: 4.7493\n",
            "Epoch 4/250\n",
            "178/178 [==============================] - 18s 97ms/step - loss: 30.0292 - mae: 4.7464 - val_loss: 30.1100 - val_mae: 4.7538\n",
            "Epoch 5/250\n",
            "178/178 [==============================] - 18s 97ms/step - loss: 30.0602 - mae: 4.7476 - val_loss: 30.0783 - val_mae: 4.7519\n",
            "Epoch 6/250\n",
            "178/178 [==============================] - 18s 98ms/step - loss: 30.0830 - mae: 4.7532 - val_loss: 30.0443 - val_mae: 4.7456\n",
            "Epoch 7/250\n",
            "178/178 [==============================] - 18s 97ms/step - loss: 29.9953 - mae: 4.7425 - val_loss: 30.0313 - val_mae: 4.7470\n",
            "Epoch 8/250\n",
            "178/178 [==============================] - 18s 97ms/step - loss: 30.0992 - mae: 4.7534 - val_loss: 30.0717 - val_mae: 4.7474\n",
            "Epoch 9/250\n",
            "178/178 [==============================] - 18s 97ms/step - loss: 30.0587 - mae: 4.7507 - val_loss: 30.0520 - val_mae: 4.7471\n",
            "Epoch 10/250\n",
            "178/178 [==============================] - 18s 97ms/step - loss: 30.0612 - mae: 4.7505 - val_loss: 30.0682 - val_mae: 4.7534\n",
            "Epoch 11/250\n",
            "178/178 [==============================] - 17s 96ms/step - loss: 30.0399 - mae: 4.7466 - val_loss: 30.1100 - val_mae: 4.7575\n",
            "Epoch 12/250\n",
            "178/178 [==============================] - 17s 96ms/step - loss: 30.0491 - mae: 4.7494 - val_loss: 30.1337 - val_mae: 4.7568\n",
            "Epoch 13/250\n",
            "178/178 [==============================] - 13s 71ms/step - loss: 30.0879 - mae: 4.7521 - val_loss: 30.0737 - val_mae: 4.7513\n",
            "Epoch 14/250\n",
            "178/178 [==============================] - 13s 72ms/step - loss: 30.0395 - mae: 4.7480 - val_loss: 29.9927 - val_mae: 4.7454\n",
            "Epoch 15/250\n",
            "178/178 [==============================] - 18s 97ms/step - loss: 30.0349 - mae: 4.7461 - val_loss: 30.0085 - val_mae: 4.7413\n",
            "Epoch 16/250\n",
            "178/178 [==============================] - 18s 97ms/step - loss: 30.0271 - mae: 4.7450 - val_loss: 30.1241 - val_mae: 4.7577\n",
            "Epoch 17/250\n",
            "178/178 [==============================] - 18s 98ms/step - loss: 30.0352 - mae: 4.7458 - val_loss: 30.0522 - val_mae: 4.7476\n",
            "Epoch 18/250\n",
            "178/178 [==============================] - 18s 99ms/step - loss: 30.0194 - mae: 4.7446 - val_loss: 30.1083 - val_mae: 4.7526\n",
            "Epoch 19/250\n",
            "178/178 [==============================] - 13s 72ms/step - loss: 30.0155 - mae: 4.7432 - val_loss: 30.0722 - val_mae: 4.7488\n",
            "Epoch 20/250\n",
            "178/178 [==============================] - 18s 97ms/step - loss: 30.0537 - mae: 4.7484 - val_loss: 30.0576 - val_mae: 4.7469\n",
            "Epoch 21/250\n",
            "178/178 [==============================] - 18s 98ms/step - loss: 29.9908 - mae: 4.7417 - val_loss: 30.0239 - val_mae: 4.7453\n",
            "Epoch 22/250\n",
            "178/178 [==============================] - 18s 98ms/step - loss: 30.0303 - mae: 4.7444 - val_loss: 30.0718 - val_mae: 4.7508\n",
            "Epoch 23/250\n",
            "178/178 [==============================] - 18s 98ms/step - loss: 29.9990 - mae: 4.7415 - val_loss: 29.9497 - val_mae: 4.7383\n",
            "Epoch 24/250\n",
            "178/178 [==============================] - 18s 98ms/step - loss: 30.0256 - mae: 4.7443 - val_loss: 29.9854 - val_mae: 4.7384\n",
            "Epoch 25/250\n",
            "178/178 [==============================] - 18s 98ms/step - loss: 30.0019 - mae: 4.7432 - val_loss: 30.0949 - val_mae: 4.7541\n",
            "Epoch 26/250\n",
            "178/178 [==============================] - 18s 97ms/step - loss: 30.0208 - mae: 4.7423 - val_loss: 30.0537 - val_mae: 4.7433\n",
            "Epoch 27/250\n",
            "178/178 [==============================] - 17s 96ms/step - loss: 30.0027 - mae: 4.7408 - val_loss: 30.0298 - val_mae: 4.7428\n",
            "Epoch 28/250\n",
            "178/178 [==============================] - 18s 97ms/step - loss: 29.9953 - mae: 4.7420 - val_loss: 29.9253 - val_mae: 4.7323\n",
            "Epoch 29/250\n",
            "178/178 [==============================] - 18s 100ms/step - loss: 30.0331 - mae: 4.7442 - val_loss: 30.0848 - val_mae: 4.7488\n",
            "Epoch 30/250\n",
            "178/178 [==============================] - 18s 100ms/step - loss: 30.0567 - mae: 4.7469 - val_loss: 30.0209 - val_mae: 4.7431\n",
            "Epoch 31/250\n",
            "178/178 [==============================] - 18s 100ms/step - loss: 29.9839 - mae: 4.7382 - val_loss: 29.9509 - val_mae: 4.7348\n",
            "Epoch 32/250\n",
            "178/178 [==============================] - 18s 96ms/step - loss: 29.9085 - mae: 4.7311 - val_loss: 30.0301 - val_mae: 4.7439\n",
            "Epoch 33/250\n",
            "178/178 [==============================] - 18s 97ms/step - loss: 29.9848 - mae: 4.7399 - val_loss: 30.0160 - val_mae: 4.7408\n",
            "Epoch 34/250\n",
            "178/178 [==============================] - 18s 97ms/step - loss: 30.0144 - mae: 4.7417 - val_loss: 29.9522 - val_mae: 4.7346\n",
            "Epoch 35/250\n",
            "178/178 [==============================] - 18s 96ms/step - loss: 29.9705 - mae: 4.7376 - val_loss: 30.0302 - val_mae: 4.7423\n",
            "Epoch 36/250\n",
            "178/178 [==============================] - 18s 98ms/step - loss: 30.0237 - mae: 4.7431 - val_loss: 30.0617 - val_mae: 4.7435\n",
            "Epoch 37/250\n",
            "178/178 [==============================] - 18s 96ms/step - loss: 30.0478 - mae: 4.7474 - val_loss: 30.0105 - val_mae: 4.7447\n",
            "Epoch 38/250\n",
            "178/178 [==============================] - 17s 96ms/step - loss: 29.9938 - mae: 4.7396 - val_loss: 30.0439 - val_mae: 4.7472\n",
            "Epoch 39/250\n",
            "178/178 [==============================] - 17s 95ms/step - loss: 30.0121 - mae: 4.7423 - val_loss: 30.1471 - val_mae: 4.7590\n",
            "Epoch 40/250\n",
            "178/178 [==============================] - 18s 100ms/step - loss: 29.9998 - mae: 4.7401 - val_loss: 29.9844 - val_mae: 4.7365\n",
            "Epoch 41/250\n",
            "178/178 [==============================] - 18s 99ms/step - loss: 30.0303 - mae: 4.7434 - val_loss: 29.9677 - val_mae: 4.7408\n",
            "Epoch 42/250\n",
            "178/178 [==============================] - 13s 72ms/step - loss: 29.9980 - mae: 4.7416 - val_loss: 29.9813 - val_mae: 4.7387\n",
            "Epoch 43/250\n",
            "178/178 [==============================] - 18s 100ms/step - loss: 29.9797 - mae: 4.7382 - val_loss: 30.0168 - val_mae: 4.7460\n",
            "Epoch 44/250\n",
            "178/178 [==============================] - 18s 100ms/step - loss: 29.9905 - mae: 4.7418 - val_loss: 30.0377 - val_mae: 4.7458\n",
            "Epoch 45/250\n",
            "178/178 [==============================] - 18s 100ms/step - loss: 30.0129 - mae: 4.7431 - val_loss: 30.0529 - val_mae: 4.7457\n",
            "Epoch 46/250\n",
            "178/178 [==============================] - 18s 98ms/step - loss: 30.0476 - mae: 4.7460 - val_loss: 29.9239 - val_mae: 4.7318\n",
            "Epoch 47/250\n",
            "178/178 [==============================] - 18s 96ms/step - loss: 30.0236 - mae: 4.7413 - val_loss: 29.8762 - val_mae: 4.7273\n",
            "Epoch 48/250\n",
            "178/178 [==============================] - 18s 97ms/step - loss: 30.0246 - mae: 4.7398 - val_loss: 29.9805 - val_mae: 4.7370\n",
            "Epoch 49/250\n",
            "178/178 [==============================] - 18s 97ms/step - loss: 29.9781 - mae: 4.7367 - val_loss: 29.9335 - val_mae: 4.7349\n",
            "Epoch 50/250\n",
            "178/178 [==============================] - 18s 97ms/step - loss: 29.9463 - mae: 4.7347 - val_loss: 29.9607 - val_mae: 4.7348\n",
            "Epoch 51/250\n",
            "178/178 [==============================] - 18s 96ms/step - loss: 30.0627 - mae: 4.7461 - val_loss: 29.9338 - val_mae: 4.7389\n",
            "Epoch 52/250\n",
            "178/178 [==============================] - 13s 72ms/step - loss: 29.9619 - mae: 4.7372 - val_loss: 29.9891 - val_mae: 4.7388\n",
            "Epoch 53/250\n",
            "178/178 [==============================] - 18s 97ms/step - loss: 30.0006 - mae: 4.7413 - val_loss: 29.9465 - val_mae: 4.7354\n",
            "Epoch 54/250\n",
            "178/178 [==============================] - 18s 97ms/step - loss: 30.0031 - mae: 4.7404 - val_loss: 30.0544 - val_mae: 4.7459\n",
            "Epoch 55/250\n",
            "178/178 [==============================] - 18s 99ms/step - loss: 29.9820 - mae: 4.7410 - val_loss: 30.0975 - val_mae: 4.7500\n",
            "Epoch 56/250\n",
            "178/178 [==============================] - 18s 97ms/step - loss: 29.9233 - mae: 4.7319 - val_loss: 29.9831 - val_mae: 4.7340\n",
            "Epoch 57/250\n",
            "178/178 [==============================] - 18s 97ms/step - loss: 29.9557 - mae: 4.7359 - val_loss: 30.0896 - val_mae: 4.7499\n",
            "Epoch 58/250\n",
            "178/178 [==============================] - 18s 96ms/step - loss: 30.0277 - mae: 4.7422 - val_loss: 29.9570 - val_mae: 4.7372\n",
            "Epoch 59/250\n",
            "178/178 [==============================] - 18s 98ms/step - loss: 29.9705 - mae: 4.7363 - val_loss: 30.1296 - val_mae: 4.7508\n",
            "Epoch 60/250\n",
            "178/178 [==============================] - 18s 98ms/step - loss: 29.9956 - mae: 4.7382 - val_loss: 30.0256 - val_mae: 4.7401\n",
            "Epoch 61/250\n",
            "178/178 [==============================] - 18s 97ms/step - loss: 30.0003 - mae: 4.7385 - val_loss: 30.0025 - val_mae: 4.7378\n",
            "Epoch 62/250\n",
            "178/178 [==============================] - 18s 97ms/step - loss: 30.0449 - mae: 4.7445 - val_loss: 29.9547 - val_mae: 4.7316\n",
            "Epoch 63/250\n",
            "178/178 [==============================] - 18s 97ms/step - loss: 29.9935 - mae: 4.7381 - val_loss: 29.9613 - val_mae: 4.7360\n",
            "Epoch 64/250\n",
            "178/178 [==============================] - 18s 97ms/step - loss: 29.9510 - mae: 4.7334 - val_loss: 29.9748 - val_mae: 4.7357\n",
            "Epoch 65/250\n",
            "178/178 [==============================] - 18s 97ms/step - loss: 30.0342 - mae: 4.7414 - val_loss: 29.9840 - val_mae: 4.7408\n",
            "Epoch 66/250\n",
            "178/178 [==============================] - 18s 99ms/step - loss: 29.9868 - mae: 4.7379 - val_loss: 29.9529 - val_mae: 4.7333\n",
            "Epoch 67/250\n",
            "178/178 [==============================] - 18s 97ms/step - loss: 30.0329 - mae: 4.7438 - val_loss: 29.9867 - val_mae: 4.7387\n",
            "Epoch 68/250\n",
            "178/178 [==============================] - 18s 97ms/step - loss: 30.0021 - mae: 4.7388 - val_loss: 29.9659 - val_mae: 4.7354\n",
            "Epoch 69/250\n",
            "178/178 [==============================] - 18s 98ms/step - loss: 29.9818 - mae: 4.7363 - val_loss: 30.0217 - val_mae: 4.7406\n",
            "Epoch 70/250\n",
            "178/178 [==============================] - 18s 98ms/step - loss: 30.0748 - mae: 4.7465 - val_loss: 29.9001 - val_mae: 4.7289\n",
            "Epoch 71/250\n",
            "178/178 [==============================] - 13s 71ms/step - loss: 30.0463 - mae: 4.7421 - val_loss: 30.0546 - val_mae: 4.7457\n",
            "Epoch 72/250\n",
            "178/178 [==============================] - 18s 96ms/step - loss: 30.0141 - mae: 4.7412 - val_loss: 30.0742 - val_mae: 4.7466\n",
            "Epoch 73/250\n",
            "178/178 [==============================] - 13s 71ms/step - loss: 30.0223 - mae: 4.7400 - val_loss: 30.0701 - val_mae: 4.7468\n",
            "Epoch 74/250\n",
            "178/178 [==============================] - 18s 97ms/step - loss: 29.9309 - mae: 4.7332 - val_loss: 30.0609 - val_mae: 4.7424\n",
            "Epoch 75/250\n",
            "178/178 [==============================] - 18s 97ms/step - loss: 30.0280 - mae: 4.7419 - val_loss: 30.0769 - val_mae: 4.7454\n",
            "Epoch 76/250\n",
            "178/178 [==============================] - 17s 96ms/step - loss: 30.0724 - mae: 4.7461 - val_loss: 30.0403 - val_mae: 4.7432\n",
            "Epoch 77/250\n",
            "178/178 [==============================] - 18s 99ms/step - loss: 29.9978 - mae: 4.7390 - val_loss: 29.9528 - val_mae: 4.7328\n",
            "Epoch 78/250\n",
            "178/178 [==============================] - 18s 99ms/step - loss: 29.9694 - mae: 4.7361 - val_loss: 30.0503 - val_mae: 4.7442\n",
            "Epoch 79/250\n",
            "178/178 [==============================] - 18s 99ms/step - loss: 30.0104 - mae: 4.7401 - val_loss: 30.0568 - val_mae: 4.7472\n",
            "Epoch 80/250\n",
            "178/178 [==============================] - 18s 101ms/step - loss: 30.0752 - mae: 4.7469 - val_loss: 29.9654 - val_mae: 4.7357\n",
            "Epoch 81/250\n",
            "178/178 [==============================] - 18s 102ms/step - loss: 30.0067 - mae: 4.7388 - val_loss: 29.9730 - val_mae: 4.7358\n",
            "Epoch 82/250\n",
            "178/178 [==============================] - 18s 96ms/step - loss: 29.9280 - mae: 4.7306 - val_loss: 29.9681 - val_mae: 4.7336\n",
            "Epoch 83/250\n",
            "178/178 [==============================] - 18s 98ms/step - loss: 30.0404 - mae: 4.7408 - val_loss: 30.0334 - val_mae: 4.7389\n",
            "Epoch 84/250\n",
            "178/178 [==============================] - 18s 99ms/step - loss: 30.0217 - mae: 4.7414 - val_loss: 29.8545 - val_mae: 4.7228\n",
            "Epoch 85/250\n",
            "178/178 [==============================] - 18s 97ms/step - loss: 30.0281 - mae: 4.7408 - val_loss: 29.9429 - val_mae: 4.7356\n",
            "Epoch 86/250\n",
            "178/178 [==============================] - 13s 70ms/step - loss: 29.9475 - mae: 4.7344 - val_loss: 29.9796 - val_mae: 4.7366\n",
            "Epoch 87/250\n",
            "178/178 [==============================] - 18s 97ms/step - loss: 30.0491 - mae: 4.7430 - val_loss: 30.0347 - val_mae: 4.7398\n",
            "Epoch 88/250\n",
            "178/178 [==============================] - 18s 97ms/step - loss: 30.0583 - mae: 4.7452 - val_loss: 30.0219 - val_mae: 4.7374\n",
            "Epoch 89/250\n",
            "178/178 [==============================] - 17s 96ms/step - loss: 30.0643 - mae: 4.7441 - val_loss: 29.8954 - val_mae: 4.7259\n",
            "Epoch 90/250\n",
            "178/178 [==============================] - 17s 96ms/step - loss: 29.9485 - mae: 4.7335 - val_loss: 29.9632 - val_mae: 4.7353\n",
            "Epoch 91/250\n",
            "178/178 [==============================] - 18s 96ms/step - loss: 29.9801 - mae: 4.7355 - val_loss: 30.0550 - val_mae: 4.7426\n",
            "Epoch 92/250\n",
            "178/178 [==============================] - 18s 97ms/step - loss: 29.9956 - mae: 4.7362 - val_loss: 30.0207 - val_mae: 4.7405\n",
            "Epoch 93/250\n",
            "178/178 [==============================] - 18s 97ms/step - loss: 29.9817 - mae: 4.7359 - val_loss: 29.9890 - val_mae: 4.7373\n",
            "Epoch 94/250\n",
            "178/178 [==============================] - 13s 72ms/step - loss: 30.0023 - mae: 4.7389 - val_loss: 30.0469 - val_mae: 4.7447\n",
            "Epoch 95/250\n",
            "178/178 [==============================] - 18s 98ms/step - loss: 29.9871 - mae: 4.7379 - val_loss: 30.0813 - val_mae: 4.7469\n",
            "Epoch 96/250\n",
            "178/178 [==============================] - 18s 96ms/step - loss: 29.9230 - mae: 4.7294 - val_loss: 30.0273 - val_mae: 4.7446\n",
            "Epoch 97/250\n",
            "178/178 [==============================] - 18s 97ms/step - loss: 29.9989 - mae: 4.7374 - val_loss: 30.0908 - val_mae: 4.7457\n",
            "Epoch 98/250\n",
            "178/178 [==============================] - 18s 97ms/step - loss: 30.0023 - mae: 4.7379 - val_loss: 29.9772 - val_mae: 4.7383\n",
            "Epoch 99/250\n",
            "178/178 [==============================] - 18s 97ms/step - loss: 29.9657 - mae: 4.7332 - val_loss: 30.1396 - val_mae: 4.7543\n",
            "Epoch 100/250\n",
            "178/178 [==============================] - 18s 97ms/step - loss: 30.0519 - mae: 4.7430 - val_loss: 29.9447 - val_mae: 4.7340\n",
            "Epoch 101/250\n",
            "178/178 [==============================] - 18s 98ms/step - loss: 30.0091 - mae: 4.7399 - val_loss: 30.1645 - val_mae: 4.7562\n",
            "Epoch 102/250\n",
            "178/178 [==============================] - 18s 99ms/step - loss: 29.9555 - mae: 4.7327 - val_loss: 29.9431 - val_mae: 4.7372\n",
            "Epoch 103/250\n",
            "178/178 [==============================] - 18s 99ms/step - loss: 30.0300 - mae: 4.7412 - val_loss: 30.0204 - val_mae: 4.7392\n",
            "Epoch 104/250\n",
            "178/178 [==============================] - 18s 99ms/step - loss: 29.9211 - mae: 4.7317 - val_loss: 30.0275 - val_mae: 4.7393\n",
            "Epoch 105/250\n",
            "178/178 [==============================] - 18s 100ms/step - loss: 29.9733 - mae: 4.7359 - val_loss: 29.9742 - val_mae: 4.7372\n",
            "Epoch 106/250\n",
            "178/178 [==============================] - 18s 99ms/step - loss: 29.9718 - mae: 4.7338 - val_loss: 29.9061 - val_mae: 4.7297\n",
            "Epoch 107/250\n",
            "178/178 [==============================] - 18s 97ms/step - loss: 30.0124 - mae: 4.7384 - val_loss: 30.0601 - val_mae: 4.7434\n",
            "Epoch 108/250\n",
            "178/178 [==============================] - 18s 98ms/step - loss: 30.0432 - mae: 4.7408 - val_loss: 30.0079 - val_mae: 4.7402\n",
            "Epoch 109/250\n",
            "178/178 [==============================] - 18s 97ms/step - loss: 29.9285 - mae: 4.7300 - val_loss: 30.0336 - val_mae: 4.7402\n",
            "Epoch 110/250\n",
            "178/178 [==============================] - 17s 96ms/step - loss: 29.9539 - mae: 4.7320 - val_loss: 29.9716 - val_mae: 4.7350\n",
            "Epoch 111/250\n",
            "178/178 [==============================] - 18s 97ms/step - loss: 30.0229 - mae: 4.7394 - val_loss: 30.0786 - val_mae: 4.7445\n",
            "Epoch 112/250\n",
            "178/178 [==============================] - 18s 100ms/step - loss: 29.9346 - mae: 4.7316 - val_loss: 30.0961 - val_mae: 4.7466\n",
            "Epoch 113/250\n",
            "178/178 [==============================] - 18s 98ms/step - loss: 30.0186 - mae: 4.7396 - val_loss: 29.9283 - val_mae: 4.7284\n",
            "Epoch 114/250\n",
            "178/178 [==============================] - 18s 98ms/step - loss: 30.0267 - mae: 4.7407 - val_loss: 29.9003 - val_mae: 4.7274\n",
            "Epoch 115/250\n",
            "178/178 [==============================] - 18s 101ms/step - loss: 30.0162 - mae: 4.7393 - val_loss: 29.9381 - val_mae: 4.7295\n",
            "Epoch 116/250\n",
            "178/178 [==============================] - 18s 101ms/step - loss: 30.0378 - mae: 4.7403 - val_loss: 29.9499 - val_mae: 4.7306\n",
            "Epoch 117/250\n",
            "178/178 [==============================] - 18s 99ms/step - loss: 29.9788 - mae: 4.7333 - val_loss: 29.9560 - val_mae: 4.7337\n",
            "Epoch 118/250\n",
            "178/178 [==============================] - 19s 102ms/step - loss: 29.9661 - mae: 4.7343 - val_loss: 29.9711 - val_mae: 4.7316\n",
            "Epoch 119/250\n",
            "178/178 [==============================] - 19s 103ms/step - loss: 29.9914 - mae: 4.7367 - val_loss: 30.0449 - val_mae: 4.7422\n",
            "Epoch 120/250\n",
            "178/178 [==============================] - 18s 98ms/step - loss: 29.9542 - mae: 4.7339 - val_loss: 30.0682 - val_mae: 4.7422\n",
            "Epoch 121/250\n",
            "178/178 [==============================] - 18s 98ms/step - loss: 30.0748 - mae: 4.7441 - val_loss: 29.9795 - val_mae: 4.7326\n",
            "Epoch 122/250\n",
            "178/178 [==============================] - 18s 99ms/step - loss: 29.9766 - mae: 4.7367 - val_loss: 30.0122 - val_mae: 4.7412\n",
            "Epoch 123/250\n",
            "178/178 [==============================] - 18s 98ms/step - loss: 29.9459 - mae: 4.7331 - val_loss: 29.9955 - val_mae: 4.7357\n",
            "Epoch 124/250\n",
            "178/178 [==============================] - 18s 98ms/step - loss: 29.9680 - mae: 4.7329 - val_loss: 29.8972 - val_mae: 4.7253\n",
            "Epoch 125/250\n",
            "178/178 [==============================] - 18s 98ms/step - loss: 30.0721 - mae: 4.7452 - val_loss: 29.8755 - val_mae: 4.7232\n",
            "Epoch 126/250\n",
            "178/178 [==============================] - 18s 98ms/step - loss: 30.0485 - mae: 4.7421 - val_loss: 30.0722 - val_mae: 4.7464\n",
            "Epoch 127/250\n",
            "178/178 [==============================] - 18s 98ms/step - loss: 29.9952 - mae: 4.7381 - val_loss: 29.9878 - val_mae: 4.7326\n",
            "Epoch 128/250\n",
            "178/178 [==============================] - 18s 97ms/step - loss: 30.0437 - mae: 4.7406 - val_loss: 30.0029 - val_mae: 4.7411\n",
            "Epoch 129/250\n",
            "178/178 [==============================] - 18s 97ms/step - loss: 29.9874 - mae: 4.7356 - val_loss: 30.1651 - val_mae: 4.7570\n",
            "Epoch 130/250\n",
            "178/178 [==============================] - 18s 97ms/step - loss: 30.0263 - mae: 4.7407 - val_loss: 30.0565 - val_mae: 4.7433\n",
            "Epoch 131/250\n",
            "178/178 [==============================] - 18s 98ms/step - loss: 30.0125 - mae: 4.7382 - val_loss: 30.0175 - val_mae: 4.7380\n",
            "Epoch 132/250\n",
            "178/178 [==============================] - 18s 98ms/step - loss: 29.9941 - mae: 4.7374 - val_loss: 30.0141 - val_mae: 4.7390\n",
            "Epoch 133/250\n",
            "178/178 [==============================] - 18s 98ms/step - loss: 29.9554 - mae: 4.7346 - val_loss: 29.9941 - val_mae: 4.7346\n",
            "Epoch 134/250\n",
            "178/178 [==============================] - 18s 98ms/step - loss: 30.0190 - mae: 4.7391 - val_loss: 30.0177 - val_mae: 4.7367\n",
            "Epoch 135/250\n",
            "178/178 [==============================] - 18s 99ms/step - loss: 29.9579 - mae: 4.7356 - val_loss: 30.0151 - val_mae: 4.7357\n",
            "Epoch 136/250\n",
            "178/178 [==============================] - 18s 100ms/step - loss: 30.0288 - mae: 4.7394 - val_loss: 30.0266 - val_mae: 4.7367\n",
            "Epoch 137/250\n",
            "178/178 [==============================] - 18s 99ms/step - loss: 30.0312 - mae: 4.7401 - val_loss: 30.0423 - val_mae: 4.7399\n",
            "Epoch 138/250\n",
            "178/178 [==============================] - 18s 99ms/step - loss: 29.9619 - mae: 4.7341 - val_loss: 30.0432 - val_mae: 4.7430\n",
            "Epoch 139/250\n",
            "178/178 [==============================] - 18s 98ms/step - loss: 29.9787 - mae: 4.7344 - val_loss: 30.0507 - val_mae: 4.7420\n",
            "Epoch 140/250\n",
            "178/178 [==============================] - 18s 99ms/step - loss: 30.0414 - mae: 4.7411 - val_loss: 30.0120 - val_mae: 4.7388\n",
            "Epoch 141/250\n",
            "178/178 [==============================] - 18s 100ms/step - loss: 29.9374 - mae: 4.7322 - val_loss: 29.9569 - val_mae: 4.7345\n",
            "Epoch 142/250\n",
            "178/178 [==============================] - 18s 99ms/step - loss: 29.9743 - mae: 4.7347 - val_loss: 29.9321 - val_mae: 4.7271\n",
            "Epoch 143/250\n",
            "178/178 [==============================] - 18s 99ms/step - loss: 29.9796 - mae: 4.7348 - val_loss: 29.8097 - val_mae: 4.7187\n",
            "Epoch 144/250\n",
            "178/178 [==============================] - 18s 98ms/step - loss: 30.0118 - mae: 4.7397 - val_loss: 29.8857 - val_mae: 4.7271\n",
            "Epoch 145/250\n",
            "178/178 [==============================] - 18s 99ms/step - loss: 29.9582 - mae: 4.7343 - val_loss: 30.0607 - val_mae: 4.7430\n",
            "Epoch 146/250\n",
            "178/178 [==============================] - 18s 99ms/step - loss: 30.0227 - mae: 4.7383 - val_loss: 30.0776 - val_mae: 4.7452\n",
            "Epoch 147/250\n",
            "178/178 [==============================] - 18s 98ms/step - loss: 29.9942 - mae: 4.7382 - val_loss: 29.9185 - val_mae: 4.7303\n",
            "Epoch 148/250\n",
            "178/178 [==============================] - 18s 99ms/step - loss: 29.9912 - mae: 4.7351 - val_loss: 30.0679 - val_mae: 4.7440\n",
            "Epoch 149/250\n",
            "178/178 [==============================] - 19s 102ms/step - loss: 30.0098 - mae: 4.7382 - val_loss: 29.9914 - val_mae: 4.7376\n",
            "Epoch 150/250\n",
            "178/178 [==============================] - 18s 98ms/step - loss: 30.0239 - mae: 4.7382 - val_loss: 30.0817 - val_mae: 4.7472\n",
            "Epoch 151/250\n",
            "178/178 [==============================] - 18s 98ms/step - loss: 30.0865 - mae: 4.7477 - val_loss: 29.9440 - val_mae: 4.7323\n",
            "Epoch 152/250\n",
            "178/178 [==============================] - 18s 100ms/step - loss: 30.0181 - mae: 4.7396 - val_loss: 30.0530 - val_mae: 4.7440\n",
            "Epoch 153/250\n",
            "178/178 [==============================] - 18s 100ms/step - loss: 30.0152 - mae: 4.7385 - val_loss: 29.8119 - val_mae: 4.7185\n",
            "Epoch 154/250\n",
            "178/178 [==============================] - 18s 99ms/step - loss: 30.0139 - mae: 4.7368 - val_loss: 29.9800 - val_mae: 4.7387\n",
            "Epoch 155/250\n",
            "178/178 [==============================] - 18s 99ms/step - loss: 30.0017 - mae: 4.7372 - val_loss: 30.0606 - val_mae: 4.7409\n",
            "Epoch 156/250\n",
            "178/178 [==============================] - 18s 99ms/step - loss: 30.0184 - mae: 4.7390 - val_loss: 30.0415 - val_mae: 4.7409\n",
            "Epoch 157/250\n",
            "178/178 [==============================] - 18s 99ms/step - loss: 29.9290 - mae: 4.7315 - val_loss: 30.0308 - val_mae: 4.7408\n",
            "Epoch 158/250\n",
            "178/178 [==============================] - 18s 98ms/step - loss: 30.0164 - mae: 4.7396 - val_loss: 29.9620 - val_mae: 4.7333\n",
            "Epoch 159/250\n",
            "178/178 [==============================] - 18s 98ms/step - loss: 30.0041 - mae: 4.7354 - val_loss: 29.9926 - val_mae: 4.7344\n",
            "Epoch 160/250\n",
            "178/178 [==============================] - 18s 97ms/step - loss: 30.0109 - mae: 4.7393 - val_loss: 29.9809 - val_mae: 4.7312\n",
            "Epoch 161/250\n",
            "178/178 [==============================] - 18s 98ms/step - loss: 30.0357 - mae: 4.7406 - val_loss: 30.0124 - val_mae: 4.7375\n",
            "Epoch 162/250\n",
            "178/178 [==============================] - 15s 84ms/step - loss: 30.0141 - mae: 4.7405 - val_loss: 30.0020 - val_mae: 4.7375\n",
            "Epoch 163/250\n",
            "178/178 [==============================] - 18s 99ms/step - loss: 30.0374 - mae: 4.7385 - val_loss: 30.0902 - val_mae: 4.7451\n",
            "Epoch 164/250\n",
            "178/178 [==============================] - 18s 99ms/step - loss: 29.9415 - mae: 4.7315 - val_loss: 29.9358 - val_mae: 4.7282\n",
            "Epoch 165/250\n",
            "178/178 [==============================] - 18s 98ms/step - loss: 30.0143 - mae: 4.7378 - val_loss: 30.0220 - val_mae: 4.7408\n",
            "Epoch 166/250\n",
            "178/178 [==============================] - 18s 98ms/step - loss: 29.9891 - mae: 4.7357 - val_loss: 29.9883 - val_mae: 4.7345\n",
            "Epoch 167/250\n",
            "178/178 [==============================] - 18s 101ms/step - loss: 30.0956 - mae: 4.7485 - val_loss: 29.9881 - val_mae: 4.7366\n",
            "Epoch 168/250\n",
            "178/178 [==============================] - 18s 98ms/step - loss: 30.0338 - mae: 4.7417 - val_loss: 30.0773 - val_mae: 4.7471\n",
            "Epoch 169/250\n",
            "178/178 [==============================] - 18s 98ms/step - loss: 29.9883 - mae: 4.7357 - val_loss: 30.0321 - val_mae: 4.7397\n",
            "Epoch 170/250\n",
            "178/178 [==============================] - 13s 72ms/step - loss: 30.0219 - mae: 4.7396 - val_loss: 29.9535 - val_mae: 4.7333\n",
            "Epoch 171/250\n",
            "178/178 [==============================] - 18s 99ms/step - loss: 30.0509 - mae: 4.7448 - val_loss: 30.0191 - val_mae: 4.7375\n",
            "Epoch 172/250\n",
            "178/178 [==============================] - 18s 98ms/step - loss: 30.0713 - mae: 4.7445 - val_loss: 29.8791 - val_mae: 4.7291\n",
            "Epoch 173/250\n",
            "178/178 [==============================] - 18s 99ms/step - loss: 29.9814 - mae: 4.7342 - val_loss: 29.9461 - val_mae: 4.7322\n",
            "Epoch 174/250\n",
            "178/178 [==============================] - 18s 100ms/step - loss: 30.0238 - mae: 4.7380 - val_loss: 29.8731 - val_mae: 4.7248\n",
            "Epoch 175/250\n",
            "178/178 [==============================] - 18s 98ms/step - loss: 30.0007 - mae: 4.7373 - val_loss: 30.0243 - val_mae: 4.7364\n",
            "Epoch 176/250\n",
            "178/178 [==============================] - 18s 100ms/step - loss: 30.0147 - mae: 4.7388 - val_loss: 29.9978 - val_mae: 4.7354\n",
            "Epoch 177/250\n",
            "178/178 [==============================] - 19s 102ms/step - loss: 29.9781 - mae: 4.7346 - val_loss: 29.9056 - val_mae: 4.7259\n",
            "Epoch 178/250\n",
            "178/178 [==============================] - 18s 100ms/step - loss: 29.9933 - mae: 4.7367 - val_loss: 29.9935 - val_mae: 4.7333\n",
            "Epoch 179/250\n",
            "178/178 [==============================] - 18s 102ms/step - loss: 30.0136 - mae: 4.7392 - val_loss: 30.0252 - val_mae: 4.7396\n",
            "Epoch 180/250\n",
            "178/178 [==============================] - 18s 99ms/step - loss: 29.9451 - mae: 4.7314 - val_loss: 30.0327 - val_mae: 4.7386\n",
            "Epoch 181/250\n",
            "178/178 [==============================] - 18s 97ms/step - loss: 30.0175 - mae: 4.7395 - val_loss: 29.9670 - val_mae: 4.7322\n",
            "Epoch 182/250\n",
            "178/178 [==============================] - 18s 98ms/step - loss: 30.0358 - mae: 4.7430 - val_loss: 30.0764 - val_mae: 4.7418\n",
            "Epoch 183/250\n",
            "178/178 [==============================] - 18s 98ms/step - loss: 30.0573 - mae: 4.7419 - val_loss: 29.8953 - val_mae: 4.7258\n",
            "Epoch 184/250\n",
            "178/178 [==============================] - 18s 98ms/step - loss: 30.0239 - mae: 4.7380 - val_loss: 30.0902 - val_mae: 4.7492\n",
            "Epoch 185/250\n",
            "178/178 [==============================] - 18s 100ms/step - loss: 30.0539 - mae: 4.7405 - val_loss: 30.0404 - val_mae: 4.7375\n",
            "Epoch 186/250\n",
            "178/178 [==============================] - 18s 99ms/step - loss: 29.9984 - mae: 4.7373 - val_loss: 29.8644 - val_mae: 4.7226\n",
            "Epoch 187/250\n",
            "178/178 [==============================] - 18s 97ms/step - loss: 29.9654 - mae: 4.7323 - val_loss: 30.0212 - val_mae: 4.7395\n",
            "Epoch 188/250\n",
            "178/178 [==============================] - 18s 101ms/step - loss: 30.0094 - mae: 4.7377 - val_loss: 29.9143 - val_mae: 4.7280\n",
            "Epoch 189/250\n",
            "178/178 [==============================] - 19s 102ms/step - loss: 30.0489 - mae: 4.7419 - val_loss: 30.0139 - val_mae: 4.7385\n",
            "Epoch 190/250\n",
            "178/178 [==============================] - 18s 101ms/step - loss: 30.0174 - mae: 4.7387 - val_loss: 30.0287 - val_mae: 4.7407\n",
            "Epoch 191/250\n",
            "178/178 [==============================] - 19s 102ms/step - loss: 29.9879 - mae: 4.7359 - val_loss: 29.9024 - val_mae: 4.7268\n",
            "Epoch 192/250\n",
            "178/178 [==============================] - 18s 101ms/step - loss: 29.9848 - mae: 4.7356 - val_loss: 30.0381 - val_mae: 4.7396\n",
            "Epoch 193/250\n",
            "178/178 [==============================] - 19s 102ms/step - loss: 29.9902 - mae: 4.7376 - val_loss: 30.0148 - val_mae: 4.7353\n",
            "Epoch 194/250\n",
            "178/178 [==============================] - 18s 99ms/step - loss: 30.0264 - mae: 4.7384 - val_loss: 29.9903 - val_mae: 4.7343\n",
            "Epoch 195/250\n",
            "178/178 [==============================] - 18s 98ms/step - loss: 29.9675 - mae: 4.7352 - val_loss: 30.0677 - val_mae: 4.7416\n",
            "Epoch 196/250\n",
            "178/178 [==============================] - 18s 98ms/step - loss: 30.0260 - mae: 4.7394 - val_loss: 29.9386 - val_mae: 4.7290\n",
            "Epoch 197/250\n",
            "178/178 [==============================] - 18s 98ms/step - loss: 29.9516 - mae: 4.7321 - val_loss: 29.9853 - val_mae: 4.7354\n",
            "Epoch 198/250\n",
            "178/178 [==============================] - 18s 98ms/step - loss: 29.9350 - mae: 4.7316 - val_loss: 30.0594 - val_mae: 4.7417\n",
            "Epoch 199/250\n",
            "178/178 [==============================] - 18s 98ms/step - loss: 29.9475 - mae: 4.7320 - val_loss: 30.0034 - val_mae: 4.7364\n",
            "Epoch 200/250\n",
            "178/178 [==============================] - 13s 71ms/step - loss: 29.9890 - mae: 4.7354 - val_loss: 29.9736 - val_mae: 4.7342\n",
            "Epoch 201/250\n",
            "178/178 [==============================] - 18s 98ms/step - loss: 30.0028 - mae: 4.7359 - val_loss: 29.9799 - val_mae: 4.7321\n",
            "Epoch 202/250\n",
            "178/178 [==============================] - 18s 97ms/step - loss: 30.0057 - mae: 4.7372 - val_loss: 29.9925 - val_mae: 4.7342\n",
            "Epoch 203/250\n",
            "178/178 [==============================] - 18s 100ms/step - loss: 29.9914 - mae: 4.7365 - val_loss: 29.9481 - val_mae: 4.7300\n",
            "Epoch 204/250\n",
            "178/178 [==============================] - 18s 98ms/step - loss: 29.9974 - mae: 4.7340 - val_loss: 29.9660 - val_mae: 4.7331\n",
            "Epoch 205/250\n",
            "178/178 [==============================] - 18s 99ms/step - loss: 30.0139 - mae: 4.7372 - val_loss: 30.0763 - val_mae: 4.7437\n",
            "Epoch 206/250\n",
            "178/178 [==============================] - 18s 99ms/step - loss: 29.9795 - mae: 4.7337 - val_loss: 29.9852 - val_mae: 4.7331\n",
            "Epoch 207/250\n",
            "178/178 [==============================] - 18s 98ms/step - loss: 29.9901 - mae: 4.7379 - val_loss: 29.9661 - val_mae: 4.7331\n",
            "Epoch 208/250\n",
            "178/178 [==============================] - 18s 99ms/step - loss: 30.0531 - mae: 4.7439 - val_loss: 30.0392 - val_mae: 4.7405\n",
            "Epoch 209/250\n",
            "178/178 [==============================] - 18s 99ms/step - loss: 30.0189 - mae: 4.7379 - val_loss: 30.0223 - val_mae: 4.7384\n",
            "Epoch 210/250\n",
            "178/178 [==============================] - 18s 98ms/step - loss: 29.9669 - mae: 4.7340 - val_loss: 30.0307 - val_mae: 4.7405\n",
            "Epoch 211/250\n",
            "178/178 [==============================] - 18s 98ms/step - loss: 30.0014 - mae: 4.7358 - val_loss: 30.0191 - val_mae: 4.7415\n",
            "Epoch 212/250\n",
            "178/178 [==============================] - 18s 98ms/step - loss: 29.9896 - mae: 4.7361 - val_loss: 30.1112 - val_mae: 4.7490\n",
            "Epoch 213/250\n",
            "178/178 [==============================] - 18s 99ms/step - loss: 29.9805 - mae: 4.7361 - val_loss: 30.0519 - val_mae: 4.7426\n",
            "Epoch 214/250\n",
            "178/178 [==============================] - 18s 98ms/step - loss: 30.0231 - mae: 4.7383 - val_loss: 30.0010 - val_mae: 4.7405\n",
            "Epoch 215/250\n",
            "178/178 [==============================] - 18s 98ms/step - loss: 30.0073 - mae: 4.7389 - val_loss: 30.0201 - val_mae: 4.7384\n",
            "Epoch 216/250\n",
            "178/178 [==============================] - 18s 98ms/step - loss: 29.9635 - mae: 4.7319 - val_loss: 30.0593 - val_mae: 4.7416\n",
            "Epoch 217/250\n",
            "178/178 [==============================] - 18s 97ms/step - loss: 30.0204 - mae: 4.7407 - val_loss: 30.0254 - val_mae: 4.7373\n",
            "Epoch 218/250\n",
            "178/178 [==============================] - 18s 99ms/step - loss: 29.9651 - mae: 4.7333 - val_loss: 30.0667 - val_mae: 4.7447\n",
            "Epoch 219/250\n",
            "178/178 [==============================] - 18s 98ms/step - loss: 29.9751 - mae: 4.7337 - val_loss: 30.0382 - val_mae: 4.7394\n",
            "Epoch 220/250\n",
            "178/178 [==============================] - 18s 99ms/step - loss: 30.0552 - mae: 4.7432 - val_loss: 30.0308 - val_mae: 4.7384\n",
            "Epoch 221/250\n",
            "178/178 [==============================] - 18s 99ms/step - loss: 29.9515 - mae: 4.7319 - val_loss: 30.0264 - val_mae: 4.7384\n",
            "Epoch 222/250\n",
            "178/178 [==============================] - 13s 72ms/step - loss: 29.9341 - mae: 4.7319 - val_loss: 30.0265 - val_mae: 4.7384\n",
            "Epoch 223/250\n",
            "178/178 [==============================] - 18s 99ms/step - loss: 29.9536 - mae: 4.7326 - val_loss: 30.0593 - val_mae: 4.7415\n",
            "Epoch 224/250\n",
            "178/178 [==============================] - 18s 97ms/step - loss: 30.0236 - mae: 4.7397 - val_loss: 30.0074 - val_mae: 4.7384\n",
            "Epoch 225/250\n",
            "178/178 [==============================] - 18s 98ms/step - loss: 30.0546 - mae: 4.7411 - val_loss: 29.9131 - val_mae: 4.7310\n",
            "Epoch 226/250\n",
            "178/178 [==============================] - 18s 98ms/step - loss: 30.0391 - mae: 4.7404 - val_loss: 29.9491 - val_mae: 4.7310\n",
            "Epoch 227/250\n",
            "178/178 [==============================] - 18s 98ms/step - loss: 29.9529 - mae: 4.7305 - val_loss: 29.9618 - val_mae: 4.7332\n",
            "Epoch 228/250\n",
            "178/178 [==============================] - 18s 98ms/step - loss: 30.0062 - mae: 4.7372 - val_loss: 29.9439 - val_mae: 4.7321\n",
            "Epoch 229/250\n",
            "178/178 [==============================] - 18s 98ms/step - loss: 30.0063 - mae: 4.7372 - val_loss: 30.0191 - val_mae: 4.7416\n",
            "Epoch 230/250\n",
            "178/178 [==============================] - 18s 98ms/step - loss: 29.9905 - mae: 4.7369 - val_loss: 30.0487 - val_mae: 4.7437\n",
            "Epoch 231/250\n",
            "178/178 [==============================] - 18s 98ms/step - loss: 29.9669 - mae: 4.7330 - val_loss: 30.0360 - val_mae: 4.7395\n",
            "Epoch 232/250\n",
            "178/178 [==============================] - 18s 98ms/step - loss: 30.0277 - mae: 4.7390 - val_loss: 29.8613 - val_mae: 4.7236\n",
            "Epoch 233/250\n",
            "178/178 [==============================] - 18s 98ms/step - loss: 30.0070 - mae: 4.7358 - val_loss: 30.0085 - val_mae: 4.7373\n",
            "Epoch 234/250\n",
            "178/178 [==============================] - 18s 98ms/step - loss: 29.9878 - mae: 4.7351 - val_loss: 30.0709 - val_mae: 4.7448\n",
            "Epoch 235/250\n",
            "178/178 [==============================] - 18s 98ms/step - loss: 30.0229 - mae: 4.7390 - val_loss: 29.9141 - val_mae: 4.7279\n",
            "Epoch 236/250\n",
            "178/178 [==============================] - 18s 99ms/step - loss: 30.0228 - mae: 4.7377 - val_loss: 30.0826 - val_mae: 4.7438\n",
            "Epoch 237/250\n",
            "178/178 [==============================] - 18s 99ms/step - loss: 29.9889 - mae: 4.7362 - val_loss: 29.7871 - val_mae: 4.7172\n",
            "Epoch 238/250\n",
            "178/178 [==============================] - 18s 97ms/step - loss: 29.9949 - mae: 4.7365 - val_loss: 29.9893 - val_mae: 4.7395\n",
            "Epoch 239/250\n",
            "178/178 [==============================] - 18s 97ms/step - loss: 29.9913 - mae: 4.7351 - val_loss: 29.9883 - val_mae: 4.7341\n",
            "Epoch 240/250\n",
            "178/178 [==============================] - 18s 101ms/step - loss: 30.0559 - mae: 4.7432 - val_loss: 30.0191 - val_mae: 4.7373\n",
            "Epoch 241/250\n",
            "178/178 [==============================] - 18s 98ms/step - loss: 29.9808 - mae: 4.7351 - val_loss: 30.0434 - val_mae: 4.7426\n",
            "Epoch 242/250\n",
            "178/178 [==============================] - 18s 99ms/step - loss: 30.0175 - mae: 4.7386 - val_loss: 30.1451 - val_mae: 4.7511\n",
            "Epoch 243/250\n",
            "178/178 [==============================] - 18s 99ms/step - loss: 30.0081 - mae: 4.7376 - val_loss: 29.8687 - val_mae: 4.7225\n",
            "Epoch 244/250\n",
            "178/178 [==============================] - 13s 73ms/step - loss: 30.0442 - mae: 4.7414 - val_loss: 30.0000 - val_mae: 4.7373\n",
            "Epoch 245/250\n",
            "178/178 [==============================] - 18s 98ms/step - loss: 30.0216 - mae: 4.7386 - val_loss: 29.9025 - val_mae: 4.7247\n",
            "Epoch 246/250\n",
            "178/178 [==============================] - 18s 99ms/step - loss: 29.9985 - mae: 4.7365 - val_loss: 29.9937 - val_mae: 4.7374\n",
            "Epoch 247/250\n",
            "178/178 [==============================] - 18s 99ms/step - loss: 29.9678 - mae: 4.7326 - val_loss: 29.9937 - val_mae: 4.7395\n",
            "Epoch 248/250\n",
            "178/178 [==============================] - 18s 98ms/step - loss: 29.9878 - mae: 4.7351 - val_loss: 29.9586 - val_mae: 4.7342\n",
            "Epoch 249/250\n",
            "178/178 [==============================] - 18s 98ms/step - loss: 30.0676 - mae: 4.7415 - val_loss: 29.9660 - val_mae: 4.7332\n",
            "Epoch 250/250\n",
            "178/178 [==============================] - 18s 98ms/step - loss: 30.0405 - mae: 4.7404 - val_loss: 30.0392 - val_mae: 4.7447\n"
          ]
        }
      ]
    },
    {
      "cell_type": "code",
      "source": [
        "loss = history.history['loss']\n",
        "val_loss = history.history['val_loss']\n",
        "mae = history.history['mae']\n",
        "val_mae = history.history['val_mae']\n",
        "\n",
        "\n",
        "epochs_x = range(len(loss))\n",
        "\n",
        "\n",
        "plt.plot(epochs_x, mae, 'o', color ='darkviolet', label='Training MAE')\n",
        "plt.plot(epochs_x, val_mae, 'k', label='Validation MAE')\n",
        "plt.title('Training and validation MeanAbsoluteError')\n",
        "plt.legend()\n",
        "\n",
        "plt.figure()\n",
        "plt.plot(epochs_x, loss, 'o', color ='darkviolet', label='Training loss')\n",
        "plt.plot(epochs_x, val_loss, 'k', label='Validation loss')\n",
        "plt.title('Training and validation loss')\n",
        "plt.legend()\n",
        "\n",
        "plt.show()"
      ],
      "metadata": {
        "id": "Y3K89-CM-dfg",
        "colab": {
          "base_uri": "https://localhost:8080/",
          "height": 887
        },
        "outputId": "453f68ac-d414-4dda-c804-303265ed93b1"
      },
      "execution_count": null,
      "outputs": [
        {
          "output_type": "display_data",
          "data": {
            "text/plain": [
              "<Figure size 640x480 with 1 Axes>"
            ],
            "image/png": "[encoded data removed]"
          },
          "metadata": {}
        },
        {
          "output_type": "display_data",
          "data": {
            "text/plain": [
              "<Figure size 640x480 with 1 Axes>"
            ],
            "image/png": "[encoded data removed]"
          },
          "metadata": {}
        }
      ]
    },
    {
      "cell_type": "code",
      "source": [
        "epochs_x"
      ],
      "metadata": {
        "id": "N_sP_ZmSY-Jv",
        "colab": {
          "base_uri": "https://localhost:8080/"
        },
        "outputId": "4ef6ae1e-86ac-4ca3-d884-5324dd14209f"
      },
      "execution_count": null,
      "outputs": [
        {
          "data": {
            "text/plain": [
              "range(0, 250)"
            ]
          },
          "execution_count": 18,
          "metadata": {},
          "output_type": "execute_result"
        }
      ]
    },
    {
      "cell_type": "markdown",
      "source": [
        "#Download the model\n"
      ],
      "metadata": {
        "id": "R19IJQSYoW7J"
      }
    },
    {
      "cell_type": "code",
      "source": [
        "os.makedirs('/content/drive/MyDrive/All_Data_Project/cut_panoramic/Model', exist_ok=True)\n",
        "model.save('/content/drive/MyDrive/All_Data_Project/cut_panoramic/Model/Regression/3Re_All_1G_1e-4_16_0.2_250.h5')"
      ],
      "metadata": {
        "id": "Zed4TdFcG2iJ"
      },
      "execution_count": null,
      "outputs": []
    },
    {
      "cell_type": "markdown",
      "source": [],
      "metadata": {
        "id": "n5YxZ-5QjQ0-"
      }
    },
    {
      "cell_type": "code",
      "source": [
        "# from google.colab import files\n",
        "# files.download('/content/drive/My Drive/cut_panoramic/Model/1.1_รอบแรก_Flimpano_Male125_250.h5')"
      ],
      "metadata": {
        "id": "P5eMxm1NV-oY"
      },
      "execution_count": null,
      "outputs": []
    },
    {
      "cell_type": "code",
      "source": [
        "\n"
      ],
      "metadata": {
        "id": "wY_pDlxkRwxS"
      },
      "execution_count": null,
      "outputs": []
    }
  ]
}