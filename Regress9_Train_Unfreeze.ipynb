{
  "nbformat": 4,
  "nbformat_minor": 0,
  "metadata": {
    "colab": {
      "provenance": [],
      "machine_shape": "hm",
      "gpuClass": "premium",
      "include_colab_link": true
    },
    "kernelspec": {
      "name": "python3",
      "display_name": "Python 3"
    },
    "language_info": {
      "name": "python"
    },
    "accelerator": "GPU",
    "gpuClass": "premium"
  },
  "cells": [
    {
      "cell_type": "markdown",
      "metadata": {
        "id": "view-in-github",
        "colab_type": "text"
      },
      "source": [
        "<a href=\"https://colab.research.google.com/github/natthanich/Project_Deep_Tooth/blob/main/Regress9_Train_Unfreeze.ipynb\" target=\"_parent\"><img src=\"https://colab.research.google.com/assets/colab-badge.svg\" alt=\"Open In Colab\"/></a>"
      ]
    },
    {
      "cell_type": "markdown",
      "source": [
        "#เรียกใช้ CSV"
      ],
      "metadata": {
        "id": "ow7eWoNw6U-c"
      }
    },
    {
      "cell_type": "code",
      "execution_count": null,
      "metadata": {
        "id": "z8o_VVNXzcL8"
      },
      "outputs": [],
      "source": [
        "import pandas as pd\n",
        "import shutil"
      ]
    },
    {
      "cell_type": "code",
      "source": [
        "from google.colab import drive\n",
        "drive.mount('/content/drive')"
      ],
      "metadata": {
        "colab": {
          "base_uri": "https://localhost:8080/"
        },
        "id": "1_2Fe8u81d5r",
        "outputId": "17b807ec-c0cd-4640-a587-7f30b1487b9e"
      },
      "execution_count": null,
      "outputs": [
        {
          "output_type": "stream",
          "name": "stdout",
          "text": [
            "Mounted at /content/drive\n"
          ]
        }
      ]
    },
    {
      "cell_type": "markdown",
      "source": [
        "#Imports"
      ],
      "metadata": {
        "id": "5qxePnnn7TGW"
      }
    },
    {
      "cell_type": "code",
      "source": [
        "from tensorflow.keras import models\n",
        "from tensorflow.keras import layers\n",
        "from tensorflow.keras import optimizers\n",
        "import os\n",
        "import glob\n",
        "import shutil\n",
        "import sys\n",
        "import numpy as np\n",
        "from skimage.io import imread\n",
        "import matplotlib.pyplot as plt\n",
        "from IPython.display import Image\n",
        "%matplotlib inline"
      ],
      "metadata": {
        "id": "D-hCRloc3t39"
      },
      "execution_count": null,
      "outputs": []
    },
    {
      "cell_type": "code",
      "source": [
        "import tensorflow as tf\n",
        "from tensorflow.keras import Sequential\n",
        "from tensorflow.keras.layers import Dense\n",
        "from tensorflow.keras.optimizers import Adam\n",
        "from tensorflow.keras import backend as K"
      ],
      "metadata": {
        "id": "YZWXwjXeGxZP"
      },
      "execution_count": null,
      "outputs": []
    },
    {
      "cell_type": "markdown",
      "source": [
        "#กำหนดค่าพารามิเตอร์\n"
      ],
      "metadata": {
        "id": "RooqSdBc7QHC"
      }
    },
    {
      "cell_type": "code",
      "source": [
        "batch_size = 16\n",
        "width = 150\n",
        "height = 150\n",
        "epochs = 250\n",
        "NUM_TRAIN = 2850\n",
        "NUM_TEST = 950\n",
        "dropout_rate = 0.2\n",
        "input_shape = (height, width, 3)"
      ],
      "metadata": {
        "id": "thDb7U9B3xOo"
      },
      "execution_count": null,
      "outputs": []
    },
    {
      "cell_type": "markdown",
      "source": [
        "#Clone efficientnet repo\n"
      ],
      "metadata": {
        "id": "pumGmy6f3eSW"
      }
    },
    {
      "cell_type": "code",
      "source": [
        "#ดึงข้อมูลใน Github มาใช้\n",
        "import os\n",
        "%cd /content\n",
        "if not os.path.isdir(\"efficientnet_keras_transfer_learning\"):\n",
        " !git clone https://github.com/Wanita-8943/efficientnet_keras_transfer_learning\n",
        "%cd efficientnet_keras_transfer_learning/\n"
      ],
      "metadata": {
        "colab": {
          "base_uri": "https://localhost:8080/"
        },
        "id": "P7iy2f8n16p0",
        "outputId": "85349a0c-1a63-4689-8316-1b6426f611e2"
      },
      "execution_count": null,
      "outputs": [
        {
          "output_type": "stream",
          "name": "stdout",
          "text": [
            "/content\n",
            "Cloning into 'efficientnet_keras_transfer_learning'...\n",
            "remote: Enumerating objects: 1100, done.\u001b[K\n",
            "remote: Counting objects: 100% (263/263), done.\u001b[K\n",
            "remote: Compressing objects: 100% (142/142), done.\u001b[K\n",
            "remote: Total 1100 (delta 133), reused 241 (delta 121), pack-reused 837\u001b[K\n",
            "Receiving objects: 100% (1100/1100), 14.10 MiB | 17.33 MiB/s, done.\n",
            "Resolving deltas: 100% (630/630), done.\n",
            "/content/efficientnet_keras_transfer_learning\n"
          ]
        }
      ]
    },
    {
      "cell_type": "code",
      "source": [
        "# Options: EfficientNetB0, EfficientNetB1, EfficientNetB2, EfficientNetB3\n",
        "# Higher the number, the more complex the model is.\n",
        "from efficientnet import EfficientNetB0 as Net\n",
        "from efficientnet import center_crop_and_resize, preprocess_input"
      ],
      "metadata": {
        "id": "tjZBRnfo3bN0"
      },
      "execution_count": null,
      "outputs": []
    },
    {
      "cell_type": "code",
      "source": [
        "# loading pretrained conv base model\n",
        "# โหลดโมเดล มาโดยตัด output ของโมเดลออก เเต่ยังใช้ input อันเดิม\n",
        "# เเละโหลด weight ของโมเดล มาด้วยที่ชื่อว่า imagenet\n",
        "conv_base = Net(weights='imagenet', include_top=False, input_shape=input_shape)"
      ],
      "metadata": {
        "colab": {
          "base_uri": "https://localhost:8080/"
        },
        "id": "r8BN74_JJdfj",
        "outputId": "faa8dc9b-ae53-4f42-ccc8-aa3bfb9fa0b7"
      },
      "execution_count": null,
      "outputs": [
        {
          "output_type": "stream",
          "name": "stdout",
          "text": [
            "Downloading data from https://github.com/qubvel/efficientnet/releases/download/v0.0.1/efficientnet-b0_imagenet_1000_notop.h5\n",
            "16717576/16717576 [==============================] - 0s 0us/step\n"
          ]
        }
      ]
    },
    {
      "cell_type": "markdown",
      "source": [
        "#load model\n"
      ],
      "metadata": {
        "id": "PdNWyD-QYkzK"
      }
    },
    {
      "cell_type": "code",
      "source": [
        "import sys\n",
        "sys.path.append('/content/drive/MyDrive/All_Data_Project/cut_panoramic/Model/Regression/8Re_All_1G_1e-4_16_0.2_250_New_Unfreez.h5')\n",
        "\n",
        "from efficientnet.layers import Swish, DropConnect\n",
        "from efficientnet.model import ConvKernalInitializer\n",
        "from tensorflow.keras.utils import get_custom_objects\n",
        "\n",
        "get_custom_objects().update({\n",
        "    'ConvKernalInitializer': ConvKernalInitializer,\n",
        "    'Swish': Swish,\n",
        "    'DropConnect':DropConnect\n",
        "})"
      ],
      "metadata": {
        "id": "_gPnx2UvYf5A"
      },
      "execution_count": null,
      "outputs": []
    },
    {
      "cell_type": "code",
      "source": [
        "#load model \n",
        "from tensorflow.keras.models import load_model\n",
        "model = load_model('/content/drive/MyDrive/All_Data_Project/cut_panoramic/Model/Regression/8Re_All_1G_1e-4_16_0.2_250_New_Unfreez.h5')\n",
        "height = width = model.input_shape[1]"
      ],
      "metadata": {
        "id": "Nu93WzFUYm9e"
      },
      "execution_count": null,
      "outputs": []
    },
    {
      "cell_type": "code",
      "source": [
        "model.summary()"
      ],
      "metadata": {
        "id": "gp5EbyyXYvc6",
        "colab": {
          "base_uri": "https://localhost:8080/"
        },
        "outputId": "d1df044a-a218-4bf9-88f4-5808868e4211"
      },
      "execution_count": null,
      "outputs": [
        {
          "output_type": "stream",
          "name": "stdout",
          "text": [
            "Model: \"sequential\"\n",
            "_________________________________________________________________\n",
            " Layer (type)                Output Shape              Param #   \n",
            "=================================================================\n",
            " efficientnet-b0 (Functional  (None, 5, 5, 1280)       4049564   \n",
            " )                                                               \n",
            "                                                                 \n",
            " gap (GlobalMaxPooling2D)    (None, 1280)              0         \n",
            "                                                                 \n",
            " dropout_out (Dropout)       (None, 1280)              0         \n",
            "                                                                 \n",
            " fc_out (Dense)              (None, 19)                24339     \n",
            "                                                                 \n",
            " dense (Dense)               (None, 1)                 20        \n",
            "                                                                 \n",
            "=================================================================\n",
            "Total params: 4,073,923\n",
            "Trainable params: 4,031,907\n",
            "Non-trainable params: 42,016\n",
            "_________________________________________________________________\n"
          ]
        }
      ]
    },
    {
      "cell_type": "code",
      "source": [
        "df = pd.read_csv (r'/content/drive/MyDrive/All_Data_Project/cut_panoramic/Data/All_Re.csv')\n",
        "df"
      ],
      "metadata": {
        "id": "q1Dc131_Y3uA",
        "colab": {
          "base_uri": "https://localhost:8080/",
          "height": 423
        },
        "outputId": "32b4f6ef-ba6f-474b-d76f-e166c1780b4c"
      },
      "execution_count": null,
      "outputs": [
        {
          "output_type": "execute_result",
          "data": {
            "text/plain": [
              "      Fig_Age  Age(year) Class  Class_Re       Filename  \\\n",
              "0           1          7  Y07F         1         V1.jpg   \n",
              "1           2          7  Y07F         1    Flip_V1.jpg   \n",
              "2           3          7  Y07F         1         V2.jpg   \n",
              "3           4          7  Y07F         1    Flip_V2.jpg   \n",
              "4           5          7  Y07F         1         V3.jpg   \n",
              "...       ...        ...   ...       ...            ...   \n",
              "4745      121         25  Y25M        19  Flip_J463.jpg   \n",
              "4746      122         25  Y25M        19       J464.jpg   \n",
              "4747      123         25  Y25M        19  Flip_J464.jpg   \n",
              "4748      124         25  Y25M        19       J465.jpg   \n",
              "4749      125         25  Y25M        19  Flip_J465.jpg   \n",
              "\n",
              "                                          Path_filename     Sex Floder  \n",
              "0     /content/drive/My Drive/All_Data_Project/TVT_G...  Female   Both  \n",
              "1     /content/drive/My Drive/All_Data_Project/TVT_G...  Female   Both  \n",
              "2     /content/drive/My Drive/All_Data_Project/TVT_G...  Female   Both  \n",
              "3     /content/drive/My Drive/All_Data_Project/TVT_G...  Female   Both  \n",
              "4     /content/drive/My Drive/All_Data_Project/TVT_G...  Female   Both  \n",
              "...                                                 ...     ...    ...  \n",
              "4745  /content/drive/My Drive/All_Data_Project/TVT_G...    Male   Both  \n",
              "4746  /content/drive/My Drive/All_Data_Project/TVT_G...    Male   Both  \n",
              "4747  /content/drive/My Drive/All_Data_Project/TVT_G...    Male   Both  \n",
              "4748  /content/drive/My Drive/All_Data_Project/TVT_G...    Male   Both  \n",
              "4749  /content/drive/My Drive/All_Data_Project/TVT_G...    Male   Both  \n",
              "\n",
              "[4750 rows x 8 columns]"
            ],
            "text/html": [
              "\n",
              "  <div id=\"df-132a13ba-954a-4ac7-8a57-91a6a8b67f58\">\n",
              "    <div class=\"colab-df-container\">\n",
              "      <div>\n",
              "<style scoped>\n",
              "    .dataframe tbody tr th:only-of-type {\n",
              "        vertical-align: middle;\n",
              "    }\n",
              "\n",
              "    .dataframe tbody tr th {\n",
              "        vertical-align: top;\n",
              "    }\n",
              "\n",
              "    .dataframe thead th {\n",
              "        text-align: right;\n",
              "    }\n",
              "</style>\n",
              "<table border=\"1\" class=\"dataframe\">\n",
              "  <thead>\n",
              "    <tr style=\"text-align: right;\">\n",
              "      <th></th>\n",
              "      <th>Fig_Age</th>\n",
              "      <th>Age(year)</th>\n",
              "      <th>Class</th>\n",
              "      <th>Class_Re</th>\n",
              "      <th>Filename</th>\n",
              "      <th>Path_filename</th>\n",
              "      <th>Sex</th>\n",
              "      <th>Floder</th>\n",
              "    </tr>\n",
              "  </thead>\n",
              "  <tbody>\n",
              "    <tr>\n",
              "      <th>0</th>\n",
              "      <td>1</td>\n",
              "      <td>7</td>\n",
              "      <td>Y07F</td>\n",
              "      <td>1</td>\n",
              "      <td>V1.jpg</td>\n",
              "      <td>/content/drive/My Drive/All_Data_Project/TVT_G...</td>\n",
              "      <td>Female</td>\n",
              "      <td>Both</td>\n",
              "    </tr>\n",
              "    <tr>\n",
              "      <th>1</th>\n",
              "      <td>2</td>\n",
              "      <td>7</td>\n",
              "      <td>Y07F</td>\n",
              "      <td>1</td>\n",
              "      <td>Flip_V1.jpg</td>\n",
              "      <td>/content/drive/My Drive/All_Data_Project/TVT_G...</td>\n",
              "      <td>Female</td>\n",
              "      <td>Both</td>\n",
              "    </tr>\n",
              "    <tr>\n",
              "      <th>2</th>\n",
              "      <td>3</td>\n",
              "      <td>7</td>\n",
              "      <td>Y07F</td>\n",
              "      <td>1</td>\n",
              "      <td>V2.jpg</td>\n",
              "      <td>/content/drive/My Drive/All_Data_Project/TVT_G...</td>\n",
              "      <td>Female</td>\n",
              "      <td>Both</td>\n",
              "    </tr>\n",
              "    <tr>\n",
              "      <th>3</th>\n",
              "      <td>4</td>\n",
              "      <td>7</td>\n",
              "      <td>Y07F</td>\n",
              "      <td>1</td>\n",
              "      <td>Flip_V2.jpg</td>\n",
              "      <td>/content/drive/My Drive/All_Data_Project/TVT_G...</td>\n",
              "      <td>Female</td>\n",
              "      <td>Both</td>\n",
              "    </tr>\n",
              "    <tr>\n",
              "      <th>4</th>\n",
              "      <td>5</td>\n",
              "      <td>7</td>\n",
              "      <td>Y07F</td>\n",
              "      <td>1</td>\n",
              "      <td>V3.jpg</td>\n",
              "      <td>/content/drive/My Drive/All_Data_Project/TVT_G...</td>\n",
              "      <td>Female</td>\n",
              "      <td>Both</td>\n",
              "    </tr>\n",
              "    <tr>\n",
              "      <th>...</th>\n",
              "      <td>...</td>\n",
              "      <td>...</td>\n",
              "      <td>...</td>\n",
              "      <td>...</td>\n",
              "      <td>...</td>\n",
              "      <td>...</td>\n",
              "      <td>...</td>\n",
              "      <td>...</td>\n",
              "    </tr>\n",
              "    <tr>\n",
              "      <th>4745</th>\n",
              "      <td>121</td>\n",
              "      <td>25</td>\n",
              "      <td>Y25M</td>\n",
              "      <td>19</td>\n",
              "      <td>Flip_J463.jpg</td>\n",
              "      <td>/content/drive/My Drive/All_Data_Project/TVT_G...</td>\n",
              "      <td>Male</td>\n",
              "      <td>Both</td>\n",
              "    </tr>\n",
              "    <tr>\n",
              "      <th>4746</th>\n",
              "      <td>122</td>\n",
              "      <td>25</td>\n",
              "      <td>Y25M</td>\n",
              "      <td>19</td>\n",
              "      <td>J464.jpg</td>\n",
              "      <td>/content/drive/My Drive/All_Data_Project/TVT_G...</td>\n",
              "      <td>Male</td>\n",
              "      <td>Both</td>\n",
              "    </tr>\n",
              "    <tr>\n",
              "      <th>4747</th>\n",
              "      <td>123</td>\n",
              "      <td>25</td>\n",
              "      <td>Y25M</td>\n",
              "      <td>19</td>\n",
              "      <td>Flip_J464.jpg</td>\n",
              "      <td>/content/drive/My Drive/All_Data_Project/TVT_G...</td>\n",
              "      <td>Male</td>\n",
              "      <td>Both</td>\n",
              "    </tr>\n",
              "    <tr>\n",
              "      <th>4748</th>\n",
              "      <td>124</td>\n",
              "      <td>25</td>\n",
              "      <td>Y25M</td>\n",
              "      <td>19</td>\n",
              "      <td>J465.jpg</td>\n",
              "      <td>/content/drive/My Drive/All_Data_Project/TVT_G...</td>\n",
              "      <td>Male</td>\n",
              "      <td>Both</td>\n",
              "    </tr>\n",
              "    <tr>\n",
              "      <th>4749</th>\n",
              "      <td>125</td>\n",
              "      <td>25</td>\n",
              "      <td>Y25M</td>\n",
              "      <td>19</td>\n",
              "      <td>Flip_J465.jpg</td>\n",
              "      <td>/content/drive/My Drive/All_Data_Project/TVT_G...</td>\n",
              "      <td>Male</td>\n",
              "      <td>Both</td>\n",
              "    </tr>\n",
              "  </tbody>\n",
              "</table>\n",
              "<p>4750 rows × 8 columns</p>\n",
              "</div>\n",
              "      <button class=\"colab-df-convert\" onclick=\"convertToInteractive('df-132a13ba-954a-4ac7-8a57-91a6a8b67f58')\"\n",
              "              title=\"Convert this dataframe to an interactive table.\"\n",
              "              style=\"display:none;\">\n",
              "        \n",
              "  <svg xmlns=\"http://www.w3.org/2000/svg\" height=\"24px\"viewBox=\"0 0 24 24\"\n",
              "       width=\"24px\">\n",
              "    <path d=\"M0 0h24v24H0V0z\" fill=\"none\"/>\n",
              "    <path d=\"M18.56 5.44l.94 2.06.94-2.06 2.06-.94-2.06-.94-.94-2.06-.94 2.06-2.06.94zm-11 1L8.5 8.5l.94-2.06 2.06-.94-2.06-.94L8.5 2.5l-.94 2.06-2.06.94zm10 10l.94 2.06.94-2.06 2.06-.94-2.06-.94-.94-2.06-.94 2.06-2.06.94z\"/><path d=\"M17.41 7.96l-1.37-1.37c-.4-.4-.92-.59-1.43-.59-.52 0-1.04.2-1.43.59L10.3 9.45l-7.72 7.72c-.78.78-.78 2.05 0 2.83L4 21.41c.39.39.9.59 1.41.59.51 0 1.02-.2 1.41-.59l7.78-7.78 2.81-2.81c.8-.78.8-2.07 0-2.86zM5.41 20L4 18.59l7.72-7.72 1.47 1.35L5.41 20z\"/>\n",
              "  </svg>\n",
              "      </button>\n",
              "      \n",
              "  <style>\n",
              "    .colab-df-container {\n",
              "      display:flex;\n",
              "      flex-wrap:wrap;\n",
              "      gap: 12px;\n",
              "    }\n",
              "\n",
              "    .colab-df-convert {\n",
              "      background-color: #E8F0FE;\n",
              "      border: none;\n",
              "      border-radius: 50%;\n",
              "      cursor: pointer;\n",
              "      display: none;\n",
              "      fill: #1967D2;\n",
              "      height: 32px;\n",
              "      padding: 0 0 0 0;\n",
              "      width: 32px;\n",
              "    }\n",
              "\n",
              "    .colab-df-convert:hover {\n",
              "      background-color: #E2EBFA;\n",
              "      box-shadow: 0px 1px 2px rgba(60, 64, 67, 0.3), 0px 1px 3px 1px rgba(60, 64, 67, 0.15);\n",
              "      fill: #174EA6;\n",
              "    }\n",
              "\n",
              "    [theme=dark] .colab-df-convert {\n",
              "      background-color: #3B4455;\n",
              "      fill: #D2E3FC;\n",
              "    }\n",
              "\n",
              "    [theme=dark] .colab-df-convert:hover {\n",
              "      background-color: #434B5C;\n",
              "      box-shadow: 0px 1px 3px 1px rgba(0, 0, 0, 0.15);\n",
              "      filter: drop-shadow(0px 1px 2px rgba(0, 0, 0, 0.3));\n",
              "      fill: #FFFFFF;\n",
              "    }\n",
              "  </style>\n",
              "\n",
              "      <script>\n",
              "        const buttonEl =\n",
              "          document.querySelector('#df-132a13ba-954a-4ac7-8a57-91a6a8b67f58 button.colab-df-convert');\n",
              "        buttonEl.style.display =\n",
              "          google.colab.kernel.accessAllowed ? 'block' : 'none';\n",
              "\n",
              "        async function convertToInteractive(key) {\n",
              "          const element = document.querySelector('#df-132a13ba-954a-4ac7-8a57-91a6a8b67f58');\n",
              "          const dataTable =\n",
              "            await google.colab.kernel.invokeFunction('convertToInteractive',\n",
              "                                                     [key], {});\n",
              "          if (!dataTable) return;\n",
              "\n",
              "          const docLinkHtml = 'Like what you see? Visit the ' +\n",
              "            '<a target=\"_blank\" href=https://colab.research.google.com/notebooks/data_table.ipynb>data table notebook</a>'\n",
              "            + ' to learn more about interactive tables.';\n",
              "          element.innerHTML = '';\n",
              "          dataTable['output_type'] = 'display_data';\n",
              "          await google.colab.output.renderOutput(dataTable, element);\n",
              "          const docLink = document.createElement('div');\n",
              "          docLink.innerHTML = docLinkHtml;\n",
              "          element.appendChild(docLink);\n",
              "        }\n",
              "      </script>\n",
              "    </div>\n",
              "  </div>\n",
              "  "
            ]
          },
          "metadata": {},
          "execution_count": 12
        }
      ]
    },
    {
      "cell_type": "code",
      "source": [
        "train = df[df['Fig_Age'].between(1,75)]\n",
        "val = df[df['Fig_Age'].between(76,100)]"
      ],
      "metadata": {
        "id": "Z1zBw01Gl8Ac"
      },
      "execution_count": null,
      "outputs": []
    },
    {
      "cell_type": "code",
      "source": [
        "DATA_PATH = \"/content/drive/MyDrive/All_Data_Project/TVT_Gender\"\n",
        "os.chdir(DATA_PATH)\n",
        "train_dir = os.path.join(DATA_PATH, 'train')\n",
        "print(train_dir)\n",
        "validation_dir = os.path.join(DATA_PATH, 'validation')\n",
        "print(validation_dir)"
      ],
      "metadata": {
        "colab": {
          "base_uri": "https://localhost:8080/"
        },
        "id": "QL0g-8iOnMC4",
        "outputId": "9cd52838-bc1f-4536-f814-43a9276cdee6"
      },
      "execution_count": null,
      "outputs": [
        {
          "output_type": "stream",
          "name": "stdout",
          "text": [
            "/content/drive/MyDrive/All_Data_Project/TVT_Gender/train\n",
            "/content/drive/MyDrive/All_Data_Project/TVT_Gender/validation\n"
          ]
        }
      ]
    },
    {
      "cell_type": "markdown",
      "source": [
        "\n",
        "#Train"
      ],
      "metadata": {
        "id": "bWEnlTSwazL5"
      }
    },
    {
      "cell_type": "code",
      "source": [
        "# Train ด้วย ImageDataGenerator ของ Keras ซึ่งจะเพิ่มข้อมูลเสริมระหว่างการฝึกเพื่อลดโอกาสเกิด overfitting\n",
        "#overfitting เกิดจากข้อมูลที่ซับซ้อนกันเกินไป\n",
        "from tensorflow.keras.preprocessing.image import ImageDataGenerator\n",
        "\n",
        "train_datagen = ImageDataGenerator(\n",
        "      rescale=1./255, #โมเดลส่วนใหญ่ต้องใช้ RGB ในช่วง 0–1\n",
        "      rotation_range=40,\n",
        "      width_shift_range=0.2,\n",
        "      height_shift_range=0.2,\n",
        "      shear_range=0.2,\n",
        "      zoom_range=0.2,\n",
        "      horizontal_flip=True,\n",
        "      fill_mode='nearest')\n",
        "\n",
        "# Note that the validation data should not be augmented!\n",
        "test_datagen = ImageDataGenerator(rescale=1./255)"
      ],
      "metadata": {
        "id": "xGPrsn9no_pa"
      },
      "execution_count": null,
      "outputs": []
    },
    {
      "cell_type": "code",
      "source": [
        "train_generator = train_datagen.flow_from_dataframe(\n",
        "        dataframe = train,\n",
        "        directory = train_dir,\n",
        "        x_col = 'Path_filename',\n",
        "        y_col = 'Age(year)',\n",
        "        class_mode = 'other',\n",
        "        target_size=(height, width),\n",
        "        batch_size=batch_size)\n",
        "\n",
        "validation_generator = test_datagen.flow_from_dataframe(\n",
        "        dataframe = val,\n",
        "        directory = validation_dir,\n",
        "        x_col = 'Path_filename',\n",
        "        y_col = 'Age(year)',\n",
        "        class_mode = 'other',\n",
        "        target_size=(height, width),\n",
        "        batch_size=batch_size)"
      ],
      "metadata": {
        "colab": {
          "base_uri": "https://localhost:8080/"
        },
        "id": "8nVlmAszntK_",
        "outputId": "bfc147da-5602-4ae4-f27c-f958f260f356"
      },
      "execution_count": null,
      "outputs": [
        {
          "output_type": "stream",
          "name": "stdout",
          "text": [
            "Found 2850 validated image filenames.\n",
            "Found 950 validated image filenames.\n"
          ]
        }
      ]
    },
    {
      "cell_type": "code",
      "source": [
        "model.summary()"
      ],
      "metadata": {
        "colab": {
          "base_uri": "https://localhost:8080/"
        },
        "id": "zzCdn3X4Jm_E",
        "outputId": "b32de2ab-cd77-407a-b9cb-bd3f4999eeb0"
      },
      "execution_count": null,
      "outputs": [
        {
          "output_type": "stream",
          "name": "stdout",
          "text": [
            "Model: \"sequential\"\n",
            "_________________________________________________________________\n",
            " Layer (type)                Output Shape              Param #   \n",
            "=================================================================\n",
            " efficientnet-b0 (Functional  (None, 5, 5, 1280)       4049564   \n",
            " )                                                               \n",
            "                                                                 \n",
            " gap (GlobalMaxPooling2D)    (None, 1280)              0         \n",
            "                                                                 \n",
            " dropout_out (Dropout)       (None, 1280)              0         \n",
            "                                                                 \n",
            " fc_out (Dense)              (None, 19)                24339     \n",
            "                                                                 \n",
            " dense (Dense)               (None, 1)                 20        \n",
            "                                                                 \n",
            "=================================================================\n",
            "Total params: 4,073,923\n",
            "Trainable params: 4,031,907\n",
            "Non-trainable params: 42,016\n",
            "_________________________________________________________________\n"
          ]
        }
      ]
    },
    {
      "cell_type": "code",
      "source": [
        "model.compile(loss='mse',\n",
        "          optimizer=Adam(learning_rate=1e-4),\n",
        "          metrics=['mae'])\n",
        "history = model.fit_generator(\n",
        "      train_generator,\n",
        "      steps_per_epoch= NUM_TRAIN //batch_size,\n",
        "      epochs=epochs,\n",
        "      validation_data=validation_generator,\n",
        "      validation_steps= NUM_TEST //batch_size,\n",
        "      verbose=1,\n",
        "      use_multiprocessing=True,\n",
        "      workers=4)"
      ],
      "metadata": {
        "id": "N6qUmmF856ZE",
        "outputId": "fb6c5a60-6c99-43ed-c2e9-97ff26376c7d",
        "colab": {
          "base_uri": "https://localhost:8080/"
        }
      },
      "execution_count": null,
      "outputs": [
        {
          "metadata": {
            "tags": null
          },
          "name": "stderr",
          "output_type": "stream",
          "text": [
            "<ipython-input-18-f59104fd3985>:4: UserWarning: `Model.fit_generator` is deprecated and will be removed in a future version. Please use `Model.fit`, which supports generators.\n",
            "  history = model.fit_generator(\n"
          ]
        },
        {
          "output_type": "stream",
          "name": "stdout",
          "text": [
            "Epoch 1/250\n",
            "178/178 [==============================] - 260s 1s/step - loss: 1.0422 - mae: 0.7263 - val_loss: 5.6710 - val_mae: 1.8242\n",
            "Epoch 2/250\n",
            "178/178 [==============================] - 18s 100ms/step - loss: 1.2566 - mae: 0.6916 - val_loss: 6.2641 - val_mae: 1.8536\n",
            "Epoch 3/250\n",
            "178/178 [==============================] - 18s 99ms/step - loss: 1.1785 - mae: 0.6876 - val_loss: 6.2748 - val_mae: 1.9224\n",
            "Epoch 4/250\n",
            "178/178 [==============================] - 18s 100ms/step - loss: 0.9190 - mae: 0.6410 - val_loss: 5.9724 - val_mae: 1.8846\n",
            "Epoch 5/250\n",
            "178/178 [==============================] - 18s 100ms/step - loss: 0.8500 - mae: 0.6533 - val_loss: 5.4906 - val_mae: 1.7179\n",
            "Epoch 6/250\n",
            "178/178 [==============================] - 18s 99ms/step - loss: 0.8192 - mae: 0.6368 - val_loss: 5.2243 - val_mae: 1.6785\n",
            "Epoch 7/250\n",
            "178/178 [==============================] - 18s 100ms/step - loss: 0.8100 - mae: 0.6197 - val_loss: 5.9235 - val_mae: 1.7988\n",
            "Epoch 8/250\n",
            "178/178 [==============================] - 18s 99ms/step - loss: 1.6669 - mae: 0.6892 - val_loss: 4.8003 - val_mae: 1.6234\n",
            "Epoch 9/250\n",
            "178/178 [==============================] - 18s 100ms/step - loss: 1.0434 - mae: 0.6592 - val_loss: 5.5777 - val_mae: 1.7088\n",
            "Epoch 10/250\n",
            "178/178 [==============================] - 18s 100ms/step - loss: 1.3941 - mae: 0.7287 - val_loss: 5.9388 - val_mae: 1.7844\n",
            "Epoch 11/250\n",
            "178/178 [==============================] - 18s 99ms/step - loss: 1.1089 - mae: 0.7100 - val_loss: 4.9275 - val_mae: 1.6287\n",
            "Epoch 12/250\n",
            "178/178 [==============================] - 18s 100ms/step - loss: 1.1145 - mae: 0.6886 - val_loss: 5.3348 - val_mae: 1.6726\n",
            "Epoch 13/250\n",
            "178/178 [==============================] - 18s 100ms/step - loss: 0.9552 - mae: 0.6764 - val_loss: 5.9644 - val_mae: 1.7796\n",
            "Epoch 14/250\n",
            "178/178 [==============================] - 18s 99ms/step - loss: 0.9046 - mae: 0.6645 - val_loss: 5.4421 - val_mae: 1.7001\n",
            "Epoch 15/250\n",
            "178/178 [==============================] - 18s 99ms/step - loss: 0.8304 - mae: 0.6553 - val_loss: 5.7264 - val_mae: 1.7415\n",
            "Epoch 16/250\n",
            "178/178 [==============================] - 18s 99ms/step - loss: 0.9960 - mae: 0.6487 - val_loss: 5.9681 - val_mae: 1.7521\n",
            "Epoch 17/250\n",
            "178/178 [==============================] - 18s 99ms/step - loss: 0.8083 - mae: 0.6367 - val_loss: 5.8589 - val_mae: 1.7514\n",
            "Epoch 18/250\n",
            "178/178 [==============================] - 18s 100ms/step - loss: 1.0282 - mae: 0.6826 - val_loss: 5.3950 - val_mae: 1.6847\n",
            "Epoch 19/250\n",
            "178/178 [==============================] - 18s 100ms/step - loss: 0.9589 - mae: 0.6563 - val_loss: 5.4297 - val_mae: 1.6956\n",
            "Epoch 20/250\n",
            "178/178 [==============================] - 18s 100ms/step - loss: 0.8119 - mae: 0.6309 - val_loss: 5.8876 - val_mae: 1.7479\n",
            "Epoch 21/250\n",
            "178/178 [==============================] - 18s 100ms/step - loss: 1.2729 - mae: 0.6749 - val_loss: 5.9865 - val_mae: 1.7501\n",
            "Epoch 22/250\n",
            "178/178 [==============================] - 18s 100ms/step - loss: 0.7887 - mae: 0.6312 - val_loss: 6.0127 - val_mae: 1.7783\n",
            "Epoch 23/250\n",
            "178/178 [==============================] - 18s 100ms/step - loss: 0.8063 - mae: 0.6406 - val_loss: 5.4511 - val_mae: 1.7005\n",
            "Epoch 24/250\n",
            "178/178 [==============================] - 18s 99ms/step - loss: 0.8195 - mae: 0.6366 - val_loss: 4.7657 - val_mae: 1.6104\n",
            "Epoch 25/250\n",
            "178/178 [==============================] - 18s 100ms/step - loss: 0.7419 - mae: 0.6163 - val_loss: 5.2625 - val_mae: 1.6730\n",
            "Epoch 26/250\n",
            "178/178 [==============================] - 18s 100ms/step - loss: 0.7237 - mae: 0.6086 - val_loss: 5.3346 - val_mae: 1.6833\n",
            "Epoch 27/250\n",
            "178/178 [==============================] - 18s 100ms/step - loss: 0.7417 - mae: 0.6124 - val_loss: 5.3297 - val_mae: 1.6854\n",
            "Epoch 28/250\n",
            "178/178 [==============================] - 18s 100ms/step - loss: 0.7419 - mae: 0.6137 - val_loss: 5.8652 - val_mae: 1.7529\n",
            "Epoch 29/250\n",
            "178/178 [==============================] - 18s 99ms/step - loss: 0.6882 - mae: 0.5899 - val_loss: 5.5125 - val_mae: 1.7030\n",
            "Epoch 30/250\n",
            "178/178 [==============================] - 18s 100ms/step - loss: 1.0074 - mae: 0.6343 - val_loss: 6.8468 - val_mae: 1.8937\n",
            "Epoch 31/250\n",
            "178/178 [==============================] - 18s 100ms/step - loss: 0.9664 - mae: 0.6254 - val_loss: 5.6643 - val_mae: 1.7589\n",
            "Epoch 32/250\n",
            "178/178 [==============================] - 18s 100ms/step - loss: 0.8533 - mae: 0.6101 - val_loss: 7.3840 - val_mae: 1.9661\n",
            "Epoch 33/250\n",
            "178/178 [==============================] - 18s 100ms/step - loss: 0.7569 - mae: 0.6206 - val_loss: 7.8703 - val_mae: 2.1738\n",
            "Epoch 34/250\n",
            "178/178 [==============================] - 18s 101ms/step - loss: 0.7969 - mae: 0.6292 - val_loss: 8.5239 - val_mae: 2.2269\n",
            "Epoch 35/250\n",
            "178/178 [==============================] - 18s 100ms/step - loss: 0.7029 - mae: 0.5967 - val_loss: 6.3593 - val_mae: 1.9391\n",
            "Epoch 36/250\n",
            "178/178 [==============================] - 18s 100ms/step - loss: 0.7138 - mae: 0.6042 - val_loss: 7.1032 - val_mae: 2.0263\n",
            "Epoch 37/250\n",
            "178/178 [==============================] - 19s 103ms/step - loss: 0.6662 - mae: 0.5801 - val_loss: 6.5726 - val_mae: 1.9681\n",
            "Epoch 38/250\n",
            "178/178 [==============================] - 19s 105ms/step - loss: 0.7020 - mae: 0.5993 - val_loss: 5.9652 - val_mae: 1.8892\n",
            "Epoch 39/250\n",
            "178/178 [==============================] - 18s 100ms/step - loss: 0.7314 - mae: 0.5961 - val_loss: 5.6156 - val_mae: 1.8392\n",
            "Epoch 40/250\n",
            "178/178 [==============================] - 18s 100ms/step - loss: 0.6474 - mae: 0.5738 - val_loss: 6.0466 - val_mae: 1.8858\n",
            "Epoch 41/250\n",
            "178/178 [==============================] - 18s 100ms/step - loss: 0.7139 - mae: 0.5820 - val_loss: 8.7978 - val_mae: 2.2846\n",
            "Epoch 42/250\n",
            "178/178 [==============================] - 18s 100ms/step - loss: 0.6659 - mae: 0.5733 - val_loss: 5.4973 - val_mae: 1.7699\n",
            "Epoch 43/250\n",
            "178/178 [==============================] - 13s 72ms/step - loss: 0.7336 - mae: 0.5751 - val_loss: 6.1063 - val_mae: 1.9058\n",
            "Epoch 44/250\n",
            "178/178 [==============================] - 18s 100ms/step - loss: 0.6512 - mae: 0.5595 - val_loss: 6.4954 - val_mae: 1.9466\n",
            "Epoch 45/250\n",
            "178/178 [==============================] - 18s 100ms/step - loss: 0.6945 - mae: 0.5824 - val_loss: 5.5362 - val_mae: 1.8129\n",
            "Epoch 46/250\n",
            "178/178 [==============================] - 18s 100ms/step - loss: 0.7725 - mae: 0.5788 - val_loss: 5.5597 - val_mae: 1.7938\n",
            "Epoch 47/250\n",
            "178/178 [==============================] - 18s 101ms/step - loss: 0.6544 - mae: 0.5680 - val_loss: 5.5036 - val_mae: 1.8166\n",
            "Epoch 48/250\n",
            "178/178 [==============================] - 18s 100ms/step - loss: 0.6233 - mae: 0.5562 - val_loss: 5.1354 - val_mae: 1.7375\n",
            "Epoch 49/250\n",
            "178/178 [==============================] - 18s 100ms/step - loss: 0.7629 - mae: 0.5886 - val_loss: 4.8428 - val_mae: 1.6290\n",
            "Epoch 50/250\n",
            "178/178 [==============================] - 18s 100ms/step - loss: 0.8679 - mae: 0.5986 - val_loss: 5.0725 - val_mae: 1.6759\n",
            "Epoch 51/250\n",
            "178/178 [==============================] - 18s 101ms/step - loss: 1.0415 - mae: 0.6052 - val_loss: 5.0086 - val_mae: 1.6245\n",
            "Epoch 52/250\n",
            "178/178 [==============================] - 18s 100ms/step - loss: 0.6726 - mae: 0.5838 - val_loss: 4.6609 - val_mae: 1.6198\n",
            "Epoch 53/250\n",
            "178/178 [==============================] - 18s 100ms/step - loss: 0.8879 - mae: 0.6166 - val_loss: 4.8231 - val_mae: 1.6132\n",
            "Epoch 54/250\n",
            "178/178 [==============================] - 18s 100ms/step - loss: 0.7090 - mae: 0.5959 - val_loss: 4.6757 - val_mae: 1.5805\n",
            "Epoch 55/250\n",
            "178/178 [==============================] - 18s 100ms/step - loss: 0.6203 - mae: 0.5692 - val_loss: 4.8690 - val_mae: 1.5989\n",
            "Epoch 56/250\n",
            "178/178 [==============================] - 18s 100ms/step - loss: 0.6494 - mae: 0.5744 - val_loss: 5.0449 - val_mae: 1.6388\n",
            "Epoch 57/250\n",
            "178/178 [==============================] - 18s 101ms/step - loss: 0.6709 - mae: 0.5679 - val_loss: 5.2713 - val_mae: 1.6721\n",
            "Epoch 58/250\n",
            "178/178 [==============================] - 18s 101ms/step - loss: 0.9996 - mae: 0.6454 - val_loss: 5.7112 - val_mae: 1.7775\n",
            "Epoch 59/250\n",
            "178/178 [==============================] - 18s 101ms/step - loss: 0.6535 - mae: 0.5865 - val_loss: 5.2353 - val_mae: 1.6328\n",
            "Epoch 60/250\n",
            "178/178 [==============================] - 18s 100ms/step - loss: 0.7244 - mae: 0.5893 - val_loss: 5.4650 - val_mae: 1.6648\n",
            "Epoch 61/250\n",
            "178/178 [==============================] - 18s 100ms/step - loss: 0.6509 - mae: 0.5751 - val_loss: 5.2948 - val_mae: 1.6552\n",
            "Epoch 62/250\n",
            "178/178 [==============================] - 18s 100ms/step - loss: 0.6188 - mae: 0.5586 - val_loss: 6.1306 - val_mae: 1.7561\n",
            "Epoch 63/250\n",
            "178/178 [==============================] - 18s 101ms/step - loss: 0.6985 - mae: 0.5770 - val_loss: 5.2605 - val_mae: 1.6635\n",
            "Epoch 64/250\n",
            "178/178 [==============================] - 18s 100ms/step - loss: 0.6323 - mae: 0.5615 - val_loss: 5.3451 - val_mae: 1.6722\n",
            "Epoch 65/250\n",
            "178/178 [==============================] - 18s 100ms/step - loss: 0.5736 - mae: 0.5457 - val_loss: 5.6829 - val_mae: 1.7146\n",
            "Epoch 66/250\n",
            "178/178 [==============================] - 18s 100ms/step - loss: 0.5907 - mae: 0.5503 - val_loss: 5.2486 - val_mae: 1.6427\n",
            "Epoch 67/250\n",
            "178/178 [==============================] - 18s 100ms/step - loss: 0.6113 - mae: 0.5645 - val_loss: 6.0010 - val_mae: 1.7946\n",
            "Epoch 68/250\n",
            "178/178 [==============================] - 18s 100ms/step - loss: 0.5783 - mae: 0.5451 - val_loss: 5.5569 - val_mae: 1.7463\n",
            "Epoch 69/250\n",
            "178/178 [==============================] - 18s 100ms/step - loss: 0.5743 - mae: 0.5459 - val_loss: 5.8477 - val_mae: 1.7837\n",
            "Epoch 70/250\n",
            "178/178 [==============================] - 18s 101ms/step - loss: 0.6004 - mae: 0.5610 - val_loss: 5.5299 - val_mae: 1.7198\n",
            "Epoch 71/250\n",
            "178/178 [==============================] - 18s 100ms/step - loss: 0.5425 - mae: 0.5323 - val_loss: 5.1783 - val_mae: 1.6648\n",
            "Epoch 72/250\n",
            "178/178 [==============================] - 18s 100ms/step - loss: 0.5796 - mae: 0.5473 - val_loss: 5.2514 - val_mae: 1.6904\n",
            "Epoch 73/250\n",
            "178/178 [==============================] - 18s 101ms/step - loss: 0.6198 - mae: 0.5618 - val_loss: 5.5288 - val_mae: 1.7336\n",
            "Epoch 74/250\n",
            "178/178 [==============================] - 18s 101ms/step - loss: 0.6288 - mae: 0.5727 - val_loss: 7.4755 - val_mae: 2.0090\n",
            "Epoch 75/250\n",
            "178/178 [==============================] - 18s 101ms/step - loss: 0.6363 - mae: 0.5751 - val_loss: 5.7878 - val_mae: 1.7741\n",
            "Epoch 76/250\n",
            "178/178 [==============================] - 19s 102ms/step - loss: 0.6104 - mae: 0.5565 - val_loss: 5.4649 - val_mae: 1.7233\n",
            "Epoch 77/250\n",
            "178/178 [==============================] - 18s 100ms/step - loss: 0.6247 - mae: 0.5473 - val_loss: 5.8742 - val_mae: 1.7731\n",
            "Epoch 78/250\n",
            "178/178 [==============================] - 18s 101ms/step - loss: 0.5473 - mae: 0.5320 - val_loss: 5.5885 - val_mae: 1.7274\n",
            "Epoch 79/250\n",
            "178/178 [==============================] - 18s 101ms/step - loss: 0.6533 - mae: 0.5711 - val_loss: 5.2398 - val_mae: 1.6740\n",
            "Epoch 80/250\n",
            "178/178 [==============================] - 18s 100ms/step - loss: 0.6015 - mae: 0.5585 - val_loss: 4.9667 - val_mae: 1.6379\n",
            "Epoch 81/250\n",
            "178/178 [==============================] - 18s 100ms/step - loss: 0.5701 - mae: 0.5476 - val_loss: 5.9070 - val_mae: 1.7558\n",
            "Epoch 82/250\n",
            "178/178 [==============================] - 19s 102ms/step - loss: 0.5572 - mae: 0.5470 - val_loss: 6.0810 - val_mae: 1.7809\n",
            "Epoch 83/250\n",
            "178/178 [==============================] - 19s 102ms/step - loss: 0.5261 - mae: 0.5229 - val_loss: 6.4207 - val_mae: 1.8000\n",
            "Epoch 84/250\n",
            "178/178 [==============================] - 19s 102ms/step - loss: 0.5354 - mae: 0.5221 - val_loss: 6.1522 - val_mae: 1.8077\n",
            "Epoch 85/250\n",
            "178/178 [==============================] - 18s 101ms/step - loss: 0.5585 - mae: 0.5382 - val_loss: 6.5252 - val_mae: 1.8277\n",
            "Epoch 86/250\n",
            "178/178 [==============================] - 19s 102ms/step - loss: 0.5380 - mae: 0.5291 - val_loss: 5.7823 - val_mae: 1.7500\n",
            "Epoch 87/250\n",
            "178/178 [==============================] - 18s 101ms/step - loss: 0.5278 - mae: 0.5203 - val_loss: 5.8421 - val_mae: 1.7747\n",
            "Epoch 88/250\n",
            "178/178 [==============================] - 18s 101ms/step - loss: 0.6310 - mae: 0.5346 - val_loss: 5.0396 - val_mae: 1.6582\n",
            "Epoch 89/250\n",
            "178/178 [==============================] - 18s 101ms/step - loss: 0.6950 - mae: 0.5320 - val_loss: 5.9320 - val_mae: 1.7783\n",
            "Epoch 90/250\n",
            "178/178 [==============================] - 19s 102ms/step - loss: 0.6085 - mae: 0.5304 - val_loss: 5.7042 - val_mae: 1.7471\n",
            "Epoch 91/250\n",
            "178/178 [==============================] - 18s 101ms/step - loss: 0.7755 - mae: 0.5493 - val_loss: 5.9047 - val_mae: 1.7667\n",
            "Epoch 92/250\n",
            "178/178 [==============================] - 18s 101ms/step - loss: 1.2089 - mae: 0.6238 - val_loss: 5.6799 - val_mae: 1.7231\n",
            "Epoch 93/250\n",
            "178/178 [==============================] - 19s 102ms/step - loss: 0.7873 - mae: 0.6385 - val_loss: 6.4377 - val_mae: 1.8062\n",
            "Epoch 94/250\n",
            "178/178 [==============================] - 18s 101ms/step - loss: 0.6671 - mae: 0.5884 - val_loss: 6.7023 - val_mae: 1.8444\n",
            "Epoch 95/250\n",
            "178/178 [==============================] - 19s 102ms/step - loss: 0.6189 - mae: 0.5701 - val_loss: 6.7985 - val_mae: 1.8426\n",
            "Epoch 96/250\n",
            "178/178 [==============================] - 18s 101ms/step - loss: 0.5851 - mae: 0.5547 - val_loss: 6.8073 - val_mae: 1.8507\n",
            "Epoch 97/250\n",
            "178/178 [==============================] - 18s 100ms/step - loss: 0.5256 - mae: 0.5319 - val_loss: 6.3046 - val_mae: 1.7909\n",
            "Epoch 98/250\n",
            "178/178 [==============================] - 18s 101ms/step - loss: 0.6047 - mae: 0.5582 - val_loss: 6.1343 - val_mae: 1.7795\n",
            "Epoch 99/250\n",
            "178/178 [==============================] - 18s 100ms/step - loss: 0.5462 - mae: 0.5348 - val_loss: 5.7736 - val_mae: 1.7249\n",
            "Epoch 100/250\n",
            "178/178 [==============================] - 18s 100ms/step - loss: 0.5667 - mae: 0.5447 - val_loss: 6.1773 - val_mae: 1.7588\n",
            "Epoch 101/250\n",
            "178/178 [==============================] - 19s 102ms/step - loss: 0.5780 - mae: 0.5494 - val_loss: 15.6368 - val_mae: 2.3957\n",
            "Epoch 102/250\n",
            "178/178 [==============================] - 19s 102ms/step - loss: 0.5645 - mae: 0.5399 - val_loss: 12.3690 - val_mae: 2.2026\n",
            "Epoch 103/250\n",
            "178/178 [==============================] - 19s 101ms/step - loss: 0.5259 - mae: 0.5224 - val_loss: 8.2815 - val_mae: 1.9338\n",
            "Epoch 104/250\n",
            "178/178 [==============================] - 18s 101ms/step - loss: 0.5281 - mae: 0.5275 - val_loss: 22.2985 - val_mae: 2.8466\n",
            "Epoch 105/250\n",
            "178/178 [==============================] - 18s 101ms/step - loss: 0.6660 - mae: 0.5388 - val_loss: 12.9493 - val_mae: 2.2085\n",
            "Epoch 106/250\n",
            "178/178 [==============================] - 18s 101ms/step - loss: 0.4799 - mae: 0.5080 - val_loss: 5.3306 - val_mae: 1.6802\n",
            "Epoch 107/250\n",
            "178/178 [==============================] - 18s 101ms/step - loss: 0.5093 - mae: 0.5120 - val_loss: 6.3283 - val_mae: 1.7495\n",
            "Epoch 108/250\n",
            "178/178 [==============================] - 18s 101ms/step - loss: 0.5764 - mae: 0.5149 - val_loss: 11.0244 - val_mae: 1.9935\n",
            "Epoch 109/250\n",
            "178/178 [==============================] - 18s 101ms/step - loss: 0.5632 - mae: 0.5356 - val_loss: 8.7947 - val_mae: 1.9064\n",
            "Epoch 110/250\n",
            "178/178 [==============================] - 18s 101ms/step - loss: 0.6468 - mae: 0.5597 - val_loss: 8.1347 - val_mae: 1.8761\n",
            "Epoch 111/250\n",
            "178/178 [==============================] - 18s 101ms/step - loss: 0.6211 - mae: 0.5568 - val_loss: 6.5870 - val_mae: 1.7277\n",
            "Epoch 112/250\n",
            "178/178 [==============================] - 18s 101ms/step - loss: 0.5695 - mae: 0.5299 - val_loss: 6.7026 - val_mae: 1.7601\n",
            "Epoch 113/250\n",
            "178/178 [==============================] - 18s 100ms/step - loss: 0.5410 - mae: 0.5330 - val_loss: 6.2229 - val_mae: 1.7117\n",
            "Epoch 114/250\n",
            "178/178 [==============================] - 18s 101ms/step - loss: 0.5426 - mae: 0.5387 - val_loss: 6.2745 - val_mae: 1.7266\n",
            "Epoch 115/250\n",
            "178/178 [==============================] - 18s 101ms/step - loss: 0.5408 - mae: 0.5338 - val_loss: 5.6426 - val_mae: 1.6987\n",
            "Epoch 116/250\n",
            "178/178 [==============================] - 18s 101ms/step - loss: 0.5010 - mae: 0.5093 - val_loss: 6.5548 - val_mae: 1.7257\n",
            "Epoch 117/250\n",
            "178/178 [==============================] - 18s 100ms/step - loss: 0.5044 - mae: 0.5059 - val_loss: 7.3423 - val_mae: 1.8159\n",
            "Epoch 118/250\n",
            "178/178 [==============================] - 18s 101ms/step - loss: 0.5091 - mae: 0.5167 - val_loss: 7.0059 - val_mae: 1.7978\n",
            "Epoch 119/250\n",
            "178/178 [==============================] - 18s 100ms/step - loss: 0.5435 - mae: 0.5239 - val_loss: 7.1099 - val_mae: 1.7968\n",
            "Epoch 120/250\n",
            "178/178 [==============================] - 18s 101ms/step - loss: 0.6028 - mae: 0.5375 - val_loss: 7.7738 - val_mae: 1.9606\n",
            "Epoch 121/250\n",
            "178/178 [==============================] - 19s 101ms/step - loss: 0.5188 - mae: 0.5245 - val_loss: 9.4066 - val_mae: 2.0698\n",
            "Epoch 122/250\n",
            "178/178 [==============================] - 18s 100ms/step - loss: 0.5008 - mae: 0.5198 - val_loss: 8.4661 - val_mae: 1.9326\n",
            "Epoch 123/250\n",
            "178/178 [==============================] - 18s 101ms/step - loss: 0.6397 - mae: 0.5644 - val_loss: 9.3583 - val_mae: 1.9717\n",
            "Epoch 124/250\n",
            "178/178 [==============================] - 18s 100ms/step - loss: 0.5636 - mae: 0.5394 - val_loss: 7.8746 - val_mae: 1.8738\n",
            "Epoch 125/250\n",
            "178/178 [==============================] - 18s 101ms/step - loss: 0.5391 - mae: 0.5256 - val_loss: 11.2307 - val_mae: 2.0623\n",
            "Epoch 126/250\n",
            "178/178 [==============================] - 18s 101ms/step - loss: 0.5224 - mae: 0.5214 - val_loss: 13.0418 - val_mae: 2.2371\n",
            "Epoch 127/250\n",
            "178/178 [==============================] - 18s 101ms/step - loss: 0.6034 - mae: 0.5282 - val_loss: 13.0855 - val_mae: 2.2645\n",
            "Epoch 128/250\n",
            "178/178 [==============================] - 18s 100ms/step - loss: 0.5411 - mae: 0.5422 - val_loss: 9.8058 - val_mae: 1.9661\n",
            "Epoch 129/250\n",
            "178/178 [==============================] - 18s 101ms/step - loss: 0.5533 - mae: 0.5307 - val_loss: 11.6427 - val_mae: 2.1156\n",
            "Epoch 130/250\n",
            "178/178 [==============================] - 18s 100ms/step - loss: 0.5957 - mae: 0.5424 - val_loss: 7.8045 - val_mae: 1.8201\n",
            "Epoch 131/250\n",
            "178/178 [==============================] - 18s 101ms/step - loss: 0.5196 - mae: 0.5203 - val_loss: 7.5745 - val_mae: 1.8195\n",
            "Epoch 132/250\n",
            "178/178 [==============================] - 18s 100ms/step - loss: 0.5321 - mae: 0.5217 - val_loss: 6.9755 - val_mae: 1.7650\n",
            "Epoch 133/250\n",
            "178/178 [==============================] - 18s 101ms/step - loss: 0.4791 - mae: 0.5021 - val_loss: 7.3466 - val_mae: 1.8440\n",
            "Epoch 134/250\n",
            "178/178 [==============================] - 18s 101ms/step - loss: 0.5071 - mae: 0.5139 - val_loss: 7.6751 - val_mae: 1.8592\n",
            "Epoch 135/250\n",
            "178/178 [==============================] - 18s 101ms/step - loss: 0.4907 - mae: 0.5047 - val_loss: 6.7428 - val_mae: 1.7758\n",
            "Epoch 136/250\n",
            "178/178 [==============================] - 18s 101ms/step - loss: 0.4795 - mae: 0.4975 - val_loss: 6.2347 - val_mae: 1.7481\n",
            "Epoch 137/250\n",
            "178/178 [==============================] - 18s 101ms/step - loss: 0.4634 - mae: 0.4977 - val_loss: 6.0232 - val_mae: 1.7081\n",
            "Epoch 138/250\n",
            "178/178 [==============================] - 18s 100ms/step - loss: 0.4873 - mae: 0.5014 - val_loss: 7.1874 - val_mae: 1.8375\n",
            "Epoch 139/250\n",
            "178/178 [==============================] - 18s 100ms/step - loss: 0.4988 - mae: 0.4993 - val_loss: 6.8431 - val_mae: 1.7744\n",
            "Epoch 140/250\n",
            "178/178 [==============================] - 18s 101ms/step - loss: 0.4855 - mae: 0.5021 - val_loss: 6.7328 - val_mae: 1.7688\n",
            "Epoch 141/250\n",
            "178/178 [==============================] - 18s 100ms/step - loss: 0.5117 - mae: 0.4875 - val_loss: 7.2370 - val_mae: 1.7848\n",
            "Epoch 142/250\n",
            "178/178 [==============================] - 18s 101ms/step - loss: 0.4220 - mae: 0.4734 - val_loss: 6.5123 - val_mae: 1.7618\n",
            "Epoch 143/250\n",
            "178/178 [==============================] - 18s 100ms/step - loss: 0.4201 - mae: 0.4762 - val_loss: 6.5637 - val_mae: 1.7653\n",
            "Epoch 144/250\n",
            "178/178 [==============================] - 18s 101ms/step - loss: 0.4831 - mae: 0.4855 - val_loss: 6.4768 - val_mae: 1.7350\n",
            "Epoch 145/250\n",
            "178/178 [==============================] - 18s 100ms/step - loss: 0.4392 - mae: 0.4734 - val_loss: 6.3483 - val_mae: 1.7369\n",
            "Epoch 146/250\n",
            "178/178 [==============================] - 18s 101ms/step - loss: 0.4442 - mae: 0.4788 - val_loss: 7.1745 - val_mae: 1.8577\n",
            "Epoch 147/250\n",
            "178/178 [==============================] - 18s 101ms/step - loss: 0.4697 - mae: 0.4754 - val_loss: 6.7066 - val_mae: 1.7903\n",
            "Epoch 148/250\n",
            "178/178 [==============================] - 18s 100ms/step - loss: 0.4215 - mae: 0.4683 - val_loss: 7.3619 - val_mae: 1.8754\n",
            "Epoch 149/250\n",
            "178/178 [==============================] - 18s 100ms/step - loss: 0.4142 - mae: 0.4664 - val_loss: 7.2658 - val_mae: 1.8527\n",
            "Epoch 150/250\n",
            "178/178 [==============================] - 18s 101ms/step - loss: 0.4379 - mae: 0.4706 - val_loss: 5.0960 - val_mae: 1.5900\n",
            "Epoch 151/250\n",
            "178/178 [==============================] - 18s 101ms/step - loss: 0.4922 - mae: 0.4952 - val_loss: 6.1940 - val_mae: 1.7112\n",
            "Epoch 152/250\n",
            "178/178 [==============================] - 18s 101ms/step - loss: 0.4523 - mae: 0.4887 - val_loss: 6.1159 - val_mae: 1.6516\n",
            "Epoch 153/250\n",
            "178/178 [==============================] - 18s 100ms/step - loss: 0.4650 - mae: 0.4872 - val_loss: 6.6408 - val_mae: 1.7419\n",
            "Epoch 154/250\n",
            "178/178 [==============================] - 18s 101ms/step - loss: 0.4884 - mae: 0.5007 - val_loss: 5.0652 - val_mae: 1.6118\n",
            "Epoch 155/250\n",
            "178/178 [==============================] - 18s 100ms/step - loss: 0.4407 - mae: 0.4834 - val_loss: 5.7213 - val_mae: 1.7067\n",
            "Epoch 156/250\n",
            "178/178 [==============================] - 18s 101ms/step - loss: 0.4267 - mae: 0.4758 - val_loss: 5.5742 - val_mae: 1.6801\n",
            "Epoch 157/250\n",
            "178/178 [==============================] - 18s 101ms/step - loss: 0.4217 - mae: 0.4741 - val_loss: 5.5798 - val_mae: 1.6899\n",
            "Epoch 158/250\n",
            "178/178 [==============================] - 18s 101ms/step - loss: 0.4164 - mae: 0.4617 - val_loss: 5.9541 - val_mae: 1.7486\n",
            "Epoch 159/250\n",
            "178/178 [==============================] - 18s 101ms/step - loss: 0.4161 - mae: 0.4657 - val_loss: 5.8622 - val_mae: 1.7410\n",
            "Epoch 160/250\n",
            "178/178 [==============================] - 18s 100ms/step - loss: 0.7007 - mae: 0.5200 - val_loss: 5.5652 - val_mae: 1.6467\n",
            "Epoch 161/250\n",
            "178/178 [==============================] - 18s 100ms/step - loss: 1.6123 - mae: 0.5944 - val_loss: 5.2606 - val_mae: 1.6209\n",
            "Epoch 162/250\n",
            "178/178 [==============================] - 19s 101ms/step - loss: 1.5590 - mae: 0.5849 - val_loss: 5.7114 - val_mae: 1.6658\n",
            "Epoch 163/250\n",
            "178/178 [==============================] - 18s 100ms/step - loss: 1.4026 - mae: 0.5509 - val_loss: 5.2253 - val_mae: 1.6311\n",
            "Epoch 164/250\n",
            "178/178 [==============================] - 18s 101ms/step - loss: 2.0607 - mae: 0.6055 - val_loss: 5.8431 - val_mae: 1.7291\n",
            "Epoch 165/250\n",
            "178/178 [==============================] - 18s 101ms/step - loss: 1.8869 - mae: 0.6006 - val_loss: 5.2852 - val_mae: 1.6562\n",
            "Epoch 166/250\n",
            "178/178 [==============================] - 18s 100ms/step - loss: 0.7533 - mae: 0.5490 - val_loss: 10.2268 - val_mae: 2.0505\n",
            "Epoch 167/250\n",
            "178/178 [==============================] - 19s 102ms/step - loss: 0.5679 - mae: 0.5247 - val_loss: 6.8443 - val_mae: 1.8367\n",
            "Epoch 168/250\n",
            "178/178 [==============================] - 18s 100ms/step - loss: 0.8635 - mae: 0.5726 - val_loss: 9.4667 - val_mae: 2.1595\n",
            "Epoch 169/250\n",
            "178/178 [==============================] - 18s 100ms/step - loss: 1.0034 - mae: 0.6205 - val_loss: 6.1246 - val_mae: 1.7584\n",
            "Epoch 170/250\n",
            "178/178 [==============================] - 18s 100ms/step - loss: 0.7067 - mae: 0.5750 - val_loss: 6.4287 - val_mae: 1.8004\n",
            "Epoch 171/250\n",
            "178/178 [==============================] - 18s 100ms/step - loss: 0.6329 - mae: 0.5600 - val_loss: 5.8598 - val_mae: 1.7262\n",
            "Epoch 172/250\n",
            "178/178 [==============================] - 18s 100ms/step - loss: 0.6114 - mae: 0.5581 - val_loss: 5.6319 - val_mae: 1.6962\n",
            "Epoch 173/250\n",
            "178/178 [==============================] - 18s 100ms/step - loss: 0.6740 - mae: 0.5523 - val_loss: 5.9283 - val_mae: 1.7281\n",
            "Epoch 174/250\n",
            "178/178 [==============================] - 18s 100ms/step - loss: 0.7183 - mae: 0.5601 - val_loss: 5.2766 - val_mae: 1.6722\n",
            "Epoch 175/250\n",
            "178/178 [==============================] - 18s 101ms/step - loss: 0.6021 - mae: 0.5579 - val_loss: 5.7115 - val_mae: 1.7126\n",
            "Epoch 176/250\n",
            "178/178 [==============================] - 18s 101ms/step - loss: 0.6638 - mae: 0.5549 - val_loss: 6.0404 - val_mae: 1.7572\n",
            "Epoch 177/250\n",
            "178/178 [==============================] - 18s 101ms/step - loss: 0.5562 - mae: 0.5410 - val_loss: 5.9415 - val_mae: 1.7196\n",
            "Epoch 178/250\n",
            "178/178 [==============================] - 18s 101ms/step - loss: 0.5513 - mae: 0.5253 - val_loss: 5.6296 - val_mae: 1.6879\n",
            "Epoch 179/250\n",
            "178/178 [==============================] - 19s 102ms/step - loss: 0.4914 - mae: 0.5010 - val_loss: 5.7503 - val_mae: 1.7063\n",
            "Epoch 180/250\n",
            "178/178 [==============================] - 18s 101ms/step - loss: 0.4829 - mae: 0.5116 - val_loss: 5.6528 - val_mae: 1.6853\n",
            "Epoch 181/250\n",
            "178/178 [==============================] - 19s 102ms/step - loss: 0.5104 - mae: 0.5135 - val_loss: 5.4715 - val_mae: 1.6789\n",
            "Epoch 182/250\n",
            "178/178 [==============================] - 18s 101ms/step - loss: 0.5387 - mae: 0.4961 - val_loss: 5.0328 - val_mae: 1.6324\n",
            "Epoch 183/250\n",
            "178/178 [==============================] - 19s 103ms/step - loss: 0.4636 - mae: 0.4991 - val_loss: 5.3403 - val_mae: 1.6628\n",
            "Epoch 184/250\n",
            "178/178 [==============================] - 18s 101ms/step - loss: 0.4788 - mae: 0.4929 - val_loss: 5.5320 - val_mae: 1.7098\n",
            "Epoch 185/250\n",
            "178/178 [==============================] - 18s 101ms/step - loss: 0.4771 - mae: 0.4929 - val_loss: 5.2292 - val_mae: 1.6332\n",
            "Epoch 186/250\n",
            "178/178 [==============================] - 18s 101ms/step - loss: 0.4474 - mae: 0.4832 - val_loss: 5.0649 - val_mae: 1.6139\n",
            "Epoch 187/250\n",
            "178/178 [==============================] - 18s 101ms/step - loss: 0.4643 - mae: 0.4881 - val_loss: 5.2210 - val_mae: 1.6427\n",
            "Epoch 188/250\n",
            "178/178 [==============================] - 18s 101ms/step - loss: 0.4842 - mae: 0.4996 - val_loss: 5.0108 - val_mae: 1.6158\n",
            "Epoch 189/250\n",
            "178/178 [==============================] - 18s 100ms/step - loss: 0.5276 - mae: 0.4985 - val_loss: 5.2593 - val_mae: 1.6461\n",
            "Epoch 190/250\n",
            "178/178 [==============================] - 18s 101ms/step - loss: 0.5044 - mae: 0.5011 - val_loss: 5.2922 - val_mae: 1.6467\n",
            "Epoch 191/250\n",
            "178/178 [==============================] - 18s 101ms/step - loss: 0.5393 - mae: 0.5222 - val_loss: 5.4563 - val_mae: 1.6611\n",
            "Epoch 192/250\n",
            "178/178 [==============================] - 18s 101ms/step - loss: 0.6672 - mae: 0.5262 - val_loss: 5.0198 - val_mae: 1.6212\n",
            "Epoch 193/250\n",
            "178/178 [==============================] - 18s 101ms/step - loss: 0.5371 - mae: 0.4919 - val_loss: 5.2065 - val_mae: 1.6464\n",
            "Epoch 194/250\n",
            "178/178 [==============================] - 18s 100ms/step - loss: 0.4556 - mae: 0.4840 - val_loss: 5.4051 - val_mae: 1.6806\n",
            "Epoch 195/250\n",
            "178/178 [==============================] - 18s 101ms/step - loss: 0.4578 - mae: 0.4780 - val_loss: 4.9348 - val_mae: 1.6011\n",
            "Epoch 196/250\n",
            "178/178 [==============================] - 18s 100ms/step - loss: 0.6284 - mae: 0.5269 - val_loss: 4.6833 - val_mae: 1.5372\n",
            "Epoch 197/250\n",
            "178/178 [==============================] - 18s 101ms/step - loss: 0.6897 - mae: 0.5483 - val_loss: 4.9286 - val_mae: 1.6047\n",
            "Epoch 198/250\n",
            "178/178 [==============================] - 18s 100ms/step - loss: 0.7176 - mae: 0.5307 - val_loss: 5.6830 - val_mae: 1.7169\n",
            "Epoch 199/250\n",
            "178/178 [==============================] - 18s 101ms/step - loss: 0.7894 - mae: 0.5424 - val_loss: 6.2811 - val_mae: 1.7894\n",
            "Epoch 200/250\n",
            "178/178 [==============================] - 18s 101ms/step - loss: 0.6877 - mae: 0.5191 - val_loss: 5.8492 - val_mae: 1.7464\n",
            "Epoch 201/250\n",
            "178/178 [==============================] - 18s 100ms/step - loss: 0.6374 - mae: 0.5154 - val_loss: 5.7961 - val_mae: 1.7301\n",
            "Epoch 202/250\n",
            "178/178 [==============================] - 18s 100ms/step - loss: 0.9413 - mae: 0.5334 - val_loss: 6.2126 - val_mae: 1.7836\n",
            "Epoch 203/250\n",
            "178/178 [==============================] - 18s 101ms/step - loss: 0.7252 - mae: 0.5121 - val_loss: 6.0238 - val_mae: 1.7700\n",
            "Epoch 204/250\n",
            "178/178 [==============================] - 18s 100ms/step - loss: 0.6374 - mae: 0.5009 - val_loss: 5.8160 - val_mae: 1.7467\n",
            "Epoch 205/250\n",
            "178/178 [==============================] - 18s 100ms/step - loss: 0.7391 - mae: 0.5165 - val_loss: 5.1652 - val_mae: 1.6448\n",
            "Epoch 206/250\n",
            "178/178 [==============================] - 18s 100ms/step - loss: 0.5192 - mae: 0.5059 - val_loss: 5.5414 - val_mae: 1.7039\n",
            "Epoch 207/250\n",
            "178/178 [==============================] - 18s 100ms/step - loss: 0.5015 - mae: 0.5047 - val_loss: 5.6012 - val_mae: 1.6895\n",
            "Epoch 208/250\n",
            "178/178 [==============================] - 18s 100ms/step - loss: 0.5162 - mae: 0.4976 - val_loss: 5.5075 - val_mae: 1.6778\n",
            "Epoch 209/250\n",
            "178/178 [==============================] - 18s 100ms/step - loss: 0.4920 - mae: 0.5011 - val_loss: 6.2772 - val_mae: 1.8300\n",
            "Epoch 210/250\n",
            "178/178 [==============================] - 18s 101ms/step - loss: 0.4419 - mae: 0.4850 - val_loss: 6.2474 - val_mae: 1.8264\n",
            "Epoch 211/250\n",
            "178/178 [==============================] - 18s 101ms/step - loss: 0.4495 - mae: 0.4889 - val_loss: 5.2512 - val_mae: 1.6713\n",
            "Epoch 212/250\n",
            "178/178 [==============================] - 18s 101ms/step - loss: 0.4774 - mae: 0.5061 - val_loss: 5.1794 - val_mae: 1.6594\n",
            "Epoch 213/250\n",
            "178/178 [==============================] - 18s 100ms/step - loss: 0.4340 - mae: 0.4809 - val_loss: 5.4259 - val_mae: 1.6830\n",
            "Epoch 214/250\n",
            "178/178 [==============================] - 18s 100ms/step - loss: 0.4781 - mae: 0.4897 - val_loss: 6.2525 - val_mae: 1.7924\n",
            "Epoch 215/250\n",
            "178/178 [==============================] - 18s 100ms/step - loss: 0.4242 - mae: 0.4605 - val_loss: 5.3728 - val_mae: 1.6721\n",
            "Epoch 216/250\n",
            "178/178 [==============================] - 18s 100ms/step - loss: 0.3962 - mae: 0.4552 - val_loss: 6.1113 - val_mae: 1.8102\n",
            "Epoch 217/250\n",
            "178/178 [==============================] - 18s 101ms/step - loss: 0.3821 - mae: 0.4560 - val_loss: 5.8226 - val_mae: 1.7682\n",
            "Epoch 218/250\n",
            "178/178 [==============================] - 18s 100ms/step - loss: 0.4017 - mae: 0.4675 - val_loss: 6.0174 - val_mae: 1.7786\n",
            "Epoch 219/250\n",
            "178/178 [==============================] - 18s 100ms/step - loss: 0.4138 - mae: 0.4716 - val_loss: 5.8513 - val_mae: 1.7474\n",
            "Epoch 220/250\n",
            "178/178 [==============================] - 18s 101ms/step - loss: 0.5722 - mae: 0.4866 - val_loss: 6.4224 - val_mae: 1.8196\n",
            "Epoch 221/250\n",
            "178/178 [==============================] - 18s 100ms/step - loss: 0.4285 - mae: 0.4606 - val_loss: 6.0932 - val_mae: 1.7645\n",
            "Epoch 222/250\n",
            "178/178 [==============================] - 18s 100ms/step - loss: 0.4984 - mae: 0.4836 - val_loss: 9.2168 - val_mae: 2.1855\n",
            "Epoch 223/250\n",
            "178/178 [==============================] - 18s 100ms/step - loss: 0.5596 - mae: 0.5329 - val_loss: 6.9912 - val_mae: 1.9204\n",
            "Epoch 224/250\n",
            "178/178 [==============================] - 18s 100ms/step - loss: 0.5139 - mae: 0.4939 - val_loss: 5.9249 - val_mae: 1.7705\n",
            "Epoch 225/250\n",
            "178/178 [==============================] - 18s 101ms/step - loss: 0.5322 - mae: 0.4960 - val_loss: 6.1823 - val_mae: 1.8190\n",
            "Epoch 226/250\n",
            "178/178 [==============================] - 18s 101ms/step - loss: 0.5772 - mae: 0.4903 - val_loss: 6.3569 - val_mae: 1.7897\n",
            "Epoch 227/250\n",
            "178/178 [==============================] - 18s 100ms/step - loss: 0.4374 - mae: 0.4788 - val_loss: 5.7226 - val_mae: 1.7235\n",
            "Epoch 228/250\n",
            "178/178 [==============================] - 14s 75ms/step - loss: 0.4643 - mae: 0.4604 - val_loss: 6.2135 - val_mae: 1.8111\n",
            "Epoch 229/250\n",
            "178/178 [==============================] - 18s 100ms/step - loss: 0.3810 - mae: 0.4491 - val_loss: 6.9720 - val_mae: 1.9031\n",
            "Epoch 230/250\n",
            "178/178 [==============================] - 18s 101ms/step - loss: 0.4632 - mae: 0.4679 - val_loss: 6.8277 - val_mae: 1.8683\n",
            "Epoch 231/250\n",
            "178/178 [==============================] - 18s 100ms/step - loss: 0.4848 - mae: 0.4745 - val_loss: 5.8363 - val_mae: 1.7908\n",
            "Epoch 232/250\n",
            "178/178 [==============================] - 18s 101ms/step - loss: 0.4418 - mae: 0.4621 - val_loss: 5.3795 - val_mae: 1.7002\n",
            "Epoch 233/250\n",
            "178/178 [==============================] - 18s 99ms/step - loss: 0.4075 - mae: 0.4558 - val_loss: 6.3717 - val_mae: 1.8278\n",
            "Epoch 234/250\n",
            "178/178 [==============================] - 18s 100ms/step - loss: 0.5714 - mae: 0.4582 - val_loss: 6.0118 - val_mae: 1.7256\n",
            "Epoch 235/250\n",
            "178/178 [==============================] - 18s 101ms/step - loss: 0.4301 - mae: 0.4518 - val_loss: 5.4505 - val_mae: 1.7128\n",
            "Epoch 236/250\n",
            "178/178 [==============================] - 18s 101ms/step - loss: 0.9025 - mae: 0.5671 - val_loss: 5.9468 - val_mae: 1.7498\n",
            "Epoch 237/250\n",
            "178/178 [==============================] - 18s 100ms/step - loss: 1.0450 - mae: 0.6030 - val_loss: 6.4766 - val_mae: 1.9305\n",
            "Epoch 238/250\n",
            "178/178 [==============================] - 18s 100ms/step - loss: 0.6764 - mae: 0.5272 - val_loss: 5.6187 - val_mae: 1.7183\n",
            "Epoch 239/250\n",
            "178/178 [==============================] - 18s 101ms/step - loss: 0.4464 - mae: 0.4790 - val_loss: 5.1823 - val_mae: 1.6644\n",
            "Epoch 240/250\n",
            "178/178 [==============================] - 19s 101ms/step - loss: 0.4836 - mae: 0.4755 - val_loss: 5.6316 - val_mae: 1.7695\n",
            "Epoch 241/250\n",
            "178/178 [==============================] - 18s 101ms/step - loss: 0.5189 - mae: 0.5079 - val_loss: 8.5521 - val_mae: 2.1999\n",
            "Epoch 242/250\n",
            "178/178 [==============================] - 18s 100ms/step - loss: 0.4688 - mae: 0.4824 - val_loss: 7.5048 - val_mae: 2.0216\n",
            "Epoch 243/250\n",
            "178/178 [==============================] - 18s 101ms/step - loss: 0.4812 - mae: 0.4927 - val_loss: 8.0649 - val_mae: 2.1121\n",
            "Epoch 244/250\n",
            "178/178 [==============================] - 18s 100ms/step - loss: 0.4246 - mae: 0.4749 - val_loss: 7.6692 - val_mae: 2.0715\n",
            "Epoch 245/250\n",
            "178/178 [==============================] - 19s 101ms/step - loss: 0.4201 - mae: 0.4773 - val_loss: 7.5359 - val_mae: 2.0752\n",
            "Epoch 246/250\n",
            "178/178 [==============================] - 18s 100ms/step - loss: 0.4279 - mae: 0.4765 - val_loss: 8.9337 - val_mae: 2.2226\n",
            "Epoch 247/250\n",
            "178/178 [==============================] - 18s 100ms/step - loss: 0.4750 - mae: 0.4944 - val_loss: 9.8567 - val_mae: 2.3455\n",
            "Epoch 248/250\n",
            "178/178 [==============================] - 18s 101ms/step - loss: 0.4397 - mae: 0.4799 - val_loss: 7.2655 - val_mae: 2.0347\n",
            "Epoch 249/250\n",
            "178/178 [==============================] - 18s 100ms/step - loss: 0.4361 - mae: 0.4804 - val_loss: 7.9204 - val_mae: 2.1030\n",
            "Epoch 250/250\n",
            "178/178 [==============================] - 18s 101ms/step - loss: 0.4242 - mae: 0.4752 - val_loss: 6.9501 - val_mae: 1.9914\n"
          ]
        }
      ]
    },
    {
      "cell_type": "code",
      "source": [
        "loss = history.history['loss']\n",
        "val_loss = history.history['val_loss']\n",
        "mae = history.history['mae']\n",
        "val_mae = history.history['val_mae']\n",
        "\n",
        "\n",
        "epochs_x = range(len(loss))\n",
        "\n",
        "\n",
        "plt.plot(epochs_x, mae, 'o', color ='darkviolet', label='Training MAE')\n",
        "plt.plot(epochs_x, val_mae, 'k', label='Validation MAE')\n",
        "plt.title('Training and validation MeanAbsoluteError')\n",
        "plt.legend()\n",
        "\n",
        "plt.figure()\n",
        "plt.plot(epochs_x, loss, 'o', color ='darkviolet', label='Training loss')\n",
        "plt.plot(epochs_x, val_loss, 'k', label='Validation loss')\n",
        "plt.title('Training and validation loss')\n",
        "plt.legend()\n",
        "\n",
        "plt.show()"
      ],
      "metadata": {
        "id": "Y3K89-CM-dfg",
        "colab": {
          "base_uri": "https://localhost:8080/",
          "height": 887
        },
        "outputId": "093ce956-f54d-489f-e553-510da18a5fdc"
      },
      "execution_count": null,
      "outputs": [
        {
          "output_type": "display_data",
          "data": {
            "text/plain": [
              "<Figure size 640x480 with 1 Axes>"
            ],
            "image/png": "[encoded data removed]"
          },
          "metadata": {}
        },
        {
          "output_type": "display_data",
          "data": {
            "text/plain": [
              "<Figure size 640x480 with 1 Axes>"
            ],
            "image/png": "[encoded data removed]"
          },
          "metadata": {}
        }
      ]
    },
    {
      "cell_type": "code",
      "source": [],
      "metadata": {
        "id": "sI5JVEwwQsjc"
      },
      "execution_count": null,
      "outputs": []
    },
    {
      "cell_type": "code",
      "source": [
        "epochs_x"
      ],
      "metadata": {
        "id": "N_sP_ZmSY-Jv",
        "colab": {
          "base_uri": "https://localhost:8080/"
        },
        "outputId": "1b6a8100-3cc3-410e-ef55-15add0f42545"
      },
      "execution_count": null,
      "outputs": [
        {
          "output_type": "execute_result",
          "data": {
            "text/plain": [
              "range(0, 250)"
            ]
          },
          "metadata": {},
          "execution_count": 20
        }
      ]
    },
    {
      "cell_type": "markdown",
      "source": [
        "#Download the model\n"
      ],
      "metadata": {
        "id": "R19IJQSYoW7J"
      }
    },
    {
      "cell_type": "code",
      "source": [
        "os.makedirs('/content/drive/MyDrive/All_Data_Project/cut_panoramic/Model', exist_ok=True)\n",
        "model.save('/content/drive/MyDrive/All_Data_Project/cut_panoramic/Model/Regression/9Re_All_1G_1e-4_16_0.2_250_New_Unfreez.h5')"
      ],
      "metadata": {
        "id": "Zed4TdFcG2iJ"
      },
      "execution_count": null,
      "outputs": []
    },
    {
      "cell_type": "markdown",
      "source": [],
      "metadata": {
        "id": "n5YxZ-5QjQ0-"
      }
    },
    {
      "cell_type": "code",
      "source": [
        "# from google.colab import files\n",
        "# files.download('/content/drive/My Drive/cut_panoramic/Model/1.1_รอบแรก_Flimpano_Male125_250.h5')"
      ],
      "metadata": {
        "id": "P5eMxm1NV-oY"
      },
      "execution_count": null,
      "outputs": []
    },
    {
      "cell_type": "code",
      "source": [
        "\n"
      ],
      "metadata": {
        "id": "wY_pDlxkRwxS"
      },
      "execution_count": null,
      "outputs": []
    }
  ]
}